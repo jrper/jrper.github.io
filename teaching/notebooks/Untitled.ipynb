{
 "cells": [
  {
   "cell_type": "code",
   "execution_count": 1,
   "metadata": {
    "slideshow": {
     "slide_type": "slide"
    }
   },
   "outputs": [
    {
     "data": {
      "application/vnd.jupyter.widget-view+json": {
       "model_id": "ad770ff4865c4548b5455b317f81f438",
       "version_major": 2,
       "version_minor": 0
      },
      "text/html": [
       "<p>Failed to display Jupyter Widget of type <code>interactive</code>.</p>\n",
       "<p>\n",
       "  If you're reading this message in the Jupyter Notebook or JupyterLab Notebook, it may mean\n",
       "  that the widgets JavaScript is still loading. If this message persists, it\n",
       "  likely means that the widgets JavaScript library is either not installed or\n",
       "  not enabled. See the <a href=\"https://ipywidgets.readthedocs.io/en/stable/user_install.html\">Jupyter\n",
       "  Widgets Documentation</a> for setup instructions.\n",
       "</p>\n",
       "<p>\n",
       "  If you're reading this message in another frontend (for example, a static\n",
       "  rendering on GitHub or <a href=\"https://nbviewer.jupyter.org/\">NBViewer</a>),\n",
       "  it may mean that your frontend doesn't currently support widgets.\n",
       "</p>\n"
      ],
      "text/plain": [
       "interactive(children=(FloatSlider(value=51.501, description='lat', max=51.505, min=51.497, readout_format='.4f', step=0.0001), FloatSlider(value=-0.1773, description='long', max=-0.176, min=-0.178, readout_format='.4f', step=0.0001), Output()), _dom_classes=('widget-interact',))"
      ]
     },
     "metadata": {},
     "output_type": "display_data"
    },
    {
     "data": {
      "application/vnd.jupyter.widget-view+json": {
       "model_id": "0f876f2a27264df7836216d5bea52167",
       "version_major": 2,
       "version_minor": 0
      },
      "text/html": [
       "<p>Failed to display Jupyter Widget of type <code>Map</code>.</p>\n",
       "<p>\n",
       "  If you're reading this message in the Jupyter Notebook or JupyterLab Notebook, it may mean\n",
       "  that the widgets JavaScript is still loading. If this message persists, it\n",
       "  likely means that the widgets JavaScript library is either not installed or\n",
       "  not enabled. See the <a href=\"https://ipywidgets.readthedocs.io/en/stable/user_install.html\">Jupyter\n",
       "  Widgets Documentation</a> for setup instructions.\n",
       "</p>\n",
       "<p>\n",
       "  If you're reading this message in another frontend (for example, a static\n",
       "  rendering on GitHub or <a href=\"https://nbviewer.jupyter.org/\">NBViewer</a>),\n",
       "  it may mean that your frontend doesn't currently support widgets.\n",
       "</p>\n"
      ],
      "text/plain": [
       "Map(basemap={'url': 'https://{s}.tile.openstreetmap.org/{z}/{x}/{y}.png', 'max_zoom': 19, 'attribution': 'Map data (c) <a href=\"https://openstreetmap.org\">OpenStreetMap</a> contributors'}, center=[51.501, -0.1773], dragging=False, layers=(TileLayer(base=True, max_zoom=19, min_zoom=1, options=['attribution', 'detect_retina', 'max_zoom', 'min_zoom', 'tile_size']), CircleMarker(color='red', fill_color='red', fill_opacity=0.6, location=[51.501, -0.1773], options=['class_name', 'clickable', 'color', 'dash_array', 'fill', 'fill_color', 'fill_opacity', 'line_cap', 'line_join', 'opacity', 'pointer_events', 'radius', 'stroke', 'weight']), CircleMarker(color='yellow', fill_color='#ff0000', location=[51.501, -0.1773], options=['class_name', 'clickable', 'color', 'dash_array', 'fill', 'fill_color', 'fill_opacity', 'line_cap', 'line_join', 'opacity', 'pointer_events', 'radius', 'stroke', 'weight'])), options=['attribution_control', 'basemap', 'bounce_at_zoom_limits', 'box_zoom', 'center', 'close_popup_on_click', 'double_click_zoom', 'dragging', 'inertia', 'inertia_deceleration', 'inertia_max_speed', 'keyboard', 'keyboard_pan_offset', 'keyboard_zoom_offset', 'max_zoom', 'min_zoom', 'scroll_wheel_zoom', 'tap', 'tap_tolerance', 'touch_zoom', 'world_copy_jump', 'zoom', 'zoom_animation_threshold', 'zoom_control', 'zoom_start'], zoom=16, zoom_control=False)"
      ]
     },
     "metadata": {},
     "output_type": "display_data"
    }
   ],
   "source": [
    "import ipyleaflet\n",
    "import ipywidgets as widgets\n",
    "from ipywidgets.embed import embed_minimal_html, dependency_state\n",
    "\n",
    "\n",
    "from ipyleaflet import Map, CircleMarker\n",
    "\n",
    "m=Map(center=[51.501, -0.1773], zoom=16, zoom_control=False, dragging=False)\n",
    "mark = CircleMarker(location=m.center, radius=10, color=\"red\", fill_color=\"red\", fill_opacity=0.6)\n",
    "m.add_layer(mark)\n",
    "mark = CircleMarker(location=[51.5, -0.174], radius=10, color=\"yellow\", fill_color=\"#ff0000\")\n",
    "m.add_layer(mark)\n",
    "embed_minimal_html('export.html', views=[m, mark], state=dependency_state([m, mark]))\n",
    "mark.location=[51.5, -0.1773]\n",
    "def f(lat, long):\n",
    "    mark.location=[lat, long]\n",
    "widgets.interact(f,\n",
    "                 lat=widgets.FloatSlider(51.501, min=51.497, max=51.505, step=0.0001, readout_format='.4f'),\n",
    "                 long=widgets.FloatSlider(-0.1773, min=-0.178, max=-0.1760, step=0.0001, readout_format='.4f')\n",
    "                )\n",
    "m"
   ]
  },
  {
   "cell_type": "markdown",
   "metadata": {
    "slideshow": {
     "slide_type": "slide"
    }
   },
   "source": [
    "```html\n",
    "<iframe style=\"display:block; margin:auto;\" width=\"420\" height=\"315\" src=\"http://www.youtube.com/embed/6JN_maX0BNA?showinfo=0&playlist=6JN_maX0BNA&autoplay=1&loop=1\" frameborder=\"0\" allowfullscreen></iframe>\n",
    "```"
   ]
  },
  {
   "cell_type": "raw",
   "metadata": {
    "raw_mimetype": "text/html",
    "slideshow": {
     "slide_type": "-"
    }
   },
   "source": [
    "<iframe style=\"display:block; margin:auto;\" width=\"420\" height=\"315\" src=\"http://www.youtube.com/embed/6JN_maX0BNA?showinfo=0&playlist=6JN_maX0BNA&autoplay=1&loop=1\" frameborder=\"0\" allowfullscreen></iframe>\n"
   ]
  },
  {
   "cell_type": "code",
   "execution_count": 2,
   "metadata": {
    "slideshow": {
     "slide_type": "slide"
    }
   },
   "outputs": [
    {
     "data": {
      "text/html": [
       "<iframe style=\"display:block; margin:auto;\" width=\"420\" height=\"315\" src=\"http://www.youtube.com/embed/6JN_maX0BNA\" frameborder=\"0\" allowfullscreen></iframe>"
      ],
      "text/plain": [
       "<IPython.core.display.HTML object>"
      ]
     },
     "metadata": {},
     "output_type": "display_data"
    }
   ],
   "source": [
    "%%html\n",
    "<iframe style=\"display:block; margin:auto;\" width=\"420\" height=\"315\" src=\"http://www.youtube.com/embed/6JN_maX0BNA\" frameborder=\"0\" allowfullscreen></iframe>"
   ]
  },
  {
   "cell_type": "code",
   "execution_count": 3,
   "metadata": {
    "slideshow": {
     "slide_type": "slide"
    }
   },
   "outputs": [
    {
     "data": {
      "image/jpeg": "[encoded data removed]",
      "text/html": [
       "\n",
       "        <iframe\n",
       "            width=\"400\"\n",
       "            height=\"300\"\n",
       "            src=\"https://www.youtube.com/embed/6JN_maX0BNA?showinfo=0&playlist=6JN_maX0BNA&autoplay=0&allowfullscreen=1&modestbranding=1&loop=1&rel=0\"\n",
       "            frameborder=\"0\"\n",
       "            allowfullscreen\n",
       "        ></iframe>\n",
       "        "
      ],
      "text/plain": [
       "<IPython.lib.display.YouTubeVideo at 0x10bf14b00>"
      ]
     },
     "execution_count": 3,
     "metadata": {},
     "output_type": "execute_result"
    }
   ],
   "source": [
    "from IPython import display\n",
    "display.YouTubeVideo('6JN_maX0BNA', showinfo=0, playlist='6JN_maX0BNA', autoplay=0, allowfullscreen=1, modestbranding=1, loop=1, rel=0)"
   ]
  },
  {
   "cell_type": "code",
   "execution_count": 11,
   "metadata": {},
   "outputs": [
    {
     "name": "stdout",
     "output_type": "stream",
     "text": [
      "(FloatSlider(value=0.0, description='x'), Output(layout=Layout(height='315px')))\n"
     ]
    },
    {
     "data": {
      "application/vnd.jupyter.widget-view+json": {
       "model_id": "078e42b77e264a06b0f285656a29f7e6",
       "version_major": 2,
       "version_minor": 0
      },
      "text/html": [
       "<p>Failed to display Jupyter Widget of type <code>VBox</code>.</p>\n",
       "<p>\n",
       "  If you're reading this message in the Jupyter Notebook or JupyterLab Notebook, it may mean\n",
       "  that the widgets JavaScript is still loading. If this message persists, it\n",
       "  likely means that the widgets JavaScript library is either not installed or\n",
       "  not enabled. See the <a href=\"https://ipywidgets.readthedocs.io/en/stable/user_install.html\">Jupyter\n",
       "  Widgets Documentation</a> for setup instructions.\n",
       "</p>\n",
       "<p>\n",
       "  If you're reading this message in another frontend (for example, a static\n",
       "  rendering on GitHub or <a href=\"https://nbviewer.jupyter.org/\">NBViewer</a>),\n",
       "  it may mean that your frontend doesn't currently support widgets.\n",
       "</p>\n"
      ],
      "text/plain": [
       "VBox(children=(HBox(children=(Play(value=50, description='Press play'), FloatSlider(value=0.0, description='x'))), Output(layout=Layout(height='315px'))))"
      ]
     },
     "metadata": {},
     "output_type": "display_data"
    }
   ],
   "source": [
    "%matplotlib inline\n",
    "import pylab\n",
    "from numpy import linspace, pi, sin\n",
    "from IPython import display as idisplay\n",
    "def g(x):\n",
    "    pylab.figure(1)\n",
    "    y = linspace(0,1.0)\n",
    "    pylab.plot(y,x*sin(4.0*pi*y))\n",
    "    pylab.axis([0,1,-100,100])\n",
    "    pylab.show()\n",
    "\n",
    "w = widgets.interactive(g, x=widgets.FloatSlider())\n",
    "slider = w.children[0]\n",
    "output = w.children[-1]\n",
    "output.layout.height = '315px'\n",
    "\n",
    "print(w.children)\n",
    "\n",
    "play = widgets.Play(\n",
    "#     interval=10,\n",
    "    value=50,\n",
    "    min=0,\n",
    "    max=100,\n",
    "    step=1,\n",
    "    description=\"Press play\",\n",
    "    disabled=False\n",
    ")\n",
    "\n",
    "widgets.jslink((play, 'value'), (slider, 'value'))\n",
    "idisplay.display(widgets.VBox([widgets.HBox([play, slider]),output]))"
   ]
  },
  {
   "cell_type": "code",
   "execution_count": null,
   "metadata": {},
   "outputs": [],
   "source": []
  }
 ],
 "metadata": {
  "celltoolbar": "Raw Cell Format",
  "kernelspec": {
   "display_name": "Python 3",
   "language": "python",
   "name": "python3"
  },
  "language_info": {
   "codemirror_mode": {
    "name": "ipython",
    "version": 3
   },
   "file_extension": ".py",
   "mimetype": "text/x-python",
   "name": "python",
   "nbconvert_exporter": "python",
   "pygments_lexer": "ipython3",
   "version": "3.6.4"
  },
  "widgets": {
   "application/vnd.jupyter.widget-state+json": {
    "state": {
     "0003166585a64458814331b54c1c36dd": {
      "model_module": "@jupyter-widgets/base",
      "model_module_version": "1.0.0",
      "model_name": "LayoutModel",
      "state": {}
     },
     "0054956b077c4a6cba8e850835ed03f8": {
      "model_module": "jupyter-leaflet",
      "model_module_version": "~0.8.1",
      "model_name": "LeafletMapModel",
      "state": {
       "_dom_classes": [],
       "_model_module_version": "~0.8.1",
       "_view_count": null,
       "_view_module_version": "~0.8.1",
       "basemap": {
        "attribution": "Map data (c) <a href=\"https://openstreetmap.org\">OpenStreetMap</a> contributors",
        "max_zoom": 19,
        "url": "https://{s}.tile.openstreetmap.org/{z}/{x}/{y}.png"
       },
       "center": [
        51.501,
        -0.1775
       ],
       "dragging": false,
       "east": -0.17540574073791504,
       "layers": [
        "IPY_MODEL_50101d2c18ce4aea932815a10139ae9c",
        "IPY_MODEL_4d7ebd7a72d34fc2b2334445c97a0c66",
        "IPY_MODEL_b03695ba303248ae8b507531d2c7c5ba"
       ],
       "layout": "IPY_MODEL_2081bf4c911c41ab8cf691bf50e30b4f",
       "modisdate": "yesterday",
       "north": 51.50166701746684,
       "options": [
        "attribution_control",
        "basemap",
        "bounce_at_zoom_limits",
        "box_zoom",
        "center",
        "close_popup_on_click",
        "double_click_zoom",
        "dragging",
        "inertia",
        "inertia_deceleration",
        "inertia_max_speed",
        "keyboard",
        "keyboard_pan_offset",
        "keyboard_zoom_offset",
        "max_zoom",
        "min_zoom",
        "scroll_wheel_zoom",
        "tap",
        "tap_tolerance",
        "touch_zoom",
        "world_copy_jump",
        "zoom",
        "zoom_animation_threshold",
        "zoom_control",
        "zoom_start"
       ],
       "south": 51.500331275255164,
       "west": -0.17959535121917725,
       "zoom": 20,
       "zoom_control": false
      }
     },
     "0077cec1327b47a4b1f0f7168aa3ff0f": {
      "model_module": "jupyter-leaflet",
      "model_module_version": "~0.8.1",
      "model_name": "LeafletMapModel",
      "state": {
       "_dom_classes": [],
       "_model_module_version": "~0.8.1",
       "_view_count": null,
       "_view_module_version": "~0.8.1",
       "basemap": {
        "attribution": "Map data (c) <a href=\"https://openstreetmap.org\">OpenStreetMap</a> contributors",
        "max_zoom": 19,
        "url": "https://{s}.tile.openstreetmap.org/{z}/{x}/{y}.png"
       },
       "center": [
        51.6,
        0
       ],
       "east": 0.0026339292526245117,
       "layers": [
        "IPY_MODEL_d4970482d9d7432ab025baca91c689a6"
       ],
       "layout": "IPY_MODEL_119f755ba97949cd9886ad064b9708db",
       "modisdate": "yesterday",
       "north": 51.60066656122033,
       "options": [
        "attribution_control",
        "basemap",
        "bounce_at_zoom_limits",
        "box_zoom",
        "center",
        "close_popup_on_click",
        "double_click_zoom",
        "dragging",
        "inertia",
        "inertia_deceleration",
        "inertia_max_speed",
        "keyboard",
        "keyboard_pan_offset",
        "keyboard_zoom_offset",
        "max_zoom",
        "min_zoom",
        "scroll_wheel_zoom",
        "tap",
        "tap_tolerance",
        "touch_zoom",
        "world_copy_jump",
        "zoom",
        "zoom_animation_threshold",
        "zoom_control",
        "zoom_start"
       ],
       "south": 51.59933372268394,
       "west": -0.002628564834594727,
       "zoom": 20
      }
     },
     "02d5cdb0ec664af6a56a45c22a189e6b": {
      "model_module": "@jupyter-widgets/base",
      "model_module_version": "1.0.0",
      "model_name": "LayoutModel",
      "state": {}
     },
     "02f1af6b433046c197e76e24af431aad": {
      "model_module": "@jupyter-widgets/controls",
      "model_module_version": "1.1.0",
      "model_name": "PlayModel",
      "state": {
       "description": "Press play",
       "layout": "IPY_MODEL_4ff047afb9c94781a94d9258bdef9915",
       "style": "IPY_MODEL_84f2713fbe5448fbab4b94b4d3ce304f"
      }
     },
     "039021c7e0ae4a0abf69a6e47a095441": {
      "model_module": "@jupyter-widgets/base",
      "model_module_version": "1.0.0",
      "model_name": "LayoutModel",
      "state": {}
     },
     "039651ee493742a0b24da254206b186a": {
      "model_module": "@jupyter-widgets/base",
      "model_module_version": "1.0.0",
      "model_name": "LayoutModel",
      "state": {
       "height": "500px"
      }
     },
     "0446f4c7f78148f798ce16e89f626c06": {
      "model_module": "jupyter-leaflet",
      "model_module_version": "~0.8.1",
      "model_name": "LeafletCircleMarkerModel",
      "state": {
       "_model_module_version": "~0.8.1",
       "_view_count": null,
       "_view_module_version": "~0.8.1",
       "color": "yellow",
       "fill_color": "#ff0000",
       "location": [
        51.5,
        -0.174
       ],
       "options": [
        "class_name",
        "clickable",
        "color",
        "dash_array",
        "fill",
        "fill_color",
        "fill_opacity",
        "line_cap",
        "line_join",
        "opacity",
        "pointer_events",
        "radius",
        "stroke",
        "weight"
       ],
       "radius": 10
      }
     },
     "04a32ee7811a445c9448866a38a6a98c": {
      "model_module": "@jupyter-widgets/controls",
      "model_module_version": "1.1.0",
      "model_name": "PlayModel",
      "state": {
       "description": "Press play",
       "layout": "IPY_MODEL_de04b5e1ef8349edb669b9c5d648f45d",
       "style": "IPY_MODEL_9f4048381689433f9fc849940ed96904",
       "value": 55
      }
     },
     "04d1539151a54bacac96db8499e9d1c8": {
      "model_module": "jupyter-leaflet",
      "model_module_version": "~0.8.1",
      "model_name": "LeafletCircleMarkerModel",
      "state": {
       "_model_module_version": "~0.8.1",
       "_view_count": null,
       "_view_module_version": "~0.8.1",
       "color": "red",
       "fill_color": "#ff0000",
       "location": [
        51.5,
        -0.176
       ],
       "options": [
        "class_name",
        "clickable",
        "color",
        "dash_array",
        "fill",
        "fill_color",
        "fill_opacity",
        "line_cap",
        "line_join",
        "opacity",
        "pointer_events",
        "radius",
        "stroke",
        "weight"
       ],
       "radius": 10
      }
     },
     "057ebedeb7ae426682e7e28aa93be1df": {
      "model_module": "jupyter-leaflet",
      "model_module_version": "~0.8.1",
      "model_name": "LeafletTileLayerModel",
      "state": {
       "_model_module_version": "~0.8.1",
       "_view_count": null,
       "_view_module_version": "~0.8.1",
       "base": true,
       "max_zoom": 19,
       "min_zoom": 1,
       "options": [
        "attribution",
        "detect_retina",
        "max_zoom",
        "min_zoom",
        "tile_size"
       ]
      }
     },
     "057ff7b3689a412faa2eb98726eaa194": {
      "model_module": "@jupyter-widgets/controls",
      "model_module_version": "1.1.0",
      "model_name": "HBoxModel",
      "state": {
       "children": [
        "IPY_MODEL_04a32ee7811a445c9448866a38a6a98c",
        "IPY_MODEL_e82b569b13a6404482a990aa452eb4cb"
       ],
       "layout": "IPY_MODEL_729979fc93fc48ecb8bb1c8bca7573ee"
      }
     },
     "064db2bffc234cc0b7bcad7c639e17db": {
      "model_module": "jupyter-leaflet",
      "model_module_version": "~0.8.1",
      "model_name": "LeafletCircleMarkerModel",
      "state": {
       "_model_module_version": "~0.8.1",
       "_view_count": null,
       "_view_module_version": "~0.8.1",
       "color": "yellow",
       "fill_color": "#ff0000",
       "location": [
        51.5,
        -0.174
       ],
       "options": [
        "class_name",
        "clickable",
        "color",
        "dash_array",
        "fill",
        "fill_color",
        "fill_opacity",
        "line_cap",
        "line_join",
        "opacity",
        "pointer_events",
        "radius",
        "stroke",
        "weight"
       ],
       "radius": 10
      }
     },
     "06b96ac8da594e5d99bca78b3d56708f": {
      "model_module": "@jupyter-widgets/base",
      "model_module_version": "1.0.0",
      "model_name": "LayoutModel",
      "state": {}
     },
     "0765778147d2410693c7019c5bcb1743": {
      "model_module": "@jupyter-widgets/controls",
      "model_module_version": "1.1.0",
      "model_name": "DescriptionStyleModel",
      "state": {
       "description_width": ""
      }
     },
     "078e42b77e264a06b0f285656a29f7e6": {
      "model_module": "@jupyter-widgets/controls",
      "model_module_version": "1.1.0",
      "model_name": "VBoxModel",
      "state": {
       "children": [
        "IPY_MODEL_971b0dd9e96d4be6914dc87623ff2075",
        "IPY_MODEL_de6f6e9206c844e5b34099ba1c47c8db"
       ],
       "layout": "IPY_MODEL_5c8fa358714f43c9afe0c3d67c6f8d38"
      }
     },
     "07ad9eeb225c4820ae6f72595b382f30": {
      "model_module": "@jupyter-widgets/base",
      "model_module_version": "1.0.0",
      "model_name": "LayoutModel",
      "state": {}
     },
     "087ca5e532a043528ce58134ae133d0e": {
      "model_module": "@jupyter-widgets/output",
      "model_module_version": "1.0.0",
      "model_name": "OutputModel",
      "state": {
       "layout": "IPY_MODEL_62fbd143a1b74c0aa36c3b950cc5eda3",
       "outputs": [
        {
         "name": "stdout",
         "output_type": "stream",
         "text": "100.0\n"
        },
        {
         "data": {
          "image/png": "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\n",
          "text/plain": "<matplotlib.figure.Figure at 0x107877dd8>"
         },
         "metadata": {},
         "output_type": "display_data"
        }
       ]
      }
     },
     "08e6a826892d46a0b476fda8dbd000f8": {
      "model_module": "jupyter-leaflet",
      "model_module_version": "~0.8.1",
      "model_name": "LeafletMapModel",
      "state": {
       "_dom_classes": [],
       "_model_module_version": "~0.8.1",
       "_view_count": null,
       "_view_module_version": "~0.8.1",
       "basemap": {
        "attribution": "Map data (c) <a href=\"https://openstreetmap.org\">OpenStreetMap</a> contributors",
        "max_zoom": 19,
        "url": "https://{s}.tile.openstreetmap.org/{z}/{x}/{y}.png"
       },
       "center": [
        51.5,
        -0.1732
       ],
       "east": -0.17056703567504883,
       "layers": [
        "IPY_MODEL_b01f3548274e42c9875ac64c43a33899"
       ],
       "layout": "IPY_MODEL_82601125abb440cc8fca5035d0d4d188",
       "modisdate": "yesterday",
       "north": 51.500668553858276,
       "options": [
        "attribution_control",
        "basemap",
        "bounce_at_zoom_limits",
        "box_zoom",
        "center",
        "close_popup_on_click",
        "double_click_zoom",
        "dragging",
        "inertia",
        "inertia_deceleration",
        "inertia_max_speed",
        "keyboard",
        "keyboard_pan_offset",
        "keyboard_zoom_offset",
        "max_zoom",
        "min_zoom",
        "scroll_wheel_zoom",
        "tap",
        "tap_tolerance",
        "touch_zoom",
        "world_copy_jump",
        "zoom",
        "zoom_animation_threshold",
        "zoom_control",
        "zoom_start"
       ],
       "south": 51.49933278238175,
       "west": -0.17582952976226807,
       "zoom": 20
      }
     },
     "0984d69285824949b10411af9a57ddbf": {
      "model_module": "@jupyter-widgets/base",
      "model_module_version": "1.0.0",
      "model_name": "LayoutModel",
      "state": {
       "height": "350px"
      }
     },
     "09de76385e4a4471ae36a5b709e7056e": {
      "model_module": "@jupyter-widgets/base",
      "model_module_version": "1.0.0",
      "model_name": "LayoutModel",
      "state": {
       "height": "350px"
      }
     },
     "0a610390574247c08411bc92d68cca03": {
      "model_module": "@jupyter-widgets/controls",
      "model_module_version": "1.1.0",
      "model_name": "LinkModel",
      "state": {
       "source": [
        "IPY_MODEL_1c43199b16f64056a4b03e91a1697e2a",
        "value"
       ],
       "target": [
        "IPY_MODEL_b76592812fc34099a684707e7dba31a2",
        "value"
       ]
      }
     },
     "0bb58e7f5a3f4889b7806ba0d024fac4": {
      "model_module": "jupyter-leaflet",
      "model_module_version": "~0.8.1",
      "model_name": "LeafletMapModel",
      "state": {
       "_dom_classes": [],
       "_model_module_version": "~0.8.1",
       "_view_count": null,
       "_view_module_version": "~0.8.1",
       "basemap": {
        "attribution": "Map data (c) <a href=\"https://openstreetmap.org\">OpenStreetMap</a> contributors",
        "max_zoom": 19,
        "url": "https://{s}.tile.openstreetmap.org/{z}/{x}/{y}.png"
       },
       "center": [
        51.50000067301382,
        -0.17499804496765137
       ],
       "east": -180,
       "layers": [
        "IPY_MODEL_6f6c6773df48414885c1ded2f84eb9d9",
        "IPY_MODEL_256b1bd668ee4af7aa2e673f38b5172a"
       ],
       "layout": "IPY_MODEL_5279e92cccc144ae823abfd227af129b",
       "modisdate": "yesterday",
       "north": -90,
       "options": [
        "attribution_control",
        "basemap",
        "bounce_at_zoom_limits",
        "box_zoom",
        "center",
        "close_popup_on_click",
        "double_click_zoom",
        "dragging",
        "inertia",
        "inertia_deceleration",
        "inertia_max_speed",
        "keyboard",
        "keyboard_pan_offset",
        "keyboard_zoom_offset",
        "max_zoom",
        "min_zoom",
        "scroll_wheel_zoom",
        "tap",
        "tap_tolerance",
        "touch_zoom",
        "world_copy_jump",
        "zoom",
        "zoom_animation_threshold",
        "zoom_control",
        "zoom_start"
       ],
       "south": 90,
       "west": 180,
       "zoom": 20
      }
     },
     "0cc4e7563ef34373bd4a9eba7eda6235": {
      "model_module": "@jupyter-widgets/base",
      "model_module_version": "1.0.0",
      "model_name": "LayoutModel",
      "state": {}
     },
     "0d11ca0bc99440bfb546611a2e559ac1": {
      "model_module": "@jupyter-widgets/controls",
      "model_module_version": "1.1.0",
      "model_name": "FloatSliderModel",
      "state": {
       "description": "lat",
       "layout": "IPY_MODEL_fbaddd4905194008ac269f69e6cd6045",
       "max": 51.505,
       "min": 51.497,
       "readout_format": ".4f",
       "step": 0.0001,
       "style": "IPY_MODEL_1957c18a2b5d4ec1afa743445dcce460",
       "value": 51.501
      }
     },
     "0d8a735564584f4c9a4acd6c792c0b03": {
      "model_module": "jupyter-leaflet",
      "model_module_version": "~0.8.1",
      "model_name": "LeafletCircleMarkerModel",
      "state": {
       "_model_module_version": "~0.8.1",
       "_view_count": null,
       "_view_module_version": "~0.8.1",
       "color": "red",
       "fill_color": "#ff0000",
       "location": [
        51.501,
        -0.1773
       ],
       "options": [
        "class_name",
        "clickable",
        "color",
        "dash_array",
        "fill",
        "fill_color",
        "fill_opacity",
        "line_cap",
        "line_join",
        "opacity",
        "pointer_events",
        "radius",
        "stroke",
        "weight"
       ],
       "radius": 10
      }
     },
     "0dceb85485f74b3c929d2b9799aeda9c": {
      "model_module": "@jupyter-widgets/controls",
      "model_module_version": "1.1.0",
      "model_name": "VBoxModel",
      "state": {
       "_dom_classes": [
        "widget-interact"
       ],
       "children": [
        "IPY_MODEL_3ed0b98850cb422c85f58c877a10341f",
        "IPY_MODEL_a2f7f12f127a4a3c96b6718e2c46b4b7"
       ],
       "layout": "IPY_MODEL_ebf253babdf94d91b4bc649e4d3563f7"
      }
     },
     "0e431a54a1ae4ca895c6781ca0a17f73": {
      "model_module": "jupyter-leaflet",
      "model_module_version": "~0.8.1",
      "model_name": "LeafletCircleMarkerModel",
      "state": {
       "_model_module_version": "~0.8.1",
       "_view_count": null,
       "_view_module_version": "~0.8.1",
       "color": "yellow",
       "fill_color": "#ff0000",
       "location": [
        51.5,
        -0.174
       ],
       "options": [
        "class_name",
        "clickable",
        "color",
        "dash_array",
        "fill",
        "fill_color",
        "fill_opacity",
        "line_cap",
        "line_join",
        "opacity",
        "pointer_events",
        "radius",
        "stroke",
        "weight"
       ],
       "radius": 10
      }
     },
     "0e72af2a86b94a2ba6c0841e71a0c6dc": {
      "model_module": "jupyter-leaflet",
      "model_module_version": "~0.8.1",
      "model_name": "LeafletMapModel",
      "state": {
       "_dom_classes": [],
       "_model_module_version": "~0.8.1",
       "_view_count": null,
       "_view_module_version": "~0.8.1",
       "basemap": {
        "attribution": "Map data (c) <a href=\"https://openstreetmap.org\">OpenStreetMap</a> contributors",
        "max_zoom": 19,
        "url": "https://{s}.tile.openstreetmap.org/{z}/{x}/{y}.png"
       },
       "center": [
        34.6252978589571,
        -77.34443664550783
       ],
       "east": -76.67083740234376,
       "layers": [
        "IPY_MODEL_e2ebab9cd13b4efd8a69cb0b67b4340f"
       ],
       "layout": "IPY_MODEL_695248858cf84083abbb2db84dddf94a",
       "modisdate": "yesterday",
       "north": 34.85100201839405,
       "options": [
        "attribution_control",
        "basemap",
        "bounce_at_zoom_limits",
        "box_zoom",
        "center",
        "close_popup_on_click",
        "double_click_zoom",
        "dragging",
        "inertia",
        "inertia_deceleration",
        "inertia_max_speed",
        "keyboard",
        "keyboard_pan_offset",
        "keyboard_zoom_offset",
        "max_zoom",
        "min_zoom",
        "scroll_wheel_zoom",
        "tap",
        "tap_tolerance",
        "touch_zoom",
        "world_copy_jump",
        "zoom",
        "zoom_animation_threshold",
        "zoom_control",
        "zoom_start"
       ],
       "south": 34.39897808891371,
       "west": -78.01803588867188,
       "zoom": 10
      }
     },
     "0ebf32979250442ba45d50211aef80e4": {
      "model_module": "@jupyter-widgets/controls",
      "model_module_version": "1.1.0",
      "model_name": "FloatSliderModel",
      "state": {
       "description": "x",
       "layout": "IPY_MODEL_59106ab872694eb7a0a313290ab6ac67",
       "step": 0.1,
       "style": "IPY_MODEL_7a580e34273c4fd7b61678251063fb00",
       "value": 50
      }
     },
     "0f75f553718646d58113ad834bad3f14": {
      "model_module": "@jupyter-widgets/controls",
      "model_module_version": "1.1.0",
      "model_name": "DescriptionStyleModel",
      "state": {
       "description_width": ""
      }
     },
     "0f876f2a27264df7836216d5bea52167": {
      "model_module": "jupyter-leaflet",
      "model_module_version": "~0.8.1",
      "model_name": "LeafletMapModel",
      "state": {
       "_dom_classes": [],
       "_model_module_version": "~0.8.1",
       "_view_count": null,
       "_view_module_version": "~0.8.1",
       "basemap": {
        "attribution": "Map data (c) <a href=\"https://openstreetmap.org\">OpenStreetMap</a> contributors",
        "max_zoom": 19,
        "url": "https://{s}.tile.openstreetmap.org/{z}/{x}/{y}.png"
       },
       "center": [
        51.501,
        -0.1773
       ],
       "dragging": false,
       "east": -0.16676902770996097,
       "layers": [
        "IPY_MODEL_6a7766147172466e96888a18a641f1cf",
        "IPY_MODEL_5b9c51e0e6c0443dbb6f184614e5e892",
        "IPY_MODEL_359f0567e3d74462bbd1ec6c63129913"
       ],
       "layout": "IPY_MODEL_5e05a0b05e4346a5a54cc961cb5bfbb9",
       "modisdate": "yesterday",
       "north": 51.50366721821857,
       "options": [
        "attribution_control",
        "basemap",
        "bounce_at_zoom_limits",
        "box_zoom",
        "center",
        "close_popup_on_click",
        "double_click_zoom",
        "dragging",
        "inertia",
        "inertia_deceleration",
        "inertia_max_speed",
        "keyboard",
        "keyboard_pan_offset",
        "keyboard_zoom_offset",
        "max_zoom",
        "min_zoom",
        "scroll_wheel_zoom",
        "tap",
        "tap_tolerance",
        "touch_zoom",
        "world_copy_jump",
        "zoom",
        "zoom_animation_threshold",
        "zoom_control",
        "zoom_start"
       ],
       "south": 51.49832424897921,
       "west": -0.18781900405883792,
       "zoom": 16,
       "zoom_control": false
      }
     },
     "0fb5e522bd424ba48d54138c6495fae9": {
      "model_module": "jupyter-leaflet",
      "model_module_version": "~0.8.1",
      "model_name": "LeafletCircleMarkerModel",
      "state": {
       "_model_module_version": "~0.8.1",
       "_view_count": null,
       "_view_module_version": "~0.8.1",
       "color": "yellow",
       "fill_color": "#ff0000",
       "location": [
        51.5,
        -0.174
       ],
       "options": [
        "class_name",
        "clickable",
        "color",
        "dash_array",
        "fill",
        "fill_color",
        "fill_opacity",
        "line_cap",
        "line_join",
        "opacity",
        "pointer_events",
        "radius",
        "stroke",
        "weight"
       ],
       "radius": 10
      }
     },
     "0fe3599f5f8b421bb7611da7a1db4342": {
      "model_module": "jupyter-leaflet",
      "model_module_version": "~0.8.1",
      "model_name": "LeafletCircleMarkerModel",
      "state": {
       "_model_module_version": "~0.8.1",
       "_view_count": null,
       "_view_module_version": "~0.8.1",
       "color": "yellow",
       "fill_color": "#ff0000",
       "location": [
        51.5,
        -0.174
       ],
       "options": [
        "class_name",
        "clickable",
        "color",
        "dash_array",
        "fill",
        "fill_color",
        "fill_opacity",
        "line_cap",
        "line_join",
        "opacity",
        "pointer_events",
        "radius",
        "stroke",
        "weight"
       ],
       "radius": 10
      }
     },
     "1013b761c3c84c8399a16e4a9dd236e1": {
      "model_module": "@jupyter-widgets/controls",
      "model_module_version": "1.1.0",
      "model_name": "HBoxModel",
      "state": {
       "children": [
        "IPY_MODEL_a6c227756dd64874bf47a8c4a7b4eab8",
        "IPY_MODEL_bd49ba37319048209ede47e47c77a045"
       ],
       "layout": "IPY_MODEL_2f70fa1ef5904072add32f3b74c35a1c"
      }
     },
     "1096ba56dc59468dbc47f401c20f7a52": {
      "model_module": "@jupyter-widgets/controls",
      "model_module_version": "1.1.0",
      "model_name": "HBoxModel",
      "state": {
       "children": [
        "IPY_MODEL_354cfadf43594c30aa7f2a93d11fe8bb",
        "IPY_MODEL_d0a9038383814630bf8252f6b83823f6"
       ],
       "layout": "IPY_MODEL_b1465e4f1068441e9aea300ec6f203df"
      }
     },
     "1113f2978672428eadd7ae9a43bc7b09": {
      "model_module": "jupyter-leaflet",
      "model_module_version": "~0.8.1",
      "model_name": "LeafletMapModel",
      "state": {
       "_dom_classes": [],
       "_model_module_version": "~0.8.1",
       "_view_count": null,
       "_view_module_version": "~0.8.1",
       "basemap": {
        "attribution": "Map data (c) <a href=\"https://openstreetmap.org\">OpenStreetMap</a> contributors",
        "max_zoom": 19,
        "url": "https://{s}.tile.openstreetmap.org/{z}/{x}/{y}.png"
       },
       "center": [
        51.5,
        -0.177
       ],
       "dragging": false,
       "east": -0.17490684986114502,
       "layers": [
        "IPY_MODEL_461efef630dc4ca494ee7e57dd12aa88",
        "IPY_MODEL_86c85912b2624e65a01ea24348368b4f",
        "IPY_MODEL_a61eb6f7279549f18283ab2b3d2a8fc1"
       ],
       "layout": "IPY_MODEL_a1b18159ba454e42bfcdcd88d92fc087",
       "modisdate": "yesterday",
       "north": 51.500668553858276,
       "options": [
        "attribution_control",
        "basemap",
        "bounce_at_zoom_limits",
        "box_zoom",
        "center",
        "close_popup_on_click",
        "double_click_zoom",
        "dragging",
        "inertia",
        "inertia_deceleration",
        "inertia_max_speed",
        "keyboard",
        "keyboard_pan_offset",
        "keyboard_zoom_offset",
        "max_zoom",
        "min_zoom",
        "scroll_wheel_zoom",
        "tap",
        "tap_tolerance",
        "touch_zoom",
        "world_copy_jump",
        "zoom",
        "zoom_animation_threshold",
        "zoom_control",
        "zoom_start"
       ],
       "south": 51.49933278238175,
       "west": -0.17909646034240723,
       "zoom": 20,
       "zoom_control": false
      }
     },
     "116945a5dccb4b9e859691c181beefca": {
      "model_module": "jupyter-leaflet",
      "model_module_version": "~0.8.1",
      "model_name": "LeafletTileLayerModel",
      "state": {
       "_model_module_version": "~0.8.1",
       "_view_count": null,
       "_view_module_version": "~0.8.1",
       "base": true,
       "max_zoom": 19,
       "min_zoom": 1,
       "options": [
        "attribution",
        "detect_retina",
        "max_zoom",
        "min_zoom",
        "tile_size"
       ]
      }
     },
     "119f755ba97949cd9886ad064b9708db": {
      "model_module": "@jupyter-widgets/base",
      "model_module_version": "1.0.0",
      "model_name": "LayoutModel",
      "state": {}
     },
     "11a4cdf920c44a34a646cb93525fa0d7": {
      "model_module": "@jupyter-widgets/base",
      "model_module_version": "1.0.0",
      "model_name": "LayoutModel",
      "state": {}
     },
     "1215966d30a64a35a69def43680b849a": {
      "model_module": "@jupyter-widgets/base",
      "model_module_version": "1.0.0",
      "model_name": "LayoutModel",
      "state": {}
     },
     "137e3b62ac744b34bd75da0ace4e4953": {
      "model_module": "@jupyter-widgets/controls",
      "model_module_version": "1.1.0",
      "model_name": "PlayModel",
      "state": {
       "description": "Press play",
       "layout": "IPY_MODEL_f98ea23de59b4f4d8d7072c56c7e089d",
       "style": "IPY_MODEL_65975e8fcafc4318b6ff9873ee5fd55a",
       "value": 100
      }
     },
     "139a878e6a564086bd5535b944d819cb": {
      "model_module": "jupyter-leaflet",
      "model_module_version": "~0.8.1",
      "model_name": "LeafletTileLayerModel",
      "state": {
       "_model_module_version": "~0.8.1",
       "_view_count": null,
       "_view_module_version": "~0.8.1",
       "base": true,
       "max_zoom": 19,
       "min_zoom": 1,
       "options": [
        "attribution",
        "detect_retina",
        "max_zoom",
        "min_zoom",
        "tile_size"
       ]
      }
     },
     "1444d139448d4c71a6cb0a20088a029d": {
      "model_module": "@jupyter-widgets/controls",
      "model_module_version": "1.1.0",
      "model_name": "PlayModel",
      "state": {
       "description": "Press play",
       "layout": "IPY_MODEL_7f8c001b59e447bb984cacebae0e71fe",
       "style": "IPY_MODEL_d13be70cb49048deaeaf4160ad891fdc",
       "value": 50
      }
     },
     "15c55de6972e49ed905b7fd0a605f38c": {
      "model_module": "@jupyter-widgets/controls",
      "model_module_version": "1.1.0",
      "model_name": "FloatSliderModel",
      "state": {
       "description": "x",
       "layout": "IPY_MODEL_11a4cdf920c44a34a646cb93525fa0d7",
       "step": 0.1,
       "style": "IPY_MODEL_2bcff802ed9647bc9b983315d18e89e9",
       "value": 100
      }
     },
     "16501d969d6f490cb442c44f2d844d5b": {
      "model_module": "@jupyter-widgets/base",
      "model_module_version": "1.0.0",
      "model_name": "LayoutModel",
      "state": {}
     },
     "172a97b4420541449f38420a2788696b": {
      "model_module": "jupyter-leaflet",
      "model_module_version": "~0.8.1",
      "model_name": "LeafletTileLayerModel",
      "state": {
       "_model_module_version": "~0.8.1",
       "_view_count": null,
       "_view_module_version": "~0.8.1",
       "base": true,
       "max_zoom": 19,
       "min_zoom": 1,
       "options": [
        "attribution",
        "detect_retina",
        "max_zoom",
        "min_zoom",
        "tile_size"
       ]
      }
     },
     "177c3ac11d944f04be57e1cf82c3ba58": {
      "model_module": "@jupyter-widgets/base",
      "model_module_version": "1.0.0",
      "model_name": "LayoutModel",
      "state": {}
     },
     "187001a858f048849c1e9b0c9bcc0ada": {
      "model_module": "@jupyter-widgets/base",
      "model_module_version": "1.0.0",
      "model_name": "LayoutModel",
      "state": {}
     },
     "188351dde5ca4ceaba22be5be2e1b179": {
      "model_module": "@jupyter-widgets/controls",
      "model_module_version": "1.1.0",
      "model_name": "FloatSliderModel",
      "state": {
       "description": "x",
       "layout": "IPY_MODEL_02d5cdb0ec664af6a56a45c22a189e6b",
       "step": 0.1,
       "style": "IPY_MODEL_5da081ee73114c6e9d0d05a354200ae4",
       "value": 50
      }
     },
     "1940c77283cd4f57a28284cc0a2fa4bd": {
      "model_module": "@jupyter-widgets/controls",
      "model_module_version": "1.1.0",
      "model_name": "FloatSliderModel",
      "state": {
       "description": "x",
       "layout": "IPY_MODEL_ea8d3c7581d64b389476d274f8d15669",
       "step": 0.1,
       "style": "IPY_MODEL_6435c66f5d604144877459a738f9b819",
       "value": 50
      }
     },
     "1957c18a2b5d4ec1afa743445dcce460": {
      "model_module": "@jupyter-widgets/controls",
      "model_module_version": "1.1.0",
      "model_name": "SliderStyleModel",
      "state": {
       "description_width": ""
      }
     },
     "19864cca1f55437ebd50eb2ace669e7b": {
      "model_module": "@jupyter-widgets/controls",
      "model_module_version": "1.1.0",
      "model_name": "VBoxModel",
      "state": {
       "_dom_classes": [
        "widget-interact"
       ],
       "children": [
        "IPY_MODEL_5c939cb88efa4a53b9c9ece17c86e509",
        "IPY_MODEL_af322c4bb6ef4feb8b6e96c9612f81ee"
       ],
       "layout": "IPY_MODEL_4242fd00816f4b44830f0254d1969ea1"
      }
     },
     "1af252c5e2624fadb7354482c2a26d12": {
      "model_module": "@jupyter-widgets/controls",
      "model_module_version": "1.1.0",
      "model_name": "VBoxModel",
      "state": {
       "_dom_classes": [
        "widget-interact"
       ],
       "children": [
        "IPY_MODEL_b76592812fc34099a684707e7dba31a2",
        "IPY_MODEL_2b95cbdb93ec4136bfb57cc06b67ef49"
       ],
       "layout": "IPY_MODEL_f053299ba2424240b4a3055539a2bb1e"
      }
     },
     "1b3f59e3e5a341f1bc51d153d7322a43": {
      "model_module": "@jupyter-widgets/controls",
      "model_module_version": "1.1.0",
      "model_name": "VBoxModel",
      "state": {
       "_dom_classes": [
        "widget-interact"
       ],
       "children": [
        "IPY_MODEL_e82b569b13a6404482a990aa452eb4cb",
        "IPY_MODEL_8e4280c27435465abbca2e06f99c23b2"
       ],
       "layout": "IPY_MODEL_2069f5bc40bb40c88d65a2e5a1acd1a2"
      }
     },
     "1c43199b16f64056a4b03e91a1697e2a": {
      "model_module": "@jupyter-widgets/controls",
      "model_module_version": "1.1.0",
      "model_name": "PlayModel",
      "state": {
       "description": "Press play",
       "layout": "IPY_MODEL_ee4801e433584983a879f57c71adc2f1",
       "style": "IPY_MODEL_487bb8b899204c73b16ff7a1b8474c21"
      }
     },
     "1cd72392b54c49daa2ace55ead9f41ea": {
      "model_module": "jupyter-leaflet",
      "model_module_version": "~0.8.1",
      "model_name": "LeafletTileLayerModel",
      "state": {
       "_model_module_version": "~0.8.1",
       "_view_count": null,
       "_view_module_version": "~0.8.1",
       "base": true,
       "max_zoom": 19,
       "min_zoom": 1,
       "options": [
        "attribution",
        "detect_retina",
        "max_zoom",
        "min_zoom",
        "tile_size"
       ]
      }
     },
     "1d33739dd961436f95ec0cf31d54434a": {
      "model_module": "jupyter-leaflet",
      "model_module_version": "~0.8.1",
      "model_name": "LeafletTileLayerModel",
      "state": {
       "_model_module_version": "~0.8.1",
       "_view_count": null,
       "_view_module_version": "~0.8.1",
       "base": true,
       "max_zoom": 19,
       "min_zoom": 1,
       "options": [
        "attribution",
        "detect_retina",
        "max_zoom",
        "min_zoom",
        "tile_size"
       ]
      }
     },
     "1f47075a49d14ba18850d5ab904ebfd2": {
      "model_module": "@jupyter-widgets/base",
      "model_module_version": "1.0.0",
      "model_name": "LayoutModel",
      "state": {}
     },
     "1fbfce43cf504bbbbfa42d7504f7b1db": {
      "model_module": "@jupyter-widgets/controls",
      "model_module_version": "1.1.0",
      "model_name": "SliderStyleModel",
      "state": {
       "description_width": ""
      }
     },
     "1fc3a0ffc5014568b41f9f736417a1e6": {
      "model_module": "jupyter-leaflet",
      "model_module_version": "~0.8.1",
      "model_name": "LeafletMapModel",
      "state": {
       "_dom_classes": [],
       "_model_module_version": "~0.8.1",
       "_view_count": null,
       "_view_module_version": "~0.8.1",
       "basemap": {
        "attribution": "Map data (c) <a href=\"https://openstreetmap.org\">OpenStreetMap</a> contributors",
        "max_zoom": 19,
        "url": "https://{s}.tile.openstreetmap.org/{z}/{x}/{y}.png"
       },
       "center": [
        52,
        0
       ],
       "east": 21.5771484375,
       "layers": [
        "IPY_MODEL_057ebedeb7ae426682e7e28aa93be1df"
       ],
       "layout": "IPY_MODEL_922b80d93dc642b6b54440709d584367",
       "modisdate": "yesterday",
       "north": 57.088515327886505,
       "options": [
        "attribution_control",
        "basemap",
        "bounce_at_zoom_limits",
        "box_zoom",
        "center",
        "close_popup_on_click",
        "double_click_zoom",
        "dragging",
        "inertia",
        "inertia_deceleration",
        "inertia_max_speed",
        "keyboard",
        "keyboard_pan_offset",
        "keyboard_zoom_offset",
        "max_zoom",
        "min_zoom",
        "scroll_wheel_zoom",
        "tap",
        "tap_tolerance",
        "touch_zoom",
        "world_copy_jump",
        "zoom",
        "zoom_animation_threshold",
        "zoom_control",
        "zoom_start"
       ],
       "south": 46.255846818480336,
       "west": -21.533203125000004,
       "zoom": 5
      }
     },
     "2069f5bc40bb40c88d65a2e5a1acd1a2": {
      "model_module": "@jupyter-widgets/base",
      "model_module_version": "1.0.0",
      "model_name": "LayoutModel",
      "state": {}
     },
     "2081bf4c911c41ab8cf691bf50e30b4f": {
      "model_module": "@jupyter-widgets/base",
      "model_module_version": "1.0.0",
      "model_name": "LayoutModel",
      "state": {}
     },
     "20df4857675f413795d8fee3ed39debe": {
      "model_module": "@jupyter-widgets/base",
      "model_module_version": "1.0.0",
      "model_name": "LayoutModel",
      "state": {}
     },
     "20eb8bfd9299466ab9815acfa00e7df0": {
      "model_module": "@jupyter-widgets/controls",
      "model_module_version": "1.1.0",
      "model_name": "PlayModel",
      "state": {
       "description": "Press play",
       "layout": "IPY_MODEL_20df4857675f413795d8fee3ed39debe",
       "style": "IPY_MODEL_9cc3cca27cb54328bd2982fcd9841471",
       "value": 50
      }
     },
     "21a6b4809fbf4658a11d859acd33e432": {
      "model_module": "@jupyter-widgets/controls",
      "model_module_version": "1.1.0",
      "model_name": "FloatSliderModel",
      "state": {
       "description": "x",
       "layout": "IPY_MODEL_48b9a063541b462d860b0f594ad8803d",
       "step": 0.1,
       "style": "IPY_MODEL_1fbfce43cf504bbbbfa42d7504f7b1db",
       "value": 43
      }
     },
     "232ed850494941b7af588996bb6e6684": {
      "model_module": "@jupyter-widgets/base",
      "model_module_version": "1.0.0",
      "model_name": "LayoutModel",
      "state": {}
     },
     "239ffd6866b34caab2013ff4adcc1a4a": {
      "model_module": "@jupyter-widgets/output",
      "model_module_version": "1.0.0",
      "model_name": "OutputModel",
      "state": {
       "layout": "IPY_MODEL_0984d69285824949b10411af9a57ddbf",
       "outputs": [
        {
         "ename": "NameError",
         "evalue": "name 'sin' is not defined",
         "output_type": "error",
         "traceback": [
          "\u001b[0;31m---------------------------------------------------------------------------\u001b[0m",
          "\u001b[0;31mNameError\u001b[0m                                 Traceback (most recent call last)",
          "\u001b[0;32m/opt/local/Library/Frameworks/Python.framework/Versions/3.6/lib/python3.6/site-packages/ipywidgets/widgets/interaction.py\u001b[0m in \u001b[0;36mupdate\u001b[0;34m(self, *args)\u001b[0m\n\u001b[1;32m    248\u001b[0m                     \u001b[0mvalue\u001b[0m \u001b[0;34m=\u001b[0m \u001b[0mwidget\u001b[0m\u001b[0;34m.\u001b[0m\u001b[0mget_interact_value\u001b[0m\u001b[0;34m(\u001b[0m\u001b[0;34m)\u001b[0m\u001b[0;34m\u001b[0m\u001b[0m\n\u001b[1;32m    249\u001b[0m                     \u001b[0mself\u001b[0m\u001b[0;34m.\u001b[0m\u001b[0mkwargs\u001b[0m\u001b[0;34m[\u001b[0m\u001b[0mwidget\u001b[0m\u001b[0;34m.\u001b[0m\u001b[0m_kwarg\u001b[0m\u001b[0;34m]\u001b[0m \u001b[0;34m=\u001b[0m \u001b[0mvalue\u001b[0m\u001b[0;34m\u001b[0m\u001b[0m\n\u001b[0;32m--> 250\u001b[0;31m                 \u001b[0mself\u001b[0m\u001b[0;34m.\u001b[0m\u001b[0mresult\u001b[0m \u001b[0;34m=\u001b[0m \u001b[0mself\u001b[0m\u001b[0;34m.\u001b[0m\u001b[0mf\u001b[0m\u001b[0;34m(\u001b[0m\u001b[0;34m**\u001b[0m\u001b[0mself\u001b[0m\u001b[0;34m.\u001b[0m\u001b[0mkwargs\u001b[0m\u001b[0;34m)\u001b[0m\u001b[0;34m\u001b[0m\u001b[0m\n\u001b[0m\u001b[1;32m    251\u001b[0m                 \u001b[0mshow_inline_matplotlib_plots\u001b[0m\u001b[0;34m(\u001b[0m\u001b[0;34m)\u001b[0m\u001b[0;34m\u001b[0m\u001b[0m\n\u001b[1;32m    252\u001b[0m                 \u001b[0;32mif\u001b[0m \u001b[0mself\u001b[0m\u001b[0;34m.\u001b[0m\u001b[0mauto_display\u001b[0m \u001b[0;32mand\u001b[0m \u001b[0mself\u001b[0m\u001b[0;34m.\u001b[0m\u001b[0mresult\u001b[0m \u001b[0;32mis\u001b[0m \u001b[0;32mnot\u001b[0m \u001b[0;32mNone\u001b[0m\u001b[0;34m:\u001b[0m\u001b[0;34m\u001b[0m\u001b[0m\n",
          "\u001b[0;32m<ipython-input-5-113c02224c54>\u001b[0m in \u001b[0;36mg\u001b[0;34m(x)\u001b[0m\n\u001b[1;32m      5\u001b[0m \u001b[0;32mdef\u001b[0m \u001b[0mg\u001b[0m\u001b[0;34m(\u001b[0m\u001b[0mx\u001b[0m\u001b[0;34m)\u001b[0m\u001b[0;34m:\u001b[0m\u001b[0;34m\u001b[0m\u001b[0m\n\u001b[1;32m      6\u001b[0m     \u001b[0my\u001b[0m \u001b[0;34m=\u001b[0m \u001b[0mlinspace\u001b[0m\u001b[0;34m(\u001b[0m\u001b[0;36m0\u001b[0m\u001b[0;34m,\u001b[0m\u001b[0;36m2\u001b[0m\u001b[0;34m)\u001b[0m\u001b[0;34m\u001b[0m\u001b[0m\n\u001b[0;32m----> 7\u001b[0;31m     \u001b[0mpylab\u001b[0m\u001b[0;34m.\u001b[0m\u001b[0mplot\u001b[0m\u001b[0;34m(\u001b[0m\u001b[0mx\u001b[0m\u001b[0;34m*\u001b[0m\u001b[0msin\u001b[0m\u001b[0;34m(\u001b[0m\u001b[0mpi\u001b[0m\u001b[0;34m*\u001b[0m\u001b[0my\u001b[0m\u001b[0;34m)\u001b[0m\u001b[0;34m)\u001b[0m\u001b[0;34m\u001b[0m\u001b[0m\n\u001b[0m\u001b[1;32m      8\u001b[0m \u001b[0;34m\u001b[0m\u001b[0m\n\u001b[1;32m      9\u001b[0m     \u001b[0mprint\u001b[0m\u001b[0;34m(\u001b[0m\u001b[0mx\u001b[0m\u001b[0;34m)\u001b[0m\u001b[0;34m\u001b[0m\u001b[0m\n",
          "\u001b[0;31mNameError\u001b[0m: name 'sin' is not defined"
         ]
        }
       ]
      }
     },
     "23f2025fd6264887b80d08f46a05c281": {
      "model_module": "jupyter-leaflet",
      "model_module_version": "~0.8.1",
      "model_name": "LeafletMapModel",
      "state": {
       "_dom_classes": [],
       "_model_module_version": "~0.8.1",
       "_view_count": null,
       "_view_module_version": "~0.8.1",
       "basemap": {
        "attribution": "Map data (c) <a href=\"https://openstreetmap.org\">OpenStreetMap</a> contributors",
        "max_zoom": 19,
        "url": "https://{s}.tile.openstreetmap.org/{z}/{x}/{y}.png"
       },
       "center": [
        51.501,
        -0.1773
       ],
       "dragging": false,
       "layers": [
        "IPY_MODEL_63e47c726a6c4e159fe7c00a25c078b6"
       ],
       "layout": "IPY_MODEL_929e08dac65647dba4df4a917c02d054",
       "modisdate": "yesterday",
       "options": [
        "attribution_control",
        "basemap",
        "bounce_at_zoom_limits",
        "box_zoom",
        "center",
        "close_popup_on_click",
        "double_click_zoom",
        "dragging",
        "inertia",
        "inertia_deceleration",
        "inertia_max_speed",
        "keyboard",
        "keyboard_pan_offset",
        "keyboard_zoom_offset",
        "max_zoom",
        "min_zoom",
        "scroll_wheel_zoom",
        "tap",
        "tap_tolerance",
        "touch_zoom",
        "world_copy_jump",
        "zoom",
        "zoom_animation_threshold",
        "zoom_control",
        "zoom_start"
       ],
       "zoom": 15,
       "zoom_control": false
      }
     },
     "2485a7ab2b4d4371bfd6fc4465acd82e": {
      "model_module": "jupyter-leaflet",
      "model_module_version": "~0.8.1",
      "model_name": "LeafletTileLayerModel",
      "state": {
       "_model_module_version": "~0.8.1",
       "_view_count": null,
       "_view_module_version": "~0.8.1",
       "base": true,
       "max_zoom": 19,
       "min_zoom": 1,
       "options": [
        "attribution",
        "detect_retina",
        "max_zoom",
        "min_zoom",
        "tile_size"
       ]
      }
     },
     "24ac535be94344328405714278c5914d": {
      "model_module": "@jupyter-widgets/base",
      "model_module_version": "1.0.0",
      "model_name": "LayoutModel",
      "state": {}
     },
     "24e0229af8774b8ea1cf52fd3dd7df7c": {
      "model_module": "@jupyter-widgets/controls",
      "model_module_version": "1.1.0",
      "model_name": "HBoxModel",
      "state": {
       "children": [
        "IPY_MODEL_48885385d4174614bd195a295d90c6da",
        "IPY_MODEL_5d549ff3693f486983b2ab3e00fe0b79"
       ],
       "layout": "IPY_MODEL_442afe18311f4d50a74c255676640284"
      }
     },
     "251f471da45f4edb912c0268e07dcddb": {
      "model_module": "@jupyter-widgets/controls",
      "model_module_version": "1.1.0",
      "model_name": "SliderStyleModel",
      "state": {
       "description_width": ""
      }
     },
     "252333e70442431db8464f30ab85400c": {
      "model_module": "@jupyter-widgets/base",
      "model_module_version": "1.0.0",
      "model_name": "LayoutModel",
      "state": {}
     },
     "256b1bd668ee4af7aa2e673f38b5172a": {
      "model_module": "jupyter-leaflet",
      "model_module_version": "~0.8.1",
      "model_name": "LeafletCircleMarkerModel",
      "state": {
       "_model_module_version": "~0.8.1",
       "_view_count": null,
       "_view_module_version": "~0.8.1",
       "color": "#000000",
       "fill_color": "#ff0000",
       "location": [
        51.5,
        -0.175
       ],
       "options": [
        "class_name",
        "clickable",
        "color",
        "dash_array",
        "fill",
        "fill_color",
        "fill_opacity",
        "line_cap",
        "line_join",
        "opacity",
        "pointer_events",
        "radius",
        "stroke",
        "weight"
       ],
       "radius": 5
      }
     },
     "26bead3385764e2a87d3bdaf077090fc": {
      "model_module": "@jupyter-widgets/base",
      "model_module_version": "1.0.0",
      "model_name": "LayoutModel",
      "state": {}
     },
     "26d78a4cef9747b1a169be6daa8009a0": {
      "model_module": "@jupyter-widgets/base",
      "model_module_version": "1.0.0",
      "model_name": "LayoutModel",
      "state": {}
     },
     "273f075b28b54680954723f4b2760195": {
      "model_module": "@jupyter-widgets/base",
      "model_module_version": "1.0.0",
      "model_name": "LayoutModel",
      "state": {
       "height": "350px"
      }
     },
     "2763acc39543446da272a4ead02382fb": {
      "model_module": "@jupyter-widgets/controls",
      "model_module_version": "1.1.0",
      "model_name": "LinkModel",
      "state": {
       "source": [
        "IPY_MODEL_fb84e76480a7409fb3e80ea8735370a4",
        "value"
       ],
       "target": [
        "IPY_MODEL_0ebf32979250442ba45d50211aef80e4",
        "value"
       ]
      }
     },
     "27a4f4d571e84f1aaf08735d686f1b69": {
      "model_module": "@jupyter-widgets/controls",
      "model_module_version": "1.1.0",
      "model_name": "VBoxModel",
      "state": {
       "_dom_classes": [
        "widget-interact"
       ],
       "children": [
        "IPY_MODEL_21a6b4809fbf4658a11d859acd33e432",
        "IPY_MODEL_a6ae3b55afb047d3bb48c0126e5dfa37"
       ],
       "layout": "IPY_MODEL_db875a93bbe14749a189094872b2b733"
      }
     },
     "27ea459a856f473ab89dabde1ec37480": {
      "model_module": "@jupyter-widgets/base",
      "model_module_version": "1.0.0",
      "model_name": "LayoutModel",
      "state": {}
     },
     "29056710e0e146c997c69376bd0bd84c": {
      "model_module": "@jupyter-widgets/base",
      "model_module_version": "1.0.0",
      "model_name": "LayoutModel",
      "state": {}
     },
     "29138c5380624a8195df5cde8d264304": {
      "model_module": "@jupyter-widgets/base",
      "model_module_version": "1.0.0",
      "model_name": "LayoutModel",
      "state": {
       "height": "315px"
      }
     },
     "29317bf612184bc19bf9453d13cd84da": {
      "model_module": "@jupyter-widgets/base",
      "model_module_version": "1.0.0",
      "model_name": "LayoutModel",
      "state": {}
     },
     "2944ef92783d4207b3d2eb0d5ebf0dc0": {
      "model_module": "@jupyter-widgets/base",
      "model_module_version": "1.0.0",
      "model_name": "LayoutModel",
      "state": {}
     },
     "2983e008713a435f993b07408aa34d47": {
      "model_module": "@jupyter-widgets/base",
      "model_module_version": "1.0.0",
      "model_name": "LayoutModel",
      "state": {}
     },
     "2a2a9d1e04c146818e35ff9386343543": {
      "model_module": "@jupyter-widgets/controls",
      "model_module_version": "1.1.0",
      "model_name": "DescriptionStyleModel",
      "state": {
       "description_width": ""
      }
     },
     "2a62308fc9d749c9bc4e556a2ecfeb69": {
      "model_module": "@jupyter-widgets/base",
      "model_module_version": "1.0.0",
      "model_name": "LayoutModel",
      "state": {}
     },
     "2b95cbdb93ec4136bfb57cc06b67ef49": {
      "model_module": "@jupyter-widgets/output",
      "model_module_version": "1.0.0",
      "model_name": "OutputModel",
      "state": {
       "layout": "IPY_MODEL_979831df0de84c93af2e80331f76e7e5",
       "outputs": [
        {
         "name": "stdout",
         "output_type": "stream",
         "text": "0.0\n"
        }
       ]
      }
     },
     "2ba9c1ec4e984d09a942ccb62d7fec80": {
      "model_module": "jupyter-leaflet",
      "model_module_version": "~0.8.1",
      "model_name": "LeafletMapModel",
      "state": {
       "_dom_classes": [],
       "_model_module_version": "~0.8.1",
       "_view_count": null,
       "_view_module_version": "~0.8.1",
       "basemap": {
        "attribution": "Map data (c) <a href=\"https://openstreetmap.org\">OpenStreetMap</a> contributors",
        "max_zoom": 19,
        "url": "https://{s}.tile.openstreetmap.org/{z}/{x}/{y}.png"
       },
       "center": [
        51.505,
        -0.177
       ],
       "dragging": false,
       "east": -0.17490684986114502,
       "layers": [
        "IPY_MODEL_7f9eb1bf24a343f5b8fc26f80162f385",
        "IPY_MODEL_c5ebf738c16d4b13a5c9a59f011e2b8a",
        "IPY_MODEL_469416ca0fa746628ffadbb1e1f8587e"
       ],
       "layout": "IPY_MODEL_e396ad2089114497a81bd762d1663fce",
       "modisdate": "yesterday",
       "north": 51.5056673311778,
       "options": [
        "attribution_control",
        "basemap",
        "bounce_at_zoom_limits",
        "box_zoom",
        "center",
        "close_popup_on_click",
        "double_click_zoom",
        "dragging",
        "inertia",
        "inertia_deceleration",
        "inertia_max_speed",
        "keyboard",
        "keyboard_pan_offset",
        "keyboard_zoom_offset",
        "max_zoom",
        "min_zoom",
        "scroll_wheel_zoom",
        "tap",
        "tap_tolerance",
        "touch_zoom",
        "world_copy_jump",
        "zoom",
        "zoom_animation_threshold",
        "zoom_control",
        "zoom_start"
       ],
       "south": 51.504331706218785,
       "west": -0.17909646034240723,
       "zoom": 20,
       "zoom_control": false
      }
     },
     "2bbf8f66fae24f3cbca891df387b4d93": {
      "model_module": "jupyter-leaflet",
      "model_module_version": "~0.8.1",
      "model_name": "LeafletTileLayerModel",
      "state": {
       "_model_module_version": "~0.8.1",
       "_view_count": null,
       "_view_module_version": "~0.8.1",
       "base": true,
       "max_zoom": 19,
       "min_zoom": 1,
       "options": [
        "attribution",
        "detect_retina",
        "max_zoom",
        "min_zoom",
        "tile_size"
       ]
      }
     },
     "2bcff802ed9647bc9b983315d18e89e9": {
      "model_module": "@jupyter-widgets/controls",
      "model_module_version": "1.1.0",
      "model_name": "SliderStyleModel",
      "state": {
       "description_width": ""
      }
     },
     "2c377fa7f7a443698fd3a545ef929e43": {
      "model_module": "@jupyter-widgets/base",
      "model_module_version": "1.0.0",
      "model_name": "LayoutModel",
      "state": {}
     },
     "2c926f382b2a453d8fc16c09ffb375f0": {
      "model_module": "@jupyter-widgets/base",
      "model_module_version": "1.0.0",
      "model_name": "LayoutModel",
      "state": {}
     },
     "2e4b6b5b7b12436d86628741e0a4e61f": {
      "model_module": "@jupyter-widgets/controls",
      "model_module_version": "1.1.0",
      "model_name": "FloatSliderModel",
      "state": {
       "description": "x",
       "layout": "IPY_MODEL_5756457cc1ba41cdb67f614ea40f7253",
       "step": 0.1,
       "style": "IPY_MODEL_ad05a75c750c46229dc9a626743bff12",
       "value": 50
      }
     },
     "2e70f07e8a524bcc87bd3dd3d29bf2ea": {
      "model_module": "@jupyter-widgets/base",
      "model_module_version": "1.0.0",
      "model_name": "LayoutModel",
      "state": {}
     },
     "2ebecdca666744549b4ebe8c1a9aa237": {
      "model_module": "@jupyter-widgets/controls",
      "model_module_version": "1.1.0",
      "model_name": "DescriptionStyleModel",
      "state": {
       "description_width": ""
      }
     },
     "2f70fa1ef5904072add32f3b74c35a1c": {
      "model_module": "@jupyter-widgets/base",
      "model_module_version": "1.0.0",
      "model_name": "LayoutModel",
      "state": {}
     },
     "31be3aea19f74674a610a47e847607fd": {
      "model_module": "@jupyter-widgets/base",
      "model_module_version": "1.0.0",
      "model_name": "LayoutModel",
      "state": {}
     },
     "32038c9b3acd49779a0924cd89500410": {
      "model_module": "@jupyter-widgets/controls",
      "model_module_version": "1.1.0",
      "model_name": "PlayModel",
      "state": {
       "description": "Press play",
       "layout": "IPY_MODEL_9f4969ca91734f3f9f08da4878e98215",
       "style": "IPY_MODEL_66a76564df0d4bd9963bee7052b93488",
       "value": 100
      }
     },
     "341ff44e3ccc4595ae08161f30900078": {
      "model_module": "jupyter-leaflet",
      "model_module_version": "~0.8.1",
      "model_name": "LeafletTileLayerModel",
      "state": {
       "_model_module_version": "~0.8.1",
       "_view_count": null,
       "_view_module_version": "~0.8.1",
       "base": true,
       "max_zoom": 19,
       "min_zoom": 1,
       "options": [
        "attribution",
        "detect_retina",
        "max_zoom",
        "min_zoom",
        "tile_size"
       ]
      }
     },
     "347eacb0d36c4121b8ad4c8458efda5d": {
      "model_module": "@jupyter-widgets/controls",
      "model_module_version": "1.1.0",
      "model_name": "DescriptionStyleModel",
      "state": {
       "description_width": ""
      }
     },
     "34b0135acaa14f6e8840bd143ea5c31b": {
      "model_module": "@jupyter-widgets/controls",
      "model_module_version": "1.1.0",
      "model_name": "HBoxModel",
      "state": {
       "children": [
        "IPY_MODEL_137e3b62ac744b34bd75da0ace4e4953",
        "IPY_MODEL_434e1ebf228b430ebf71d27e3f2f3da5"
       ],
       "layout": "IPY_MODEL_039021c7e0ae4a0abf69a6e47a095441"
      }
     },
     "34cc2984009f43c8b6f73f50289cae6b": {
      "model_module": "@jupyter-widgets/controls",
      "model_module_version": "1.1.0",
      "model_name": "PlayModel",
      "state": {
       "description": "Press play",
       "layout": "IPY_MODEL_b3ce3fa1e385464a9373cf509d8ea339",
       "style": "IPY_MODEL_df4a2181eab04ed7b3792c5e8f285273",
       "value": 50
      }
     },
     "354cfadf43594c30aa7f2a93d11fe8bb": {
      "model_module": "@jupyter-widgets/controls",
      "model_module_version": "1.1.0",
      "model_name": "PlayModel",
      "state": {
       "description": "Press play",
       "layout": "IPY_MODEL_2944ef92783d4207b3d2eb0d5ebf0dc0",
       "style": "IPY_MODEL_61bdf240b13c433384a5da81174d02b7"
      }
     },
     "359f0567e3d74462bbd1ec6c63129913": {
      "model_module": "jupyter-leaflet",
      "model_module_version": "~0.8.1",
      "model_name": "LeafletCircleMarkerModel",
      "state": {
       "_model_module_version": "~0.8.1",
       "_view_count": null,
       "_view_module_version": "~0.8.1",
       "color": "yellow",
       "fill_color": "#ff0000",
       "location": [
        51.501,
        -0.1773
       ],
       "options": [
        "class_name",
        "clickable",
        "color",
        "dash_array",
        "fill",
        "fill_color",
        "fill_opacity",
        "line_cap",
        "line_join",
        "opacity",
        "pointer_events",
        "radius",
        "stroke",
        "weight"
       ],
       "radius": 10
      }
     },
     "35befd022a5947dcbce7862a53b97633": {
      "model_module": "jupyter-leaflet",
      "model_module_version": "~0.8.1",
      "model_name": "LeafletMapModel",
      "state": {
       "_dom_classes": [],
       "_model_module_version": "~0.8.1",
       "_view_count": null,
       "_view_module_version": "~0.8.1",
       "basemap": {
        "attribution": "Map data (c) <a href=\"https://openstreetmap.org\">OpenStreetMap</a> contributors",
        "max_zoom": 19,
        "url": "https://{s}.tile.openstreetmap.org/{z}/{x}/{y}.png"
       },
       "center": [
        51.5,
        -0.176
       ],
       "east": -0.1733672618865967,
       "layers": [
        "IPY_MODEL_df9f11f9d20f4bfc9dc59b5236bc5f44"
       ],
       "layout": "IPY_MODEL_d8068634dc2a4a75bd821cdc0179271b",
       "modisdate": "yesterday",
       "north": 51.500668553858276,
       "options": [
        "attribution_control",
        "basemap",
        "bounce_at_zoom_limits",
        "box_zoom",
        "center",
        "close_popup_on_click",
        "double_click_zoom",
        "dragging",
        "inertia",
        "inertia_deceleration",
        "inertia_max_speed",
        "keyboard",
        "keyboard_pan_offset",
        "keyboard_zoom_offset",
        "max_zoom",
        "min_zoom",
        "scroll_wheel_zoom",
        "tap",
        "tap_tolerance",
        "touch_zoom",
        "world_copy_jump",
        "zoom",
        "zoom_animation_threshold",
        "zoom_control",
        "zoom_start"
       ],
       "south": 51.49933278238175,
       "west": -0.17862975597381595,
       "zoom": 20
      }
     },
     "3676810340174a018abe4758e586a7ef": {
      "model_module": "@jupyter-widgets/controls",
      "model_module_version": "1.1.0",
      "model_name": "LinkModel",
      "state": {
       "source": [
        "IPY_MODEL_cd8de952d7994452a41c2c44a50e3b33",
        "value"
       ],
       "target": [
        "IPY_MODEL_aa549fac0cf649aa81cc164d4a28e273",
        "value"
       ]
      }
     },
     "3695d3126b524a7da967135e1e0b5fe1": {
      "model_module": "@jupyter-widgets/base",
      "model_module_version": "1.0.0",
      "model_name": "LayoutModel",
      "state": {}
     },
     "369dcb6ea88c4f4db335a3e45e95230b": {
      "model_module": "@jupyter-widgets/controls",
      "model_module_version": "1.1.0",
      "model_name": "SliderStyleModel",
      "state": {
       "description_width": ""
      }
     },
     "3769f55a48eb4914872aade25513fbf9": {
      "model_module": "@jupyter-widgets/base",
      "model_module_version": "1.0.0",
      "model_name": "LayoutModel",
      "state": {}
     },
     "384a6bc7b0fb4210a12c9d4e3097936f": {
      "model_module": "@jupyter-widgets/base",
      "model_module_version": "1.0.0",
      "model_name": "LayoutModel",
      "state": {
       "height": "350px"
      }
     },
     "38e0138f498c4c1ea05a1c036f25ff6f": {
      "model_module": "@jupyter-widgets/base",
      "model_module_version": "1.0.0",
      "model_name": "LayoutModel",
      "state": {}
     },
     "390655e7bb034ceca57d691e5facfe29": {
      "model_module": "@jupyter-widgets/controls",
      "model_module_version": "1.1.0",
      "model_name": "DescriptionStyleModel",
      "state": {
       "description_width": ""
      }
     },
     "3c5111999baf4b15a4c41b730d0a2502": {
      "model_module": "jupyter-leaflet",
      "model_module_version": "~0.8.1",
      "model_name": "LeafletCircleMarkerModel",
      "state": {
       "_model_module_version": "~0.8.1",
       "_view_count": null,
       "_view_module_version": "~0.8.1",
       "color": "red",
       "fill_color": "#ff0000",
       "location": [
        51.501,
        -0.1773
       ],
       "options": [
        "class_name",
        "clickable",
        "color",
        "dash_array",
        "fill",
        "fill_color",
        "fill_opacity",
        "line_cap",
        "line_join",
        "opacity",
        "pointer_events",
        "radius",
        "stroke",
        "weight"
       ],
       "radius": 10
      }
     },
     "3ed0b98850cb422c85f58c877a10341f": {
      "model_module": "@jupyter-widgets/controls",
      "model_module_version": "1.1.0",
      "model_name": "FloatSliderModel",
      "state": {
       "description": "x",
       "layout": "IPY_MODEL_ac96fd687aa045bb98db102cdc8ef70f",
       "step": 0.1,
       "style": "IPY_MODEL_dc5c0256951e41ceb580cb21485d2ce7",
       "value": 50
      }
     },
     "3f9b3d843a9e4e4c8fdb58078fd38271": {
      "model_module": "@jupyter-widgets/controls",
      "model_module_version": "1.1.0",
      "model_name": "PlayModel",
      "state": {
       "description": "Press play",
       "layout": "IPY_MODEL_725f7912965a4af888af797b24077d25",
       "style": "IPY_MODEL_2a2a9d1e04c146818e35ff9386343543",
       "value": 43
      }
     },
     "4242fd00816f4b44830f0254d1969ea1": {
      "model_module": "@jupyter-widgets/base",
      "model_module_version": "1.0.0",
      "model_name": "LayoutModel",
      "state": {}
     },
     "4290e6bab5d84d3ab228369b9b0a3f15": {
      "model_module": "@jupyter-widgets/base",
      "model_module_version": "1.0.0",
      "model_name": "LayoutModel",
      "state": {}
     },
     "434e1ebf228b430ebf71d27e3f2f3da5": {
      "model_module": "@jupyter-widgets/controls",
      "model_module_version": "1.1.0",
      "model_name": "FloatSliderModel",
      "state": {
       "description": "x",
       "layout": "IPY_MODEL_45bfb174d19e4a54942e1de5b7555255",
       "step": 0.1,
       "style": "IPY_MODEL_ae484c62e6d64325862c549245fb260c",
       "value": 100
      }
     },
     "4370511c62cd4e89a67b73e3fe08e3a4": {
      "model_module": "jupyter-leaflet",
      "model_module_version": "~0.8.1",
      "model_name": "LeafletCircleMarkerModel",
      "state": {
       "_model_module_version": "~0.8.1",
       "_view_count": null,
       "_view_module_version": "~0.8.1",
       "color": "red",
       "fill_color": "#ff0000",
       "location": [
        51.5,
        -0.175
       ],
       "options": [
        "class_name",
        "clickable",
        "color",
        "dash_array",
        "fill",
        "fill_color",
        "fill_opacity",
        "line_cap",
        "line_join",
        "opacity",
        "pointer_events",
        "radius",
        "stroke",
        "weight"
       ],
       "radius": 10
      }
     },
     "43ec9fb79bfe473fa971cae261757540": {
      "model_module": "@jupyter-widgets/base",
      "model_module_version": "1.0.0",
      "model_name": "LayoutModel",
      "state": {}
     },
     "4414153021764c1a9f05c42eafa8fd52": {
      "model_module": "jupyter-leaflet",
      "model_module_version": "~0.8.1",
      "model_name": "LeafletMapModel",
      "state": {
       "_dom_classes": [],
       "_model_module_version": "~0.8.1",
       "_view_count": null,
       "_view_module_version": "~0.8.1",
       "basemap": {
        "attribution": "Map data (c) <a href=\"https://openstreetmap.org\">OpenStreetMap</a> contributors",
        "max_zoom": 19,
        "url": "https://{s}.tile.openstreetmap.org/{z}/{x}/{y}.png"
       },
       "center": [
        59.99967278003099,
        0.0006866455078125
       ],
       "east": 2.6971435546875,
       "layers": [
        "IPY_MODEL_4a40922b85f24879b941eb8bea92e8ee"
       ],
       "layout": "IPY_MODEL_4493852560584066951d89c85cd13059",
       "modisdate": "yesterday",
       "north": 60.54377524118842,
       "options": [
        "attribution_control",
        "basemap",
        "bounce_at_zoom_limits",
        "box_zoom",
        "center",
        "close_popup_on_click",
        "double_click_zoom",
        "dragging",
        "inertia",
        "inertia_deceleration",
        "inertia_max_speed",
        "keyboard",
        "keyboard_pan_offset",
        "keyboard_zoom_offset",
        "max_zoom",
        "min_zoom",
        "scroll_wheel_zoom",
        "tap",
        "tap_tolerance",
        "touch_zoom",
        "world_copy_jump",
        "zoom",
        "zoom_animation_threshold",
        "zoom_control",
        "zoom_start"
       ],
       "south": 59.445075099047166,
       "west": -2.6916503906250004,
       "zoom": 8
      }
     },
     "442afe18311f4d50a74c255676640284": {
      "model_module": "@jupyter-widgets/base",
      "model_module_version": "1.0.0",
      "model_name": "LayoutModel",
      "state": {}
     },
     "4493852560584066951d89c85cd13059": {
      "model_module": "@jupyter-widgets/base",
      "model_module_version": "1.0.0",
      "model_name": "LayoutModel",
      "state": {}
     },
     "45939cc95001444096b1a353e4b8db13": {
      "model_module": "jupyter-leaflet",
      "model_module_version": "~0.8.1",
      "model_name": "LeafletTileLayerModel",
      "state": {
       "_model_module_version": "~0.8.1",
       "_view_count": null,
       "_view_module_version": "~0.8.1",
       "base": true,
       "max_zoom": 19,
       "min_zoom": 1,
       "options": [
        "attribution",
        "detect_retina",
        "max_zoom",
        "min_zoom",
        "tile_size"
       ]
      }
     },
     "45bfb174d19e4a54942e1de5b7555255": {
      "model_module": "@jupyter-widgets/base",
      "model_module_version": "1.0.0",
      "model_name": "LayoutModel",
      "state": {}
     },
     "461dcac9c5254a5a97df180502443132": {
      "model_module": "jupyter-leaflet",
      "model_module_version": "~0.8.1",
      "model_name": "LeafletCircleMarkerModel",
      "state": {
       "_model_module_version": "~0.8.1",
       "_view_count": null,
       "_view_module_version": "~0.8.1",
       "color": "yellow",
       "fill_color": "#ff0000",
       "location": [
        51.5,
        -0.174
       ],
       "options": [
        "class_name",
        "clickable",
        "color",
        "dash_array",
        "fill",
        "fill_color",
        "fill_opacity",
        "line_cap",
        "line_join",
        "opacity",
        "pointer_events",
        "radius",
        "stroke",
        "weight"
       ],
       "radius": 10
      }
     },
     "461efef630dc4ca494ee7e57dd12aa88": {
      "model_module": "jupyter-leaflet",
      "model_module_version": "~0.8.1",
      "model_name": "LeafletTileLayerModel",
      "state": {
       "_model_module_version": "~0.8.1",
       "_view_count": null,
       "_view_module_version": "~0.8.1",
       "base": true,
       "max_zoom": 19,
       "min_zoom": 1,
       "options": [
        "attribution",
        "detect_retina",
        "max_zoom",
        "min_zoom",
        "tile_size"
       ]
      }
     },
     "469416ca0fa746628ffadbb1e1f8587e": {
      "model_module": "jupyter-leaflet",
      "model_module_version": "~0.8.1",
      "model_name": "LeafletCircleMarkerModel",
      "state": {
       "_model_module_version": "~0.8.1",
       "_view_count": null,
       "_view_module_version": "~0.8.1",
       "color": "yellow",
       "fill_color": "#ff0000",
       "location": [
        51.5,
        -0.174
       ],
       "options": [
        "class_name",
        "clickable",
        "color",
        "dash_array",
        "fill",
        "fill_color",
        "fill_opacity",
        "line_cap",
        "line_join",
        "opacity",
        "pointer_events",
        "radius",
        "stroke",
        "weight"
       ],
       "radius": 10
      }
     },
     "46982ba3678d4656ae5b1f90d4d5c75d": {
      "model_module": "jupyter-leaflet",
      "model_module_version": "~0.8.1",
      "model_name": "LeafletCircleMarkerModel",
      "state": {
       "_model_module_version": "~0.8.1",
       "_view_count": null,
       "_view_module_version": "~0.8.1",
       "color": "red",
       "fill_color": "red",
       "location": [
        51.501,
        -0.1773
       ],
       "options": [
        "class_name",
        "clickable",
        "color",
        "dash_array",
        "fill",
        "fill_color",
        "fill_opacity",
        "line_cap",
        "line_join",
        "opacity",
        "pointer_events",
        "radius",
        "stroke",
        "weight"
       ],
       "radius": 10
      }
     },
     "46e2e542bd2d4949b28634da70503e3d": {
      "model_module": "@jupyter-widgets/controls",
      "model_module_version": "1.1.0",
      "model_name": "VBoxModel",
      "state": {
       "_dom_classes": [
        "widget-interact"
       ],
       "children": [
        "IPY_MODEL_0ebf32979250442ba45d50211aef80e4",
        "IPY_MODEL_f8ed8b8dbcdd44919fcf0a856e4831f7"
       ],
       "layout": "IPY_MODEL_86325691e4bc4e5c89179464edb874d7"
      }
     },
     "47128d035e2a4989b43544d755109cea": {
      "model_module": "@jupyter-widgets/controls",
      "model_module_version": "1.1.0",
      "model_name": "VBoxModel",
      "state": {
       "_dom_classes": [
        "widget-interact"
       ],
       "children": [
        "IPY_MODEL_1940c77283cd4f57a28284cc0a2fa4bd",
        "IPY_MODEL_5ee02bb941974d2082af8a15e5ed9959"
       ],
       "layout": "IPY_MODEL_7ee7ac94eeff4bbabae5fa9b374595f3"
      }
     },
     "478c62fcea804f2fa35050b978e53b5b": {
      "model_module": "@jupyter-widgets/controls",
      "model_module_version": "1.1.0",
      "model_name": "SliderStyleModel",
      "state": {
       "description_width": ""
      }
     },
     "4801335317874c2c9581ed40f5eb16fe": {
      "model_module": "jupyter-leaflet",
      "model_module_version": "~0.8.1",
      "model_name": "LeafletMapModel",
      "state": {
       "_dom_classes": [],
       "_model_module_version": "~0.8.1",
       "_view_count": null,
       "_view_module_version": "~0.8.1",
       "basemap": {
        "attribution": "Map data (c) <a href=\"https://openstreetmap.org\">OpenStreetMap</a> contributors",
        "max_zoom": 19,
        "url": "https://{s}.tile.openstreetmap.org/{z}/{x}/{y}.png"
       },
       "center": [
        45,
        0
       ],
       "east": 0.674285888671875,
       "layers": [
        "IPY_MODEL_ff29efe7098b4a00bc1121954b2b5e25"
       ],
       "layout": "IPY_MODEL_1f47075a49d14ba18850d5ab904ebfd2",
       "modisdate": "yesterday",
       "north": 45.1936513315257,
       "options": [
        "attribution_control",
        "basemap",
        "bounce_at_zoom_limits",
        "box_zoom",
        "center",
        "close_popup_on_click",
        "double_click_zoom",
        "dragging",
        "inertia",
        "inertia_deceleration",
        "inertia_max_speed",
        "keyboard",
        "keyboard_pan_offset",
        "keyboard_zoom_offset",
        "max_zoom",
        "min_zoom",
        "scroll_wheel_zoom",
        "tap",
        "tap_tolerance",
        "touch_zoom",
        "world_copy_jump",
        "zoom",
        "zoom_animation_threshold",
        "zoom_control",
        "zoom_start"
       ],
       "south": 44.80522439622254,
       "west": -0.6729125976562501,
       "zoom": 10
      }
     },
     "4857c9d4048a449680842aa3dd45747a": {
      "model_module": "jupyter-leaflet",
      "model_module_version": "~0.8.1",
      "model_name": "LeafletCircleMarkerModel",
      "state": {
       "_model_module_version": "~0.8.1",
       "_view_count": null,
       "_view_module_version": "~0.8.1",
       "color": "red",
       "location": [
        51.501,
        -0.1773
       ],
       "options": [
        "class_name",
        "clickable",
        "color",
        "dash_array",
        "fill",
        "fill_color",
        "fill_opacity",
        "line_cap",
        "line_join",
        "opacity",
        "pointer_events",
        "radius",
        "stroke",
        "weight"
       ],
       "radius": 10
      }
     },
     "48767995ab1c4695837c47f53aa719cd": {
      "model_module": "@jupyter-widgets/controls",
      "model_module_version": "1.1.0",
      "model_name": "VBoxModel",
      "state": {
       "_dom_classes": [
        "widget-interact"
       ],
       "children": [
        "IPY_MODEL_7dc61851d7954f90b51039c7e171a4cd",
        "IPY_MODEL_de6f6e9206c844e5b34099ba1c47c8db"
       ],
       "layout": "IPY_MODEL_3769f55a48eb4914872aade25513fbf9"
      }
     },
     "487bb8b899204c73b16ff7a1b8474c21": {
      "model_module": "@jupyter-widgets/controls",
      "model_module_version": "1.1.0",
      "model_name": "DescriptionStyleModel",
      "state": {
       "description_width": ""
      }
     },
     "48885385d4174614bd195a295d90c6da": {
      "model_module": "@jupyter-widgets/controls",
      "model_module_version": "1.1.0",
      "model_name": "PlayModel",
      "state": {
       "description": "Press play",
       "layout": "IPY_MODEL_e08e6e4e59d344488eb7a54f3d005827",
       "style": "IPY_MODEL_d406a29ac6a249a395686ee6e530e673",
       "value": 50
      }
     },
     "48b9a063541b462d860b0f594ad8803d": {
      "model_module": "@jupyter-widgets/base",
      "model_module_version": "1.0.0",
      "model_name": "LayoutModel",
      "state": {}
     },
     "48cdafc2d25940e4b24aa8b8970e5c41": {
      "model_module": "jupyter-leaflet",
      "model_module_version": "~0.8.1",
      "model_name": "LeafletCircleMarkerModel",
      "state": {
       "_model_module_version": "~0.8.1",
       "_view_count": null,
       "_view_module_version": "~0.8.1",
       "color": "red",
       "fill_color": "red",
       "fill_opacity": 0.8,
       "location": [
        51.501,
        -0.1773
       ],
       "options": [
        "class_name",
        "clickable",
        "color",
        "dash_array",
        "fill",
        "fill_color",
        "fill_opacity",
        "line_cap",
        "line_join",
        "opacity",
        "pointer_events",
        "radius",
        "stroke",
        "weight"
       ],
       "radius": 10
      }
     },
     "498d2184ed454e90a520fb3e4c58fe4d": {
      "model_module": "@jupyter-widgets/controls",
      "model_module_version": "1.1.0",
      "model_name": "PlayModel",
      "state": {
       "description": "Press play",
       "layout": "IPY_MODEL_f78e46d110fd409cb7290d38ec6c36b1",
       "style": "IPY_MODEL_867396dd6d9a4627870fd8c6efd20ac7"
      }
     },
     "4a40922b85f24879b941eb8bea92e8ee": {
      "model_module": "jupyter-leaflet",
      "model_module_version": "~0.8.1",
      "model_name": "LeafletTileLayerModel",
      "state": {
       "_model_module_version": "~0.8.1",
       "_view_count": null,
       "_view_module_version": "~0.8.1",
       "base": true,
       "max_zoom": 19,
       "min_zoom": 1,
       "options": [
        "attribution",
        "detect_retina",
        "max_zoom",
        "min_zoom",
        "tile_size"
       ]
      }
     },
     "4b4661298c874cf6bb7975df2d97e923": {
      "model_module": "@jupyter-widgets/base",
      "model_module_version": "1.0.0",
      "model_name": "LayoutModel",
      "state": {}
     },
     "4b921d086f734c16bc8d6993584e74d7": {
      "model_module": "jupyter-leaflet",
      "model_module_version": "~0.8.1",
      "model_name": "LeafletCircleMarkerModel",
      "state": {
       "_model_module_version": "~0.8.1",
       "_view_count": null,
       "_view_module_version": "~0.8.1",
       "color": "red",
       "fill_color": "#ff0000",
       "location": [
        51.5,
        -0.175
       ],
       "options": [
        "class_name",
        "clickable",
        "color",
        "dash_array",
        "fill",
        "fill_color",
        "fill_opacity",
        "line_cap",
        "line_join",
        "opacity",
        "pointer_events",
        "radius",
        "stroke",
        "weight"
       ],
       "radius": 10
      }
     },
     "4c239abc76d84addb0e93e8ce0139afe": {
      "model_module": "@jupyter-widgets/base",
      "model_module_version": "1.0.0",
      "model_name": "LayoutModel",
      "state": {}
     },
     "4c6c58397af94749ba88038c490800b9": {
      "model_module": "jupyter-leaflet",
      "model_module_version": "~0.8.1",
      "model_name": "LeafletMapModel",
      "state": {
       "_dom_classes": [],
       "_model_module_version": "~0.8.1",
       "_view_count": null,
       "_view_module_version": "~0.8.1",
       "basemap": {
        "attribution": "Map data (c) <a href=\"https://openstreetmap.org\">OpenStreetMap</a> contributors",
        "max_zoom": 19,
        "url": "https://{s}.tile.openstreetmap.org/{z}/{x}/{y}.png"
       },
       "center": [
        51.501,
        -0.1773
       ],
       "dragging": false,
       "east": -0.16676902770996097,
       "layers": [
        "IPY_MODEL_9fe965b2471246989fb356b88e00dc5e",
        "IPY_MODEL_56569241a81348bfad2c2ff6aad5c12d",
        "IPY_MODEL_0fe3599f5f8b421bb7611da7a1db4342"
       ],
       "layout": "IPY_MODEL_16501d969d6f490cb442c44f2d844d5b",
       "modisdate": "yesterday",
       "north": 51.50366721821857,
       "options": [
        "attribution_control",
        "basemap",
        "bounce_at_zoom_limits",
        "box_zoom",
        "center",
        "close_popup_on_click",
        "double_click_zoom",
        "dragging",
        "inertia",
        "inertia_deceleration",
        "inertia_max_speed",
        "keyboard",
        "keyboard_pan_offset",
        "keyboard_zoom_offset",
        "max_zoom",
        "min_zoom",
        "scroll_wheel_zoom",
        "tap",
        "tap_tolerance",
        "touch_zoom",
        "world_copy_jump",
        "zoom",
        "zoom_animation_threshold",
        "zoom_control",
        "zoom_start"
       ],
       "south": 51.49832424897921,
       "west": -0.18781900405883792,
       "zoom": 16,
       "zoom_control": false
      }
     },
     "4d638e68ca9b4e2a9604adaf1eb21f2c": {
      "model_module": "@jupyter-widgets/controls",
      "model_module_version": "1.1.0",
      "model_name": "DescriptionStyleModel",
      "state": {
       "description_width": ""
      }
     },
     "4d7193415ad140018c6327a80bd8581e": {
      "model_module": "@jupyter-widgets/controls",
      "model_module_version": "1.1.0",
      "model_name": "DescriptionStyleModel",
      "state": {
       "description_width": ""
      }
     },
     "4d7ebd7a72d34fc2b2334445c97a0c66": {
      "model_module": "jupyter-leaflet",
      "model_module_version": "~0.8.1",
      "model_name": "LeafletCircleMarkerModel",
      "state": {
       "_model_module_version": "~0.8.1",
       "_view_count": null,
       "_view_module_version": "~0.8.1",
       "color": "red",
       "fill_color": "#ff0000",
       "location": [
        51.501,
        -0.1775
       ],
       "options": [
        "class_name",
        "clickable",
        "color",
        "dash_array",
        "fill",
        "fill_color",
        "fill_opacity",
        "line_cap",
        "line_join",
        "opacity",
        "pointer_events",
        "radius",
        "stroke",
        "weight"
       ],
       "radius": 10
      }
     },
     "4dd27be64ac64f65a29e38fbb92a132d": {
      "model_module": "jupyter-leaflet",
      "model_module_version": "~0.8.1",
      "model_name": "LeafletMapModel",
      "state": {
       "_dom_classes": [],
       "_model_module_version": "~0.8.1",
       "_view_count": null,
       "_view_module_version": "~0.8.1",
       "basemap": {
        "attribution": "Map data (c) <a href=\"https://openstreetmap.org\">OpenStreetMap</a> contributors",
        "max_zoom": 19,
        "url": "https://{s}.tile.openstreetmap.org/{z}/{x}/{y}.png"
       },
       "center": [
        51.5,
        -0.176
       ],
       "dragging": false,
       "east": -0.17390370368957522,
       "layers": [
        "IPY_MODEL_ffd9c469c9eb47ab98647e0a0430c077",
        "IPY_MODEL_04d1539151a54bacac96db8499e9d1c8",
        "IPY_MODEL_bc7918ce88e348f78b0227d7815e7cab"
       ],
       "layout": "IPY_MODEL_967d2e3ec9324f01aaa2832f618d1e25",
       "modisdate": "yesterday",
       "north": 51.500668553858276,
       "options": [
        "attribution_control",
        "basemap",
        "bounce_at_zoom_limits",
        "box_zoom",
        "center",
        "close_popup_on_click",
        "double_click_zoom",
        "dragging",
        "inertia",
        "inertia_deceleration",
        "inertia_max_speed",
        "keyboard",
        "keyboard_pan_offset",
        "keyboard_zoom_offset",
        "max_zoom",
        "min_zoom",
        "scroll_wheel_zoom",
        "tap",
        "tap_tolerance",
        "touch_zoom",
        "world_copy_jump",
        "zoom",
        "zoom_animation_threshold",
        "zoom_control",
        "zoom_start"
       ],
       "south": 51.49933278238175,
       "west": -0.17809331417083743,
       "zoom": 20,
       "zoom_control": false
      }
     },
     "4e667f34a1874043a5ed2178a9f783e0": {
      "model_module": "@jupyter-widgets/base",
      "model_module_version": "1.0.0",
      "model_name": "LayoutModel",
      "state": {}
     },
     "4ff047afb9c94781a94d9258bdef9915": {
      "model_module": "@jupyter-widgets/base",
      "model_module_version": "1.0.0",
      "model_name": "LayoutModel",
      "state": {}
     },
     "50101d2c18ce4aea932815a10139ae9c": {
      "model_module": "jupyter-leaflet",
      "model_module_version": "~0.8.1",
      "model_name": "LeafletTileLayerModel",
      "state": {
       "_model_module_version": "~0.8.1",
       "_view_count": null,
       "_view_module_version": "~0.8.1",
       "base": true,
       "max_zoom": 19,
       "min_zoom": 1,
       "options": [
        "attribution",
        "detect_retina",
        "max_zoom",
        "min_zoom",
        "tile_size"
       ]
      }
     },
     "5206c62588424acfbc43437ca53d175e": {
      "model_module": "@jupyter-widgets/output",
      "model_module_version": "1.0.0",
      "model_name": "OutputModel",
      "state": {
       "layout": "IPY_MODEL_fd72eb206c5149698f8a44082cdcb152",
       "outputs": [
        {
         "ename": "NameError",
         "evalue": "name 'linspace' is not defined",
         "output_type": "error",
         "traceback": [
          "\u001b[0;31m---------------------------------------------------------------------------\u001b[0m",
          "\u001b[0;31mNameError\u001b[0m                                 Traceback (most recent call last)",
          "\u001b[0;32m/opt/local/Library/Frameworks/Python.framework/Versions/3.6/lib/python3.6/site-packages/ipywidgets/widgets/interaction.py\u001b[0m in \u001b[0;36mupdate\u001b[0;34m(self, *args)\u001b[0m\n\u001b[1;32m    248\u001b[0m                     \u001b[0mvalue\u001b[0m \u001b[0;34m=\u001b[0m \u001b[0mwidget\u001b[0m\u001b[0;34m.\u001b[0m\u001b[0mget_interact_value\u001b[0m\u001b[0;34m(\u001b[0m\u001b[0;34m)\u001b[0m\u001b[0;34m\u001b[0m\u001b[0m\n\u001b[1;32m    249\u001b[0m                     \u001b[0mself\u001b[0m\u001b[0;34m.\u001b[0m\u001b[0mkwargs\u001b[0m\u001b[0;34m[\u001b[0m\u001b[0mwidget\u001b[0m\u001b[0;34m.\u001b[0m\u001b[0m_kwarg\u001b[0m\u001b[0;34m]\u001b[0m \u001b[0;34m=\u001b[0m \u001b[0mvalue\u001b[0m\u001b[0;34m\u001b[0m\u001b[0m\n\u001b[0;32m--> 250\u001b[0;31m                 \u001b[0mself\u001b[0m\u001b[0;34m.\u001b[0m\u001b[0mresult\u001b[0m \u001b[0;34m=\u001b[0m \u001b[0mself\u001b[0m\u001b[0;34m.\u001b[0m\u001b[0mf\u001b[0m\u001b[0;34m(\u001b[0m\u001b[0;34m**\u001b[0m\u001b[0mself\u001b[0m\u001b[0;34m.\u001b[0m\u001b[0mkwargs\u001b[0m\u001b[0;34m)\u001b[0m\u001b[0;34m\u001b[0m\u001b[0m\n\u001b[0m\u001b[1;32m    251\u001b[0m                 \u001b[0mshow_inline_matplotlib_plots\u001b[0m\u001b[0;34m(\u001b[0m\u001b[0;34m)\u001b[0m\u001b[0;34m\u001b[0m\u001b[0m\n\u001b[1;32m    252\u001b[0m                 \u001b[0;32mif\u001b[0m \u001b[0mself\u001b[0m\u001b[0;34m.\u001b[0m\u001b[0mauto_display\u001b[0m \u001b[0;32mand\u001b[0m \u001b[0mself\u001b[0m\u001b[0;34m.\u001b[0m\u001b[0mresult\u001b[0m \u001b[0;32mis\u001b[0m \u001b[0;32mnot\u001b[0m \u001b[0;32mNone\u001b[0m\u001b[0;34m:\u001b[0m\u001b[0;34m\u001b[0m\u001b[0m\n",
          "\u001b[0;32m<ipython-input-4-49a10d6b1728>\u001b[0m in \u001b[0;36mg\u001b[0;34m(x)\u001b[0m\n\u001b[1;32m      2\u001b[0m \u001b[0;32mfrom\u001b[0m \u001b[0mIPython\u001b[0m \u001b[0;32mimport\u001b[0m \u001b[0mdisplay\u001b[0m \u001b[0;32mas\u001b[0m \u001b[0midisplay\u001b[0m\u001b[0;34m\u001b[0m\u001b[0m\n\u001b[1;32m      3\u001b[0m \u001b[0;32mdef\u001b[0m \u001b[0mg\u001b[0m\u001b[0;34m(\u001b[0m\u001b[0mx\u001b[0m\u001b[0;34m)\u001b[0m\u001b[0;34m:\u001b[0m\u001b[0;34m\u001b[0m\u001b[0m\n\u001b[0;32m----> 4\u001b[0;31m     \u001b[0my\u001b[0m \u001b[0;34m=\u001b[0m \u001b[0mlinspace\u001b[0m\u001b[0;34m(\u001b[0m\u001b[0;36m0\u001b[0m\u001b[0;34m,\u001b[0m\u001b[0;36m2\u001b[0m\u001b[0;34m)\u001b[0m\u001b[0;34m\u001b[0m\u001b[0m\n\u001b[0m\u001b[1;32m      5\u001b[0m     \u001b[0mplot\u001b[0m\u001b[0;34m(\u001b[0m\u001b[0mx\u001b[0m\u001b[0;34m*\u001b[0m\u001b[0msin\u001b[0m\u001b[0;34m(\u001b[0m\u001b[0mpi\u001b[0m\u001b[0;34m*\u001b[0m\u001b[0my\u001b[0m\u001b[0;34m)\u001b[0m\u001b[0;34m)\u001b[0m\u001b[0;34m\u001b[0m\u001b[0m\n\u001b[1;32m      6\u001b[0m \u001b[0;34m\u001b[0m\u001b[0m\n",
          "\u001b[0;31mNameError\u001b[0m: name 'linspace' is not defined"
         ]
        }
       ]
      }
     },
     "5275b6409b344e9e94279132a660b825": {
      "model_module": "@jupyter-widgets/controls",
      "model_module_version": "1.1.0",
      "model_name": "HBoxModel",
      "state": {
       "children": [
        "IPY_MODEL_34cc2984009f43c8b6f73f50289cae6b",
        "IPY_MODEL_3ed0b98850cb422c85f58c877a10341f"
       ],
       "layout": "IPY_MODEL_bbe9ba5daa0144229b6a2c86d45a930c"
      }
     },
     "5279e92cccc144ae823abfd227af129b": {
      "model_module": "@jupyter-widgets/base",
      "model_module_version": "1.0.0",
      "model_name": "LayoutModel",
      "state": {}
     },
     "53e7e613b5b04d8f91fac95a4a3401e3": {
      "model_module": "@jupyter-widgets/controls",
      "model_module_version": "1.1.0",
      "model_name": "PlayModel",
      "state": {
       "description": "Press play",
       "layout": "IPY_MODEL_2c926f382b2a453d8fc16c09ffb375f0",
       "style": "IPY_MODEL_0f75f553718646d58113ad834bad3f14"
      }
     },
     "5535e8cce7614db78030f66f65984044": {
      "model_module": "jupyter-leaflet",
      "model_module_version": "~0.8.1",
      "model_name": "LeafletCircleMarkerModel",
      "state": {
       "_model_module_version": "~0.8.1",
       "_view_count": null,
       "_view_module_version": "~0.8.1",
       "color": "red",
       "fill_color": "#ff0000",
       "location": [
        51.5,
        -0.175
       ],
       "options": [
        "class_name",
        "clickable",
        "color",
        "dash_array",
        "fill",
        "fill_color",
        "fill_opacity",
        "line_cap",
        "line_join",
        "opacity",
        "pointer_events",
        "radius",
        "stroke",
        "weight"
       ],
       "radius": 10
      }
     },
     "562f86733d104f599c16580849c8dfa4": {
      "model_module": "@jupyter-widgets/base",
      "model_module_version": "1.0.0",
      "model_name": "LayoutModel",
      "state": {}
     },
     "56307d8cfd6641eba5ea3ff5b24408fd": {
      "model_module": "jupyter-leaflet",
      "model_module_version": "~0.8.1",
      "model_name": "LeafletMapModel",
      "state": {
       "_dom_classes": [],
       "_model_module_version": "~0.8.1",
       "_view_count": null,
       "_view_module_version": "~0.8.1",
       "basemap": {
        "attribution": "Map data (c) <a href=\"https://openstreetmap.org\">OpenStreetMap</a> contributors",
        "max_zoom": 19,
        "url": "https://{s}.tile.openstreetmap.org/{z}/{x}/{y}.png"
       },
       "center": [
        51.501,
        -0.1773
       ],
       "dragging": false,
       "east": -0.16891479492187503,
       "layers": [
        "IPY_MODEL_9c410766a1ba4c78b907a8da8d913dcf",
        "IPY_MODEL_4857c9d4048a449680842aa3dd45747a",
        "IPY_MODEL_81ee458d72454bbdadf1c627af07151d"
       ],
       "layout": "IPY_MODEL_7f945874002347bab7b549353426c3e5",
       "modisdate": "yesterday",
       "north": 51.50366721821857,
       "options": [
        "attribution_control",
        "basemap",
        "bounce_at_zoom_limits",
        "box_zoom",
        "center",
        "close_popup_on_click",
        "double_click_zoom",
        "dragging",
        "inertia",
        "inertia_deceleration",
        "inertia_max_speed",
        "keyboard",
        "keyboard_pan_offset",
        "keyboard_zoom_offset",
        "max_zoom",
        "min_zoom",
        "scroll_wheel_zoom",
        "tap",
        "tap_tolerance",
        "touch_zoom",
        "world_copy_jump",
        "zoom",
        "zoom_animation_threshold",
        "zoom_control",
        "zoom_start"
       ],
       "south": 51.49832424897921,
       "west": -0.18567323684692386,
       "zoom": 16,
       "zoom_control": false
      }
     },
     "56569241a81348bfad2c2ff6aad5c12d": {
      "model_module": "jupyter-leaflet",
      "model_module_version": "~0.8.1",
      "model_name": "LeafletCircleMarkerModel",
      "state": {
       "_model_module_version": "~0.8.1",
       "_view_count": null,
       "_view_module_version": "~0.8.1",
       "color": "red",
       "fill_color": "red",
       "fill_opacity": 0.6,
       "location": [
        51.501,
        -0.1773
       ],
       "options": [
        "class_name",
        "clickable",
        "color",
        "dash_array",
        "fill",
        "fill_color",
        "fill_opacity",
        "line_cap",
        "line_join",
        "opacity",
        "pointer_events",
        "radius",
        "stroke",
        "weight"
       ],
       "radius": 10
      }
     },
     "56a7430195db49e290f4874f962422e2": {
      "model_module": "@jupyter-widgets/base",
      "model_module_version": "1.0.0",
      "model_name": "LayoutModel",
      "state": {
       "height": "350px"
      }
     },
     "56dd6da1106e4bc0ad68911aefe8d0aa": {
      "model_module": "@jupyter-widgets/base",
      "model_module_version": "1.0.0",
      "model_name": "LayoutModel",
      "state": {}
     },
     "5756457cc1ba41cdb67f614ea40f7253": {
      "model_module": "@jupyter-widgets/base",
      "model_module_version": "1.0.0",
      "model_name": "LayoutModel",
      "state": {}
     },
     "579e10f2055f4a25ae2896710765d063": {
      "model_module": "@jupyter-widgets/controls",
      "model_module_version": "1.1.0",
      "model_name": "SliderStyleModel",
      "state": {
       "description_width": ""
      }
     },
     "58e0d0bd1acf486b9ab7c4d25149508a": {
      "model_module": "jupyter-leaflet",
      "model_module_version": "~0.8.1",
      "model_name": "LeafletMapModel",
      "state": {
       "_dom_classes": [],
       "_model_module_version": "~0.8.1",
       "_view_count": null,
       "_view_module_version": "~0.8.1",
       "basemap": {
        "attribution": "Map data (c) <a href=\"https://openstreetmap.org\">OpenStreetMap</a> contributors",
        "max_zoom": 19,
        "url": "https://{s}.tile.openstreetmap.org/{z}/{x}/{y}.png"
       },
       "center": [
        51.5,
        -0.174
       ],
       "east": -0.17136633396148684,
       "layers": [
        "IPY_MODEL_b2bb7548b1e54a4e94d7ba58ff143dc1"
       ],
       "layout": "IPY_MODEL_e21f50ba38684fd1b9f3e067caf07489",
       "modisdate": "yesterday",
       "north": 51.500668553858276,
       "options": [
        "attribution_control",
        "basemap",
        "bounce_at_zoom_limits",
        "box_zoom",
        "center",
        "close_popup_on_click",
        "double_click_zoom",
        "dragging",
        "inertia",
        "inertia_deceleration",
        "inertia_max_speed",
        "keyboard",
        "keyboard_pan_offset",
        "keyboard_zoom_offset",
        "max_zoom",
        "min_zoom",
        "scroll_wheel_zoom",
        "tap",
        "tap_tolerance",
        "touch_zoom",
        "world_copy_jump",
        "zoom",
        "zoom_animation_threshold",
        "zoom_control",
        "zoom_start"
       ],
       "south": 51.49933278238175,
       "west": -0.17662882804870608,
       "zoom": 20
      }
     },
     "59106ab872694eb7a0a313290ab6ac67": {
      "model_module": "@jupyter-widgets/base",
      "model_module_version": "1.0.0",
      "model_name": "LayoutModel",
      "state": {}
     },
     "5b9c51e0e6c0443dbb6f184614e5e892": {
      "model_module": "jupyter-leaflet",
      "model_module_version": "~0.8.1",
      "model_name": "LeafletCircleMarkerModel",
      "state": {
       "_model_module_version": "~0.8.1",
       "_view_count": null,
       "_view_module_version": "~0.8.1",
       "color": "red",
       "fill_color": "red",
       "fill_opacity": 0.6,
       "location": [
        51.501,
        -0.1773
       ],
       "options": [
        "class_name",
        "clickable",
        "color",
        "dash_array",
        "fill",
        "fill_color",
        "fill_opacity",
        "line_cap",
        "line_join",
        "opacity",
        "pointer_events",
        "radius",
        "stroke",
        "weight"
       ],
       "radius": 10
      }
     },
     "5c8fa358714f43c9afe0c3d67c6f8d38": {
      "model_module": "@jupyter-widgets/base",
      "model_module_version": "1.0.0",
      "model_name": "LayoutModel",
      "state": {}
     },
     "5c939cb88efa4a53b9c9ece17c86e509": {
      "model_module": "@jupyter-widgets/controls",
      "model_module_version": "1.1.0",
      "model_name": "FloatSliderModel",
      "state": {
       "description": "x",
       "layout": "IPY_MODEL_99afb40f1db14ff4901dc66cfa58dc16",
       "step": 0.1,
       "style": "IPY_MODEL_251f471da45f4edb912c0268e07dcddb",
       "value": 50
      }
     },
     "5ca89860ffcc464d99ee659a119c61eb": {
      "model_module": "@jupyter-widgets/base",
      "model_module_version": "1.0.0",
      "model_name": "LayoutModel",
      "state": {}
     },
     "5cc6869b05af4b388857aed9c5e772a8": {
      "model_module": "@jupyter-widgets/controls",
      "model_module_version": "1.1.0",
      "model_name": "VBoxModel",
      "state": {
       "_dom_classes": [
        "widget-interact"
       ],
       "children": [
        "IPY_MODEL_b019140b01b245b881e723451c0a7983",
        "IPY_MODEL_691d6440b62f42eba99b4e1f554d99a8"
       ],
       "layout": "IPY_MODEL_b82788a01ad54aa0b25010766fe4b526"
      }
     },
     "5d549ff3693f486983b2ab3e00fe0b79": {
      "model_module": "@jupyter-widgets/controls",
      "model_module_version": "1.1.0",
      "model_name": "FloatSliderModel",
      "state": {
       "description": "x",
       "layout": "IPY_MODEL_ee7fc23aa6c44e25befee934f8e06430",
       "step": 0.1,
       "style": "IPY_MODEL_e7655eac19b84714819bc95dee7abd73",
       "value": 50
      }
     },
     "5da081ee73114c6e9d0d05a354200ae4": {
      "model_module": "@jupyter-widgets/controls",
      "model_module_version": "1.1.0",
      "model_name": "SliderStyleModel",
      "state": {
       "description_width": ""
      }
     },
     "5dde797d088c493287249c9ebf8f9c70": {
      "model_module": "@jupyter-widgets/base",
      "model_module_version": "1.0.0",
      "model_name": "LayoutModel",
      "state": {}
     },
     "5e04a10bbac3473e903c195d98f1d3bf": {
      "model_module": "@jupyter-widgets/base",
      "model_module_version": "1.0.0",
      "model_name": "LayoutModel",
      "state": {}
     },
     "5e05a0b05e4346a5a54cc961cb5bfbb9": {
      "model_module": "@jupyter-widgets/base",
      "model_module_version": "1.0.0",
      "model_name": "LayoutModel",
      "state": {}
     },
     "5e0814a56f9f4778a2d5afd5f819a67c": {
      "model_module": "@jupyter-widgets/base",
      "model_module_version": "1.0.0",
      "model_name": "LayoutModel",
      "state": {
       "height": "350px"
      }
     },
     "5e6a4a87304948d18cd8a5eed206ad6d": {
      "model_module": "jupyter-leaflet",
      "model_module_version": "~0.8.1",
      "model_name": "LeafletCircleMarkerModel",
      "state": {
       "_model_module_version": "~0.8.1",
       "_view_count": null,
       "_view_module_version": "~0.8.1",
       "color": "yellow",
       "fill_color": "#ff0000",
       "location": [
        51.5,
        -0.174
       ],
       "options": [
        "class_name",
        "clickable",
        "color",
        "dash_array",
        "fill",
        "fill_color",
        "fill_opacity",
        "line_cap",
        "line_join",
        "opacity",
        "pointer_events",
        "radius",
        "stroke",
        "weight"
       ],
       "radius": 10
      }
     },
     "5ee02bb941974d2082af8a15e5ed9959": {
      "model_module": "@jupyter-widgets/output",
      "model_module_version": "1.0.0",
      "model_name": "OutputModel",
      "state": {
       "layout": "IPY_MODEL_d4c4a274d4a34798a21ed51dfa782583",
       "outputs": [
        {
         "name": "stdout",
         "output_type": "stream",
         "text": "50.0\n"
        },
        {
         "data": {
          "image/png": "iVBORw0KGgoAAAANSUhEUgAAAYEAAAD7CAYAAACMlyg3AAAABHNCSVQICAgIfAhkiAAAAAlwSFlzAAALEgAACxIB0t1+/AAAADl0RVh0U29mdHdhcmUAbWF0cGxvdGxpYiB2ZXJzaW9uIDIuMS4xLCBodHRwOi8vbWF0cGxvdGxpYi5vcmcvAOZPmwAAFM5JREFUeJzt3V1wVPd9xvHnZ8CxjV+EZIgxWLJFDDSQOl4WQ9q8RyRO2sR2KkzHxjPttF3u0jZt7csmaScZmL5cI19KBLtWLhrnKshXTcLKBk0gL8601sYrsB1epAhsDOZFv17sOWi1rLRaac+utP/vZ0bD2f+uOIeD9jw65//srrm7AABhuqnRGwAAaBxCAAACRggAQMAIAQAIWE1CwMxSJbe7zazLzJ6daQwA0FjzDgEz65L0fNHtlCS5+4CkcTNLlRub73oBAPM37xCIDuxjRUO7JI1HyzlJXdOMAQAaLIk5gRZNDYW2acYAAA3GxDAABGxpAn/nuKTWaLlF0mi0XG4MANBASYTAi5LS0XKnpIFoudzYdWaWkZSRpOXLl2/ZuHFjApsGYLG4cm1CYxcua+zCZV2dcC1bcpPalt+sFctv1tKbrNGbtyAdPXr0rLuvrOZ75h0CZtYtKW1m3e7e7+5DZpaOWkPj7j4UPe6GsWLu3iOpR5LS6bQfOXJkvpsGYJGZmHD95I2z6s3m9crrp7RU0q4Nq7R7e7s+s36VlnDwn5GZ5av9nnmHgLv3S+ovGesp87gbxgBAkn5/4bL6j55U32Be+dH31bb8Zu35zDo99Ui77mu9rdGb19SSuBwEABW5u35+Yly92bx+dPwdXb46oa33r9A3d6zXo5vv0YeWLmn0JgaBEABQV+9fvqof/vxt9Wbz+tXb57X85iV6Mr1Wu7d3aOM9dzZ684JDCACoizdOv6u+7Ih+MHRS7166qg0fvkP/8vhmPfHwGt3+IQ5FjcKeB5CYK9cm9ONfnVJv9k1lc2NatsT0lY+t1u7tHUp3rJAZE72NRggAqLl3zl3UwcERHXzthM68+4HWtNyqZx/doCfT9+nu2z/U6M1DEUIAQE3E9c6+bF4Dr5+SS/rs+pV65hMd1DsXMEIAwLzE9c4Dg3m9Ofq+Wql3LiqEAICqxfXOvuyIfnT8bX1wdULpjhX6e+qdiw4hAGDW4npn32Bev3yrUO/cmV6rp7d16A9WU+9cjAgBABW9cfo99WXz1DubEP97AMqK65192bwO50a1bInpy5tX65lPUO9sJoQAgCnieucLr53Q6aje+U9f2qBdW6l3NiNCAMCUeucrvzmtCXd9dv1KfW97hz67gXpnMyMEgICVq3f+zac69fQ26p2hIASAwLi7jp08p97D+Sn1zr/rWq8vf4x6Z2gIASAQ5eqd3VsK795JvTNchADQ5MrWOx/bpMcfXqM7blnW6M1DgxECQBO6cm1Ch359Sr2Hp9Y7d2/v0Nb7qXdiEiEANJHp6p1Ppu/Tyjuod+JGNQ8BM0tJOiopFw0NuPseM9vr7s+ZWYbPGwZqZ2LC9dPhs+o9TL0T1UviTKDV3U26Hgjj0XjGzLol7UlgnUBwxt+PPpw9S70Tc1fzEHD3gaKbne7eHy3vLLkPQJXiemdfNq+Xj1HvxPwlNidgZl2Sig/6qWgyKuXu+5JaL9CMLl6+ph8ee0u92UK98zbqnaiRJCeGdxT/5h8f+M1sh5l1cVYAVPbG6fd0YDCv/qOFeuf6D99OvRM1lWQIpOKFaC5A0aWhUUmdpQ82s4ykjCS1t7cnuFnAwlau3vno5tV6hnonEpBICJhZpyYnhKVCUyhuC62TtL/0e6LGUI8kpdNpT2K7gIXsnXMXdfDVE3rh1RHqnaibJM8ExuIFdx8ys4yZjUkadvehBNcLLBpxvbPw4eyFeudnqHeijhIJAXfPqaQKymsDgElxvfPA4Ih+e/bC9XrnU4+0q72Neifqh1cMA3VSrt65pWOF/vYLD1LvRMMQAkDC4npnX3ZEv3jrnG67eYn+bMta7d7WoY/eS70TjUUIAAmJ650/OHpS56N653ce26QnqHdiASEEgBqK65192bx+NjxZ79y9rV2PPNBKvRMLDiEA1AD1TixWhAAwR9Q70QwIAaBK5eqdf/2pB/T0Ix3UO7HoEALALB07Ma7eknrnN77wEX1582rdsox6JxYnQgCYwcXL1/TysbfVm81T70RTIgSAMobPRB/OTr0TTY4QACLUOxEiQgDBo96JkBECCNLEhOtnw6Pqzb45pd753W0d+txG6p0IByGAoJx7/4peOnrier1zxW3LqHciaIQAgnDsxLj6snn9MKp3ptpb9I1dD1HvRPAIATStcvXOr6fWavf2dm26965Gbx6wIBACaDrDZ97TgeyI+o+e0PlLV/XgqkK98/GH1+hO6p3AFIQAmsKVaxMa+PUp9Q3m9dM3CvXOL226R89s76DeCcyAEMCi9rtzl3Tw1REdpN4JzEkiIWBme939OTPLxJ8tbGbdksYlpdx9XxLrRRjiemdfNq9Dr5/ShLs+/eBKffcJ6p1AtZI6E8hEB/09kmRmKUly9wEz6zSzlLsPJbRuNKm43vn9wRHl4nrnJx/QU9va1dG2vNGbByxKSYXATncfKLq9S9KhaDknqUsSIYBZieudLx9/W5euFOqd/0m9E6iJpEIgFU3ExZd+WiSNFd3fltB60STiemffYF7HTxbqnU88TL0TqLVEQiC+5m9mO8ysazbfY2YZSRlJam9vT2KzsAiUq3d++2ub9ESKeieQhJqHQDQXIHfvlzQqqVOFCeHW6CEt0fgU0QRyjySl02mv9XZh4Sqtdy69yfToZuqdQD0kcSaQi74kaZ2k/ZKOSEpHY52SBsp8HwIT1ztfeG1Ep85/oHvvukX/+MX1enLrfVp1xy2N3jwgCDUPAXcfMrOMmY1JGo5bQGaWji4NjdMMCpd79O6dhwv1zmsThXfv/NfHO/R56p1A3SU1J9AzmzGEg3onsDDximEk6vjJcfUenlrv/I8nH9JXPka9E1gICAHUXGm989Zl1DuBhYoQQM3kzrynPuqdwKJCCGBerl6b0MDrp9SbnVrv3L29Q9uodwILHiGAOaHeCTQHQgCzNlO983MbVmrpkpsavYkAqkQIoKJz719R/9BJHcjmlTt7QS3UO4GmQQhgWsdPTn44+6UrE3qYeifQdAgBTHHx8jW9fPxtHcjmdYx6J9D0CAFIKtQ7DwyO6KUjhXrnR6h3AkEgBAIW1zv7siP6yRtntfQm05eid++k3gmEgRAI0Knzkx/OTr0TCBshEIi43tmXzevHvy7UOz9NvRMIHiHQ5K7XOwfzyp0p1Dv/6pMP6KlH2nX/3dQ7gdARAk2qXL3z33c+pD/5Q+qdACYRAk2kfL1zjZ7e1qHNa6h3ArgRIdAE4npn/9GTOnfxij6y6nZ966sf1de3rKXeCWBGhMAiNV29c/e2Dm3vpN4JYHYSCQEzy0SL69z9uWhsr7s/Z2YZPmpy7uJ65wuvntDvzl/SvXfdon/YsV67HqHeCaB6NQ+B6MPkB9w9Z2YvmVmXuw9IyphZt6Q9tV5ns5uu3vmdxzbp8xtXUe8EMGdJnAl0Rl89knLRsiTtjMIAs0S9E0DSah4CJZd6UpJejJej69Qpd99X6/U2k1+cPKfe7JvUOwEkLrGJYTNLSTrk7kOSFB/4zWxH0SWi4sdnJGUkqb29PanNWrAuXYk+nJ16J4A6SrId1FV04O+WJHfvlzSqyUtE10VnED2SlE6nPcHtWlBK653rVi6n3gmgbhJrBxUFQJcKcwO56O51kvYnsd7FolDvPK2+bJ56J4CGSqodtNfMnpPUqsKE8JCZZcxsTNJwfIkoNKfOX9ILr57QwVdH9Lvzl7Q6rnduvU+r7qTeCaD+kpgYHpC0osx4kK8NcHcdHh5Vb1G981MP3k29E8CCwCuGE3Lu4hX94OhJ9VHvBLCAEQI19ouT59SXzeu/j72lS1cm9PH7qHcCWLgIgRooV+98/ONrtHs79U4ACxshMA+/PXtBB7J5vVRS73witVZ33Uq9E8DCRwhUKa53HhjM63/+L6p3brpHu7dT7wSw+BACs1Su3vnNHev159Q7ASxihMAM4npn32BeP/7VKV2N6p3ffmyTvkC9E0ATIATKiOudBwbzGo7qnX/5x/frqW0deoB6J4AmQggUKVfv/LedD+lPqXcCaFLBh8D1eufgiI6dGKfeCSAowYZAuXrnP3/1o/o69U4AAQkqBKardz69vV2f6Gyj3gkgOEGEwOnzl3SwqN55z53UOwFAauIQcHcdzkUfzk69EwDKaroQKK133nUr9U4AmE7ThMAv3zqn3sPUOwGgGos6BC5duaYfHX9Hvdm8jp0Y1y3LbqLeCQBVWJQh8ObZCzowmNd/HSnUOzupdwLAnNQtBMysW9K4pFT8IfTVuHptQq/8pvDh7HG984ubPqzd2zuodwLAHNUlBMwsJRU+f9jMOs0sNdsPm4/rnS+8NqJ3zlHvBIBaqteZwC5Jh6LlnKQuSTOGwM+Gz95Q7/zW16h3AkAt1SsEWiSNFd1um+nB/3vqXT31/KDuunWZ/uKP7tfT26l3AkASFszEsJllJGUkafnqddQ7AaAO6nVdZVxSa7TcImm09AHu3uPuaXdPb7y3Rd1b1hIAAJCweoXAi5I6o+VOSQN1Wi8AYAZ1CYG4CWRmXZLGZ9sMAgAkq25zAu7eU691AQBmh64lAASMEACAgBECABAwQgAAAkYIAEDACAEACBghAAABIwQAIGCEAAAEjBAAgIARAgAQMEIAAAJGCABAwAgBAAgYIQAAASMEACBghAAABIwQAICAEQIAELBEQsDMMtHX3qKxvfF9SawTAFC9moeAmXVJGog+WL4zui1JGTMblpSr9ToBAHOTxJlAp6T4wJ+LbkvSTndf5+4DCawTADAHS2v9F0ZnALGUpBfjZTOTpJS77yv9vugyUUaS2tvba71ZAIAyEpsYNrOUpEPuPiRJ7r4vOgtoK7pEdJ2797h72t3TK1euTGqzAABF5nQmMM3kbq7kUk9X/Bu/mXVLkrv3SxrV5CUiAEADzSkESi753MDMMkUB0KXC3EA8IbxO0v65rBcAUFtJtYP2mtmwmf1ekqJLQk9GZwTD8SUiAEBjJTExPCBpRZnxGc8eAAD1xyuGASBghAAABIwQAICAEQIAEDBCAAACRggAQMAIAQAIGCEAAAEjBAAgYIQAAASMEACAgBECABAwQgAAAkYIAEDACAEACBghAAABIwQAIGCEAAAELJEQMLO90Z+ZorFuM+sys2eTWCcAoHpJnQlkzGxYUk6SzCwlXf/84fH4NgCgsZIKgZ3uvi466EvSLknj0XJOUldC6wUAVGFpQn9vyswkKeXu+yS1SBorur8tofUCAKqQyJmAu++LzgLazGxWv/WbWcbMjpjZkTNnziSxWQCAEnM6Eyie8C2Sc/cBM+uWJHfvlzQqqVOFS0Gt0eNaovEp3L1HUo8kpdNpn8t2AQCqM6cQiA7Y08lFX5K0TtJ+SUckpaOxTkkDZb4PAFBnNZ8TcPeh6NLOmKRhdx+SJDNLR5eGxuMxAEBjJTIxXO5MocLZAwCgAXjFMAAEjBAAgIARAgAQMEIAAAJGCABAwAgBAAgYIQAAASMEACBghAAABIwQAICAEQIAEDBCAAACRggAQMAIAQAIGCEAAAEjBAAgYIQAAASMEACAgNU8BMwsZWZuZsPR1/5ofG/0Z6bW6wQAzE0SnzHc6u4mFQJB0ng0njGzbkl7ElgnAGAOan4m4O4DRTc73T0XLe9093Ul9wMAGiiJMwFJkpl1SSo+4KfMTJJS7r4vqfUCAGYvyYnhHe4eXwqSu++LzgLaooCYwswyZnbEzI6cOXMmwc0CAMTmdCYwzeRuruRST6ro8d2S5O79kkYldZZ+s7v3SOqRpHQ67XPZLgBAdeYUAtEBe1pm1qnJCWFJykVfkrRO0v65rBcAUFuJzQlIGosX3H0outwzJmnY3YcSXC8AYJYSCYGoEbSnZGzGswcAQP3ximEACBghAAABIwQAIGCEAAAEjBAAgIARAgAQMEIAAAJGCABAwAgBAAgYIQAAASMEACBghAAABIwQAICAEQIAEDBCAAACRggAQMAIAQAIWE1CwMxSJbe7zazLzJ6daQwA0FjzDgEz65L0fNHtlCS5+4CkcTNLlRub73oBAPM37xCIDuxjRUO7JI1HyzlJXdOMAQAaLIk5gRZNDYW2acYAAA3GxDAABGxppQeYWabMcC66DFTOuKTWaLlF0mi0XG6sdD3xuj4ws19W2rZA3C3pbKM3YoFgX0xiX0xiX0zaUO03VAwBd++p8u98UVI6Wu6UFIdFubHS9fRIkpkdcfd06WNCxL6YxL6YxL6YxL6YZGZHqv2eWrSDuiWloz/l7kPReJekcXcfKjc23/UCAOav4plAJe7eL6m/ZOyGs4c5nFEAABK2UCeGCYxJ7ItJ7ItJ7ItJ7ItJVe8Lc/ckNgSYs+jS4riklLvvm+Fxz850P9DMzCw13aX12T6HpAVwJlDp7SRCebuJWeyHTPS1t97bVk+zfXV5NL+0tZ7b1giz+LlIRY/prve21VsVx4pyjcamUvpODSX3VfUODQ0NgUobG8rbTcxiP3RJGojmVTqj282KV5dHZvnzvyeal+ts1ueHNOtjRVxdzzXzvpDKvlNDsaqeQ40+E6i0saEcECr9OzuLxnLR7WZV8dXl0WnwdK9TaSYz/lxEv/0PS5K772vy1t1sjgXxWXJnk++LSqp6h4ZGh0CljQ3l7SZm/He6e09RuyolqeoucJNprfyQplDp53+rpLboklBTXy5V5efIkApnAMOa/jdklNHoEEAVolPcQ03+W850rziXFNRZwGyNFr0Op+nnBaZjZi0q/Ozsl/S8mTXz2XIlMz6HSjU6BCptbFX/mEVstv/OrgDaMC9q8nLX9VeXR09yqXDtO54Iberr4Kr8czGswqURRX8280R5pX2RkfS96PmxU1JwgVj0HCn7HJpOo0Og0hO+qn/MIlZpP8jMMnEANPPE8AyvLn8lur8/mghtVeFg0Mwq/VwMlNz/Wl23rr4qPkdi8eRx/Tat/krfqSESP0eqeoeGhr9OIKpz5VSYzInfO+iou2+Z7v5mNNN+iP4zX1LhWmerpJ1cEgnDLJ8fY9H9TX2WOIt98Wx0f2szHytqreEhAABonEZfDgIANBAhAAABIwQAIGCEAAAEjBAAgIARAgAQMEIAAAJGCABAwP4ffyBwfpQwrEEAAAAASUVORK5CYII=\n",
          "text/plain": "<matplotlib.figure.Figure at 0x1078d6518>"
         },
         "metadata": {},
         "output_type": "display_data"
        }
       ]
      }
     },
     "5ef5a1fa5ffe47d5927d7a6083f5f813": {
      "model_module": "@jupyter-widgets/controls",
      "model_module_version": "1.1.0",
      "model_name": "VBoxModel",
      "state": {
       "_dom_classes": [
        "widget-interact"
       ],
       "children": [
        "IPY_MODEL_b1b0c1aa3edc491791ef997ca964ef94",
        "IPY_MODEL_5206c62588424acfbc43437ca53d175e"
       ],
       "layout": "IPY_MODEL_b96519ec74cf403cb17c527f1b8a326a"
      }
     },
     "5f796eaa1e1644a4ac743279485abb95": {
      "model_module": "@jupyter-widgets/base",
      "model_module_version": "1.0.0",
      "model_name": "LayoutModel",
      "state": {
       "height": "350px"
      }
     },
     "5f9f38e24fcc46d5b71c8bf39bca42d5": {
      "model_module": "@jupyter-widgets/controls",
      "model_module_version": "1.1.0",
      "model_name": "SliderStyleModel",
      "state": {
       "description_width": ""
      }
     },
     "6060deedee584c888e8b05e3c434612b": {
      "model_module": "@jupyter-widgets/base",
      "model_module_version": "1.0.0",
      "model_name": "LayoutModel",
      "state": {}
     },
     "60675e13d59f46e9974f338a10a61a68": {
      "model_module": "@jupyter-widgets/controls",
      "model_module_version": "1.1.0",
      "model_name": "FloatSliderModel",
      "state": {
       "description": "x",
       "layout": "IPY_MODEL_2e70f07e8a524bcc87bd3dd3d29bf2ea",
       "step": 0.1,
       "style": "IPY_MODEL_fd727f37757048dea357c62f1fe72780",
       "value": 50
      }
     },
     "60bc45af207f471387d14e9eb14242a3": {
      "model_module": "@jupyter-widgets/base",
      "model_module_version": "1.0.0",
      "model_name": "LayoutModel",
      "state": {}
     },
     "61bdf240b13c433384a5da81174d02b7": {
      "model_module": "@jupyter-widgets/controls",
      "model_module_version": "1.1.0",
      "model_name": "DescriptionStyleModel",
      "state": {
       "description_width": ""
      }
     },
     "62274a789b9243a78ee524e441001358": {
      "model_module": "@jupyter-widgets/controls",
      "model_module_version": "1.1.0",
      "model_name": "HBoxModel",
      "state": {
       "children": [
        "IPY_MODEL_78ed7bd76e724571b45e423eb385a18b",
        "IPY_MODEL_60675e13d59f46e9974f338a10a61a68"
       ],
       "layout": "IPY_MODEL_2a62308fc9d749c9bc4e556a2ecfeb69"
      }
     },
     "62fbd143a1b74c0aa36c3b950cc5eda3": {
      "model_module": "@jupyter-widgets/base",
      "model_module_version": "1.0.0",
      "model_name": "LayoutModel",
      "state": {
       "height": "350px"
      }
     },
     "63e47c726a6c4e159fe7c00a25c078b6": {
      "model_module": "jupyter-leaflet",
      "model_module_version": "~0.8.1",
      "model_name": "LeafletTileLayerModel",
      "state": {
       "_model_module_version": "~0.8.1",
       "_view_count": null,
       "_view_module_version": "~0.8.1",
       "base": true,
       "max_zoom": 19,
       "min_zoom": 1,
       "options": [
        "attribution",
        "detect_retina",
        "max_zoom",
        "min_zoom",
        "tile_size"
       ]
      }
     },
     "642f2d9bfbb64bd3ba180d91ffbb7d7d": {
      "model_module": "@jupyter-widgets/base",
      "model_module_version": "1.0.0",
      "model_name": "LayoutModel",
      "state": {}
     },
     "6435c66f5d604144877459a738f9b819": {
      "model_module": "@jupyter-widgets/controls",
      "model_module_version": "1.1.0",
      "model_name": "SliderStyleModel",
      "state": {
       "description_width": ""
      }
     },
     "65975e8fcafc4318b6ff9873ee5fd55a": {
      "model_module": "@jupyter-widgets/controls",
      "model_module_version": "1.1.0",
      "model_name": "DescriptionStyleModel",
      "state": {
       "description_width": ""
      }
     },
     "66a76564df0d4bd9963bee7052b93488": {
      "model_module": "@jupyter-widgets/controls",
      "model_module_version": "1.1.0",
      "model_name": "DescriptionStyleModel",
      "state": {
       "description_width": ""
      }
     },
     "66d029b5f12a40e99180156c9446e2d4": {
      "model_module": "@jupyter-widgets/controls",
      "model_module_version": "1.1.0",
      "model_name": "VBoxModel",
      "state": {
       "_dom_classes": [
        "widget-interact"
       ],
       "children": [
        "IPY_MODEL_60675e13d59f46e9974f338a10a61a68",
        "IPY_MODEL_7fadea56124e41fcac690edd6cbde925"
       ],
       "layout": "IPY_MODEL_27ea459a856f473ab89dabde1ec37480"
      }
     },
     "66e4a911007e468cbd692d95428b1253": {
      "model_module": "jupyter-leaflet",
      "model_module_version": "~0.8.1",
      "model_name": "LeafletMapModel",
      "state": {
       "_dom_classes": [],
       "_model_module_version": "~0.8.1",
       "_view_count": null,
       "_view_module_version": "~0.8.1",
       "basemap": {
        "attribution": "Map data (c) <a href=\"https://openstreetmap.org\">OpenStreetMap</a> contributors",
        "max_zoom": 19,
        "url": "https://{s}.tile.openstreetmap.org/{z}/{x}/{y}.png"
       },
       "center": [
        51.50000067301382,
        -0.17499804496765137
       ],
       "dragging": false,
       "east": -180,
       "layers": [
        "IPY_MODEL_2bbf8f66fae24f3cbca891df387b4d93",
        "IPY_MODEL_97037afd4ceb473eb20580e6eedaffe6"
       ],
       "layout": "IPY_MODEL_0cc4e7563ef34373bd4a9eba7eda6235",
       "modisdate": "yesterday",
       "north": -90,
       "options": [
        "attribution_control",
        "basemap",
        "bounce_at_zoom_limits",
        "box_zoom",
        "center",
        "close_popup_on_click",
        "double_click_zoom",
        "dragging",
        "inertia",
        "inertia_deceleration",
        "inertia_max_speed",
        "keyboard",
        "keyboard_pan_offset",
        "keyboard_zoom_offset",
        "max_zoom",
        "min_zoom",
        "scroll_wheel_zoom",
        "tap",
        "tap_tolerance",
        "touch_zoom",
        "world_copy_jump",
        "zoom",
        "zoom_animation_threshold",
        "zoom_control",
        "zoom_start"
       ],
       "south": 90,
       "west": 180,
       "zoom": 20
      }
     },
     "66e694ac923e49aca0f507ed6b134a67": {
      "model_module": "@jupyter-widgets/base",
      "model_module_version": "1.0.0",
      "model_name": "LayoutModel",
      "state": {}
     },
     "671d6cd939a14496aba949b01eb4a167": {
      "model_module": "@jupyter-widgets/controls",
      "model_module_version": "1.1.0",
      "model_name": "FloatSliderModel",
      "state": {
       "description": "x",
       "layout": "IPY_MODEL_f5551aaaddca4f3b995f82a3e96a5f4e",
       "step": 0.1,
       "style": "IPY_MODEL_79eb3f595fb14608aa73284bb8d0081a"
      }
     },
     "682b318bd4154bc8ad1a83d3b6d08577": {
      "model_module": "jupyter-leaflet",
      "model_module_version": "~0.8.1",
      "model_name": "LeafletTileLayerModel",
      "state": {
       "_model_module_version": "~0.8.1",
       "_view_count": null,
       "_view_module_version": "~0.8.1",
       "base": true,
       "max_zoom": 19,
       "min_zoom": 1,
       "options": [
        "attribution",
        "detect_retina",
        "max_zoom",
        "min_zoom",
        "tile_size"
       ]
      }
     },
     "686afa09d4884fc59080192deb71032b": {
      "model_module": "jupyter-leaflet",
      "model_module_version": "~0.8.1",
      "model_name": "LeafletCircleMarkerModel",
      "state": {
       "_model_module_version": "~0.8.1",
       "_view_count": null,
       "_view_module_version": "~0.8.1",
       "color": "yellow",
       "fill_color": "#ff0000",
       "location": [
        51.5,
        -0.174
       ],
       "options": [
        "class_name",
        "clickable",
        "color",
        "dash_array",
        "fill",
        "fill_color",
        "fill_opacity",
        "line_cap",
        "line_join",
        "opacity",
        "pointer_events",
        "radius",
        "stroke",
        "weight"
       ],
       "radius": 10
      }
     },
     "686b431098a84e9d9cdf323de9891cb3": {
      "model_module": "jupyter-leaflet",
      "model_module_version": "~0.8.1",
      "model_name": "LeafletMapModel",
      "state": {
       "_dom_classes": [],
       "_model_module_version": "~0.8.1",
       "_view_count": null,
       "_view_module_version": "~0.8.1",
       "basemap": {
        "attribution": "Map data (c) <a href=\"https://openstreetmap.org\">OpenStreetMap</a> contributors",
        "max_zoom": 19,
        "url": "https://{s}.tile.openstreetmap.org/{z}/{x}/{y}.png"
       },
       "center": [
        51.501,
        -0.1773
       ],
       "dragging": false,
       "east": -0.16676902770996097,
       "layers": [
        "IPY_MODEL_933bc54066634d0ca9116074902a93ec",
        "IPY_MODEL_72ea1d55236f4c098fbabfd88513de88",
        "IPY_MODEL_e32230c6d19646169730c1281009d5db"
       ],
       "layout": "IPY_MODEL_562f86733d104f599c16580849c8dfa4",
       "modisdate": "yesterday",
       "north": 51.50366721821857,
       "options": [
        "attribution_control",
        "basemap",
        "bounce_at_zoom_limits",
        "box_zoom",
        "center",
        "close_popup_on_click",
        "double_click_zoom",
        "dragging",
        "inertia",
        "inertia_deceleration",
        "inertia_max_speed",
        "keyboard",
        "keyboard_pan_offset",
        "keyboard_zoom_offset",
        "max_zoom",
        "min_zoom",
        "scroll_wheel_zoom",
        "tap",
        "tap_tolerance",
        "touch_zoom",
        "world_copy_jump",
        "zoom",
        "zoom_animation_threshold",
        "zoom_control",
        "zoom_start"
       ],
       "south": 51.49832424897921,
       "west": -0.18781900405883792,
       "zoom": 16,
       "zoom_control": false
      }
     },
     "691d6440b62f42eba99b4e1f554d99a8": {
      "model_module": "@jupyter-widgets/output",
      "model_module_version": "1.0.0",
      "model_name": "OutputModel",
      "state": {
       "layout": "IPY_MODEL_feec33f9333c4d66852c384e7ab8ef2f",
       "outputs": [
        {
         "name": "stdout",
         "output_type": "stream",
         "text": "0.0\n"
        },
        {
         "data": {
          "image/png": "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\n",
          "text/plain": "<matplotlib.figure.Figure at 0x107872ef0>"
         },
         "metadata": {},
         "output_type": "display_data"
        }
       ]
      }
     },
     "695248858cf84083abbb2db84dddf94a": {
      "model_module": "@jupyter-widgets/base",
      "model_module_version": "1.0.0",
      "model_name": "LayoutModel",
      "state": {}
     },
     "69ba37070e444fe195036581a55c7a01": {
      "model_module": "@jupyter-widgets/controls",
      "model_module_version": "1.1.0",
      "model_name": "VBoxModel",
      "state": {
       "_dom_classes": [
        "widget-interact"
       ],
       "children": [
        "IPY_MODEL_d0a9038383814630bf8252f6b83823f6",
        "IPY_MODEL_70bd685526524e11b181633f41426b2d"
       ],
       "layout": "IPY_MODEL_a0e4e28ea81c40d7942bbe18b445ce4e"
      }
     },
     "6a7766147172466e96888a18a641f1cf": {
      "model_module": "jupyter-leaflet",
      "model_module_version": "~0.8.1",
      "model_name": "LeafletTileLayerModel",
      "state": {
       "_model_module_version": "~0.8.1",
       "_view_count": null,
       "_view_module_version": "~0.8.1",
       "base": true,
       "max_zoom": 19,
       "min_zoom": 1,
       "options": [
        "attribution",
        "detect_retina",
        "max_zoom",
        "min_zoom",
        "tile_size"
       ]
      }
     },
     "6b531e6456b54a89956cdc2e16bebc52": {
      "model_module": "@jupyter-widgets/base",
      "model_module_version": "1.0.0",
      "model_name": "LayoutModel",
      "state": {}
     },
     "6b994b345d3848aca68d21c1829ee7aa": {
      "model_module": "jupyter-leaflet",
      "model_module_version": "~0.8.1",
      "model_name": "LeafletTileLayerModel",
      "state": {
       "_model_module_version": "~0.8.1",
       "_view_count": null,
       "_view_module_version": "~0.8.1",
       "base": true,
       "max_zoom": 19,
       "min_zoom": 1,
       "options": [
        "attribution",
        "detect_retina",
        "max_zoom",
        "min_zoom",
        "tile_size"
       ]
      }
     },
     "6d7e6382953746d4a7a37dc3c9733d63": {
      "model_module": "jupyter-leaflet",
      "model_module_version": "~0.8.1",
      "model_name": "LeafletCircleMarkerModel",
      "state": {
       "_model_module_version": "~0.8.1",
       "_view_count": null,
       "_view_module_version": "~0.8.1",
       "color": "red",
       "fill_color": "#ff0000",
       "location": [
        51.502,
        -0.177
       ],
       "options": [
        "class_name",
        "clickable",
        "color",
        "dash_array",
        "fill",
        "fill_color",
        "fill_opacity",
        "line_cap",
        "line_join",
        "opacity",
        "pointer_events",
        "radius",
        "stroke",
        "weight"
       ],
       "radius": 10
      }
     },
     "6e27e999528949d3a6cf5e19b918d2dd": {
      "model_module": "@jupyter-widgets/controls",
      "model_module_version": "1.1.0",
      "model_name": "HBoxModel",
      "state": {
       "children": [
        "IPY_MODEL_498d2184ed454e90a520fb3e4c58fe4d",
        "IPY_MODEL_c2637f2db5a74ada81f3b351755b15c6"
       ],
       "layout": "IPY_MODEL_70e0b81a2df648b98b45d7521a1f8bf0"
      }
     },
     "6e812c10a4dc49cbb1a67f8e74b06228": {
      "model_module": "@jupyter-widgets/base",
      "model_module_version": "1.0.0",
      "model_name": "LayoutModel",
      "state": {}
     },
     "6e91eec81e1c4d3dbfab07c1366b8659": {
      "model_module": "@jupyter-widgets/output",
      "model_module_version": "1.0.0",
      "model_name": "OutputModel",
      "state": {
       "layout": "IPY_MODEL_8221c7b2e90049b1b164acd804a39dfa"
      }
     },
     "6f5de116c412496e873b97d6e37356c3": {
      "model_module": "@jupyter-widgets/controls",
      "model_module_version": "1.1.0",
      "model_name": "HBoxModel",
      "state": {
       "children": [
        "IPY_MODEL_02f1af6b433046c197e76e24af431aad",
        "IPY_MODEL_b019140b01b245b881e723451c0a7983"
       ],
       "layout": "IPY_MODEL_5e04a10bbac3473e903c195d98f1d3bf"
      }
     },
     "6f6c6773df48414885c1ded2f84eb9d9": {
      "model_module": "jupyter-leaflet",
      "model_module_version": "~0.8.1",
      "model_name": "LeafletTileLayerModel",
      "state": {
       "_model_module_version": "~0.8.1",
       "_view_count": null,
       "_view_module_version": "~0.8.1",
       "base": true,
       "max_zoom": 19,
       "min_zoom": 1,
       "options": [
        "attribution",
        "detect_retina",
        "max_zoom",
        "min_zoom",
        "tile_size"
       ]
      }
     },
     "6ff8d796ab9142c8abb16ffe544b05d0": {
      "model_module": "jupyter-leaflet",
      "model_module_version": "~0.8.1",
      "model_name": "LeafletMapModel",
      "state": {
       "_dom_classes": [],
       "_model_module_version": "~0.8.1",
       "_view_count": null,
       "_view_module_version": "~0.8.1",
       "basemap": {
        "attribution": "Map data (c) <a href=\"https://openstreetmap.org\">OpenStreetMap</a> contributors",
        "max_zoom": 19,
        "url": "https://{s}.tile.openstreetmap.org/{z}/{x}/{y}.png"
       },
       "center": [
        52,
        0
       ],
       "east": 5.394287109375,
       "layers": [
        "IPY_MODEL_9163363f03c74dd28d74a1e092e62ea2"
       ],
       "layout": "IPY_MODEL_56dd6da1106e4bc0ad68911aefe8d0aa",
       "modisdate": "yesterday",
       "north": 53.330872983017066,
       "options": [
        "attribution_control",
        "basemap",
        "bounce_at_zoom_limits",
        "box_zoom",
        "center",
        "close_popup_on_click",
        "double_click_zoom",
        "dragging",
        "inertia",
        "inertia_deceleration",
        "inertia_max_speed",
        "keyboard",
        "keyboard_pan_offset",
        "keyboard_zoom_offset",
        "max_zoom",
        "min_zoom",
        "scroll_wheel_zoom",
        "tap",
        "tap_tolerance",
        "touch_zoom",
        "world_copy_jump",
        "zoom",
        "zoom_animation_threshold",
        "zoom_control",
        "zoom_start"
       ],
       "south": 50.62507306341437,
       "west": -5.383300781250001,
       "zoom": 7
      }
     },
     "706ed27864044637823ed1eb62d1e2ed": {
      "model_module": "jupyter-leaflet",
      "model_module_version": "~0.8.1",
      "model_name": "LeafletMapModel",
      "state": {
       "_dom_classes": [],
       "_model_module_version": "~0.8.1",
       "_view_count": null,
       "_view_module_version": "~0.8.1",
       "basemap": {
        "attribution": "Map data (c) <a href=\"https://openstreetmap.org\">OpenStreetMap</a> contributors",
        "max_zoom": 19,
        "url": "https://{s}.tile.openstreetmap.org/{z}/{x}/{y}.png"
       },
       "center": [
        51.6,
        0
       ],
       "east": 0.674285888671875,
       "layers": [
        "IPY_MODEL_d52506b60dec4f878876ea99cd9c7c11"
       ],
       "layout": "IPY_MODEL_bc23cddae1e54d0da07f0633d7774648",
       "modisdate": "yesterday",
       "north": 51.770389396279654,
       "options": [
        "attribution_control",
        "basemap",
        "bounce_at_zoom_limits",
        "box_zoom",
        "center",
        "close_popup_on_click",
        "double_click_zoom",
        "dragging",
        "inertia",
        "inertia_deceleration",
        "inertia_max_speed",
        "keyboard",
        "keyboard_pan_offset",
        "keyboard_zoom_offset",
        "max_zoom",
        "min_zoom",
        "scroll_wheel_zoom",
        "tap",
        "tap_tolerance",
        "touch_zoom",
        "world_copy_jump",
        "zoom",
        "zoom_animation_threshold",
        "zoom_control",
        "zoom_start"
       ],
       "south": 51.4291832337135,
       "west": -0.6729125976562501,
       "zoom": 10
      }
     },
     "70bd685526524e11b181633f41426b2d": {
      "model_module": "@jupyter-widgets/output",
      "model_module_version": "1.0.0",
      "model_name": "OutputModel",
      "state": {
       "layout": "IPY_MODEL_5f796eaa1e1644a4ac743279485abb95",
       "outputs": [
        {
         "name": "stdout",
         "output_type": "stream",
         "text": "0.0\n"
        },
        {
         "data": {
          "image/png": "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\n",
          "text/plain": "<matplotlib.figure.Figure at 0x10805ceb8>"
         },
         "metadata": {},
         "output_type": "display_data"
        }
       ]
      }
     },
     "70e0b81a2df648b98b45d7521a1f8bf0": {
      "model_module": "@jupyter-widgets/base",
      "model_module_version": "1.0.0",
      "model_name": "LayoutModel",
      "state": {}
     },
     "72158223213448cf88283e2b78ac8cb6": {
      "model_module": "jupyter-leaflet",
      "model_module_version": "~0.8.1",
      "model_name": "LeafletMapModel",
      "state": {
       "_dom_classes": [],
       "_model_module_version": "~0.8.1",
       "_view_count": null,
       "_view_module_version": "~0.8.1",
       "basemap": {
        "attribution": "Map data (c) <a href=\"https://openstreetmap.org\">OpenStreetMap</a> contributors",
        "max_zoom": 19,
        "url": "https://{s}.tile.openstreetmap.org/{z}/{x}/{y}.png"
       },
       "center": [
        51.501,
        -0.1773
       ],
       "dragging": false,
       "east": -0.16891479492187503,
       "layers": [
        "IPY_MODEL_dbfeb9ba0ba7400c922caf64444d88fb",
        "IPY_MODEL_7eeddb99d1254692981bb0a5062ef25d",
        "IPY_MODEL_0446f4c7f78148f798ce16e89f626c06"
       ],
       "layout": "IPY_MODEL_29056710e0e146c997c69376bd0bd84c",
       "modisdate": "yesterday",
       "north": 51.50366721821857,
       "options": [
        "attribution_control",
        "basemap",
        "bounce_at_zoom_limits",
        "box_zoom",
        "center",
        "close_popup_on_click",
        "double_click_zoom",
        "dragging",
        "inertia",
        "inertia_deceleration",
        "inertia_max_speed",
        "keyboard",
        "keyboard_pan_offset",
        "keyboard_zoom_offset",
        "max_zoom",
        "min_zoom",
        "scroll_wheel_zoom",
        "tap",
        "tap_tolerance",
        "touch_zoom",
        "world_copy_jump",
        "zoom",
        "zoom_animation_threshold",
        "zoom_control",
        "zoom_start"
       ],
       "south": 51.49832424897921,
       "west": -0.18567323684692386,
       "zoom": 16,
       "zoom_control": false
      }
     },
     "725f7912965a4af888af797b24077d25": {
      "model_module": "@jupyter-widgets/base",
      "model_module_version": "1.0.0",
      "model_name": "LayoutModel",
      "state": {}
     },
     "729979fc93fc48ecb8bb1c8bca7573ee": {
      "model_module": "@jupyter-widgets/base",
      "model_module_version": "1.0.0",
      "model_name": "LayoutModel",
      "state": {}
     },
     "72ea1d55236f4c098fbabfd88513de88": {
      "model_module": "jupyter-leaflet",
      "model_module_version": "~0.8.1",
      "model_name": "LeafletCircleMarkerModel",
      "state": {
       "_model_module_version": "~0.8.1",
       "_view_count": null,
       "_view_module_version": "~0.8.1",
       "color": "red",
       "fill_color": "red",
       "fill_opacity": 0.6,
       "location": [
        51.501,
        -0.1773
       ],
       "options": [
        "class_name",
        "clickable",
        "color",
        "dash_array",
        "fill",
        "fill_color",
        "fill_opacity",
        "line_cap",
        "line_join",
        "opacity",
        "pointer_events",
        "radius",
        "stroke",
        "weight"
       ],
       "radius": 10
      }
     },
     "73153f5a5b034e1ebe543a02aa16ac4d": {
      "model_module": "@jupyter-widgets/controls",
      "model_module_version": "1.1.0",
      "model_name": "VBoxModel",
      "state": {
       "_dom_classes": [
        "widget-interact"
       ],
       "children": [
        "IPY_MODEL_671d6cd939a14496aba949b01eb4a167",
        "IPY_MODEL_a30bb8a5cd164a00ac0749240a783aa6"
       ],
       "layout": "IPY_MODEL_1215966d30a64a35a69def43680b849a"
      }
     },
     "759706a151ab48ddbd10eab1751d80c1": {
      "model_module": "@jupyter-widgets/base",
      "model_module_version": "1.0.0",
      "model_name": "LayoutModel",
      "state": {}
     },
     "775972a5ef804e6988148685aec70530": {
      "model_module": "@jupyter-widgets/controls",
      "model_module_version": "1.1.0",
      "model_name": "LinkModel",
      "state": {
       "source": [
        "IPY_MODEL_48885385d4174614bd195a295d90c6da",
        "value"
       ],
       "target": [
        "IPY_MODEL_5d549ff3693f486983b2ab3e00fe0b79",
        "value"
       ]
      }
     },
     "77bbd06ce3064b79939bde25cabcaadd": {
      "model_module": "@jupyter-widgets/base",
      "model_module_version": "1.0.0",
      "model_name": "LayoutModel",
      "state": {}
     },
     "781fcaed0e384b3a8e210ba1129e7457": {
      "model_module": "jupyter-leaflet",
      "model_module_version": "~0.8.1",
      "model_name": "LeafletTileLayerModel",
      "state": {
       "_model_module_version": "~0.8.1",
       "_view_count": null,
       "_view_module_version": "~0.8.1",
       "base": true,
       "max_zoom": 19,
       "min_zoom": 1,
       "options": [
        "attribution",
        "detect_retina",
        "max_zoom",
        "min_zoom",
        "tile_size"
       ]
      }
     },
     "78400f5c5d784b2881251ab9795edf29": {
      "model_module": "jupyter-leaflet",
      "model_module_version": "~0.8.1",
      "model_name": "LeafletMapModel",
      "state": {
       "_dom_classes": [],
       "_model_module_version": "~0.8.1",
       "_view_count": null,
       "_view_module_version": "~0.8.1",
       "basemap": {
        "attribution": "Map data (c) <a href=\"https://openstreetmap.org\">OpenStreetMap</a> contributors",
        "max_zoom": 19,
        "url": "https://{s}.tile.openstreetmap.org/{z}/{x}/{y}.png"
       },
       "center": [
        51.50002404900868,
        -0.1758188009262085
       ],
       "east": -180,
       "layers": [
        "IPY_MODEL_90ae4d72d98746b3af55f5a8acb071bd",
        "IPY_MODEL_ccd6ef72d04a489ca540b1b073d40f4d"
       ],
       "layout": "IPY_MODEL_cab84577909b4b9ba67ec21005e5e260",
       "modisdate": "yesterday",
       "north": -90,
       "options": [
        "attribution_control",
        "basemap",
        "bounce_at_zoom_limits",
        "box_zoom",
        "center",
        "close_popup_on_click",
        "double_click_zoom",
        "dragging",
        "inertia",
        "inertia_deceleration",
        "inertia_max_speed",
        "keyboard",
        "keyboard_pan_offset",
        "keyboard_zoom_offset",
        "max_zoom",
        "min_zoom",
        "scroll_wheel_zoom",
        "tap",
        "tap_tolerance",
        "touch_zoom",
        "world_copy_jump",
        "zoom",
        "zoom_animation_threshold",
        "zoom_control",
        "zoom_start"
       ],
       "south": 90,
       "west": 180,
       "zoom": 18
      }
     },
     "78ed7bd76e724571b45e423eb385a18b": {
      "model_module": "@jupyter-widgets/controls",
      "model_module_version": "1.1.0",
      "model_name": "PlayModel",
      "state": {
       "description": "Press play",
       "layout": "IPY_MODEL_6060deedee584c888e8b05e3c434612b",
       "style": "IPY_MODEL_aac745319a3740f59cbe69e828fa23e2",
       "value": 50
      }
     },
     "7981756421b141f3bd1ebb204331df8f": {
      "model_module": "@jupyter-widgets/controls",
      "model_module_version": "1.1.0",
      "model_name": "VBoxModel",
      "state": {
       "_dom_classes": [
        "widget-interact"
       ],
       "children": [
        "IPY_MODEL_5d549ff3693f486983b2ab3e00fe0b79",
        "IPY_MODEL_cdbcfe6239d948c090677c0bcbdd1c20"
       ],
       "layout": "IPY_MODEL_f246bb30582649088a6771a26a5890ce"
      }
     },
     "79a2368059bd4a6883fac01cd87d5c34": {
      "model_module": "@jupyter-widgets/controls",
      "model_module_version": "1.1.0",
      "model_name": "FloatSliderModel",
      "state": {
       "description": "lat",
       "layout": "IPY_MODEL_a43f4814500348f5903f6269e94a3d93",
       "max": 51.505,
       "min": 51.497,
       "readout_format": ".4f",
       "step": 0.0001,
       "style": "IPY_MODEL_579e10f2055f4a25ae2896710765d063",
       "value": 51.501
      }
     },
     "79dc5fe378fb460795638bda0fd1e2b5": {
      "model_module": "@jupyter-widgets/base",
      "model_module_version": "1.0.0",
      "model_name": "LayoutModel",
      "state": {}
     },
     "79ea02170d4c401599bbf4a4f258cbd9": {
      "model_module": "@jupyter-widgets/base",
      "model_module_version": "1.0.0",
      "model_name": "LayoutModel",
      "state": {}
     },
     "79eb3f595fb14608aa73284bb8d0081a": {
      "model_module": "@jupyter-widgets/controls",
      "model_module_version": "1.1.0",
      "model_name": "SliderStyleModel",
      "state": {
       "description_width": ""
      }
     },
     "7a1969959aca4b0b87e7d51b325850ba": {
      "model_module": "jupyter-leaflet",
      "model_module_version": "~0.8.1",
      "model_name": "LeafletCircleMarkerModel",
      "state": {
       "_model_module_version": "~0.8.1",
       "_view_count": null,
       "_view_module_version": "~0.8.1",
       "color": "yellow",
       "fill_color": "#ff0000",
       "location": [
        51.5,
        -0.174
       ],
       "options": [
        "class_name",
        "clickable",
        "color",
        "dash_array",
        "fill",
        "fill_color",
        "fill_opacity",
        "line_cap",
        "line_join",
        "opacity",
        "pointer_events",
        "radius",
        "stroke",
        "weight"
       ],
       "radius": 10
      }
     },
     "7a580e34273c4fd7b61678251063fb00": {
      "model_module": "@jupyter-widgets/controls",
      "model_module_version": "1.1.0",
      "model_name": "SliderStyleModel",
      "state": {
       "description_width": ""
      }
     },
     "7aaec3037ab5478db9885d2f071803db": {
      "model_module": "@jupyter-widgets/base",
      "model_module_version": "1.0.0",
      "model_name": "LayoutModel",
      "state": {}
     },
     "7d5311cbf2784e688e67d5eeabf0ca66": {
      "model_module": "jupyter-leaflet",
      "model_module_version": "~0.8.1",
      "model_name": "LeafletMapModel",
      "state": {
       "_dom_classes": [],
       "_model_module_version": "~0.8.1",
       "_view_count": null,
       "_view_module_version": "~0.8.1",
       "basemap": {
        "attribution": "Map data (c) <a href=\"https://openstreetmap.org\">OpenStreetMap</a> contributors",
        "max_zoom": 19,
        "url": "https://{s}.tile.openstreetmap.org/{z}/{x}/{y}.png"
       },
       "center": [
        51.5,
        -0.175
       ],
       "layers": [
        "IPY_MODEL_fabbbb276a484441a308a6d84a352f19",
        "IPY_MODEL_cc6561c3aca940cbafce0e54bd735745"
       ],
       "layout": "IPY_MODEL_d4a244bfc91942568bd7f1270e525a32",
       "modisdate": "yesterday",
       "options": [
        "attribution_control",
        "basemap",
        "bounce_at_zoom_limits",
        "box_zoom",
        "center",
        "close_popup_on_click",
        "double_click_zoom",
        "dragging",
        "inertia",
        "inertia_deceleration",
        "inertia_max_speed",
        "keyboard",
        "keyboard_pan_offset",
        "keyboard_zoom_offset",
        "max_zoom",
        "min_zoom",
        "scroll_wheel_zoom",
        "tap",
        "tap_tolerance",
        "touch_zoom",
        "world_copy_jump",
        "zoom",
        "zoom_animation_threshold",
        "zoom_control",
        "zoom_start"
       ],
       "zoom": 20
      }
     },
     "7da68b86a2e440099d1bbc2af9de64c0": {
      "model_module": "@jupyter-widgets/base",
      "model_module_version": "1.0.0",
      "model_name": "LayoutModel",
      "state": {
       "height": "315px"
      }
     },
     "7dc61851d7954f90b51039c7e171a4cd": {
      "model_module": "@jupyter-widgets/controls",
      "model_module_version": "1.1.0",
      "model_name": "FloatSliderModel",
      "state": {
       "description": "x",
       "layout": "IPY_MODEL_cac2f9588239421096acd63d7be54214",
       "step": 0.1,
       "style": "IPY_MODEL_478c62fcea804f2fa35050b978e53b5b"
      }
     },
     "7ed540fcc1154f9ebaf3ad6e26b1965d": {
      "model_module": "@jupyter-widgets/output",
      "model_module_version": "1.0.0",
      "model_name": "OutputModel",
      "state": {
       "layout": "IPY_MODEL_039651ee493742a0b24da254206b186a",
       "outputs": [
        {
         "name": "stdout",
         "output_type": "stream",
         "text": "0.0\n"
        }
       ]
      }
     },
     "7ee7ac94eeff4bbabae5fa9b374595f3": {
      "model_module": "@jupyter-widgets/base",
      "model_module_version": "1.0.0",
      "model_name": "LayoutModel",
      "state": {}
     },
     "7eeddb99d1254692981bb0a5062ef25d": {
      "model_module": "jupyter-leaflet",
      "model_module_version": "~0.8.1",
      "model_name": "LeafletCircleMarkerModel",
      "state": {
       "_model_module_version": "~0.8.1",
       "_view_count": null,
       "_view_module_version": "~0.8.1",
       "color": "red",
       "fill_color": "red",
       "location": [
        51.501,
        -0.1773
       ],
       "options": [
        "class_name",
        "clickable",
        "color",
        "dash_array",
        "fill",
        "fill_color",
        "fill_opacity",
        "line_cap",
        "line_join",
        "opacity",
        "pointer_events",
        "radius",
        "stroke",
        "weight"
       ],
       "radius": 10
      }
     },
     "7f3006e1785045998b7ea62fec552c64": {
      "model_module": "jupyter-leaflet",
      "model_module_version": "~0.8.1",
      "model_name": "LeafletCircleMarkerModel",
      "state": {
       "_model_module_version": "~0.8.1",
       "_view_count": null,
       "_view_module_version": "~0.8.1",
       "color": "red",
       "fill_color": "#ff0000",
       "location": [
        51.501,
        -0.177
       ],
       "options": [
        "class_name",
        "clickable",
        "color",
        "dash_array",
        "fill",
        "fill_color",
        "fill_opacity",
        "line_cap",
        "line_join",
        "opacity",
        "pointer_events",
        "radius",
        "stroke",
        "weight"
       ],
       "radius": 10
      }
     },
     "7f8c001b59e447bb984cacebae0e71fe": {
      "model_module": "@jupyter-widgets/base",
      "model_module_version": "1.0.0",
      "model_name": "LayoutModel",
      "state": {}
     },
     "7f945874002347bab7b549353426c3e5": {
      "model_module": "@jupyter-widgets/base",
      "model_module_version": "1.0.0",
      "model_name": "LayoutModel",
      "state": {}
     },
     "7f9eb1bf24a343f5b8fc26f80162f385": {
      "model_module": "jupyter-leaflet",
      "model_module_version": "~0.8.1",
      "model_name": "LeafletTileLayerModel",
      "state": {
       "_model_module_version": "~0.8.1",
       "_view_count": null,
       "_view_module_version": "~0.8.1",
       "base": true,
       "max_zoom": 19,
       "min_zoom": 1,
       "options": [
        "attribution",
        "detect_retina",
        "max_zoom",
        "min_zoom",
        "tile_size"
       ]
      }
     },
     "7fadea56124e41fcac690edd6cbde925": {
      "model_module": "@jupyter-widgets/output",
      "model_module_version": "1.0.0",
      "model_name": "OutputModel",
      "state": {
       "layout": "IPY_MODEL_ad859423ec0344f183d5f3d0926d4bf7",
       "outputs": [
        {
         "name": "stdout",
         "output_type": "stream",
         "text": "50.0\n"
        },
        {
         "data": {
          "image/png": "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\n",
          "text/plain": "<matplotlib.figure.Figure at 0x107dea828>"
         },
         "metadata": {},
         "output_type": "display_data"
        }
       ]
      }
     },
     "7fb8eefb9628471aa7a2d8a920f08b6f": {
      "model_module": "@jupyter-widgets/controls",
      "model_module_version": "1.1.0",
      "model_name": "VBoxModel",
      "state": {
       "_dom_classes": [
        "widget-interact"
       ],
       "children": [
        "IPY_MODEL_aa549fac0cf649aa81cc164d4a28e273",
        "IPY_MODEL_aecb752cf37747c8bcc0606c944ea060"
       ],
       "layout": "IPY_MODEL_2983e008713a435f993b07408aa34d47"
      }
     },
     "80b332eb2a774df78776412f3361ce98": {
      "model_module": "@jupyter-widgets/controls",
      "model_module_version": "1.1.0",
      "model_name": "LinkModel",
      "state": {
       "source": [
        "IPY_MODEL_53e7e613b5b04d8f91fac95a4a3401e3",
        "value"
       ],
       "target": [
        "IPY_MODEL_eed5ef93049b4545a2f325d47025eef6",
        "value"
       ]
      }
     },
     "80da6e59bce043d2b43bb94203d57649": {
      "model_module": "@jupyter-widgets/base",
      "model_module_version": "1.0.0",
      "model_name": "LayoutModel",
      "state": {}
     },
     "80f29f3c20464a859702d5b7c4c30e8b": {
      "model_module": "@jupyter-widgets/base",
      "model_module_version": "1.0.0",
      "model_name": "LayoutModel",
      "state": {}
     },
     "81e33b1576e441c896b1cdabab68a0b0": {
      "model_module": "jupyter-leaflet",
      "model_module_version": "~0.8.1",
      "model_name": "LeafletTileLayerModel",
      "state": {
       "_model_module_version": "~0.8.1",
       "_view_count": null,
       "_view_module_version": "~0.8.1",
       "base": true,
       "max_zoom": 19,
       "min_zoom": 1,
       "options": [
        "attribution",
        "detect_retina",
        "max_zoom",
        "min_zoom",
        "tile_size"
       ]
      }
     },
     "81ee458d72454bbdadf1c627af07151d": {
      "model_module": "jupyter-leaflet",
      "model_module_version": "~0.8.1",
      "model_name": "LeafletCircleMarkerModel",
      "state": {
       "_model_module_version": "~0.8.1",
       "_view_count": null,
       "_view_module_version": "~0.8.1",
       "color": "yellow",
       "fill_color": "#ff0000",
       "location": [
        51.5,
        -0.174
       ],
       "options": [
        "class_name",
        "clickable",
        "color",
        "dash_array",
        "fill",
        "fill_color",
        "fill_opacity",
        "line_cap",
        "line_join",
        "opacity",
        "pointer_events",
        "radius",
        "stroke",
        "weight"
       ],
       "radius": 10
      }
     },
     "8221c7b2e90049b1b164acd804a39dfa": {
      "model_module": "@jupyter-widgets/base",
      "model_module_version": "1.0.0",
      "model_name": "LayoutModel",
      "state": {}
     },
     "82601125abb440cc8fca5035d0d4d188": {
      "model_module": "@jupyter-widgets/base",
      "model_module_version": "1.0.0",
      "model_name": "LayoutModel",
      "state": {}
     },
     "82b9e0ca5ecf4e679f5e8c5cf7890a10": {
      "model_module": "@jupyter-widgets/controls",
      "model_module_version": "1.1.0",
      "model_name": "PlayModel",
      "state": {
       "description": "Press play",
       "layout": "IPY_MODEL_66e694ac923e49aca0f507ed6b134a67",
       "style": "IPY_MODEL_fad2618138aa459893da3f1c360b6889",
       "value": 50
      }
     },
     "84f2713fbe5448fbab4b94b4d3ce304f": {
      "model_module": "@jupyter-widgets/controls",
      "model_module_version": "1.1.0",
      "model_name": "DescriptionStyleModel",
      "state": {
       "description_width": ""
      }
     },
     "856d4114724d42e18a9d534e0fca9cd3": {
      "model_module": "jupyter-leaflet",
      "model_module_version": "~0.8.1",
      "model_name": "LeafletMapModel",
      "state": {
       "_dom_classes": [],
       "_model_module_version": "~0.8.1",
       "_view_count": null,
       "_view_module_version": "~0.8.1",
       "basemap": {
        "attribution": "Map data (c) <a href=\"https://openstreetmap.org\">OpenStreetMap</a> contributors",
        "max_zoom": 19,
        "url": "https://{s}.tile.openstreetmap.org/{z}/{x}/{y}.png"
       },
       "center": [
        51,
        0
       ],
       "east": 0.674285888671875,
       "layers": [
        "IPY_MODEL_e95d04072998446c8995de8104c19e33"
       ],
       "layout": "IPY_MODEL_ece12c74fd7e41799d46c465f47d3e69",
       "modisdate": "yesterday",
       "north": 51.172455303299,
       "options": [
        "attribution_control",
        "basemap",
        "bounce_at_zoom_limits",
        "box_zoom",
        "center",
        "close_popup_on_click",
        "double_click_zoom",
        "dragging",
        "inertia",
        "inertia_deceleration",
        "inertia_max_speed",
        "keyboard",
        "keyboard_pan_offset",
        "keyboard_zoom_offset",
        "max_zoom",
        "min_zoom",
        "scroll_wheel_zoom",
        "tap",
        "tap_tolerance",
        "touch_zoom",
        "world_copy_jump",
        "zoom",
        "zoom_animation_threshold",
        "zoom_control",
        "zoom_start"
       ],
       "south": 50.826758482363275,
       "west": -0.6729125976562501,
       "zoom": 10
      }
     },
     "85c0522ab7d0485b9d9549dd423a0933": {
      "model_module": "@jupyter-widgets/controls",
      "model_module_version": "1.1.0",
      "model_name": "HBoxModel",
      "state": {
       "children": [
        "IPY_MODEL_9caea6ce30014c76a801b7d25f976cea",
        "IPY_MODEL_188351dde5ca4ceaba22be5be2e1b179"
       ],
       "layout": "IPY_MODEL_ede26354c7c34747b17f0d04ee0dafcc"
      }
     },
     "85c571dcdfbd4f99a9ef425abd467d41": {
      "model_module": "@jupyter-widgets/controls",
      "model_module_version": "1.1.0",
      "model_name": "VBoxModel",
      "state": {
       "_dom_classes": [
        "widget-interact"
       ],
       "children": [
        "IPY_MODEL_0d11ca0bc99440bfb546611a2e559ac1",
        "IPY_MODEL_e2e2b0b3e8604d2a9890ac780b92f5c7",
        "IPY_MODEL_6e91eec81e1c4d3dbfab07c1366b8659"
       ],
       "layout": "IPY_MODEL_26d78a4cef9747b1a169be6daa8009a0"
      }
     },
     "86325691e4bc4e5c89179464edb874d7": {
      "model_module": "@jupyter-widgets/base",
      "model_module_version": "1.0.0",
      "model_name": "LayoutModel",
      "state": {}
     },
     "866a2d6265aa445ca5b8020e107d9257": {
      "model_module": "@jupyter-widgets/controls",
      "model_module_version": "1.1.0",
      "model_name": "LinkModel",
      "state": {
       "source": [
        "IPY_MODEL_9caea6ce30014c76a801b7d25f976cea",
        "value"
       ],
       "target": [
        "IPY_MODEL_188351dde5ca4ceaba22be5be2e1b179",
        "value"
       ]
      }
     },
     "867396dd6d9a4627870fd8c6efd20ac7": {
      "model_module": "@jupyter-widgets/controls",
      "model_module_version": "1.1.0",
      "model_name": "DescriptionStyleModel",
      "state": {
       "description_width": ""
      }
     },
     "86c85912b2624e65a01ea24348368b4f": {
      "model_module": "jupyter-leaflet",
      "model_module_version": "~0.8.1",
      "model_name": "LeafletCircleMarkerModel",
      "state": {
       "_model_module_version": "~0.8.1",
       "_view_count": null,
       "_view_module_version": "~0.8.1",
       "color": "red",
       "fill_color": "#ff0000",
       "location": [
        51.5,
        -0.177
       ],
       "options": [
        "class_name",
        "clickable",
        "color",
        "dash_array",
        "fill",
        "fill_color",
        "fill_opacity",
        "line_cap",
        "line_join",
        "opacity",
        "pointer_events",
        "radius",
        "stroke",
        "weight"
       ],
       "radius": 10
      }
     },
     "87438e8b7f684c76a281760a74ca8e33": {
      "model_module": "@jupyter-widgets/base",
      "model_module_version": "1.0.0",
      "model_name": "LayoutModel",
      "state": {}
     },
     "89ef5f5dbdb74077843a69045332d321": {
      "model_module": "jupyter-leaflet",
      "model_module_version": "~0.8.1",
      "model_name": "LeafletCircleMarkerModel",
      "state": {
       "_model_module_version": "~0.8.1",
       "_view_count": null,
       "_view_module_version": "~0.8.1",
       "color": "red",
       "fill_color": "#ff0000",
       "location": [
        51.501,
        -0.1773
       ],
       "options": [
        "class_name",
        "clickable",
        "color",
        "dash_array",
        "fill",
        "fill_color",
        "fill_opacity",
        "line_cap",
        "line_join",
        "opacity",
        "pointer_events",
        "radius",
        "stroke",
        "weight"
       ],
       "radius": 10
      }
     },
     "8ac943f31345403cb73b607c26d69983": {
      "model_module": "@jupyter-widgets/base",
      "model_module_version": "1.0.0",
      "model_name": "LayoutModel",
      "state": {}
     },
     "8b0fdbc11e4249efada924c1454aa44c": {
      "model_module": "@jupyter-widgets/controls",
      "model_module_version": "1.1.0",
      "model_name": "HBoxModel",
      "state": {
       "children": [
        "IPY_MODEL_df8dcc2dd0f4481899bccc14b3a59159",
        "IPY_MODEL_671d6cd939a14496aba949b01eb4a167"
       ],
       "layout": "IPY_MODEL_24ac535be94344328405714278c5914d"
      }
     },
     "8cdeec68e0054ac7809a601c7ed85cdb": {
      "model_module": "jupyter-leaflet",
      "model_module_version": "~0.8.1",
      "model_name": "LeafletTileLayerModel",
      "state": {
       "_model_module_version": "~0.8.1",
       "_view_count": null,
       "_view_module_version": "~0.8.1",
       "base": true,
       "max_zoom": 19,
       "min_zoom": 1,
       "options": [
        "attribution",
        "detect_retina",
        "max_zoom",
        "min_zoom",
        "tile_size"
       ]
      }
     },
     "8e4280c27435465abbca2e06f99c23b2": {
      "model_module": "@jupyter-widgets/output",
      "model_module_version": "1.0.0",
      "model_name": "OutputModel",
      "state": {
       "layout": "IPY_MODEL_7da68b86a2e440099d1bbc2af9de64c0",
       "outputs": [
        {
         "data": {
          "image/png": "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\n",
          "text/plain": "<matplotlib.figure.Figure at 0x10f2ac4a8>"
         },
         "metadata": {},
         "output_type": "display_data"
        }
       ]
      }
     },
     "8fb9edcfcb3745e5a3a7fcc5f0ae56d5": {
      "model_module": "jupyter-leaflet",
      "model_module_version": "~0.8.1",
      "model_name": "LeafletCircleMarkerModel",
      "state": {
       "_model_module_version": "~0.8.1",
       "_view_count": null,
       "_view_module_version": "~0.8.1",
       "color": "red",
       "fill_color": "#ff0000",
       "location": [
        51.7,
        -0.177
       ],
       "options": [
        "class_name",
        "clickable",
        "color",
        "dash_array",
        "fill",
        "fill_color",
        "fill_opacity",
        "line_cap",
        "line_join",
        "opacity",
        "pointer_events",
        "radius",
        "stroke",
        "weight"
       ],
       "radius": 10
      }
     },
     "8fc6b716ac0e41f0b0134fc2b8f0b886": {
      "model_module": "@jupyter-widgets/controls",
      "model_module_version": "1.1.0",
      "model_name": "LinkModel",
      "state": {
       "source": [
        "IPY_MODEL_34cc2984009f43c8b6f73f50289cae6b",
        "value"
       ],
       "target": [
        "IPY_MODEL_3ed0b98850cb422c85f58c877a10341f",
        "value"
       ]
      }
     },
     "902c13d46cd54a0483c9f2f89104e2be": {
      "model_module": "jupyter-leaflet",
      "model_module_version": "~0.8.1",
      "model_name": "LeafletCircleMarkerModel",
      "state": {
       "_model_module_version": "~0.8.1",
       "_view_count": null,
       "_view_module_version": "~0.8.1",
       "color": "yellow",
       "fill_color": "#ff0000",
       "location": [
        51.5,
        -0.174
       ],
       "options": [
        "class_name",
        "clickable",
        "color",
        "dash_array",
        "fill",
        "fill_color",
        "fill_opacity",
        "line_cap",
        "line_join",
        "opacity",
        "pointer_events",
        "radius",
        "stroke",
        "weight"
       ],
       "radius": 10
      }
     },
     "90ae4d72d98746b3af55f5a8acb071bd": {
      "model_module": "jupyter-leaflet",
      "model_module_version": "~0.8.1",
      "model_name": "LeafletTileLayerModel",
      "state": {
       "_model_module_version": "~0.8.1",
       "_view_count": null,
       "_view_module_version": "~0.8.1",
       "base": true,
       "max_zoom": 19,
       "min_zoom": 1,
       "options": [
        "attribution",
        "detect_retina",
        "max_zoom",
        "min_zoom",
        "tile_size"
       ]
      }
     },
     "90ecb0d1a6074ad89ea95b4442d89d19": {
      "model_module": "@jupyter-widgets/controls",
      "model_module_version": "1.1.0",
      "model_name": "LinkModel",
      "state": {
       "source": [
        "IPY_MODEL_32038c9b3acd49779a0924cd89500410",
        "value"
       ],
       "target": [
        "IPY_MODEL_15c55de6972e49ed905b7fd0a605f38c",
        "value"
       ]
      }
     },
     "910c76291e9746f5ac26a19ca426dd2e": {
      "model_module": "@jupyter-widgets/controls",
      "model_module_version": "1.1.0",
      "model_name": "HBoxModel",
      "state": {
       "children": [
        "IPY_MODEL_fb84e76480a7409fb3e80ea8735370a4",
        "IPY_MODEL_0ebf32979250442ba45d50211aef80e4"
       ],
       "layout": "IPY_MODEL_e17207be2d494d58829fbfa98e2708dd"
      }
     },
     "9163363f03c74dd28d74a1e092e62ea2": {
      "model_module": "jupyter-leaflet",
      "model_module_version": "~0.8.1",
      "model_name": "LeafletTileLayerModel",
      "state": {
       "_model_module_version": "~0.8.1",
       "_view_count": null,
       "_view_module_version": "~0.8.1",
       "base": true,
       "max_zoom": 19,
       "min_zoom": 1,
       "options": [
        "attribution",
        "detect_retina",
        "max_zoom",
        "min_zoom",
        "tile_size"
       ]
      }
     },
     "917b352c21e842499b1775652bc50440": {
      "model_module": "@jupyter-widgets/base",
      "model_module_version": "1.0.0",
      "model_name": "LayoutModel",
      "state": {}
     },
     "922b80d93dc642b6b54440709d584367": {
      "model_module": "@jupyter-widgets/base",
      "model_module_version": "1.0.0",
      "model_name": "LayoutModel",
      "state": {}
     },
     "9293715650b0475a84fced66ab7d93d7": {
      "model_module": "jupyter-leaflet",
      "model_module_version": "~0.8.1",
      "model_name": "LeafletMapModel",
      "state": {
       "_dom_classes": [],
       "_model_module_version": "~0.8.1",
       "_view_count": null,
       "_view_module_version": "~0.8.1",
       "basemap": {
        "attribution": "Map data (c) <a href=\"https://openstreetmap.org\">OpenStreetMap</a> contributors",
        "max_zoom": 19,
        "url": "https://{s}.tile.openstreetmap.org/{z}/{x}/{y}.png"
       },
       "center": [
        51.7,
        -0.177
       ],
       "dragging": false,
       "east": -0.17490684986114502,
       "layers": [
        "IPY_MODEL_116945a5dccb4b9e859691c181beefca",
        "IPY_MODEL_8fb9edcfcb3745e5a3a7fcc5f0ae56d5",
        "IPY_MODEL_902c13d46cd54a0483c9f2f89104e2be"
       ],
       "layout": "IPY_MODEL_79dc5fe378fb460795638bda0fd1e2b5",
       "modisdate": "yesterday",
       "north": 51.70066428129988,
       "options": [
        "attribution_control",
        "basemap",
        "bounce_at_zoom_limits",
        "box_zoom",
        "center",
        "close_popup_on_click",
        "double_click_zoom",
        "dragging",
        "inertia",
        "inertia_deceleration",
        "inertia_max_speed",
        "keyboard",
        "keyboard_pan_offset",
        "keyboard_zoom_offset",
        "max_zoom",
        "min_zoom",
        "scroll_wheel_zoom",
        "tap",
        "tap_tolerance",
        "touch_zoom",
        "world_copy_jump",
        "zoom",
        "zoom_animation_threshold",
        "zoom_control",
        "zoom_start"
       ],
       "south": 51.69933437975528,
       "west": -0.17909646034240723,
       "zoom": 20,
       "zoom_control": false
      }
     },
     "929e08dac65647dba4df4a917c02d054": {
      "model_module": "@jupyter-widgets/base",
      "model_module_version": "1.0.0",
      "model_name": "LayoutModel",
      "state": {}
     },
     "933966d391af4742bbcea8626c7bbdb0": {
      "model_module": "@jupyter-widgets/base",
      "model_module_version": "1.0.0",
      "model_name": "LayoutModel",
      "state": {}
     },
     "933bc54066634d0ca9116074902a93ec": {
      "model_module": "jupyter-leaflet",
      "model_module_version": "~0.8.1",
      "model_name": "LeafletTileLayerModel",
      "state": {
       "_model_module_version": "~0.8.1",
       "_view_count": null,
       "_view_module_version": "~0.8.1",
       "base": true,
       "max_zoom": 19,
       "min_zoom": 1,
       "options": [
        "attribution",
        "detect_retina",
        "max_zoom",
        "min_zoom",
        "tile_size"
       ]
      }
     },
     "938347c033c8403c8e889efb95209863": {
      "model_module": "@jupyter-widgets/base",
      "model_module_version": "1.0.0",
      "model_name": "LayoutModel",
      "state": {}
     },
     "94bbfa81bc5a442ea3046a23e6c45116": {
      "model_module": "jupyter-leaflet",
      "model_module_version": "~0.8.1",
      "model_name": "LeafletTileLayerModel",
      "state": {
       "_model_module_version": "~0.8.1",
       "_view_count": null,
       "_view_module_version": "~0.8.1",
       "base": true,
       "max_zoom": 19,
       "min_zoom": 1,
       "options": [
        "attribution",
        "detect_retina",
        "max_zoom",
        "min_zoom",
        "tile_size"
       ]
      }
     },
     "9531ec2148f647e9a10ad0718b367303": {
      "model_module": "@jupyter-widgets/controls",
      "model_module_version": "1.1.0",
      "model_name": "SliderStyleModel",
      "state": {
       "description_width": ""
      }
     },
     "954e99d575434394a72d86180b0c1e9a": {
      "model_module": "jupyter-leaflet",
      "model_module_version": "~0.8.1",
      "model_name": "LeafletTileLayerModel",
      "state": {
       "_model_module_version": "~0.8.1",
       "_view_count": null,
       "_view_module_version": "~0.8.1",
       "base": true,
       "max_zoom": 19,
       "min_zoom": 1,
       "options": [
        "attribution",
        "detect_retina",
        "max_zoom",
        "min_zoom",
        "tile_size"
       ]
      }
     },
     "95b95f68a87a49ee88706c9d78abae9a": {
      "model_module": "jupyter-leaflet",
      "model_module_version": "~0.8.1",
      "model_name": "LeafletCircleMarkerModel",
      "state": {
       "_model_module_version": "~0.8.1",
       "_view_count": null,
       "_view_module_version": "~0.8.1",
       "color": "red",
       "fill_color": "#ff0000",
       "location": [
        51.55,
        -0.177
       ],
       "options": [
        "class_name",
        "clickable",
        "color",
        "dash_array",
        "fill",
        "fill_color",
        "fill_opacity",
        "line_cap",
        "line_join",
        "opacity",
        "pointer_events",
        "radius",
        "stroke",
        "weight"
       ],
       "radius": 10
      }
     },
     "961e016604ce42fc968ad75371d17b82": {
      "model_module": "@jupyter-widgets/output",
      "model_module_version": "1.0.0",
      "model_name": "OutputModel",
      "state": {
       "layout": "IPY_MODEL_a96e97a71cc341c5ad5862a31b9ee191",
       "outputs": [
        {
         "name": "stdout",
         "output_type": "stream",
         "text": "100.0\n"
        }
       ]
      }
     },
     "967d2e3ec9324f01aaa2832f618d1e25": {
      "model_module": "@jupyter-widgets/base",
      "model_module_version": "1.0.0",
      "model_name": "LayoutModel",
      "state": {}
     },
     "97037afd4ceb473eb20580e6eedaffe6": {
      "model_module": "jupyter-leaflet",
      "model_module_version": "~0.8.1",
      "model_name": "LeafletCircleMarkerModel",
      "state": {
       "_model_module_version": "~0.8.1",
       "_view_count": null,
       "_view_module_version": "~0.8.1",
       "color": "red",
       "fill_color": "#ff0000",
       "location": [
        51.5,
        -0.175
       ],
       "options": [
        "class_name",
        "clickable",
        "color",
        "dash_array",
        "fill",
        "fill_color",
        "fill_opacity",
        "line_cap",
        "line_join",
        "opacity",
        "pointer_events",
        "radius",
        "stroke",
        "weight"
       ],
       "radius": 10
      }
     },
     "971b0dd9e96d4be6914dc87623ff2075": {
      "model_module": "@jupyter-widgets/controls",
      "model_module_version": "1.1.0",
      "model_name": "HBoxModel",
      "state": {
       "children": [
        "IPY_MODEL_e194974426ea47cd8693e00225a4b3de",
        "IPY_MODEL_7dc61851d7954f90b51039c7e171a4cd"
       ],
       "layout": "IPY_MODEL_3695d3126b524a7da967135e1e0b5fe1"
      }
     },
     "979831df0de84c93af2e80331f76e7e5": {
      "model_module": "@jupyter-widgets/base",
      "model_module_version": "1.0.0",
      "model_name": "LayoutModel",
      "state": {
       "height": "350px"
      }
     },
     "997663273e694be6b5167a564ef61ad0": {
      "model_module": "jupyter-leaflet",
      "model_module_version": "~0.8.1",
      "model_name": "LeafletMapModel",
      "state": {
       "_dom_classes": [],
       "_model_module_version": "~0.8.1",
       "_view_count": null,
       "_view_module_version": "~0.8.1",
       "basemap": {
        "attribution": "Map data (c) <a href=\"https://openstreetmap.org\">OpenStreetMap</a> contributors",
        "max_zoom": 19,
        "url": "https://{s}.tile.openstreetmap.org/{z}/{x}/{y}.png"
       },
       "center": [
        51.501,
        -0.1773
       ],
       "dragging": false,
       "east": -0.175207257270813,
       "layers": [
        "IPY_MODEL_b010ff38deb54a81a9b89406d5456efe",
        "IPY_MODEL_3c5111999baf4b15a4c41b730d0a2502",
        "IPY_MODEL_c77b56c8266844f29f36107ebdd9426a"
       ],
       "layout": "IPY_MODEL_87438e8b7f684c76a281760a74ca8e33",
       "modisdate": "yesterday",
       "north": 51.50166701746684,
       "options": [
        "attribution_control",
        "basemap",
        "bounce_at_zoom_limits",
        "box_zoom",
        "center",
        "close_popup_on_click",
        "double_click_zoom",
        "dragging",
        "inertia",
        "inertia_deceleration",
        "inertia_max_speed",
        "keyboard",
        "keyboard_pan_offset",
        "keyboard_zoom_offset",
        "max_zoom",
        "min_zoom",
        "scroll_wheel_zoom",
        "tap",
        "tap_tolerance",
        "touch_zoom",
        "world_copy_jump",
        "zoom",
        "zoom_animation_threshold",
        "zoom_control",
        "zoom_start"
       ],
       "south": 51.500331275255164,
       "west": -0.17939686775207522,
       "zoom": 20,
       "zoom_control": false
      }
     },
     "99afb40f1db14ff4901dc66cfa58dc16": {
      "model_module": "@jupyter-widgets/base",
      "model_module_version": "1.0.0",
      "model_name": "LayoutModel",
      "state": {}
     },
     "99dd3bf69e574156872d88cbe2c4b326": {
      "model_module": "@jupyter-widgets/base",
      "model_module_version": "1.0.0",
      "model_name": "LayoutModel",
      "state": {}
     },
     "99f1ba447d3f47fbbba1015e7a622201": {
      "model_module": "@jupyter-widgets/controls",
      "model_module_version": "1.1.0",
      "model_name": "LinkModel",
      "state": {
       "source": [
        "IPY_MODEL_137e3b62ac744b34bd75da0ace4e4953",
        "value"
       ],
       "target": [
        "IPY_MODEL_434e1ebf228b430ebf71d27e3f2f3da5",
        "value"
       ]
      }
     },
     "9ae02e119ce34fa3880918201a77132d": {
      "model_module": "@jupyter-widgets/controls",
      "model_module_version": "1.1.0",
      "model_name": "SliderStyleModel",
      "state": {
       "description_width": ""
      }
     },
     "9b07046849f245cd9c67e746be1ef3e3": {
      "model_module": "@jupyter-widgets/controls",
      "model_module_version": "1.1.0",
      "model_name": "SliderStyleModel",
      "state": {
       "description_width": ""
      }
     },
     "9c410766a1ba4c78b907a8da8d913dcf": {
      "model_module": "jupyter-leaflet",
      "model_module_version": "~0.8.1",
      "model_name": "LeafletTileLayerModel",
      "state": {
       "_model_module_version": "~0.8.1",
       "_view_count": null,
       "_view_module_version": "~0.8.1",
       "base": true,
       "max_zoom": 19,
       "min_zoom": 1,
       "options": [
        "attribution",
        "detect_retina",
        "max_zoom",
        "min_zoom",
        "tile_size"
       ]
      }
     },
     "9caea6ce30014c76a801b7d25f976cea": {
      "model_module": "@jupyter-widgets/controls",
      "model_module_version": "1.1.0",
      "model_name": "PlayModel",
      "state": {
       "description": "Press play",
       "layout": "IPY_MODEL_fa04b0be2cab43a18234e4a88a5e3726",
       "style": "IPY_MODEL_4d7193415ad140018c6327a80bd8581e",
       "value": 50
      }
     },
     "9cc3cca27cb54328bd2982fcd9841471": {
      "model_module": "@jupyter-widgets/controls",
      "model_module_version": "1.1.0",
      "model_name": "DescriptionStyleModel",
      "state": {
       "description_width": ""
      }
     },
     "9f4048381689433f9fc849940ed96904": {
      "model_module": "@jupyter-widgets/controls",
      "model_module_version": "1.1.0",
      "model_name": "DescriptionStyleModel",
      "state": {
       "description_width": ""
      }
     },
     "9f4969ca91734f3f9f08da4878e98215": {
      "model_module": "@jupyter-widgets/base",
      "model_module_version": "1.0.0",
      "model_name": "LayoutModel",
      "state": {}
     },
     "9fe965b2471246989fb356b88e00dc5e": {
      "model_module": "jupyter-leaflet",
      "model_module_version": "~0.8.1",
      "model_name": "LeafletTileLayerModel",
      "state": {
       "_model_module_version": "~0.8.1",
       "_view_count": null,
       "_view_module_version": "~0.8.1",
       "base": true,
       "max_zoom": 19,
       "min_zoom": 1,
       "options": [
        "attribution",
        "detect_retina",
        "max_zoom",
        "min_zoom",
        "tile_size"
       ]
      }
     },
     "a026eafda6054adf9f002cd152849e63": {
      "model_module": "@jupyter-widgets/controls",
      "model_module_version": "1.1.0",
      "model_name": "DescriptionStyleModel",
      "state": {
       "description_width": ""
      }
     },
     "a09faa2994ed4756a207d4dc534cd2ca": {
      "model_module": "@jupyter-widgets/base",
      "model_module_version": "1.0.0",
      "model_name": "LayoutModel",
      "state": {
       "height": "500px"
      }
     },
     "a0e4e28ea81c40d7942bbe18b445ce4e": {
      "model_module": "@jupyter-widgets/base",
      "model_module_version": "1.0.0",
      "model_name": "LayoutModel",
      "state": {}
     },
     "a0efdfc066e04b38b3020e82d3b8e614": {
      "model_module": "@jupyter-widgets/base",
      "model_module_version": "1.0.0",
      "model_name": "LayoutModel",
      "state": {}
     },
     "a1b18159ba454e42bfcdcd88d92fc087": {
      "model_module": "@jupyter-widgets/base",
      "model_module_version": "1.0.0",
      "model_name": "LayoutModel",
      "state": {}
     },
     "a284e6b598e74068a733694d528dece2": {
      "model_module": "@jupyter-widgets/base",
      "model_module_version": "1.0.0",
      "model_name": "LayoutModel",
      "state": {
       "height": "350px"
      }
     },
     "a2af4f4b9e6448959a9fd1ac461757a6": {
      "model_module": "jupyter-leaflet",
      "model_module_version": "~0.8.1",
      "model_name": "LeafletCircleMarkerModel",
      "state": {
       "_model_module_version": "~0.8.1",
       "_view_count": null,
       "_view_module_version": "~0.8.1",
       "color": "yellow",
       "fill_color": "#ff0000",
       "location": [
        51.5,
        -0.174
       ],
       "options": [
        "class_name",
        "clickable",
        "color",
        "dash_array",
        "fill",
        "fill_color",
        "fill_opacity",
        "line_cap",
        "line_join",
        "opacity",
        "pointer_events",
        "radius",
        "stroke",
        "weight"
       ],
       "radius": 10
      }
     },
     "a2f7f12f127a4a3c96b6718e2c46b4b7": {
      "model_module": "@jupyter-widgets/output",
      "model_module_version": "1.0.0",
      "model_name": "OutputModel",
      "state": {
       "layout": "IPY_MODEL_384a6bc7b0fb4210a12c9d4e3097936f",
       "outputs": [
        {
         "data": {
          "application/javascript": "/* Put everything inside the global mpl namespace */\nwindow.mpl = {};\n\n\nmpl.get_websocket_type = function() {\n    if (typeof(WebSocket) !== 'undefined') {\n        return WebSocket;\n    } else if (typeof(MozWebSocket) !== 'undefined') {\n        return MozWebSocket;\n    } else {\n        alert('Your browser does not have WebSocket support.' +\n              'Please try Chrome, Safari or Firefox ≥ 6. ' +\n              'Firefox 4 and 5 are also supported but you ' +\n              'have to enable WebSockets in about:config.');\n    };\n}\n\nmpl.figure = function(figure_id, websocket, ondownload, parent_element) {\n    this.id = figure_id;\n\n    this.ws = websocket;\n\n    this.supports_binary = (this.ws.binaryType != undefined);\n\n    if (!this.supports_binary) {\n        var warnings = document.getElementById(\"mpl-warnings\");\n        if (warnings) {\n            warnings.style.display = 'block';\n            warnings.textContent = (\n                \"This browser does not support binary websocket messages. \" +\n                    \"Performance may be slow.\");\n        }\n    }\n\n    this.imageObj = new Image();\n\n    this.context = undefined;\n    this.message = undefined;\n    this.canvas = undefined;\n    this.rubberband_canvas = undefined;\n    this.rubberband_context = undefined;\n    this.format_dropdown = undefined;\n\n    this.image_mode = 'full';\n\n    this.root = $('<div/>');\n    this._root_extra_style(this.root)\n    this.root.attr('style', 'display: inline-block');\n\n    $(parent_element).append(this.root);\n\n    this._init_header(this);\n    this._init_canvas(this);\n    this._init_toolbar(this);\n\n    var fig = this;\n\n    this.waiting = false;\n\n    this.ws.onopen =  function () {\n            fig.send_message(\"supports_binary\", {value: fig.supports_binary});\n            fig.send_message(\"send_image_mode\", {});\n            if (mpl.ratio != 1) {\n                fig.send_message(\"set_dpi_ratio\", {'dpi_ratio': mpl.ratio});\n            }\n            fig.send_message(\"refresh\", {});\n        }\n\n    this.imageObj.onload = function() {\n            if (fig.image_mode == 'full') {\n                // Full images could contain transparency (where diff images\n                // almost always do), so we need to clear the canvas so that\n                // there is no ghosting.\n                fig.context.clearRect(0, 0, fig.canvas.width, fig.canvas.height);\n            }\n            fig.context.drawImage(fig.imageObj, 0, 0);\n        };\n\n    this.imageObj.onunload = function() {\n        fig.ws.close();\n    }\n\n    this.ws.onmessage = this._make_on_message_function(this);\n\n    this.ondownload = ondownload;\n}\n\nmpl.figure.prototype._init_header = function() {\n    var titlebar = $(\n        '<div class=\"ui-dialog-titlebar ui-widget-header ui-corner-all ' +\n        'ui-helper-clearfix\"/>');\n    var titletext = $(\n        '<div class=\"ui-dialog-title\" style=\"width: 100%; ' +\n        'text-align: center; padding: 3px;\"/>');\n    titlebar.append(titletext)\n    this.root.append(titlebar);\n    this.header = titletext[0];\n}\n\n\n\nmpl.figure.prototype._canvas_extra_style = function(canvas_div) {\n\n}\n\n\nmpl.figure.prototype._root_extra_style = function(canvas_div) {\n\n}\n\nmpl.figure.prototype._init_canvas = function() {\n    var fig = this;\n\n    var canvas_div = $('<div/>');\n\n    canvas_div.attr('style', 'position: relative; clear: both; outline: 0');\n\n    function canvas_keyboard_event(event) {\n        return fig.key_event(event, event['data']);\n    }\n\n    canvas_div.keydown('key_press', canvas_keyboard_event);\n    canvas_div.keyup('key_release', canvas_keyboard_event);\n    this.canvas_div = canvas_div\n    this._canvas_extra_style(canvas_div)\n    this.root.append(canvas_div);\n\n    var canvas = $('<canvas/>');\n    canvas.addClass('mpl-canvas');\n    canvas.attr('style', \"left: 0; top: 0; z-index: 0; outline: 0\")\n\n    this.canvas = canvas[0];\n    this.context = canvas[0].getContext(\"2d\");\n\n    var backingStore = this.context.backingStorePixelRatio ||\n\tthis.context.webkitBackingStorePixelRatio ||\n\tthis.context.mozBackingStorePixelRatio ||\n\tthis.context.msBackingStorePixelRatio ||\n\tthis.context.oBackingStorePixelRatio ||\n\tthis.context.backingStorePixelRatio || 1;\n\n    mpl.ratio = (window.devicePixelRatio || 1) / backingStore;\n\n    var rubberband = $('<canvas/>');\n    rubberband.attr('style', \"position: absolute; left: 0; top: 0; z-index: 1;\")\n\n    var pass_mouse_events = true;\n\n    canvas_div.resizable({\n        start: function(event, ui) {\n            pass_mouse_events = false;\n        },\n        resize: function(event, ui) {\n            fig.request_resize(ui.size.width, ui.size.height);\n        },\n        stop: function(event, ui) {\n            pass_mouse_events = true;\n            fig.request_resize(ui.size.width, ui.size.height);\n        },\n    });\n\n    function mouse_event_fn(event) {\n        if (pass_mouse_events)\n            return fig.mouse_event(event, event['data']);\n    }\n\n    rubberband.mousedown('button_press', mouse_event_fn);\n    rubberband.mouseup('button_release', mouse_event_fn);\n    // Throttle sequential mouse events to 1 every 20ms.\n    rubberband.mousemove('motion_notify', mouse_event_fn);\n\n    rubberband.mouseenter('figure_enter', mouse_event_fn);\n    rubberband.mouseleave('figure_leave', mouse_event_fn);\n\n    canvas_div.on(\"wheel\", function (event) {\n        event = event.originalEvent;\n        event['data'] = 'scroll'\n        if (event.deltaY < 0) {\n            event.step = 1;\n        } else {\n            event.step = -1;\n        }\n        mouse_event_fn(event);\n    });\n\n    canvas_div.append(canvas);\n    canvas_div.append(rubberband);\n\n    this.rubberband = rubberband;\n    this.rubberband_canvas = rubberband[0];\n    this.rubberband_context = rubberband[0].getContext(\"2d\");\n    this.rubberband_context.strokeStyle = \"#000000\";\n\n    this._resize_canvas = function(width, height) {\n        // Keep the size of the canvas, canvas container, and rubber band\n        // canvas in synch.\n        canvas_div.css('width', width)\n        canvas_div.css('height', height)\n\n        canvas.attr('width', width * mpl.ratio);\n        canvas.attr('height', height * mpl.ratio);\n        canvas.attr('style', 'width: ' + width + 'px; height: ' + height + 'px;');\n\n        rubberband.attr('width', width);\n        rubberband.attr('height', height);\n    }\n\n    // Set the figure to an initial 600x600px, this will subsequently be updated\n    // upon first draw.\n    this._resize_canvas(600, 600);\n\n    // Disable right mouse context menu.\n    $(this.rubberband_canvas).bind(\"contextmenu\",function(e){\n        return false;\n    });\n\n    function set_focus () {\n        canvas.focus();\n        canvas_div.focus();\n    }\n\n    window.setTimeout(set_focus, 100);\n}\n\nmpl.figure.prototype._init_toolbar = function() {\n    var fig = this;\n\n    var nav_element = $('<div/>')\n    nav_element.attr('style', 'width: 100%');\n    this.root.append(nav_element);\n\n    // Define a callback function for later on.\n    function toolbar_event(event) {\n        return fig.toolbar_button_onclick(event['data']);\n    }\n    function toolbar_mouse_event(event) {\n        return fig.toolbar_button_onmouseover(event['data']);\n    }\n\n    for(var toolbar_ind in mpl.toolbar_items) {\n        var name = mpl.toolbar_items[toolbar_ind][0];\n        var tooltip = mpl.toolbar_items[toolbar_ind][1];\n        var image = mpl.toolbar_items[toolbar_ind][2];\n        var method_name = mpl.toolbar_items[toolbar_ind][3];\n\n        if (!name) {\n            // put a spacer in here.\n            continue;\n        }\n        var button = $('<button/>');\n        button.addClass('ui-button ui-widget ui-state-default ui-corner-all ' +\n                        'ui-button-icon-only');\n        button.attr('role', 'button');\n        button.attr('aria-disabled', 'false');\n        button.click(method_name, toolbar_event);\n        button.mouseover(tooltip, toolbar_mouse_event);\n\n        var icon_img = $('<span/>');\n        icon_img.addClass('ui-button-icon-primary ui-icon');\n        icon_img.addClass(image);\n        icon_img.addClass('ui-corner-all');\n\n        var tooltip_span = $('<span/>');\n        tooltip_span.addClass('ui-button-text');\n        tooltip_span.html(tooltip);\n\n        button.append(icon_img);\n        button.append(tooltip_span);\n\n        nav_element.append(button);\n    }\n\n    var fmt_picker_span = $('<span/>');\n\n    var fmt_picker = $('<select/>');\n    fmt_picker.addClass('mpl-toolbar-option ui-widget ui-widget-content');\n    fmt_picker_span.append(fmt_picker);\n    nav_element.append(fmt_picker_span);\n    this.format_dropdown = fmt_picker[0];\n\n    for (var ind in mpl.extensions) {\n        var fmt = mpl.extensions[ind];\n        var option = $(\n            '<option/>', {selected: fmt === mpl.default_extension}).html(fmt);\n        fmt_picker.append(option)\n    }\n\n    // Add hover states to the ui-buttons\n    $( \".ui-button\" ).hover(\n        function() { $(this).addClass(\"ui-state-hover\");},\n        function() { $(this).removeClass(\"ui-state-hover\");}\n    );\n\n    var status_bar = $('<span class=\"mpl-message\"/>');\n    nav_element.append(status_bar);\n    this.message = status_bar[0];\n}\n\nmpl.figure.prototype.request_resize = function(x_pixels, y_pixels) {\n    // Request matplotlib to resize the figure. Matplotlib will then trigger a resize in the client,\n    // which will in turn request a refresh of the image.\n    this.send_message('resize', {'width': x_pixels, 'height': y_pixels});\n}\n\nmpl.figure.prototype.send_message = function(type, properties) {\n    properties['type'] = type;\n    properties['figure_id'] = this.id;\n    this.ws.send(JSON.stringify(properties));\n}\n\nmpl.figure.prototype.send_draw_message = function() {\n    if (!this.waiting) {\n        this.waiting = true;\n        this.ws.send(JSON.stringify({type: \"draw\", figure_id: this.id}));\n    }\n}\n\n\nmpl.figure.prototype.handle_save = function(fig, msg) {\n    var format_dropdown = fig.format_dropdown;\n    var format = format_dropdown.options[format_dropdown.selectedIndex].value;\n    fig.ondownload(fig, format);\n}\n\n\nmpl.figure.prototype.handle_resize = function(fig, msg) {\n    var size = msg['size'];\n    if (size[0] != fig.canvas.width || size[1] != fig.canvas.height) {\n        fig._resize_canvas(size[0], size[1]);\n        fig.send_message(\"refresh\", {});\n    };\n}\n\nmpl.figure.prototype.handle_rubberband = function(fig, msg) {\n    var x0 = msg['x0'] / mpl.ratio;\n    var y0 = (fig.canvas.height - msg['y0']) / mpl.ratio;\n    var x1 = msg['x1'] / mpl.ratio;\n    var y1 = (fig.canvas.height - msg['y1']) / mpl.ratio;\n    x0 = Math.floor(x0) + 0.5;\n    y0 = Math.floor(y0) + 0.5;\n    x1 = Math.floor(x1) + 0.5;\n    y1 = Math.floor(y1) + 0.5;\n    var min_x = Math.min(x0, x1);\n    var min_y = Math.min(y0, y1);\n    var width = Math.abs(x1 - x0);\n    var height = Math.abs(y1 - y0);\n\n    fig.rubberband_context.clearRect(\n        0, 0, fig.canvas.width, fig.canvas.height);\n\n    fig.rubberband_context.strokeRect(min_x, min_y, width, height);\n}\n\nmpl.figure.prototype.handle_figure_label = function(fig, msg) {\n    // Updates the figure title.\n    fig.header.textContent = msg['label'];\n}\n\nmpl.figure.prototype.handle_cursor = function(fig, msg) {\n    var cursor = msg['cursor'];\n    switch(cursor)\n    {\n    case 0:\n        cursor = 'pointer';\n        break;\n    case 1:\n        cursor = 'default';\n        break;\n    case 2:\n        cursor = 'crosshair';\n        break;\n    case 3:\n        cursor = 'move';\n        break;\n    }\n    fig.rubberband_canvas.style.cursor = cursor;\n}\n\nmpl.figure.prototype.handle_message = function(fig, msg) {\n    fig.message.textContent = msg['message'];\n}\n\nmpl.figure.prototype.handle_draw = function(fig, msg) {\n    // Request the server to send over a new figure.\n    fig.send_draw_message();\n}\n\nmpl.figure.prototype.handle_image_mode = function(fig, msg) {\n    fig.image_mode = msg['mode'];\n}\n\nmpl.figure.prototype.updated_canvas_event = function() {\n    // Called whenever the canvas gets updated.\n    this.send_message(\"ack\", {});\n}\n\n// A function to construct a web socket function for onmessage handling.\n// Called in the figure constructor.\nmpl.figure.prototype._make_on_message_function = function(fig) {\n    return function socket_on_message(evt) {\n        if (evt.data instanceof Blob) {\n            /* FIXME: We get \"Resource interpreted as Image but\n             * transferred with MIME type text/plain:\" errors on\n             * Chrome.  But how to set the MIME type?  It doesn't seem\n             * to be part of the websocket stream */\n            evt.data.type = \"image/png\";\n\n            /* Free the memory for the previous frames */\n            if (fig.imageObj.src) {\n                (window.URL || window.webkitURL).revokeObjectURL(\n                    fig.imageObj.src);\n            }\n\n            fig.imageObj.src = (window.URL || window.webkitURL).createObjectURL(\n                evt.data);\n            fig.updated_canvas_event();\n            fig.waiting = false;\n            return;\n        }\n        else if (typeof evt.data === 'string' && evt.data.slice(0, 21) == \"data:image/png;base64\") {\n            fig.imageObj.src = evt.data;\n            fig.updated_canvas_event();\n            fig.waiting = false;\n            return;\n        }\n\n        var msg = JSON.parse(evt.data);\n        var msg_type = msg['type'];\n\n        // Call the  \"handle_{type}\" callback, which takes\n        // the figure and JSON message as its only arguments.\n        try {\n            var callback = fig[\"handle_\" + msg_type];\n        } catch (e) {\n            console.log(\"No handler for the '\" + msg_type + \"' message type: \", msg);\n            return;\n        }\n\n        if (callback) {\n            try {\n                // console.log(\"Handling '\" + msg_type + \"' message: \", msg);\n                callback(fig, msg);\n            } catch (e) {\n                console.log(\"Exception inside the 'handler_\" + msg_type + \"' callback:\", e, e.stack, msg);\n            }\n        }\n    };\n}\n\n// from http://stackoverflow.com/questions/1114465/getting-mouse-location-in-canvas\nmpl.findpos = function(e) {\n    //this section is from http://www.quirksmode.org/js/events_properties.html\n    var targ;\n    if (!e)\n        e = window.event;\n    if (e.target)\n        targ = e.target;\n    else if (e.srcElement)\n        targ = e.srcElement;\n    if (targ.nodeType == 3) // defeat Safari bug\n        targ = targ.parentNode;\n\n    // jQuery normalizes the pageX and pageY\n    // pageX,Y are the mouse positions relative to the document\n    // offset() returns the position of the element relative to the document\n    var x = e.pageX - $(targ).offset().left;\n    var y = e.pageY - $(targ).offset().top;\n\n    return {\"x\": x, \"y\": y};\n};\n\n/*\n * return a copy of an object with only non-object keys\n * we need this to avoid circular references\n * http://stackoverflow.com/a/24161582/3208463\n */\nfunction simpleKeys (original) {\n  return Object.keys(original).reduce(function (obj, key) {\n    if (typeof original[key] !== 'object')\n        obj[key] = original[key]\n    return obj;\n  }, {});\n}\n\nmpl.figure.prototype.mouse_event = function(event, name) {\n    var canvas_pos = mpl.findpos(event)\n\n    if (name === 'button_press')\n    {\n        this.canvas.focus();\n        this.canvas_div.focus();\n    }\n\n    var x = canvas_pos.x * mpl.ratio;\n    var y = canvas_pos.y * mpl.ratio;\n\n    this.send_message(name, {x: x, y: y, button: event.button,\n                             step: event.step,\n                             guiEvent: simpleKeys(event)});\n\n    /* This prevents the web browser from automatically changing to\n     * the text insertion cursor when the button is pressed.  We want\n     * to control all of the cursor setting manually through the\n     * 'cursor' event from matplotlib */\n    event.preventDefault();\n    return false;\n}\n\nmpl.figure.prototype._key_event_extra = function(event, name) {\n    // Handle any extra behaviour associated with a key event\n}\n\nmpl.figure.prototype.key_event = function(event, name) {\n\n    // Prevent repeat events\n    if (name == 'key_press')\n    {\n        if (event.which === this._key)\n            return;\n        else\n            this._key = event.which;\n    }\n    if (name == 'key_release')\n        this._key = null;\n\n    var value = '';\n    if (event.ctrlKey && event.which != 17)\n        value += \"ctrl+\";\n    if (event.altKey && event.which != 18)\n        value += \"alt+\";\n    if (event.shiftKey && event.which != 16)\n        value += \"shift+\";\n\n    value += 'k';\n    value += event.which.toString();\n\n    this._key_event_extra(event, name);\n\n    this.send_message(name, {key: value,\n                             guiEvent: simpleKeys(event)});\n    return false;\n}\n\nmpl.figure.prototype.toolbar_button_onclick = function(name) {\n    if (name == 'download') {\n        this.handle_save(this, null);\n    } else {\n        this.send_message(\"toolbar_button\", {name: name});\n    }\n};\n\nmpl.figure.prototype.toolbar_button_onmouseover = function(tooltip) {\n    this.message.textContent = tooltip;\n};\nmpl.toolbar_items = [[\"Home\", \"Reset original view\", \"fa fa-home icon-home\", \"home\"], [\"Back\", \"Back to  previous view\", \"fa fa-arrow-left icon-arrow-left\", \"back\"], [\"Forward\", \"Forward to next view\", \"fa fa-arrow-right icon-arrow-right\", \"forward\"], [\"\", \"\", \"\", \"\"], [\"Pan\", \"Pan axes with left mouse, zoom with right\", \"fa fa-arrows icon-move\", \"pan\"], [\"Zoom\", \"Zoom to rectangle\", \"fa fa-square-o icon-check-empty\", \"zoom\"], [\"\", \"\", \"\", \"\"], [\"Download\", \"Download plot\", \"fa fa-floppy-o icon-save\", \"download\"]];\n\nmpl.extensions = [\"eps\", \"pdf\", \"png\", \"ps\", \"raw\", \"svg\"];\n\nmpl.default_extension = \"png\";var comm_websocket_adapter = function(comm) {\n    // Create a \"websocket\"-like object which calls the given IPython comm\n    // object with the appropriate methods. Currently this is a non binary\n    // socket, so there is still some room for performance tuning.\n    var ws = {};\n\n    ws.close = function() {\n        comm.close()\n    };\n    ws.send = function(m) {\n        //console.log('sending', m);\n        comm.send(m);\n    };\n    // Register the callback with on_msg.\n    comm.on_msg(function(msg) {\n        //console.log('receiving', msg['content']['data'], msg);\n        // Pass the mpl event to the overriden (by mpl) onmessage function.\n        ws.onmessage(msg['content']['data'])\n    });\n    return ws;\n}\n\nmpl.mpl_figure_comm = function(comm, msg) {\n    // This is the function which gets called when the mpl process\n    // starts-up an IPython Comm through the \"matplotlib\" channel.\n\n    var id = msg.content.data.id;\n    // Get hold of the div created by the display call when the Comm\n    // socket was opened in Python.\n    var element = $(\"#\" + id);\n    var ws_proxy = comm_websocket_adapter(comm)\n\n    function ondownload(figure, format) {\n        window.open(figure.imageObj.src);\n    }\n\n    var fig = new mpl.figure(id, ws_proxy,\n                           ondownload,\n                           element.get(0));\n\n    // Call onopen now - mpl needs it, as it is assuming we've passed it a real\n    // web socket which is closed, not our websocket->open comm proxy.\n    ws_proxy.onopen();\n\n    fig.parent_element = element.get(0);\n    fig.cell_info = mpl.find_output_cell(\"<div id='\" + id + \"'></div>\");\n    if (!fig.cell_info) {\n        console.error(\"Failed to find cell for figure\", id, fig);\n        return;\n    }\n\n    var output_index = fig.cell_info[2]\n    var cell = fig.cell_info[0];\n\n};\n\nmpl.figure.prototype.handle_close = function(fig, msg) {\n    var width = fig.canvas.width/mpl.ratio\n    fig.root.unbind('remove')\n\n    // Update the output cell to use the data from the current canvas.\n    fig.push_to_output();\n    var dataURL = fig.canvas.toDataURL();\n    // Re-enable the keyboard manager in IPython - without this line, in FF,\n    // the notebook keyboard shortcuts fail.\n    IPython.keyboard_manager.enable()\n    $(fig.parent_element).html('<img src=\"' + dataURL + '\" width=\"' + width + '\">');\n    fig.close_ws(fig, msg);\n}\n\nmpl.figure.prototype.close_ws = function(fig, msg){\n    fig.send_message('closing', msg);\n    // fig.ws.close()\n}\n\nmpl.figure.prototype.push_to_output = function(remove_interactive) {\n    // Turn the data on the canvas into data in the output cell.\n    var width = this.canvas.width/mpl.ratio\n    var dataURL = this.canvas.toDataURL();\n    this.cell_info[1]['text/html'] = '<img src=\"' + dataURL + '\" width=\"' + width + '\">';\n}\n\nmpl.figure.prototype.updated_canvas_event = function() {\n    // Tell IPython that the notebook contents must change.\n    IPython.notebook.set_dirty(true);\n    this.send_message(\"ack\", {});\n    var fig = this;\n    // Wait a second, then push the new image to the DOM so\n    // that it is saved nicely (might be nice to debounce this).\n    setTimeout(function () { fig.push_to_output() }, 1000);\n}\n\nmpl.figure.prototype._init_toolbar = function() {\n    var fig = this;\n\n    var nav_element = $('<div/>')\n    nav_element.attr('style', 'width: 100%');\n    this.root.append(nav_element);\n\n    // Define a callback function for later on.\n    function toolbar_event(event) {\n        return fig.toolbar_button_onclick(event['data']);\n    }\n    function toolbar_mouse_event(event) {\n        return fig.toolbar_button_onmouseover(event['data']);\n    }\n\n    for(var toolbar_ind in mpl.toolbar_items){\n        var name = mpl.toolbar_items[toolbar_ind][0];\n        var tooltip = mpl.toolbar_items[toolbar_ind][1];\n        var image = mpl.toolbar_items[toolbar_ind][2];\n        var method_name = mpl.toolbar_items[toolbar_ind][3];\n\n        if (!name) { continue; };\n\n        var button = $('<button class=\"btn btn-default\" href=\"#\" title=\"' + name + '\"><i class=\"fa ' + image + ' fa-lg\"></i></button>');\n        button.click(method_name, toolbar_event);\n        button.mouseover(tooltip, toolbar_mouse_event);\n        nav_element.append(button);\n    }\n\n    // Add the status bar.\n    var status_bar = $('<span class=\"mpl-message\" style=\"text-align:right; float: right;\"/>');\n    nav_element.append(status_bar);\n    this.message = status_bar[0];\n\n    // Add the close button to the window.\n    var buttongrp = $('<div class=\"btn-group inline pull-right\"></div>');\n    var button = $('<button class=\"btn btn-mini btn-primary\" href=\"#\" title=\"Stop Interaction\"><i class=\"fa fa-power-off icon-remove icon-large\"></i></button>');\n    button.click(function (evt) { fig.handle_close(fig, {}); } );\n    button.mouseover('Stop Interaction', toolbar_mouse_event);\n    buttongrp.append(button);\n    var titlebar = this.root.find($('.ui-dialog-titlebar'));\n    titlebar.prepend(buttongrp);\n}\n\nmpl.figure.prototype._root_extra_style = function(el){\n    var fig = this\n    el.on(\"remove\", function(){\n\tfig.close_ws(fig, {});\n    });\n}\n\nmpl.figure.prototype._canvas_extra_style = function(el){\n    // this is important to make the div 'focusable\n    el.attr('tabindex', 0)\n    // reach out to IPython and tell the keyboard manager to turn it's self\n    // off when our div gets focus\n\n    // location in version 3\n    if (IPython.notebook.keyboard_manager) {\n        IPython.notebook.keyboard_manager.register_events(el);\n    }\n    else {\n        // location in version 2\n        IPython.keyboard_manager.register_events(el);\n    }\n\n}\n\nmpl.figure.prototype._key_event_extra = function(event, name) {\n    var manager = IPython.notebook.keyboard_manager;\n    if (!manager)\n        manager = IPython.keyboard_manager;\n\n    // Check for shift+enter\n    if (event.shiftKey && event.which == 13) {\n        this.canvas_div.blur();\n        event.shiftKey = false;\n        // Send a \"J\" for go to next cell\n        event.which = 74;\n        event.keyCode = 74;\n        manager.command_mode();\n        manager.handle_keydown(event);\n    }\n}\n\nmpl.figure.prototype.handle_save = function(fig, msg) {\n    fig.ondownload(fig, null);\n}\n\n\nmpl.find_output_cell = function(html_output) {\n    // Return the cell and output element which can be found *uniquely* in the notebook.\n    // Note - this is a bit hacky, but it is done because the \"notebook_saving.Notebook\"\n    // IPython event is triggered only after the cells have been serialised, which for\n    // our purposes (turning an active figure into a static one), is too late.\n    var cells = IPython.notebook.get_cells();\n    var ncells = cells.length;\n    for (var i=0; i<ncells; i++) {\n        var cell = cells[i];\n        if (cell.cell_type === 'code'){\n            for (var j=0; j<cell.output_area.outputs.length; j++) {\n                var data = cell.output_area.outputs[j];\n                if (data.data) {\n                    // IPython >= 3 moved mimebundle to data attribute of output\n                    data = data.data;\n                }\n                if (data['text/html'] == html_output) {\n                    return [cell, data, j];\n                }\n            }\n        }\n    }\n}\n\n// Register the function which deals with the matplotlib target/channel.\n// The kernel may be null if the page has been refreshed.\nif (IPython.notebook.kernel != null) {\n    IPython.notebook.kernel.comm_manager.register_target('matplotlib', mpl.mpl_figure_comm);\n}\n",
          "text/plain": "<IPython.core.display.Javascript object>"
         },
         "metadata": {},
         "output_type": "display_data"
        },
        {
         "data": {
          "text/html": "<div id='18e8d0e2-1f6c-47a0-95d4-da46f8e0fc24'></div>",
          "text/plain": "<IPython.core.display.HTML object>"
         },
         "metadata": {},
         "output_type": "display_data"
        },
        {
         "ename": "NameError",
         "evalue": "name 'sin' is not defined",
         "output_type": "error",
         "traceback": [
          "\u001b[0;31m---------------------------------------------------------------------------\u001b[0m",
          "\u001b[0;31mNameError\u001b[0m                                 Traceback (most recent call last)",
          "\u001b[0;32m/opt/local/Library/Frameworks/Python.framework/Versions/3.6/lib/python3.6/site-packages/ipywidgets/widgets/interaction.py\u001b[0m in \u001b[0;36mupdate\u001b[0;34m(self, *args)\u001b[0m\n\u001b[1;32m    248\u001b[0m                     \u001b[0mvalue\u001b[0m \u001b[0;34m=\u001b[0m \u001b[0mwidget\u001b[0m\u001b[0;34m.\u001b[0m\u001b[0mget_interact_value\u001b[0m\u001b[0;34m(\u001b[0m\u001b[0;34m)\u001b[0m\u001b[0;34m\u001b[0m\u001b[0m\n\u001b[1;32m    249\u001b[0m                     \u001b[0mself\u001b[0m\u001b[0;34m.\u001b[0m\u001b[0mkwargs\u001b[0m\u001b[0;34m[\u001b[0m\u001b[0mwidget\u001b[0m\u001b[0;34m.\u001b[0m\u001b[0m_kwarg\u001b[0m\u001b[0;34m]\u001b[0m \u001b[0;34m=\u001b[0m \u001b[0mvalue\u001b[0m\u001b[0;34m\u001b[0m\u001b[0m\n\u001b[0;32m--> 250\u001b[0;31m                 \u001b[0mself\u001b[0m\u001b[0;34m.\u001b[0m\u001b[0mresult\u001b[0m \u001b[0;34m=\u001b[0m \u001b[0mself\u001b[0m\u001b[0;34m.\u001b[0m\u001b[0mf\u001b[0m\u001b[0;34m(\u001b[0m\u001b[0;34m**\u001b[0m\u001b[0mself\u001b[0m\u001b[0;34m.\u001b[0m\u001b[0mkwargs\u001b[0m\u001b[0;34m)\u001b[0m\u001b[0;34m\u001b[0m\u001b[0m\n\u001b[0m\u001b[1;32m    251\u001b[0m                 \u001b[0mshow_inline_matplotlib_plots\u001b[0m\u001b[0;34m(\u001b[0m\u001b[0;34m)\u001b[0m\u001b[0;34m\u001b[0m\u001b[0m\n\u001b[1;32m    252\u001b[0m                 \u001b[0;32mif\u001b[0m \u001b[0mself\u001b[0m\u001b[0;34m.\u001b[0m\u001b[0mauto_display\u001b[0m \u001b[0;32mand\u001b[0m \u001b[0mself\u001b[0m\u001b[0;34m.\u001b[0m\u001b[0mresult\u001b[0m \u001b[0;32mis\u001b[0m \u001b[0;32mnot\u001b[0m \u001b[0;32mNone\u001b[0m\u001b[0;34m:\u001b[0m\u001b[0;34m\u001b[0m\u001b[0m\n",
          "\u001b[0;32m<ipython-input-4-fb394e325bcf>\u001b[0m in \u001b[0;36mg\u001b[0;34m(x)\u001b[0m\n\u001b[1;32m      7\u001b[0m     \u001b[0mpylab\u001b[0m\u001b[0;34m.\u001b[0m\u001b[0mcla\u001b[0m\u001b[0;34m(\u001b[0m\u001b[0;34m)\u001b[0m\u001b[0;34m\u001b[0m\u001b[0m\n\u001b[1;32m      8\u001b[0m     \u001b[0my\u001b[0m \u001b[0;34m=\u001b[0m \u001b[0mlinspace\u001b[0m\u001b[0;34m(\u001b[0m\u001b[0;36m0\u001b[0m\u001b[0;34m,\u001b[0m\u001b[0;36m1.0\u001b[0m\u001b[0;34m)\u001b[0m\u001b[0;34m\u001b[0m\u001b[0m\n\u001b[0;32m----> 9\u001b[0;31m     \u001b[0mpylab\u001b[0m\u001b[0;34m.\u001b[0m\u001b[0mplot\u001b[0m\u001b[0;34m(\u001b[0m\u001b[0my\u001b[0m\u001b[0;34m,\u001b[0m\u001b[0mx\u001b[0m\u001b[0;34m*\u001b[0m\u001b[0msin\u001b[0m\u001b[0;34m(\u001b[0m\u001b[0;36m4.0\u001b[0m\u001b[0;34m*\u001b[0m\u001b[0mpi\u001b[0m\u001b[0;34m*\u001b[0m\u001b[0my\u001b[0m\u001b[0;34m)\u001b[0m\u001b[0;34m)\u001b[0m\u001b[0;34m\u001b[0m\u001b[0m\n\u001b[0m\u001b[1;32m     10\u001b[0m     \u001b[0mpylab\u001b[0m\u001b[0;34m.\u001b[0m\u001b[0maxis\u001b[0m\u001b[0;34m(\u001b[0m\u001b[0;34m[\u001b[0m\u001b[0;36m0\u001b[0m\u001b[0;34m,\u001b[0m\u001b[0;36m1\u001b[0m\u001b[0;34m,\u001b[0m\u001b[0;34m-\u001b[0m\u001b[0;36m100\u001b[0m\u001b[0;34m,\u001b[0m\u001b[0;36m100\u001b[0m\u001b[0;34m]\u001b[0m\u001b[0;34m)\u001b[0m\u001b[0;34m\u001b[0m\u001b[0m\n\u001b[1;32m     11\u001b[0m     \u001b[0mprint\u001b[0m\u001b[0;34m(\u001b[0m\u001b[0mx\u001b[0m\u001b[0;34m)\u001b[0m\u001b[0;34m\u001b[0m\u001b[0m\n",
          "\u001b[0;31mNameError\u001b[0m: name 'sin' is not defined"
         ]
        }
       ]
      }
     },
     "a30bb8a5cd164a00ac0749240a783aa6": {
      "model_module": "@jupyter-widgets/output",
      "model_module_version": "1.0.0",
      "model_name": "OutputModel",
      "state": {
       "layout": "IPY_MODEL_a09faa2994ed4756a207d4dc534cd2ca",
       "outputs": [
        {
         "data": {
          "image/png": "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\n",
          "text/plain": "<matplotlib.figure.Figure at 0x10e17b6d8>"
         },
         "metadata": {},
         "output_type": "display_data"
        }
       ]
      }
     },
     "a32f022c5d6042dcae1fb97f7cb8c1f7": {
      "model_module": "jupyter-leaflet",
      "model_module_version": "~0.8.1",
      "model_name": "LeafletMapModel",
      "state": {
       "_dom_classes": [],
       "_model_module_version": "~0.8.1",
       "_view_count": null,
       "_view_module_version": "~0.8.1",
       "basemap": {
        "attribution": "Map data (c) <a href=\"https://openstreetmap.org\">OpenStreetMap</a> contributors",
        "max_zoom": 19,
        "url": "https://{s}.tile.openstreetmap.org/{z}/{x}/{y}.png"
       },
       "center": [
        51.501,
        -0.1773
       ],
       "dragging": false,
       "east": -0.16891479492187503,
       "layers": [
        "IPY_MODEL_1cd72392b54c49daa2ace55ead9f41ea",
        "IPY_MODEL_48cdafc2d25940e4b24aa8b8970e5c41",
        "IPY_MODEL_0e431a54a1ae4ca895c6781ca0a17f73"
       ],
       "layout": "IPY_MODEL_b4679949ff1e4674bfa84ff0e3a5e516",
       "modisdate": "yesterday",
       "north": 51.50366721821857,
       "options": [
        "attribution_control",
        "basemap",
        "bounce_at_zoom_limits",
        "box_zoom",
        "center",
        "close_popup_on_click",
        "double_click_zoom",
        "dragging",
        "inertia",
        "inertia_deceleration",
        "inertia_max_speed",
        "keyboard",
        "keyboard_pan_offset",
        "keyboard_zoom_offset",
        "max_zoom",
        "min_zoom",
        "scroll_wheel_zoom",
        "tap",
        "tap_tolerance",
        "touch_zoom",
        "world_copy_jump",
        "zoom",
        "zoom_animation_threshold",
        "zoom_control",
        "zoom_start"
       ],
       "south": 51.49832424897921,
       "west": -0.18567323684692386,
       "zoom": 16,
       "zoom_control": false
      }
     },
     "a43f4814500348f5903f6269e94a3d93": {
      "model_module": "@jupyter-widgets/base",
      "model_module_version": "1.0.0",
      "model_name": "LayoutModel",
      "state": {}
     },
     "a4a915e3e6704d7c839658c17c546b59": {
      "model_module": "@jupyter-widgets/controls",
      "model_module_version": "1.1.0",
      "model_name": "SliderStyleModel",
      "state": {
       "description_width": ""
      }
     },
     "a61eb6f7279549f18283ab2b3d2a8fc1": {
      "model_module": "jupyter-leaflet",
      "model_module_version": "~0.8.1",
      "model_name": "LeafletCircleMarkerModel",
      "state": {
       "_model_module_version": "~0.8.1",
       "_view_count": null,
       "_view_module_version": "~0.8.1",
       "color": "yellow",
       "fill_color": "#ff0000",
       "location": [
        51.5,
        -0.174
       ],
       "options": [
        "class_name",
        "clickable",
        "color",
        "dash_array",
        "fill",
        "fill_color",
        "fill_opacity",
        "line_cap",
        "line_join",
        "opacity",
        "pointer_events",
        "radius",
        "stroke",
        "weight"
       ],
       "radius": 10
      }
     },
     "a6820708140b40369bf01fd60e1315dc": {
      "model_module": "@jupyter-widgets/controls",
      "model_module_version": "1.1.0",
      "model_name": "LinkModel",
      "state": {
       "source": [
        "IPY_MODEL_f15ae66005874892b8c7301a1f29fdbc",
        "value"
       ],
       "target": [
        "IPY_MODEL_1940c77283cd4f57a28284cc0a2fa4bd",
        "value"
       ]
      }
     },
     "a6ae3b55afb047d3bb48c0126e5dfa37": {
      "model_module": "@jupyter-widgets/output",
      "model_module_version": "1.0.0",
      "model_name": "OutputModel",
      "state": {
       "layout": "IPY_MODEL_e58ed6f6da354e3ead105136440611c9",
       "outputs": [
        {
         "data": {
          "image/png": "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\n",
          "text/plain": "<matplotlib.figure.Figure at 0x10a2da470>"
         },
         "metadata": {},
         "output_type": "display_data"
        }
       ]
      }
     },
     "a6c227756dd64874bf47a8c4a7b4eab8": {
      "model_module": "@jupyter-widgets/controls",
      "model_module_version": "1.1.0",
      "model_name": "PlayModel",
      "state": {
       "description": "Press play",
       "layout": "IPY_MODEL_d9beb08b5007420382f310b5662ecf09",
       "style": "IPY_MODEL_390655e7bb034ceca57d691e5facfe29",
       "value": 100
      }
     },
     "a6ecd34af4414a0f96676b5097248742": {
      "model_module": "jupyter-leaflet",
      "model_module_version": "~0.8.1",
      "model_name": "LeafletMapModel",
      "state": {
       "_dom_classes": [],
       "_model_module_version": "~0.8.1",
       "_view_count": null,
       "_view_module_version": "~0.8.1",
       "basemap": {
        "attribution": "Map data (c) <a href=\"https://openstreetmap.org\">OpenStreetMap</a> contributors",
        "max_zoom": 19,
        "url": "https://{s}.tile.openstreetmap.org/{z}/{x}/{y}.png"
       },
       "center": [
        51.501,
        -0.1773
       ],
       "dragging": false,
       "east": -0.16054630279541018,
       "layers": [
        "IPY_MODEL_94bbfa81bc5a442ea3046a23e6c45116",
        "IPY_MODEL_0d8a735564584f4c9a4acd6c792c0b03",
        "IPY_MODEL_7a1969959aca4b0b87e7d51b325850ba"
       ],
       "layout": "IPY_MODEL_f12ccf403f93474e846f0ea624774290",
       "modisdate": "yesterday",
       "north": 51.50633846794094,
       "options": [
        "attribution_control",
        "basemap",
        "bounce_at_zoom_limits",
        "box_zoom",
        "center",
        "close_popup_on_click",
        "double_click_zoom",
        "dragging",
        "inertia",
        "inertia_deceleration",
        "inertia_max_speed",
        "keyboard",
        "keyboard_pan_offset",
        "keyboard_zoom_offset",
        "max_zoom",
        "min_zoom",
        "scroll_wheel_zoom",
        "tap",
        "tap_tolerance",
        "touch_zoom",
        "world_copy_jump",
        "zoom",
        "zoom_animation_threshold",
        "zoom_control",
        "zoom_start"
       ],
       "south": 51.4956525294555,
       "west": -0.19406318664550784,
       "zoom": 15,
       "zoom_control": false
      }
     },
     "a79f71b89db9455188c3b83cdb112cca": {
      "model_module": "@jupyter-widgets/controls",
      "model_module_version": "1.1.0",
      "model_name": "SliderStyleModel",
      "state": {
       "description_width": ""
      }
     },
     "a7ffe902e4cb4aa6ac3e7dfc3cd933c6": {
      "model_module": "@jupyter-widgets/controls",
      "model_module_version": "1.1.0",
      "model_name": "VBoxModel",
      "state": {
       "_dom_classes": [
        "widget-interact"
       ],
       "children": [
        "IPY_MODEL_bd49ba37319048209ede47e47c77a045",
        "IPY_MODEL_f33d4a0b36c64eb3bc31816b8cf25d4e"
       ],
       "layout": "IPY_MODEL_938347c033c8403c8e889efb95209863"
      }
     },
     "a96e97a71cc341c5ad5862a31b9ee191": {
      "model_module": "@jupyter-widgets/base",
      "model_module_version": "1.0.0",
      "model_name": "LayoutModel",
      "state": {
       "height": "350px"
      }
     },
     "a9908cf823ce4ea48f03532961730717": {
      "model_module": "jupyter-leaflet",
      "model_module_version": "~0.8.1",
      "model_name": "LeafletMapModel",
      "state": {
       "_dom_classes": [],
       "_model_module_version": "~0.8.1",
       "_view_count": null,
       "_view_module_version": "~0.8.1",
       "basemap": {
        "attribution": "Map data (c) <a href=\"https://openstreetmap.org\">OpenStreetMap</a> contributors",
        "max_zoom": 19,
        "url": "https://{s}.tile.openstreetmap.org/{z}/{x}/{y}.png"
       },
       "center": [
        51.501,
        -0.1773
       ],
       "dragging": false,
       "east": -0.16054630279541018,
       "layers": [
        "IPY_MODEL_139a878e6a564086bd5535b944d819cb",
        "IPY_MODEL_46982ba3678d4656ae5b1f90d4d5c75d",
        "IPY_MODEL_461dcac9c5254a5a97df180502443132"
       ],
       "layout": "IPY_MODEL_80f29f3c20464a859702d5b7c4c30e8b",
       "modisdate": "yesterday",
       "north": 51.50633846794094,
       "options": [
        "attribution_control",
        "basemap",
        "bounce_at_zoom_limits",
        "box_zoom",
        "center",
        "close_popup_on_click",
        "double_click_zoom",
        "dragging",
        "inertia",
        "inertia_deceleration",
        "inertia_max_speed",
        "keyboard",
        "keyboard_pan_offset",
        "keyboard_zoom_offset",
        "max_zoom",
        "min_zoom",
        "scroll_wheel_zoom",
        "tap",
        "tap_tolerance",
        "touch_zoom",
        "world_copy_jump",
        "zoom",
        "zoom_animation_threshold",
        "zoom_control",
        "zoom_start"
       ],
       "south": 51.4956525294555,
       "west": -0.19406318664550784,
       "zoom": 15,
       "zoom_control": false
      }
     },
     "aa549fac0cf649aa81cc164d4a28e273": {
      "model_module": "@jupyter-widgets/controls",
      "model_module_version": "1.1.0",
      "model_name": "FloatSliderModel",
      "state": {
       "description": "x",
       "layout": "IPY_MODEL_c867befb1ab7493a94202f30bf9fabae",
       "step": 0.1,
       "style": "IPY_MODEL_5f9f38e24fcc46d5b71c8bf39bca42d5",
       "value": 50
      }
     },
     "aa7b66a63fd047e69138706017e78bc1": {
      "model_module": "@jupyter-widgets/base",
      "model_module_version": "1.0.0",
      "model_name": "LayoutModel",
      "state": {}
     },
     "aac745319a3740f59cbe69e828fa23e2": {
      "model_module": "@jupyter-widgets/controls",
      "model_module_version": "1.1.0",
      "model_name": "DescriptionStyleModel",
      "state": {
       "description_width": ""
      }
     },
     "ac7cb99a5bbb4b80b0a10caffc8dbbe7": {
      "model_module": "jupyter-leaflet",
      "model_module_version": "~0.8.1",
      "model_name": "LeafletMapModel",
      "state": {
       "_dom_classes": [],
       "_model_module_version": "~0.8.1",
       "_view_count": null,
       "_view_module_version": "~0.8.1",
       "basemap": {
        "attribution": "Map data (c) <a href=\"https://openstreetmap.org\">OpenStreetMap</a> contributors",
        "max_zoom": 19,
        "url": "https://{s}.tile.openstreetmap.org/{z}/{x}/{y}.png"
       },
       "center": [
        55,
        0
       ],
       "east": 21.5771484375,
       "layers": [
        "IPY_MODEL_954e99d575434394a72d86180b0c1e9a"
       ],
       "layout": "IPY_MODEL_759706a151ab48ddbd10eab1751d80c1",
       "modisdate": "yesterday",
       "north": 59.734253447591364,
       "options": [
        "attribution_control",
        "basemap",
        "bounce_at_zoom_limits",
        "box_zoom",
        "center",
        "close_popup_on_click",
        "double_click_zoom",
        "dragging",
        "inertia",
        "inertia_deceleration",
        "inertia_max_speed",
        "keyboard",
        "keyboard_pan_offset",
        "keyboard_zoom_offset",
        "max_zoom",
        "min_zoom",
        "scroll_wheel_zoom",
        "tap",
        "tap_tolerance",
        "touch_zoom",
        "world_copy_jump",
        "zoom",
        "zoom_animation_threshold",
        "zoom_control",
        "zoom_start"
       ],
       "south": 49.63917719651036,
       "west": -21.533203125000004,
       "zoom": 5
      }
     },
     "ac96fd687aa045bb98db102cdc8ef70f": {
      "model_module": "@jupyter-widgets/base",
      "model_module_version": "1.0.0",
      "model_name": "LayoutModel",
      "state": {}
     },
     "ad05a75c750c46229dc9a626743bff12": {
      "model_module": "@jupyter-widgets/controls",
      "model_module_version": "1.1.0",
      "model_name": "SliderStyleModel",
      "state": {
       "description_width": ""
      }
     },
     "ad770ff4865c4548b5455b317f81f438": {
      "model_module": "@jupyter-widgets/controls",
      "model_module_version": "1.1.0",
      "model_name": "VBoxModel",
      "state": {
       "_dom_classes": [
        "widget-interact"
       ],
       "children": [
        "IPY_MODEL_79a2368059bd4a6883fac01cd87d5c34",
        "IPY_MODEL_ca20b478ca4c44b59aba1499ac823fe6",
        "IPY_MODEL_cb6c26b208e047e98e5513b346efc261"
       ],
       "layout": "IPY_MODEL_933966d391af4742bbcea8626c7bbdb0"
      }
     },
     "ad859423ec0344f183d5f3d0926d4bf7": {
      "model_module": "@jupyter-widgets/base",
      "model_module_version": "1.0.0",
      "model_name": "LayoutModel",
      "state": {
       "height": "350px"
      }
     },
     "ae484c62e6d64325862c549245fb260c": {
      "model_module": "@jupyter-widgets/controls",
      "model_module_version": "1.1.0",
      "model_name": "SliderStyleModel",
      "state": {
       "description_width": ""
      }
     },
     "aec5fa68da604c57b81636b7876062c0": {
      "model_module": "@jupyter-widgets/controls",
      "model_module_version": "1.1.0",
      "model_name": "LinkModel",
      "state": {
       "source": [
        "IPY_MODEL_e194974426ea47cd8693e00225a4b3de",
        "value"
       ],
       "target": [
        "IPY_MODEL_7dc61851d7954f90b51039c7e171a4cd",
        "value"
       ]
      }
     },
     "aecb752cf37747c8bcc0606c944ea060": {
      "model_module": "@jupyter-widgets/output",
      "model_module_version": "1.0.0",
      "model_name": "OutputModel",
      "state": {
       "layout": "IPY_MODEL_a284e6b598e74068a733694d528dece2",
       "outputs": [
        {
         "name": "stdout",
         "output_type": "stream",
         "text": "50.0\n"
        },
        {
         "data": {
          "image/png": "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\n",
          "text/plain": "<matplotlib.figure.Figure at 0x107917da0>"
         },
         "metadata": {},
         "output_type": "display_data"
        }
       ]
      }
     },
     "af322c4bb6ef4feb8b6e96c9612f81ee": {
      "model_module": "@jupyter-widgets/output",
      "model_module_version": "1.0.0",
      "model_name": "OutputModel",
      "state": {
       "layout": "IPY_MODEL_c9f00f0f3b724da28dd9fe5098689649",
       "outputs": [
        {
         "name": "stdout",
         "output_type": "stream",
         "text": "50.0\n"
        },
        {
         "data": {
          "image/png": "iVBORw0KGgoAAAANSUhEUgAAAXkAAAD7CAYAAACPDORaAAAABHNCSVQICAgIfAhkiAAAAAlwSFlzAAALEgAACxIB0t1+/AAAADl0RVh0U29mdHdhcmUAbWF0cGxvdGxpYiB2ZXJzaW9uIDIuMS4xLCBodHRwOi8vbWF0cGxvdGxpYi5vcmcvAOZPmwAAIABJREFUeJzt3Xl4VNXBBvD3TPY9JCSEhCUZshASthCQRUEhiIilaBFKq3WpgrVV3Gq1ar/SasVdFFzi1uJKwRUFxbAKsoXIEiBkJSRAIAtJyD6ZOd8fmdiIQLaZnJl739/z8DAzZDLvZSYvh3vPPVdIKUFERNpkUB2AiIjshyVPRKRhLHkiIg1jyRMRaRhLnohIw1jyREQaxpInItIwljwRkYax5ImINIwlT0SkYa6qA/Tu3VtGRkaqjkFE5FT27NlTJqUMae/rlJd8ZGQk0tPTVccgInIqQojCjnwdd9cQEWkYS56ISMNY8kREGsaSJyLSMJY8EZGGseSJiDRM+RRKsh+LReJoeS2OlJyFwSAQ4OWGAC83+Ft/93F3gRBCdUwisiOWvEZIKZF7ugb7i6uQeaIKB49X4+CJKtQ2mS/4HFeDwJBwf1yVGIbpiX0R1dunBxMTUU8Qqi/knZycLHkyVNc1my34+mAJ3tiSj33FVQAATzcDhvT1R2JEABIjAhAf5g8hgOp6E6qsv6obTDhTZ8L2vHLsLaoEAAwO88P0xL6YPjQMMaG+HOUTOTAhxB4pZXJ7X8eRvJOqbWzGyvQivLWtAEUV9YgM9saimQkYPygYxhBfuBg6XtAnKuvxdWYJ1maexIvrs/FCWjaGRgTgsWuGYExUkB23gojsjSN5J3Omtglvbs3HezuOoarehFEDe2H+RCNS4vt0qtgv5HR1A74+WILXNuXhRFUDfjE8HA9PH4zwQC8bpCciW+noSJ4l70S2ZJfigZX7UFrTiGlDwnD7xCiMGmifkXZ9kxmvbs7D65vzIATwh0nRWDDJCE83F7u8HhF1DkteQxpMZjz1dRbe2XYUMaG+eGHuCCRGBPTIaxefqcOTa7Lw1YGTiAj0wqMz4jF9aN8eeW0iurCOljznyTu4QyeqMXPpVryz7ShuHh+J1Xdd2mMFDwD9enlj2W+T8NH8sfD3csMf3s/AotUH0Wy29FgGIuo6Hnh1UBaLxFtbC/DMN0cQ4O2G/9w6BpNi21062m7GGoOx+k8T8K81WXh7WwFyT9dg6bwkBHi7KctERO3jSN4B1TeZcfvydDyx5jAujwvBN/dMVFrwrVxdDPjbL4bgqV8NxY78clz7yjbkldaojkVEF8GSdzBnG0y46Z1d2HDkNBbNTMDrN45CkI+76lg/MXf0ALx/21hU1pswa9k2bMkuVR2JiC6AJe9AztQ24bdv7kRG4Rks+fVI3DQ+0mFPSBoTFYTP/zgBEYFeuPmdXXhrawFUH8Qnop9jyTuI09UNmJu6HVklZ/H6jaMwc3i46kjt6h/kjY//MB5T4vvgn18ewotpOaojEdE5WPIOoKiiDte/vh3FZ+rx71tGY0p8H9WROszHwxWv3zAKs0f1w5L1OXjzu3zVkYioDc6uUSz3dA1ueHMn6k1mvH/bJRg5oJfqSJ1mMAgsvm4o6pqa8fhXh+Hj4Yp5YwaojkVEYMkrVVRRh1+n7gAAfDR/LOL7+itO1HWuLga8OHckahvT8ddPD8DHw9UpdjkRaZ3NdtcIIR5sc3u2ECKl7WP0U1X1Jtz6791oajbjw9svceqCb+XuasBrN4zC6Mgg3LdiL9IOnVIdiUj3bFLyQogUAKOtt5MAQEqZBqCy9T79j8lswR/fz0BBWS1eu2EUYvr4qY5kM17uLnjrpmQkhPvjzg8y8H1umepIRLpmjwOvcwFUWm/nA0ixw2s4LSkl/vZ5JrbmluFf1w3F+OjeqiPZnJ+nG/59yxhEBfvgtuXpP65XT0Q9r9slL4RIso7aWwUCqGhzP7i7r6ElqVvy8eGuIvzxikGYk9xfdRy76eXjjndvG4NgX3cseDcdpWcbVUci0iVbjOR5VYkOWnvgJJ5cm4VrhvXF/VPjVMexu1A/T7x2wyhU1pnwpw8yuKgZkQLdKvnzjOKBll01rcUfCKD8PM+bL4RIF0Kkl5bq45T4H46dwT0r9iJpQCCevX44DDa4wIczSAgPwOJfDcXOggosXpulOg6R7nR3CqVRCGFsczsJwAoArWscGwGc+48ApJSpAFKBlvXku5nB4ZVUNeD25ekI9ffAG79L1t2FN64d2Q97j1Xiza0FGN4/EL/g1EqiHtOtkbyUcpWUchVaRu6B1scygB9n3FS23tcrs0Xi3hV7Udtoxts3jUawr4fqSEo8MmMIRg3shQdX7ceRkrOq4xDphk1m10gpU6WUg1oL3Xo/zTpi17VXN+Vie345Fv0yQVNTJTvL3dWAV36bBF9PV9zx3h5UN5hURyLSBa5dY0d7CivwQloOZg4Px/Wj+qmOo1wff08s+00SiirqcN+KfbBYNL+njkg5lrydVNWbcPeHexEe6InHr0102CWDe9qYqCA8MiMeaYdP4dXNearjEGkeS94OpJR4+JP9OFXdgJfnJcHfk5fIa+vm8ZG4ZlhfvPBtNjKPV6mOQ6RpLHk7+Gh3EdYcKMED0+Iwon+g6jgORwiBx2clIsjHHff9dy8aTGbVkYg0iyVvYzmnzmLR6oO4LKY35l9mbP8JOhXo7Y6nZg9D9qkavJCWrToOkWax5G2owWTGXR/+AF8PVzw3Rz8nPHXVFXGhmDemP1K35CP9aEX7TyCiTmPJ29AL32Yjq+Qsnr1+OEL9PFXHcQqPzBiCfr28cP/KfahtbFYdh0hzWPI2cqC4Cm98l495Y/rj8rhQ1XGchq+HK56dPRzHKuq47AGRHbDkbcBktuDBj/ejt68HHpoerzqO07nEGIzfT4jCuzsK8V2OPtYyIuopLHkbSN2Sj8Mnq/HPWYkI8OJ0ya54YFocokN98eeV+1FVz7NhiWyFJd9NeaU1WLI+B9MTwzAtIUx1HKfl6eaC5+cMR2lNIxatPqg6DpFmsOS7wWKRePiTA/B0NWDRLxNUx3F6w/oF4s7LB+GTjOPYxssGEtkES74bPtx9DLsKKvDojCGcTWMjf7wiGgODvfHY55lobOZJUkTdxZLvopKqBixek4Xxg4JxfTIXH7MVTzcXLJqZgPzSWryxJV91HCKnx5LvAiklHv0sEyaLBU9eN5SLj9nY5XGhuHpoGF7ekItj5XWq4xA5NZZ8F6w5UIK0w6dw39RYDAz2UR1Hk/52TQJcDQL/90UmpOSSxERdxZLvpLqmZvzzy0NICPfHrROiVMfRrLAAT9w7NRYbj5Tim4OnVMchclos+U56ZWMeSqobsGhmAlxd+NdnTzePj8TgMD8sWn2QSx4QdRFbqhOOldch9bt8zBoRjuTIINVxNM/VxYDHZyXiZFUDXlqfozoOkVNiyXfC418dgqtBcOmCHpQcGYS5yf3x1tYCXgCcqAtY8h20JbsU6w6dwp8mRyMsgHPie9Jfpg+Gr6crHv3sAA/CEnUSS74DTGYLFq0+iIHB3vj9pTzY2tOCfNzx0FWDsfvoGazef1J1HCKnwpLvgP98fxR5pbV4bMYQeLi6qI6jS9cn98eQvv54am0WLxdI1Aks+XaU1TRiSVoOJsWGYEo814lXxcUg8OiMeByvrMfb2wpUxyFyGiz5djzz9RHUm8z42y+G8MxWxcZH90ZKfB+8sjEPpWcbVcchcgos+YvYX1yJ/+4pwq2XRmFQiK/qOATg4asHo8Fk5sW/iTqIJX8BUkosWn0IwT4euGtytOo4ZDUoxBc3jB2Ij3Yd45RKog5gyV/ANwdPYU/hGdx/ZSz8PHm1J0eycEoMfD1c8cSaw6qjEDk8lvx5mMwWPP11FqJDfXH9KC4j7Gh6+bjj7ikx2JJdik1HTquOQ+TQWPLnsWJ3EfLLavGXqwZzfRoH9btxkYgM9sYTXx1Gs9miOg6Rw2KDnaO2sRkvpuVgTGQQUjhl0mG5uxrw0PR45JyuwUe7i1THIXJY3S55IcR866+n2jw2WwiRIoR4sLvfv6e9+V0Bymoa8dDVgzll0sFNS+iDS6KC8MK32ahuMKmOQ+SQulXyQogUAGlSylQARmuxJwGAlDINQGXrfWdQerYRqVvyMD0xDEkDeqmOQ+0QQuDRGUNQXtuE1M28VCDR+XR3JG8EkGK9nW+9PxdAZZvHUs7zPIf00vocNDRb8OdpcaqjUAcN7ReAa4b1xVtbC3iCFNF5dKvkpZSp1lE8ACQBSAcQCKCizZcFd+c1ekpBWS0+3HUMvxkzAEae+ORU7r8yDk1mC5Zu4JrzROeyyYFX6y6Zb6WUGbb4fio8800WPFwNuHtKjOoo1ElRvX0wJ7k/Pth1DEUVvPA3UVu2ml2TIqV82nq7EkDrZZMCAZSf+8XWA7XpQoj00tJSG0XouoxjZ7DmQAlun2hEiJ+H6jjUBQunxMAgBJc7IDqHTWbXtBa89UDsCrTsm4f197Rzn2PdzZMspUwOCQnpboRukVJi8Zos9Pb1wO2XGdt/AjmksABP3Dw+Ep/+cJzLHRC1YYvZNU8JIfKEEGcAoHWXjfXPKh19F87m7FLsOlqBhSkx8PFwVR2HuuGOSYPg6+6KZ9cdUR2FyGF0q9Ws0yR/NtewzcFYhyalxHPrstGvlxfmJvdXHYe6qZePO+ZPNOK5b7Oxp/AMRg3kNFgiXZ/xuu7QKRw4XoWFU2Lg7qrrvwrNuPXSKPT2dccz32TxerBE0HHJmy0Sz6/LhjHEB9eOjFAdh2zEx8MVf7oiGjvyK/BdTpnqOETK6bbkv9x/AkdOncW9KbFchExj5l0yAP16eeHpb7JgsXA0T/qmy3ZrNlvwYloOBof5YcbQvqrjkI15uLrg3pRYZB6vxtrMEtVxiJTSZcl/8sNxFJTV4r6psTAYuAiZFs0aGYGYUF+8kJYNM0fzpGO6K/nGZjOWpOVgWL8ATB3SR3UcshMXg8A9KbHIPV2DL/efUB2HSBndlfx/dxfheGU97r8yjksJa9z0xDAMDvPDkrQcXliEdEtXJd9gMuPlDbkYExmEiTG9VcchOzMYBO5JiUF+WS2+2MfRPOmTrkr+3e2FOH22EfdfGctRvE5cOSQMQ/r6Y8l6juZJn3RT8jWNzXh1cx4ui+mNS4xOsfox2YDBIHDv1FgUltfhkx+Oq45D1ON0U/LLtx9FRW0T7p0aqzoK9bCU+FAMjQjAyxtyYOJonnRGFyVf09iMN7bk4/K4EF7WT4eEELh3agyKKurx8Z5i1XGIepQuSn759qM4U2fCQl4QRLeuiAvF8P6BeHlDLpqaOZon/dB8yde2GcWP5Chet4QQuG9qLI5X1mPlniLVcYh6jOZLfvn2Qo7iCQAwMaY3Rg3shaUbctHYbFYdh6hHaLrkaxubkbolj6N4AmDdN58Si5NVDfhoF0fzpA+aLnmO4ulcE6KDMSYyCK9uyuNonnRBsyXfOoqfFMtRPP2PEAILU2JQUt2A/+7maJ60T7Ml/+MoPoWjePqp8YOCMWpgL7zC0TzpgCZLvu0onvPi6VxCCCycEoOTVQ1YxXnzpHGaLPl3d3AUTxd3WUxvjOgfiFc25nHePGma5kq+ZRSfz1E8XVTrvvnjlfX4JIOjedIuzZX8ezsKUVHbxFE8tevy2BAM6xeAZZtyuaYNaZamSr6+yYzULfmYyFE8dUDrvvmiinp8yhUqSaM0VfLv7yxEeW0T7p4crToKOYnJg0ORGOGPZRtzud48aZJmSr7BZMbrW/IxflAwkiODVMchJyGEwN2TY1BYXofP9/LqUaQ9min5j3YdQ+nZRtzNs1upk6YO6YP4vv5YujEXZotUHYfIpjRR8o3NZry2OR9jIoMwlld9ok5q2TcfjYKyWqzmtWBJYzRR8ivTi1FS3cBRPHXZlUPCENfHDy9tyOFonjTF6Uu+qdmCVzflIWlAICZEcxRPXWMwCNw9JQb5pbVYc+Ck6jhENuP0Jf9JRjGOV9bjrikxEEKojkNObHpiGKJDfbF0Qy4sHM2TRtil5IUQs4UQKUKIB+3x/VuZzBYs25SLYf0CcHlsiD1finTAYBC4a3I0jpw6i3WHSlTHIbIJm5e8ECIJAKSUaQAqW+/bw+d7T6Cooh53T+YonmzjmmHhiOrtg5fW50JKjubJ+dljJD8XQKX1dj6AFDu8BprNFizbmIshff0xJT7UHi9BOuRiEPjjFdE4dLIa6w+fVh2HqNvsUfKBACra3LfL0dAv959EQVkt7p4SzVE82dQvR4Sjf5AXXt6Qw9E82UV1gwmPfZaJ45X1dn8tJQdehRDzhRDpQoj00tLSLn2PHfnliOvjhyuHhNk4Hemdm4sBf7w8GvuKq7A5u2ufT6KLWf790ZYl0Wub7P5a9ij5SgCt6woEAig/9wuklKlSymQpZXJISNcOmC7+1TD8d8E4GAwcxZPtXZfUDxGBXnhpPUfzZFs1jc14c2sBpgwORWJEgN1fzx4lvwKA0XrbCCDNDq8BAAjwdrPXtyadc3c14I7LByHjWCW+z/vZOIWoy97bUYjKOhPu6qGTN21e8lLKDAAQQqQAqGy9T+Rs5iT3Q5i/J15an6M6CmlEXVMz3rAuhz6if2CPvKZd9slbd8ekSSlT7fH9iXqCh6sLFkwyYmdBBXbmczRP3ffBzmMor23Cwik9txy605/xSmRP88YMQG9fD7y8IVd1FHJyDaaWhRQnRAdj1MCeWw6dJU90EZ5uLlgw0YituWXYU1jR/hOILuCjXcdQVtOIuyb37EKKLHmidvx27AAE+7jjpfUczVPXNJjMeHVzHsZE9fxy6Cx5onZ4u7vi9olGbM4uxd6iyvafQHSOlXuKcaq6EQsVLIfOkifqgBvHDkQvbzcsSctWHYWcTFOzBa9uzMWogb0wflDPL4fOkifqAB8PV9x2mREbj5RifzFH89RxH2cU40RVA+6arGYJFpY8UQf9btxABHi5cd48dZjJbMErm3IxvF8AJilaDp0lT9RBfp5uuO3SKKQdPo3M41Wq45AT+PSH4y3LoSu8qBFLnqgTbpoQCT9PV47mqV2ty6EnhPtj8mB1y6Gz5Ik6wd/TDbdOiMK6Q6dw6ES16jjkwD794TgKy+twT0qs0uXQWfJEnXTrhCj4ebji5Q0czdP5NZstWGodxacovqgRS56okwK83XDzhEiszSxBVglH8/Rzn+094RCjeIAlT9Qlv780Cj7uLlzThn6m2WzByxtyHGIUD7Dkibok0NsdN42PxJoDJ5Fz6qzqOORAHGkUD7DkibrstsuM8HZzwRLOtCErRxvFAyx5oi4L8nHHzRMi8dWBk9w3TwCAz62j+IUK58WfiyVP1A23X2aEj7srlqRxNK93raP4IX39MXVIH9VxfsSSJ+qGQG933GqdaXPwBM+C1bPP957A0fI63JPiOKN4gCVP1G2/v9QIP0+O5vXMUUfxAEueqNsCvN1w26VGrDt0CgeKOZrXI0cdxQMseSKbuOXSSAR4ueFFrjevOyazBS856CgeYMkT2YS/pxvmTzRifdZpXj1KZz7eU4zC8jrcf6VjzIs/F0ueyEZuGh+JXt4czetJY7MZL63PwYj+gUpXmrwYljyRjfh6uGL+xEHYdKQUewrPqI5DPeDDncdwoqoBf54W55CjeIAlT2RTvxs3EME+7hzN60B9kxlLN+ZhrDFIybVbO4olT2RDPh6uuGPSIHyXU4bdRytUxyE7Wr79KMpqGnH/lY47igdY8kQ2d8PYgejt64FnvjkCKaXqOGQHZxtMeHVzHibFhmB0ZJDqOBfFkieyMS93F9w1ORq7CiqwObtUdRyyg7e3HkVlnQkPXBmnOkq7WPJEdjBvzAD06+WFZ745AouFo3ktqaxrwpvf5WNaQh8M7RegOk67WPJEduDuasB9U2Nx8EQ11mSeVB2HbOj1LfmoaWrGfVMdfxQPsOSJ7OaXIyIQ18cPz63LhslsUR2HbKD0bCP+ve0oZg4PR1yYn+o4HdLtkhdCzLf+eqrNY7OFEClCiAe7+/2JnJWLQeCBaXEoKKvFqj3FquOQDby6KQ9NZgsWTolRHaXDulXyQogUAGlSylQARmuxJwGAlDINQGXrfSI9SokPRdKAQCxJy0GDyaw6DnVD8Zk6vLejEL9KioAxxFd1nA7r7kjeCCDFejvfen8ugMo2j6Wc53lEuiCEwINXDUZJdQOWbz+qOg51w/PrsiEEcO/UWNVROqVbJS+lTLWO4gEgCUA6gEAAbc8CcdxTwYh6wFhjMCbGhuCVTXmobjCpjkNdcPBEFT7dexy3TIhC3wAv1XE6xSYHXq27ZL6VUmZ08OvnCyHShRDppaWcR0za9+C0OFTWmfDGlnzVUagLFq/NQoCXG/5w+SDVUTrNtb0vEELMP8/D+dZ97q1SpJRPW29XAmg9BSwQQPm5T7aO/lMBIDk5mZOISfMSIwIwY1hfvLW1AL8bF4kQPw/VkaiDvsspxXc5ZXh0RjwCvNxUx+m0dku+ze6Y8xJCzG8teOuB2BUAkq1/bASQdqHnEunJ/VNj8XVmCZZtzMXfZyaojkMdYLFILF6bhX69vHDjuIGq43SJLWbXPCWEyBNCnAGA1l021j+r7OguHCKtM4b4Yk5yf7y3oxD5pTWq41AHfLHvBA6eqMYDV8bBw9VFdZwu6e6B1zQpZS8p5SDr72nWx1Otf3bR/wUQ6c29U2Pg4WrA4rVZqqNQOxqbzXh23REkhPtj5vBw1XG6jGe8EvWgUD9P3HlFNNYdOoXteT87XEUO5N3thSg+U4+Hpg+GweC4Swm3hyVP1MN+f2kUwgM88fhXh7h4mYOqqjdh6cZcXBbTG5fFhKiO0y0seaIe5unmgr9MH4yDJ6rxyQ/HVceh83h1Ux6q6k14aPpg1VG6jSVPpMAvhoVjeP9APPNNFuqamlXHoTaOV9bjnW0FmDUiAgnhjr+UcHtY8kQKGAwCj82Ix6nqRryxpUB1HGrjX18dhhDAA9OcYynh9rDkiRRJjgzCjKF98drmPJyqblAdhwB8n1eGrw6cxB8mRSMi0LmWL7gQljyRQn+5ajDMFolnvzmiOoruNZst+MfqQ4gI9MKCSUbVcWyGJU+k0IBgb9wyIRKrMoqRebxKdRxd+2DXMWSVnMVj18TD0805T3w6H5Y8kWJ3XhGNXt7uePyrQ5CSUypVOFPbhOfWZWNCdDCmJYSpjmNTLHkixQK83HDv1FjsyK/A6v28HqwKz317BDWNzfi/XyRACOc98el8WPJEDuA3YwZgaEQA/vnlIa4538MOnqjCBzuP4caxAxHbxzmu29oZLHkiB+BiEHji2kSU1TTi+XXZquPohpQSi744hEBvd9yb4lxXfOooljyRgxjWLxA3XDIQy7cf5UHYHrJ6/0nsOlqBP0+LQ4C3860V3xEseSIH8sC0OAT5uOPRzzK5ro2d1TU148k1h5EQ7o85yf1Vx7EbljyRAwnwcsMjM+Kxt6gSH+4+pjqOpr2YloOTVQ1YNDMBLk68ymR7WPJEDmbWiAiMNQbh6a+PoKymUXUcTdpfXIk3v8vHvDEDkBwZ1P4TnBhLnsjBCCHw+KxE1DY248k1vLiIrZnMFjy4aj96+3rg4audf5XJ9rDkiRxQdKgfbp9oxMcZxdiZz4uL2FLqlnxklZzFP2clwt9Tmwdb22LJEzmouyfHICLQC49+lommZovqOJqQV1qDJetzcPXQMM2d2XohLHkiB+Xl7oJFMxOQc7oGSzfmqo7j9CwWiYc/PgAvNxf8fWaC6jg9hiVP5MBShvTBtSMjsGxjLvYXV6qO49Q+2HUMu45W4JEZ8Qj181Qdp8ew5Ikc3N9nJiDE1wP3/XcfGkxm1XGc0smqeixem4UJ0cG4flQ/1XF6FEueyMEFeLnh6dnDkHu6huvOd4GUEo99lolmiwVPXjtMcwuQtYclT+QEJsaG4LeXDMBb2wo426aTVu8/ibTDp3H/1DgMCPZWHafHseSJnMRfr45H/17eeGDVPtQ08uLfHVFUUYdHPj2AEf0DccuESNVxlGDJEzkJHw9XPDdnOIrP1OOJrw6rjuPwTGYLFn70AyCBl+eNhKuLPutOn1tN5KRGRwZh/mVGfLjrGDYeOa06jkNbkpaDjGOVeOK6oegfpL/dNK1Y8kRO5t6psYjt44u/rNqPyrom1XEc0ve5ZVi2KRdzkvth5vBw1XGUYskTORlPNxc8P2cEKmqb8MDKfVyS+BwVtU24Z8VeRPX20dVJTxfCkidyQokRAXh0RjzSDp/GMp4N+yMpJf68ch8q60x4ed5IeLu7qo6knM1KXgjxYJvbs4UQKW0fIyLbuml8JGaNCMfzadnYxP3zAIB3th3F+qzT+OvVg5EQHqA6jkOwSckLIVIAjLbeTgIAKWUagMrW+0RkW0IIPHndMMT18cPCj/aiqKJOdSSlMo9XYfHaLKTEh+Km8ZGq4zgMe+yumQugdZGNfAApdngNIkLLImav3zgKUkoseHePbpc9KK9pxJ3vZ6CXjxuenj1cd2e1Xky3S14IkWQdtbcKBFDR5n5wd1+DiC5sYLAPlvx6JA6XVOORTzMhpb4OxDaYzLh9eTpOVTfgtRtGIcjHXXUkh2KLkXynr50lhJgvhEgXQqSXlpbaIAKRvl0xOBQLp8Tg44xivLdTP9eGtVgkHli5DxnHKvHC3BEYOaCX6kgOp91Dz0KI+ed5OF9KmXaeUTzQsqumtfgDAfxsoQ0pZSqAVABITk7W17CDyE7unhyD/cVV+MfqgxjS1w+jBmr72qUA8Py32fhy/0k8NH0wrh7aV3Uch9RuyVsL+UKMQghjm9tJAFYASG59DMC5/wgQkR0YDAIvzBmBmcu24rb/pGPFgnGI7eOnOpbdrEwvwtKNufj16P5YMNHY/hN0qlu7a6SUq6SUq9Aycg+0PpYB/DjjprL1PhHZX4C3G5bfOgZuLgbc8OZOFJbXqo5kF9/nleHhTw7g0uje+OesRB5ovQih+iBNcnKyTE9PV5qBSGuyT53F3Ne3w9vdFav+MA59A7xUR7KZ3NM1uO6Vbejj74mP7xyvi4txn48W0CvPAAAGc0lEQVQQYo+UMrm9r+MZr0QaFNvHD8tvvQRV9Sb89s2dKKtpVB3JJooq6nDzO7vg7mrA2zeP1m3BdwZLnkijhvYLwNs3j8aJynrc+NYuVNWZVEfqltzTZzH7te9xtqEZb988WtcrS3YGS55Iw8ZEBeH1G5ORe/osbvn3LtQ66cVGMo9XYc7rO2C2ACsWjMWwfoGqIzkNljyRxk2KDcHL80Zib1Elbvn3bqdbnnj30QrMS90BLzcXrLxjHAaH+auO5FRY8kQ6cFViX7z465HYe6wSv1y2Dbmnz6qO1CFbsktx41s7EeLngZV3jENUbx/VkZwOS55IJ2YOD8eH88eittGMa5d9j41Zjr1y5deZJbjtP+mI6u2LFQvGITxQOzOEehJLnkhHRg3shS/+NAEDgr1x6392440t+Q631o3JbMHz32bjzvf3ICHCHx/dPhYhfh6qYzktljyRzoQHemHlHeMwPTEMT6w5jD+v2o/GZsdYvbKgrBazX9uOl9bnYNbICLz3+0sQ4M1pkt3By6YQ6ZC3uyuWzkvCS31y8GJaDvJKa7D4umGIC1OzDIKUEit2F+EfXx6Cm4sBS38zEtcM0/e1WW2FJU+kUwaDwD0psYjt44eHPzmA6Uu24IaxA3Hf1FgEevfccr3lNY146JMD+PbQKUyIDsaz1w/X1Bm6qrHkiXTu6qF9Mc4YjBfSsvHejkJ8se8E7p8ai3ljBsDVxX57dBtMZnycUYwX03JQVWfCozPiceuEKBgMXIfGlrh2DRH9KKukGou+OITt+eUYHOaHv10zBOMGBdt0AbDymka8u6MQy7cXoqK2CcP7B2LxdUMR35fz3zujo2vXsOSJ6CeklPjmYAke/+owis/Uwxjig6sT++KqxDAkhPt3ufALymrx1tZ8rEwvRmOzBVMGh2L+RCPGRAVxFckuYMkTUbe07k5Zc+AkduRXwGyRGBDkjemJYbgqMQwxffzg4+5y3oJuMJlxpOQsMk9UIfN4NQ6eqMKB41VwMxhwXVIEbrssCtGh2l3rview5InIZipqm/DtoRKszSzBttwymMwtveFqEPD3coO/pysCvNzg7+WGspom5Jw6i2ZLy9cEeLkhMcIfoyOD8JtLBiDUz1PlpmgGS56I7KKq3oTN2aUoqapHVb3J+qsZ1dbb/l5uGBrhj8TwACRGBKBfLy/ujrGDjpY8Z9cQUacEeLlh5nDOYXcWPOOViEjDWPJERBrGkici0jCWPBGRhrHkiYg0jCVPRKRhLHkiIg1jyRMRaZjyM16FEKUACrv49N4AymwYx1lwu/VFr9sN6HfbO7LdA6WUIe19I+Ul3x1CiPSOnNarNdxufdHrdgP63XZbbjd31xARaRhLnohIw5y95FNVB1CE260vet1uQL/bbrPtdup98noihEiSUma0uT8bQCWAJCnl0+qSEdmeEOLB1s81P+vd47QjeSHEbCFEihDiQdVZ7E0IkQLgjTb3kwBASpkGoLL1vtYIIeZbfz3V5jHNv+/W7UvR23a3sn7eR1tv6+Wz/pT19/ltHrPJe+6UJa+XN76VdTsr2jw0Fy0jGwDIB5DS46HszPqDnialTAVgtH7YNf++W7dpqnUbk4QQSXrY7ovQ/Gfdar4QIg8t22jTjnPKkod+3vgLCcRPSz9YVRA7MuJ/72u+9b7m33cpZYaU8i/Wu0brLjrNb3cr627JtDYP6eGzDgDXSykHtdl2m73nznplKL288bplHcG3SgKwAsAo6OR9t/4XfYH1rp4+70GqAyiSZL1EYutxB5u95846kte7SvzvhyEQQLnCLHZl/W/qt20POuuB9Qd9gRAiUHWWnnKeUTygk8+6lPJp67YHW3dV2oyzjuR18cZfxAoArWfDGQGc+4OhJSltZlRo/n1vsy82Ay3/TZ8PHWy3lVEIYWxzu/V/cJr+rFtnD0FKuQot760RNnzPnXUkvwItfxGARt/4tqwfguQ2H4YM6+MpACq1OsoVQsxvM40uBfp431Pw0x/ufOhjuyGlXGUtuiC0bLtePuv5+N97OghAOmz4njvtPHnrVKN8tByc0usJE5pl/aFeiZb9kkFoOTCVpvX33bp7Zg5atnuqlHKB9XFNb7feWd/fCrS8v0+3eazb77nTljwREbXPWXfXEBFRB7DkiYg0jCVPRKRhLHkiIg1jyRMRaRhLnohIw1jyREQaxpInItKw/wdqe1DUXYC+6gAAAABJRU5ErkJggg==\n",
          "text/plain": "<matplotlib.figure.Figure at 0x107f6a3c8>"
         },
         "metadata": {},
         "output_type": "display_data"
        }
       ]
      }
     },
     "b010ff38deb54a81a9b89406d5456efe": {
      "model_module": "jupyter-leaflet",
      "model_module_version": "~0.8.1",
      "model_name": "LeafletTileLayerModel",
      "state": {
       "_model_module_version": "~0.8.1",
       "_view_count": null,
       "_view_module_version": "~0.8.1",
       "base": true,
       "max_zoom": 19,
       "min_zoom": 1,
       "options": [
        "attribution",
        "detect_retina",
        "max_zoom",
        "min_zoom",
        "tile_size"
       ]
      }
     },
     "b019140b01b245b881e723451c0a7983": {
      "model_module": "@jupyter-widgets/controls",
      "model_module_version": "1.1.0",
      "model_name": "FloatSliderModel",
      "state": {
       "description": "x",
       "layout": "IPY_MODEL_fad13512c1af41c899f1b482719fdb7a",
       "step": 0.1,
       "style": "IPY_MODEL_e2c14baac59948ae9255a83d2ae6e34a"
      }
     },
     "b01f3548274e42c9875ac64c43a33899": {
      "model_module": "jupyter-leaflet",
      "model_module_version": "~0.8.1",
      "model_name": "LeafletTileLayerModel",
      "state": {
       "_model_module_version": "~0.8.1",
       "_view_count": null,
       "_view_module_version": "~0.8.1",
       "base": true,
       "max_zoom": 19,
       "min_zoom": 1,
       "options": [
        "attribution",
        "detect_retina",
        "max_zoom",
        "min_zoom",
        "tile_size"
       ]
      }
     },
     "b03695ba303248ae8b507531d2c7c5ba": {
      "model_module": "jupyter-leaflet",
      "model_module_version": "~0.8.1",
      "model_name": "LeafletCircleMarkerModel",
      "state": {
       "_model_module_version": "~0.8.1",
       "_view_count": null,
       "_view_module_version": "~0.8.1",
       "color": "yellow",
       "fill_color": "#ff0000",
       "location": [
        51.5,
        -0.174
       ],
       "options": [
        "class_name",
        "clickable",
        "color",
        "dash_array",
        "fill",
        "fill_color",
        "fill_opacity",
        "line_cap",
        "line_join",
        "opacity",
        "pointer_events",
        "radius",
        "stroke",
        "weight"
       ],
       "radius": 10
      }
     },
     "b0d79558ae684db698754058b4ed8328": {
      "model_module": "jupyter-leaflet",
      "model_module_version": "~0.8.1",
      "model_name": "LeafletMapModel",
      "state": {
       "_dom_classes": [],
       "_model_module_version": "~0.8.1",
       "_view_count": null,
       "_view_module_version": "~0.8.1",
       "basemap": {
        "attribution": "Map data (c) <a href=\"https://openstreetmap.org\">OpenStreetMap</a> contributors",
        "max_zoom": 19,
        "url": "https://{s}.tile.openstreetmap.org/{z}/{x}/{y}.png"
       },
       "center": [
        51.50000067301382,
        -0.17499804496765137
       ],
       "east": -180,
       "layers": [
        "IPY_MODEL_45939cc95001444096b1a353e4b8db13"
       ],
       "layout": "IPY_MODEL_177c3ac11d944f04be57e1cf82c3ba58",
       "modisdate": "yesterday",
       "north": -90,
       "options": [
        "attribution_control",
        "basemap",
        "bounce_at_zoom_limits",
        "box_zoom",
        "center",
        "close_popup_on_click",
        "double_click_zoom",
        "dragging",
        "inertia",
        "inertia_deceleration",
        "inertia_max_speed",
        "keyboard",
        "keyboard_pan_offset",
        "keyboard_zoom_offset",
        "max_zoom",
        "min_zoom",
        "scroll_wheel_zoom",
        "tap",
        "tap_tolerance",
        "touch_zoom",
        "world_copy_jump",
        "zoom",
        "zoom_animation_threshold",
        "zoom_control",
        "zoom_start"
       ],
       "south": 90,
       "west": 180,
       "zoom": 20
      }
     },
     "b1465e4f1068441e9aea300ec6f203df": {
      "model_module": "@jupyter-widgets/base",
      "model_module_version": "1.0.0",
      "model_name": "LayoutModel",
      "state": {}
     },
     "b1b0c1aa3edc491791ef997ca964ef94": {
      "model_module": "@jupyter-widgets/controls",
      "model_module_version": "1.1.0",
      "model_name": "FloatSliderModel",
      "state": {
       "description": "x",
       "layout": "IPY_MODEL_5ca89860ffcc464d99ee659a119c61eb",
       "step": 0.1,
       "style": "IPY_MODEL_9531ec2148f647e9a10ad0718b367303",
       "value": 50
      }
     },
     "b2bb7548b1e54a4e94d7ba58ff143dc1": {
      "model_module": "jupyter-leaflet",
      "model_module_version": "~0.8.1",
      "model_name": "LeafletTileLayerModel",
      "state": {
       "_model_module_version": "~0.8.1",
       "_view_count": null,
       "_view_module_version": "~0.8.1",
       "base": true,
       "max_zoom": 19,
       "min_zoom": 1,
       "options": [
        "attribution",
        "detect_retina",
        "max_zoom",
        "min_zoom",
        "tile_size"
       ]
      }
     },
     "b3b7b5c4fcc34dd4b4f5c6b8772cc8a5": {
      "model_module": "jupyter-leaflet",
      "model_module_version": "~0.8.1",
      "model_name": "LeafletMapModel",
      "state": {
       "_dom_classes": [],
       "_model_module_version": "~0.8.1",
       "_view_count": null,
       "_view_module_version": "~0.8.1",
       "basemap": {
        "attribution": "Map data (c) <a href=\"https://openstreetmap.org\">OpenStreetMap</a> contributors",
        "max_zoom": 19,
        "url": "https://{s}.tile.openstreetmap.org/{z}/{x}/{y}.png"
       },
       "center": [
        51.50000067301382,
        -0.17499804496765137
       ],
       "east": -180,
       "layers": [
        "IPY_MODEL_172a97b4420541449f38420a2788696b",
        "IPY_MODEL_bd66e445258f4a1e8b60b0627148025f"
       ],
       "layout": "IPY_MODEL_6b531e6456b54a89956cdc2e16bebc52",
       "modisdate": "yesterday",
       "north": -90,
       "options": [
        "attribution_control",
        "basemap",
        "bounce_at_zoom_limits",
        "box_zoom",
        "center",
        "close_popup_on_click",
        "double_click_zoom",
        "dragging",
        "inertia",
        "inertia_deceleration",
        "inertia_max_speed",
        "keyboard",
        "keyboard_pan_offset",
        "keyboard_zoom_offset",
        "max_zoom",
        "min_zoom",
        "scroll_wheel_zoom",
        "tap",
        "tap_tolerance",
        "touch_zoom",
        "world_copy_jump",
        "zoom",
        "zoom_animation_threshold",
        "zoom_control",
        "zoom_start"
       ],
       "south": 90,
       "west": 180,
       "zoom": 20
      }
     },
     "b3ce3fa1e385464a9373cf509d8ea339": {
      "model_module": "@jupyter-widgets/base",
      "model_module_version": "1.0.0",
      "model_name": "LayoutModel",
      "state": {}
     },
     "b4679949ff1e4674bfa84ff0e3a5e516": {
      "model_module": "@jupyter-widgets/base",
      "model_module_version": "1.0.0",
      "model_name": "LayoutModel",
      "state": {}
     },
     "b5599f7409de4e9ca7f9d7cda0380e8a": {
      "model_module": "jupyter-leaflet",
      "model_module_version": "~0.8.1",
      "model_name": "LeafletTileLayerModel",
      "state": {
       "_model_module_version": "~0.8.1",
       "_view_count": null,
       "_view_module_version": "~0.8.1",
       "base": true,
       "max_zoom": 19,
       "min_zoom": 1,
       "options": [
        "attribution",
        "detect_retina",
        "max_zoom",
        "min_zoom",
        "tile_size"
       ]
      }
     },
     "b76592812fc34099a684707e7dba31a2": {
      "model_module": "@jupyter-widgets/controls",
      "model_module_version": "1.1.0",
      "model_name": "FloatSliderModel",
      "state": {
       "description": "x",
       "layout": "IPY_MODEL_07ad9eeb225c4820ae6f72595b382f30",
       "step": 0.1,
       "style": "IPY_MODEL_9b07046849f245cd9c67e746be1ef3e3"
      }
     },
     "b82788a01ad54aa0b25010766fe4b526": {
      "model_module": "@jupyter-widgets/base",
      "model_module_version": "1.0.0",
      "model_name": "LayoutModel",
      "state": {}
     },
     "b943ff90c2ed4dca857becb4d1d15c83": {
      "model_module": "@jupyter-widgets/base",
      "model_module_version": "1.0.0",
      "model_name": "LayoutModel",
      "state": {}
     },
     "b96519ec74cf403cb17c527f1b8a326a": {
      "model_module": "@jupyter-widgets/base",
      "model_module_version": "1.0.0",
      "model_name": "LayoutModel",
      "state": {}
     },
     "b99bd970b7a747868296027a6ed95c0f": {
      "model_module": "@jupyter-widgets/base",
      "model_module_version": "1.0.0",
      "model_name": "LayoutModel",
      "state": {}
     },
     "b9cb478670e0406c9a34fe350e6b6718": {
      "model_module": "@jupyter-widgets/controls",
      "model_module_version": "1.1.0",
      "model_name": "HBoxModel",
      "state": {
       "children": [
        "IPY_MODEL_32038c9b3acd49779a0924cd89500410",
        "IPY_MODEL_15c55de6972e49ed905b7fd0a605f38c"
       ],
       "layout": "IPY_MODEL_4e667f34a1874043a5ed2178a9f783e0"
      }
     },
     "baefdb9f7c9a4de7a63d971893d18473": {
      "model_module": "jupyter-leaflet",
      "model_module_version": "~0.8.1",
      "model_name": "LeafletMapModel",
      "state": {
       "_dom_classes": [],
       "_model_module_version": "~0.8.1",
       "_view_count": null,
       "_view_module_version": "~0.8.1",
       "basemap": {
        "attribution": "Map data (c) <a href=\"https://openstreetmap.org\">OpenStreetMap</a> contributors",
        "max_zoom": 19,
        "url": "https://{s}.tile.openstreetmap.org/{z}/{x}/{y}.png"
       },
       "center": [
        51.5,
        -0.175
       ],
       "layers": [
        "IPY_MODEL_c3eb77aad9434710bafe9bb70ee030bc"
       ],
       "layout": "IPY_MODEL_4b4661298c874cf6bb7975df2d97e923",
       "modisdate": "yesterday",
       "options": [
        "attribution_control",
        "basemap",
        "bounce_at_zoom_limits",
        "box_zoom",
        "center",
        "close_popup_on_click",
        "double_click_zoom",
        "dragging",
        "inertia",
        "inertia_deceleration",
        "inertia_max_speed",
        "keyboard",
        "keyboard_pan_offset",
        "keyboard_zoom_offset",
        "max_zoom",
        "min_zoom",
        "scroll_wheel_zoom",
        "tap",
        "tap_tolerance",
        "touch_zoom",
        "world_copy_jump",
        "zoom",
        "zoom_animation_threshold",
        "zoom_control",
        "zoom_start"
       ],
       "zoom": 20
      }
     },
     "bbe9ba5daa0144229b6a2c86d45a930c": {
      "model_module": "@jupyter-widgets/base",
      "model_module_version": "1.0.0",
      "model_name": "LayoutModel",
      "state": {}
     },
     "bbf558cc8df0410ca0cd874e6246fc9a": {
      "model_module": "@jupyter-widgets/controls",
      "model_module_version": "1.1.0",
      "model_name": "LinkModel",
      "state": {
       "source": [
        "IPY_MODEL_02f1af6b433046c197e76e24af431aad",
        "value"
       ],
       "target": [
        "IPY_MODEL_b019140b01b245b881e723451c0a7983",
        "value"
       ]
      }
     },
     "bc23cddae1e54d0da07f0633d7774648": {
      "model_module": "@jupyter-widgets/base",
      "model_module_version": "1.0.0",
      "model_name": "LayoutModel",
      "state": {}
     },
     "bc7918ce88e348f78b0227d7815e7cab": {
      "model_module": "jupyter-leaflet",
      "model_module_version": "~0.8.1",
      "model_name": "LeafletCircleMarkerModel",
      "state": {
       "_model_module_version": "~0.8.1",
       "_view_count": null,
       "_view_module_version": "~0.8.1",
       "color": "yellow",
       "fill_color": "#ff0000",
       "location": [
        51.5,
        -0.174
       ],
       "options": [
        "class_name",
        "clickable",
        "color",
        "dash_array",
        "fill",
        "fill_color",
        "fill_opacity",
        "line_cap",
        "line_join",
        "opacity",
        "pointer_events",
        "radius",
        "stroke",
        "weight"
       ],
       "radius": 10
      }
     },
     "bd49ba37319048209ede47e47c77a045": {
      "model_module": "@jupyter-widgets/controls",
      "model_module_version": "1.1.0",
      "model_name": "FloatSliderModel",
      "state": {
       "description": "x",
       "layout": "IPY_MODEL_26bead3385764e2a87d3bdaf077090fc",
       "step": 0.1,
       "style": "IPY_MODEL_cbe39ce7ec9f4d45b987c80c66961055",
       "value": 100
      }
     },
     "bd586ae3618446f5bf838b1dcf8adeb0": {
      "model_module": "@jupyter-widgets/controls",
      "model_module_version": "1.1.0",
      "model_name": "LinkModel",
      "state": {
       "source": [
        "IPY_MODEL_df8dcc2dd0f4481899bccc14b3a59159",
        "value"
       ],
       "target": [
        "IPY_MODEL_671d6cd939a14496aba949b01eb4a167",
        "value"
       ]
      }
     },
     "bd66e445258f4a1e8b60b0627148025f": {
      "model_module": "jupyter-leaflet",
      "model_module_version": "~0.8.1",
      "model_name": "LeafletCircleMarkerModel",
      "state": {
       "_model_module_version": "~0.8.1",
       "_view_count": null,
       "_view_module_version": "~0.8.1",
       "color": "red",
       "fill_color": "#ff0000",
       "location": [
        51.5,
        -0.175
       ],
       "options": [
        "class_name",
        "clickable",
        "color",
        "dash_array",
        "fill",
        "fill_color",
        "fill_opacity",
        "line_cap",
        "line_join",
        "opacity",
        "pointer_events",
        "radius",
        "stroke",
        "weight"
       ],
       "radius": 5
      }
     },
     "be62b4b6c6bb44698c84c6182e6422b5": {
      "model_module": "jupyter-leaflet",
      "model_module_version": "~0.8.1",
      "model_name": "LeafletMapModel",
      "state": {
       "_dom_classes": [],
       "_model_module_version": "~0.8.1",
       "_view_count": null,
       "_view_module_version": "~0.8.1",
       "basemap": {
        "attribution": "Map data (c) <a href=\"https://openstreetmap.org\">OpenStreetMap</a> contributors",
        "max_zoom": 19,
        "url": "https://{s}.tile.openstreetmap.org/{z}/{x}/{y}.png"
       },
       "center": [
        51.5,
        -0.173
       ],
       "east": -0.1703685522079468,
       "layers": [
        "IPY_MODEL_2485a7ab2b4d4371bfd6fc4465acd82e"
       ],
       "layout": "IPY_MODEL_31be3aea19f74674a610a47e847607fd",
       "modisdate": "yesterday",
       "north": 51.500668553858276,
       "options": [
        "attribution_control",
        "basemap",
        "bounce_at_zoom_limits",
        "box_zoom",
        "center",
        "close_popup_on_click",
        "double_click_zoom",
        "dragging",
        "inertia",
        "inertia_deceleration",
        "inertia_max_speed",
        "keyboard",
        "keyboard_pan_offset",
        "keyboard_zoom_offset",
        "max_zoom",
        "min_zoom",
        "scroll_wheel_zoom",
        "tap",
        "tap_tolerance",
        "touch_zoom",
        "world_copy_jump",
        "zoom",
        "zoom_animation_threshold",
        "zoom_control",
        "zoom_start"
       ],
       "south": 51.49933278238175,
       "west": -0.17563104629516604,
       "zoom": 20
      }
     },
     "bfb0ae97c8a04bc09d5600e1a097633f": {
      "model_module": "@jupyter-widgets/base",
      "model_module_version": "1.0.0",
      "model_name": "LayoutModel",
      "state": {
       "height": "350px"
      }
     },
     "c0066f66f24143868b8ba5589e74dd50": {
      "model_module": "@jupyter-widgets/controls",
      "model_module_version": "1.1.0",
      "model_name": "HBoxModel",
      "state": {
       "children": [
        "IPY_MODEL_82b9e0ca5ecf4e679f5e8c5cf7890a10",
        "IPY_MODEL_b1b0c1aa3edc491791ef997ca964ef94"
       ],
       "layout": "IPY_MODEL_f64905b8f4f14d7381d66b4017eaf2bf"
      }
     },
     "c01882682d9a4fb7aa277e4289146aa7": {
      "model_module": "jupyter-leaflet",
      "model_module_version": "~0.8.1",
      "model_name": "LeafletTileLayerModel",
      "state": {
       "_model_module_version": "~0.8.1",
       "_view_count": null,
       "_view_module_version": "~0.8.1",
       "base": true,
       "max_zoom": 19,
       "min_zoom": 1,
       "options": [
        "attribution",
        "detect_retina",
        "max_zoom",
        "min_zoom",
        "tile_size"
       ]
      }
     },
     "c0ba1bff0ed745d6a91e052ec39b395c": {
      "model_module": "@jupyter-widgets/controls",
      "model_module_version": "1.1.0",
      "model_name": "VBoxModel",
      "state": {
       "_dom_classes": [
        "widget-interact"
       ],
       "children": [
        "IPY_MODEL_434e1ebf228b430ebf71d27e3f2f3da5",
        "IPY_MODEL_087ca5e532a043528ce58134ae133d0e"
       ],
       "layout": "IPY_MODEL_38e0138f498c4c1ea05a1c036f25ff6f"
      }
     },
     "c13409a464ee44f29870459ef720b0b1": {
      "model_module": "@jupyter-widgets/controls",
      "model_module_version": "1.1.0",
      "model_name": "HBoxModel",
      "state": {
       "children": [
        "IPY_MODEL_1444d139448d4c71a6cb0a20088a029d",
        "IPY_MODEL_2e4b6b5b7b12436d86628741e0a4e61f"
       ],
       "layout": "IPY_MODEL_4290e6bab5d84d3ab228369b9b0a3f15"
      }
     },
     "c2637f2db5a74ada81f3b351755b15c6": {
      "model_module": "@jupyter-widgets/controls",
      "model_module_version": "1.1.0",
      "model_name": "FloatSliderModel",
      "state": {
       "description": "x",
       "layout": "IPY_MODEL_b943ff90c2ed4dca857becb4d1d15c83",
       "step": 0.1,
       "style": "IPY_MODEL_369dcb6ea88c4f4db335a3e45e95230b"
      }
     },
     "c2b826440ecd4cf4956a6df3c07860f8": {
      "model_module": "jupyter-leaflet",
      "model_module_version": "~0.8.1",
      "model_name": "LeafletMapModel",
      "state": {
       "_dom_classes": [],
       "_model_module_version": "~0.8.1",
       "_view_count": null,
       "_view_module_version": "~0.8.1",
       "basemap": {
        "attribution": "Map data (c) <a href=\"https://openstreetmap.org\">OpenStreetMap</a> contributors",
        "max_zoom": 19,
        "url": "https://{s}.tile.openstreetmap.org/{z}/{x}/{y}.png"
       },
       "center": [
        49.61426925505115,
        -0.022659301757812503
       ],
       "east": 0.6509399414062501,
       "layers": [
        "IPY_MODEL_781fcaed0e384b3a8e210ba1129e7457"
       ],
       "layout": "IPY_MODEL_6e812c10a4dc49cbb1a67f8e74b06228",
       "modisdate": "yesterday",
       "north": 49.7919038200459,
       "options": [
        "attribution_control",
        "basemap",
        "bounce_at_zoom_limits",
        "box_zoom",
        "center",
        "close_popup_on_click",
        "double_click_zoom",
        "dragging",
        "inertia",
        "inertia_deceleration",
        "inertia_max_speed",
        "keyboard",
        "keyboard_pan_offset",
        "keyboard_zoom_offset",
        "max_zoom",
        "min_zoom",
        "scroll_wheel_zoom",
        "tap",
        "tap_tolerance",
        "touch_zoom",
        "world_copy_jump",
        "zoom",
        "zoom_animation_threshold",
        "zoom_control",
        "zoom_start"
       ],
       "south": 49.435984899682005,
       "west": -0.6962585449218751,
       "zoom": 10
      }
     },
     "c3eb77aad9434710bafe9bb70ee030bc": {
      "model_module": "jupyter-leaflet",
      "model_module_version": "~0.8.1",
      "model_name": "LeafletTileLayerModel",
      "state": {
       "_model_module_version": "~0.8.1",
       "_view_count": null,
       "_view_module_version": "~0.8.1",
       "base": true,
       "max_zoom": 19,
       "min_zoom": 1,
       "options": [
        "attribution",
        "detect_retina",
        "max_zoom",
        "min_zoom",
        "tile_size"
       ]
      }
     },
     "c48df844a8bf4433b32473fa5b02f642": {
      "model_module": "jupyter-leaflet",
      "model_module_version": "~0.8.1",
      "model_name": "LeafletMapModel",
      "state": {
       "_dom_classes": [],
       "_model_module_version": "~0.8.1",
       "_view_count": null,
       "_view_module_version": "~0.8.1",
       "basemap": {
        "attribution": "Map data (c) <a href=\"https://openstreetmap.org\">OpenStreetMap</a> contributors",
        "max_zoom": 19,
        "url": "https://{s}.tile.openstreetmap.org/{z}/{x}/{y}.png"
       },
       "center": [
        52,
        0
       ],
       "east": 0.674285888671875,
       "layers": [
        "IPY_MODEL_c01882682d9a4fb7aa277e4289146aa7"
       ],
       "layout": "IPY_MODEL_d1f61a22a1c9407caaba5a8a023f1c02",
       "modisdate": "yesterday",
       "north": 52.1688782453716,
       "options": [
        "attribution_control",
        "basemap",
        "bounce_at_zoom_limits",
        "box_zoom",
        "center",
        "close_popup_on_click",
        "double_click_zoom",
        "dragging",
        "inertia",
        "inertia_deceleration",
        "inertia_max_speed",
        "keyboard",
        "keyboard_pan_offset",
        "keyboard_zoom_offset",
        "max_zoom",
        "min_zoom",
        "scroll_wheel_zoom",
        "tap",
        "tap_tolerance",
        "touch_zoom",
        "world_copy_jump",
        "zoom",
        "zoom_animation_threshold",
        "zoom_control",
        "zoom_start"
       ],
       "south": 51.83068574881732,
       "west": -0.6729125976562501,
       "zoom": 10
      }
     },
     "c5ebf738c16d4b13a5c9a59f011e2b8a": {
      "model_module": "jupyter-leaflet",
      "model_module_version": "~0.8.1",
      "model_name": "LeafletCircleMarkerModel",
      "state": {
       "_model_module_version": "~0.8.1",
       "_view_count": null,
       "_view_module_version": "~0.8.1",
       "color": "red",
       "fill_color": "#ff0000",
       "location": [
        51.505,
        -0.177
       ],
       "options": [
        "class_name",
        "clickable",
        "color",
        "dash_array",
        "fill",
        "fill_color",
        "fill_opacity",
        "line_cap",
        "line_join",
        "opacity",
        "pointer_events",
        "radius",
        "stroke",
        "weight"
       ],
       "radius": 10
      }
     },
     "c77b56c8266844f29f36107ebdd9426a": {
      "model_module": "jupyter-leaflet",
      "model_module_version": "~0.8.1",
      "model_name": "LeafletCircleMarkerModel",
      "state": {
       "_model_module_version": "~0.8.1",
       "_view_count": null,
       "_view_module_version": "~0.8.1",
       "color": "yellow",
       "fill_color": "#ff0000",
       "location": [
        51.5,
        -0.174
       ],
       "options": [
        "class_name",
        "clickable",
        "color",
        "dash_array",
        "fill",
        "fill_color",
        "fill_opacity",
        "line_cap",
        "line_join",
        "opacity",
        "pointer_events",
        "radius",
        "stroke",
        "weight"
       ],
       "radius": 10
      }
     },
     "c867befb1ab7493a94202f30bf9fabae": {
      "model_module": "@jupyter-widgets/base",
      "model_module_version": "1.0.0",
      "model_name": "LayoutModel",
      "state": {}
     },
     "c9f00f0f3b724da28dd9fe5098689649": {
      "model_module": "@jupyter-widgets/base",
      "model_module_version": "1.0.0",
      "model_name": "LayoutModel",
      "state": {
       "height": "350px"
      }
     },
     "ca20b478ca4c44b59aba1499ac823fe6": {
      "model_module": "@jupyter-widgets/controls",
      "model_module_version": "1.1.0",
      "model_name": "FloatSliderModel",
      "state": {
       "description": "long",
       "layout": "IPY_MODEL_917b352c21e842499b1775652bc50440",
       "max": -0.176,
       "min": -0.178,
       "readout_format": ".4f",
       "step": 0.0001,
       "style": "IPY_MODEL_9ae02e119ce34fa3880918201a77132d",
       "value": -0.1773
      }
     },
     "cab84577909b4b9ba67ec21005e5e260": {
      "model_module": "@jupyter-widgets/base",
      "model_module_version": "1.0.0",
      "model_name": "LayoutModel",
      "state": {}
     },
     "cac2f9588239421096acd63d7be54214": {
      "model_module": "@jupyter-widgets/base",
      "model_module_version": "1.0.0",
      "model_name": "LayoutModel",
      "state": {}
     },
     "cb6c26b208e047e98e5513b346efc261": {
      "model_module": "@jupyter-widgets/output",
      "model_module_version": "1.0.0",
      "model_name": "OutputModel",
      "state": {
       "layout": "IPY_MODEL_f08e4b61e08148ea9d2ea7503413fd2a"
      }
     },
     "cb8d8b83bdc44db1a699776f040c841c": {
      "model_module": "@jupyter-widgets/controls",
      "model_module_version": "1.1.0",
      "model_name": "HBoxModel",
      "state": {
       "children": [
        "IPY_MODEL_1c43199b16f64056a4b03e91a1697e2a",
        "IPY_MODEL_b76592812fc34099a684707e7dba31a2"
       ],
       "layout": "IPY_MODEL_187001a858f048849c1e9b0c9bcc0ada"
      }
     },
     "cbe39ce7ec9f4d45b987c80c66961055": {
      "model_module": "@jupyter-widgets/controls",
      "model_module_version": "1.1.0",
      "model_name": "SliderStyleModel",
      "state": {
       "description_width": ""
      }
     },
     "cbed0db8a2044d4b9bc62b7edf43bc2e": {
      "model_module": "jupyter-leaflet",
      "model_module_version": "~0.8.1",
      "model_name": "LeafletTileLayerModel",
      "state": {
       "_model_module_version": "~0.8.1",
       "_view_count": null,
       "_view_module_version": "~0.8.1",
       "base": true,
       "max_zoom": 19,
       "min_zoom": 1,
       "options": [
        "attribution",
        "detect_retina",
        "max_zoom",
        "min_zoom",
        "tile_size"
       ]
      }
     },
     "cc6561c3aca940cbafce0e54bd735745": {
      "model_module": "jupyter-leaflet",
      "model_module_version": "~0.8.1",
      "model_name": "LeafletCircleMarkerModel",
      "state": {
       "_model_module_version": "~0.8.1",
       "_view_count": null,
       "_view_module_version": "~0.8.1",
       "color": "#000000",
       "fill_color": "#ff0000",
       "location": [
        51.5,
        -0.175
       ],
       "options": [
        "class_name",
        "clickable",
        "color",
        "dash_array",
        "fill",
        "fill_color",
        "fill_opacity",
        "line_cap",
        "line_join",
        "opacity",
        "pointer_events",
        "radius",
        "stroke",
        "weight"
       ],
       "radius": 5
      }
     },
     "ccd6ef72d04a489ca540b1b073d40f4d": {
      "model_module": "jupyter-leaflet",
      "model_module_version": "~0.8.1",
      "model_name": "LeafletCircleMarkerModel",
      "state": {
       "_model_module_version": "~0.8.1",
       "_view_count": null,
       "_view_module_version": "~0.8.1",
       "color": "red",
       "fill_color": "#ff0000",
       "location": [
        51.5,
        -0.175
       ],
       "options": [
        "class_name",
        "clickable",
        "color",
        "dash_array",
        "fill",
        "fill_color",
        "fill_opacity",
        "line_cap",
        "line_join",
        "opacity",
        "pointer_events",
        "radius",
        "stroke",
        "weight"
       ],
       "radius": 10
      }
     },
     "cd8de952d7994452a41c2c44a50e3b33": {
      "model_module": "@jupyter-widgets/controls",
      "model_module_version": "1.1.0",
      "model_name": "PlayModel",
      "state": {
       "description": "Press play",
       "layout": "IPY_MODEL_b99bd970b7a747868296027a6ed95c0f",
       "style": "IPY_MODEL_a026eafda6054adf9f002cd152849e63",
       "value": 50
      }
     },
     "cd923c1a2e7544b0ac820a730c13afb9": {
      "model_module": "@jupyter-widgets/controls",
      "model_module_version": "1.1.0",
      "model_name": "LinkModel",
      "state": {
       "source": [
        "IPY_MODEL_1444d139448d4c71a6cb0a20088a029d",
        "value"
       ],
       "target": [
        "IPY_MODEL_2e4b6b5b7b12436d86628741e0a4e61f",
        "value"
       ]
      }
     },
     "cd989cc50a944ebc992c6e57d66b0068": {
      "model_module": "@jupyter-widgets/controls",
      "model_module_version": "1.1.0",
      "model_name": "HBoxModel",
      "state": {
       "children": [
        "IPY_MODEL_f15ae66005874892b8c7301a1f29fdbc",
        "IPY_MODEL_1940c77283cd4f57a28284cc0a2fa4bd"
       ],
       "layout": "IPY_MODEL_5dde797d088c493287249c9ebf8f9c70"
      }
     },
     "cdbcfe6239d948c090677c0bcbdd1c20": {
      "model_module": "@jupyter-widgets/output",
      "model_module_version": "1.0.0",
      "model_name": "OutputModel",
      "state": {
       "layout": "IPY_MODEL_273f075b28b54680954723f4b2760195",
       "outputs": [
        {
         "name": "stdout",
         "output_type": "stream",
         "text": "50.0\n"
        },
        {
         "data": {
          "image/png": "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\n",
          "text/plain": "<matplotlib.figure.Figure at 0x10587b4e0>"
         },
         "metadata": {},
         "output_type": "display_data"
        }
       ]
      }
     },
     "cdc8f5263e3a47af805cd0427d2fa138": {
      "model_module": "jupyter-leaflet",
      "model_module_version": "~0.8.1",
      "model_name": "LeafletMapModel",
      "state": {
       "_dom_classes": [],
       "_model_module_version": "~0.8.1",
       "_view_count": null,
       "_view_module_version": "~0.8.1",
       "basemap": {
        "attribution": "Map data (c) <a href=\"https://openstreetmap.org\">OpenStreetMap</a> contributors",
        "max_zoom": 19,
        "url": "https://{s}.tile.openstreetmap.org/{z}/{x}/{y}.png"
       },
       "center": [
        51.49946636129119,
        -0.17473518848419192
       ],
       "east": -180,
       "layers": [
        "IPY_MODEL_6b994b345d3848aca68d21c1829ee7aa",
        "IPY_MODEL_4370511c62cd4e89a67b73e3fe08e3a4"
       ],
       "layout": "IPY_MODEL_db5859b328cc43daa9b3870ecd9393a1",
       "modisdate": "yesterday",
       "north": -90,
       "options": [
        "attribution_control",
        "basemap",
        "bounce_at_zoom_limits",
        "box_zoom",
        "center",
        "close_popup_on_click",
        "double_click_zoom",
        "dragging",
        "inertia",
        "inertia_deceleration",
        "inertia_max_speed",
        "keyboard",
        "keyboard_pan_offset",
        "keyboard_zoom_offset",
        "max_zoom",
        "min_zoom",
        "scroll_wheel_zoom",
        "tap",
        "tap_tolerance",
        "touch_zoom",
        "world_copy_jump",
        "zoom",
        "zoom_animation_threshold",
        "zoom_control",
        "zoom_start"
       ],
       "south": 90,
       "west": 180,
       "zoom": 18
      }
     },
     "cde2b651a35e48d0a9626c6514eb57d5": {
      "model_module": "@jupyter-widgets/base",
      "model_module_version": "1.0.0",
      "model_name": "LayoutModel",
      "state": {}
     },
     "d0a9038383814630bf8252f6b83823f6": {
      "model_module": "@jupyter-widgets/controls",
      "model_module_version": "1.1.0",
      "model_name": "FloatSliderModel",
      "state": {
       "description": "x",
       "layout": "IPY_MODEL_ff7104fedc55488a925953d8f33b21a9",
       "step": 0.1,
       "style": "IPY_MODEL_a4a915e3e6704d7c839658c17c546b59"
      }
     },
     "d13be70cb49048deaeaf4160ad891fdc": {
      "model_module": "@jupyter-widgets/controls",
      "model_module_version": "1.1.0",
      "model_name": "DescriptionStyleModel",
      "state": {
       "description_width": ""
      }
     },
     "d1f61a22a1c9407caaba5a8a023f1c02": {
      "model_module": "@jupyter-widgets/base",
      "model_module_version": "1.0.0",
      "model_name": "LayoutModel",
      "state": {}
     },
     "d228829fc9004a5f86d40bef78e33155": {
      "model_module": "@jupyter-widgets/controls",
      "model_module_version": "1.1.0",
      "model_name": "LinkModel",
      "state": {
       "source": [
        "IPY_MODEL_20eb8bfd9299466ab9815acfa00e7df0",
        "value"
       ],
       "target": [
        "IPY_MODEL_5c939cb88efa4a53b9c9ece17c86e509",
        "value"
       ]
      }
     },
     "d2e3d1ad11504f51887e982c67e51d07": {
      "model_module": "@jupyter-widgets/base",
      "model_module_version": "1.0.0",
      "model_name": "LayoutModel",
      "state": {}
     },
     "d406a29ac6a249a395686ee6e530e673": {
      "model_module": "@jupyter-widgets/controls",
      "model_module_version": "1.1.0",
      "model_name": "DescriptionStyleModel",
      "state": {
       "description_width": ""
      }
     },
     "d4970482d9d7432ab025baca91c689a6": {
      "model_module": "jupyter-leaflet",
      "model_module_version": "~0.8.1",
      "model_name": "LeafletTileLayerModel",
      "state": {
       "_model_module_version": "~0.8.1",
       "_view_count": null,
       "_view_module_version": "~0.8.1",
       "base": true,
       "max_zoom": 19,
       "min_zoom": 1,
       "options": [
        "attribution",
        "detect_retina",
        "max_zoom",
        "min_zoom",
        "tile_size"
       ]
      }
     },
     "d4a244bfc91942568bd7f1270e525a32": {
      "model_module": "@jupyter-widgets/base",
      "model_module_version": "1.0.0",
      "model_name": "LayoutModel",
      "state": {}
     },
     "d4c4a274d4a34798a21ed51dfa782583": {
      "model_module": "@jupyter-widgets/base",
      "model_module_version": "1.0.0",
      "model_name": "LayoutModel",
      "state": {
       "height": "350px"
      }
     },
     "d52506b60dec4f878876ea99cd9c7c11": {
      "model_module": "jupyter-leaflet",
      "model_module_version": "~0.8.1",
      "model_name": "LeafletTileLayerModel",
      "state": {
       "_model_module_version": "~0.8.1",
       "_view_count": null,
       "_view_module_version": "~0.8.1",
       "base": true,
       "max_zoom": 19,
       "min_zoom": 1,
       "options": [
        "attribution",
        "detect_retina",
        "max_zoom",
        "min_zoom",
        "tile_size"
       ]
      }
     },
     "d5b0170de2c84f20ad6a7a726fe98d1b": {
      "model_module": "jupyter-leaflet",
      "model_module_version": "~0.8.1",
      "model_name": "LeafletMapModel",
      "state": {
       "_dom_classes": [],
       "_model_module_version": "~0.8.1",
       "_view_count": null,
       "_view_module_version": "~0.8.1",
       "basemap": {
        "attribution": "Map data (c) <a href=\"https://openstreetmap.org\">OpenStreetMap</a> contributors",
        "max_zoom": 19,
        "url": "https://{s}.tile.openstreetmap.org/{z}/{x}/{y}.png"
       },
       "center": [
        51.50000067301382,
        -0.17500072717666626
       ],
       "dragging": false,
       "east": -0.17290592193603518,
       "layers": [
        "IPY_MODEL_341ff44e3ccc4595ae08161f30900078",
        "IPY_MODEL_4b921d086f734c16bc8d6993584e74d7"
       ],
       "layout": "IPY_MODEL_7aaec3037ab5478db9885d2f071803db",
       "modisdate": "yesterday",
       "north": 51.500668553858276,
       "options": [
        "attribution_control",
        "basemap",
        "bounce_at_zoom_limits",
        "box_zoom",
        "center",
        "close_popup_on_click",
        "double_click_zoom",
        "dragging",
        "inertia",
        "inertia_deceleration",
        "inertia_max_speed",
        "keyboard",
        "keyboard_pan_offset",
        "keyboard_zoom_offset",
        "max_zoom",
        "min_zoom",
        "scroll_wheel_zoom",
        "tap",
        "tap_tolerance",
        "touch_zoom",
        "world_copy_jump",
        "zoom",
        "zoom_animation_threshold",
        "zoom_control",
        "zoom_start"
       ],
       "south": 51.49933278238175,
       "west": -0.1770955324172974,
       "zoom": 20,
       "zoom_control": false
      }
     },
     "d7008e87db834cd7b6e6230bdbdc2537": {
      "model_module": "@jupyter-widgets/base",
      "model_module_version": "1.0.0",
      "model_name": "LayoutModel",
      "state": {}
     },
     "d7c2f89291af4826b2c061b555c9353d": {
      "model_module": "jupyter-leaflet",
      "model_module_version": "~0.8.1",
      "model_name": "LeafletMapModel",
      "state": {
       "_dom_classes": [],
       "_model_module_version": "~0.8.1",
       "_view_count": null,
       "_view_module_version": "~0.8.1",
       "basemap": {
        "attribution": "Map data (c) <a href=\"https://openstreetmap.org\">OpenStreetMap</a> contributors",
        "max_zoom": 19,
        "url": "https://{s}.tile.openstreetmap.org/{z}/{x}/{y}.png"
       },
       "center": [
        51.501,
        -0.177
       ],
       "dragging": false,
       "east": -0.17490684986114502,
       "layers": [
        "IPY_MODEL_eaf37c8a5355439ca0e3842236b4e0ab",
        "IPY_MODEL_7f3006e1785045998b7ea62fec552c64",
        "IPY_MODEL_064db2bffc234cc0b7bcad7c639e17db"
       ],
       "layout": "IPY_MODEL_43ec9fb79bfe473fa971cae261757540",
       "modisdate": "yesterday",
       "north": 51.50166701746684,
       "options": [
        "attribution_control",
        "basemap",
        "bounce_at_zoom_limits",
        "box_zoom",
        "center",
        "close_popup_on_click",
        "double_click_zoom",
        "dragging",
        "inertia",
        "inertia_deceleration",
        "inertia_max_speed",
        "keyboard",
        "keyboard_pan_offset",
        "keyboard_zoom_offset",
        "max_zoom",
        "min_zoom",
        "scroll_wheel_zoom",
        "tap",
        "tap_tolerance",
        "touch_zoom",
        "world_copy_jump",
        "zoom",
        "zoom_animation_threshold",
        "zoom_control",
        "zoom_start"
       ],
       "south": 51.500331275255164,
       "west": -0.17909646034240723,
       "zoom": 20,
       "zoom_control": false
      }
     },
     "d8068634dc2a4a75bd821cdc0179271b": {
      "model_module": "@jupyter-widgets/base",
      "model_module_version": "1.0.0",
      "model_name": "LayoutModel",
      "state": {}
     },
     "d985c9c80d8f49e09c8946f940d976a2": {
      "model_module": "@jupyter-widgets/controls",
      "model_module_version": "1.1.0",
      "model_name": "VBoxModel",
      "state": {
       "_dom_classes": [
        "widget-interact"
       ],
       "children": [
        "IPY_MODEL_c2637f2db5a74ada81f3b351755b15c6",
        "IPY_MODEL_df5a06e160104c06aeec710a2914b0e7"
       ],
       "layout": "IPY_MODEL_8ac943f31345403cb73b607c26d69983"
      }
     },
     "d99860e0173a4e9ab3a880759d5047b9": {
      "model_module": "@jupyter-widgets/base",
      "model_module_version": "1.0.0",
      "model_name": "LayoutModel",
      "state": {}
     },
     "d9beb08b5007420382f310b5662ecf09": {
      "model_module": "@jupyter-widgets/base",
      "model_module_version": "1.0.0",
      "model_name": "LayoutModel",
      "state": {}
     },
     "daa4ce2d5f714c31a974728d6e06bd98": {
      "model_module": "@jupyter-widgets/controls",
      "model_module_version": "1.1.0",
      "model_name": "VBoxModel",
      "state": {
       "_dom_classes": [
        "widget-interact"
       ],
       "children": [
        "IPY_MODEL_188351dde5ca4ceaba22be5be2e1b179",
        "IPY_MODEL_dc3b2a4ff6f449119b45f0b257741985"
       ],
       "layout": "IPY_MODEL_d2e3d1ad11504f51887e982c67e51d07"
      }
     },
     "db5859b328cc43daa9b3870ecd9393a1": {
      "model_module": "@jupyter-widgets/base",
      "model_module_version": "1.0.0",
      "model_name": "LayoutModel",
      "state": {}
     },
     "db6dedea8b024ef3a50fa52de10c9e65": {
      "model_module": "jupyter-leaflet",
      "model_module_version": "~0.8.1",
      "model_name": "LeafletMapModel",
      "state": {
       "_dom_classes": [],
       "_model_module_version": "~0.8.1",
       "_view_count": null,
       "_view_module_version": "~0.8.1",
       "basemap": {
        "attribution": "Map data (c) <a href=\"https://openstreetmap.org\">OpenStreetMap</a> contributors",
        "max_zoom": 19,
        "url": "https://{s}.tile.openstreetmap.org/{z}/{x}/{y}.png"
       },
       "center": [
        51.5,
        -0.175
       ],
       "layers": [
        "IPY_MODEL_b5599f7409de4e9ca7f9d7cda0380e8a"
       ],
       "layout": "IPY_MODEL_77bbd06ce3064b79939bde25cabcaadd",
       "modisdate": "yesterday",
       "options": [
        "attribution_control",
        "basemap",
        "bounce_at_zoom_limits",
        "box_zoom",
        "center",
        "close_popup_on_click",
        "double_click_zoom",
        "dragging",
        "inertia",
        "inertia_deceleration",
        "inertia_max_speed",
        "keyboard",
        "keyboard_pan_offset",
        "keyboard_zoom_offset",
        "max_zoom",
        "min_zoom",
        "scroll_wheel_zoom",
        "tap",
        "tap_tolerance",
        "touch_zoom",
        "world_copy_jump",
        "zoom",
        "zoom_animation_threshold",
        "zoom_control",
        "zoom_start"
       ],
       "zoom": 20
      }
     },
     "db875a93bbe14749a189094872b2b733": {
      "model_module": "@jupyter-widgets/base",
      "model_module_version": "1.0.0",
      "model_name": "LayoutModel",
      "state": {}
     },
     "dbfeb9ba0ba7400c922caf64444d88fb": {
      "model_module": "jupyter-leaflet",
      "model_module_version": "~0.8.1",
      "model_name": "LeafletTileLayerModel",
      "state": {
       "_model_module_version": "~0.8.1",
       "_view_count": null,
       "_view_module_version": "~0.8.1",
       "base": true,
       "max_zoom": 19,
       "min_zoom": 1,
       "options": [
        "attribution",
        "detect_retina",
        "max_zoom",
        "min_zoom",
        "tile_size"
       ]
      }
     },
     "dc3b2a4ff6f449119b45f0b257741985": {
      "model_module": "@jupyter-widgets/output",
      "model_module_version": "1.0.0",
      "model_name": "OutputModel",
      "state": {
       "layout": "IPY_MODEL_56a7430195db49e290f4874f962422e2",
       "outputs": [
        {
         "name": "stdout",
         "output_type": "stream",
         "text": "50.0\n"
        },
        {
         "data": {
          "image/png": "iVBORw0KGgoAAAANSUhEUgAAAYEAAAD7CAYAAACMlyg3AAAABHNCSVQICAgIfAhkiAAAAAlwSFlzAAALEgAACxIB0t1+/AAAADl0RVh0U29mdHdhcmUAbWF0cGxvdGxpYiB2ZXJzaW9uIDIuMS4xLCBodHRwOi8vbWF0cGxvdGxpYi5vcmcvAOZPmwAADaZJREFUeJzt3bFuI8mdx/Hfzxg42USWTsBFG1AGbmOafgM6uFzjeQPOAxwwT2DgTnqD4QLOB1Z+wdLhRcdVdMElouHMgCyZl9nR/wJVDzlcSmxSLPYu/98PIKi72Owqtcj+sarYpCNCAICcftZ1AwAA3SEEACAxQgAAEiMEACCxvYSA7f7K+qXtoe0PL5UBALr16hCwPZT07dJ6X5IiYiJpbru/ruy19QIAXu/VIVBO7I9LRe8kzcvyTNLwmTIAQMdqzAmc6MtQOHumDADQMSaGASCxNxX2OZd0WpZPJD2U5XVlAIAO1QiBT5IGZbknaVKW15V9ZnskaSRJX3311a+++eabCk0DgOP1/fff/zUizre5z6tDwPalpIHty4i4iYhb24PyrqF5RNyW7X5QtiwixpLGkjQYDGI6nb62aQCQiu0/b3ufV4dARNxIulkpG6/Z7gdlAIBuMTEMAIkRAgCQGCEAAIkRAgCQGCEAAIkRAgCQGCEAAIkRAgCQGCEAAIkRAgCQGCEAAIkRAgCQGCEAAIkRAgCQGCEAAIkRAgCQGCEAAIkRAgCQGCEAAIntPQRs922H7bvy87GUX5Xfo33XCQDYzau/aH6N04iw9BQIkualfGT7UtL7CnUCAHaw955AREyWVnsRMSvLbyPiYuV2AECHavQEJEm2h5KWT/h925LUj4jrWvUCANqrOTH8m4hohoIUEdelF3BWAgIA0LGaIdBvFmxflvkASXqQ1Fvd2PbI9tT29P7+vmKzAACNKiFgu6fFhLAkzbQYGrqQNF29T0SMI2IQEYPz8/MazQIArKg2JyDpsVmIiNvySv9R0l1E3FasFwDQUpUQKO8Ier9SNq5RFwBgd1wxDACJEQIAkBghAACJEQIAkBghAACJEQIAkBghAACJEQIAkBghAACJEQIAkBghAACJEQIAkBghAACJEQIAkBghAACJEQIAkBghAACJEQIAkBghAACJVQkB21fl92ip7NL20PaHGnUCALZXqycwsn0naSZJtvuSFBETSfNmHQDQrVoh8DYiLspJX5LeSZqX5ZmkYaV6AQBbeFNpv33bktSPiGtJJ5Iel24/q1QvAGALVXoCEXFdegFntlu96rc9sj21Pb2/v6/RLADAir2HQJkAviyrD5J6ehoKOi1lJ6X8CxExjohBRAzOz8/33SwAwBo1egIzSc1cwIWkqaRPegoDld+TNfcDABzY3ucEIuK2DO08SrqLiFtJsj0oQ0PzpgwA0K0qE8MRMW5TBgDoFlcMA0BihAAAJEYIAEBihAAAJEYIAEBihAAAJEYIAEBihAAAJEYIAEBihAAAJEYIAEBihAAAJEYIAEBihAAAJEYIAEBihAAAJEYIAEBihAAAJFYlBMp3DI9sXy2VXTW31agTALC9vYdA+TL5SflO4V5Zl6SR7TtJs33XCQDYTY2eQE9Sc+KflXVJehsRFxExqVAnAGAHb/a9w9IDaPQlfWqWbUtSPyKu910vAGB71SaGbfclfRcRt5IUEdelF3C2NES0vP3I9tT29P7+vlazAABLar47aNi84rd9afuylD9oMUT0WUSMI2IQEYPz8/OKzQIANKq9O2gpAIZ6mhto5gIuJE1r1AsA2E6tdwdd2b6z/TdJKkNCvy29gbtmiAgA0K0aE8MTSb9YUz5eszkAoENcMQwAiRECAJAYIQAAiRECAJAYIQAAiRECAJAYIQAAiRECAJAYIQAAiRECAJAYIQAAiRECAJAYIQAAiRECAJAYIQAAiRECAJAYIQAAiRECAJDY3r9e8jnl+4XnkvrNl9ADALp1kJ6A7b70+fuH5806AKBbhxoOeqenXoAkzSQND1QvAOAFhxoOOpH0uLR+9tLGf/m/v+s//vN/X9xhKNrV3GKzlntSxOYtW2zSus72+2q3Ydv9tdtXi2PRel8tttnz37jP499mb63bdeBjsc//0dP+9ldpu/9Ry2PRal+tdrXf80XLfbXfcHsHmxPYxPZI0kiSfv7Pv9Tv/+tPm+/Tet8ttmm5t3b7asctdtZ2X203bLNZm3Y9bbef+trWuc//d9s9tt1Xu+Padl+HblfrA9auzjaPi5/4sdjn83Kfz5FdHCoE5pJOy/KJpIfVDSJiLGksSYPBIKa/+9cDNQ0AjoP/bfv7HGpO4JOkXlnuSZocqF4AwAsOEgIRcStJtoeS5s06AKBbB5sTKMM9AIAfEa4YBoDECAEASIwQAIDECAEASIwQAIDECAEASIwQAIDECAEASIwQAIDECAEASIwQAIDECAEASIwQAIDECAEASIwQAIDECAEASIwQAIDECAEASIwQAIDEqoSA7VH5uVoqu2puq1EnAGB7ew8B20NJk/LF8r2yLkkj23eSZvuuEwCwmxo9gZ6k5sQ/K+uS9DYiLiJiUqFOAMAO3ux7h6UH0OhL+tQs25akfkRcr96vDBONJOnrr7/ed7MAAGtUmxi23Zf0XUTcSlJEXJdewNnSENFnETGOiEFEDM7Pz2s1CwCwZKeewDOTu7OVoZ5h84rf9qUkRcSNpActhogAAB3aKQRWhnx+wPZoKQCGepobaCaELyR93KVeAMB+1Xp30JXtO9t/k6QyJPTb0iO4a4aIAADdqjExPJH0izXlL/YeAACHxxXDAJAYIQAAiRECAJAYIQAAiRECAJAYIQAAiRECAJAYIQAAiRECAJAYIQAAiRECAJAYIQAAiRECAJAYIQAAiRECAJAYIQAAiRECAJAYIQAAiVUJAdtX5fdoqezS9tD2hxp1AgC2V6snMLJ9J2kmSbb70ufvH5436wCAbtUKgbcRcVFO+pL0TtK8LM8kDSvVCwDYwptK++3blqR+RFxLOpH0uHT7WaV6AQBbqNITiIjr0gs4s93qVb/tke2p7en9/X2NZgEAVuzUE1ie8F0yi4iJ7UtJiogbSQ+SenoaCjot252U8i9ExFjSWJIGg0Hs0i4AwHZ2CoFywn7OrPxI0oWkj5KmkgalrCdpsuZ+AIAD2/ucQETclqGdR0l3EXErSbYHZWho3pQBALpVZWJ4XU9hQ+8BANABrhgGgMQIAQBIjBAAgMQIAQBIjBAAgMQIAQBIjBAAgMQIAQBIjBAAgMQIAQBIjBAAgMQIAQBIjBAAgMQIAQBIjBAAgMQIAQBIjBAAgMQIAQBIbO8hYLtvO2zflZ+Ppfyq/B7tu04AwG5qfMfwaURYegoESfNSPrJ9Kel9hToBADvYe08gIiZLq72ImJXltxFxsXI7AKBDNXoCkiTbQ0nLJ/y+bUnqR8R1rXoBAO3VnBj+TUQ0Q0GKiOvSCzgrAfEF2yPbU9vT+/v7is0CADR26gk8M7k7Wxnq6S9tfylJEXEj6UFSb/XOETGWNJakwWAQu7QLALCdnUKgnLCfZbunxYSwJM3KjyRdSPq4S70AgP2qNicg6bFZiIjbMtzzKOkuIm4r1gsAaKlKCJR3BL1fKXux9wAAODyuGAaAxAgBAEiMEACAxAgBAEiMEACAxAgBAEiMEACAxAgBAEiMEACAxAgBAEiMEACAxAgBAEiMEACAxAgBAEiMEACAxAgBAEiMEACAxPYSArb7K+uXtoe2P7xUBgDo1qtDwPZQ0rdL631JioiJpLnt/rqy19YLAHi9V4dAObE/LhW9kzQvyzNJw2fKAAAdqzEncKIvQ+HsmTIAQMeYGAaAxN5s2sD2aE3xrAwDrTOXdFqWTyQ9lOV1Zav1NHX9w/b/bGpbEv8k6a9dN+JHgmOxwLFY4Fgs/Mu2d9gYAhEx3nKfnyQNynJPUhMW68pW6xlLku1pRAxWt8mIY7HAsVjgWCxwLBZsT7e9zz7eHXQpaVB+KyJuS/lQ0jwibteVvbZeAMDrbewJbBIRN5JuVsp+0HvYoUcBAKjsxzoxTGAscCwWOBYLHIsFjsXC1sfCEVGjIcDOytDiXFI/Iq5f2O7DS7cDx8x2/7mh9bbPIelH0BPY9HESWT5uosVxGJWfq0O37ZDaXl1e5pd+fci2daHF46Jftrk8dNsObYtzxbp3NB6V1U9qWLltq09o6DQENjU2y8dNtDgOQ0mTMq/SK+vHiqvLi5aP//dlXq53rM8PqfW5onnr+uyYj4W09pMalm31HOq6J7CpsVlOCJv+zt5S2aysH6uNV5eXbvBz16kckxcfF+XV/50kRcT1kb/rrs25oOkl9478WGyy1Sc0dB0Cmxqb5eMmXvw7I2K89O6qvqSt3wt8ZE43b3IUNj3+fy3prAwJHfVwqTY/R2711AO40/OvkLFG1yGALZQu7ndH/irnuSvOJaXqBbT1sHQdztHPCzzH9omeHjsfJX1r+5h7y5u8+Bxa1XUIbGrsVn/MT1jbv3OY4N0wn7QY7vp8dXl5kktPY9/NROhRj4Nr8+PiTk9DIyq/j3mifNOxGEn69/L8eCspXSAuPUfWPoee03UIbHrCb/XH/IRtOg6yPWoC4Jgnhl+4uvyP5fabMhF6qqeTwTHb9LiYrNz+3wdt3WFtfI40msnjwzXt8FY/qaFoniNbfUJD59cJlLdzzfQ0mdN8dtD3EfGr524/Ri8dh/LP/IOexjpPJb1lSCSHls+Px3L7UfcSWxyLD+X202M+V+xb5yEAAOhO18NBAIAOEQIAkBghAACJEQIAkBghAACJEQIAkBghAACJEQIAkNj/A4BdTDOY0kxtAAAAAElFTkSuQmCC\n",
          "text/plain": "<matplotlib.figure.Figure at 0x107877128>"
         },
         "metadata": {},
         "output_type": "display_data"
        }
       ]
      }
     },
     "dc5c0256951e41ceb580cb21485d2ce7": {
      "model_module": "@jupyter-widgets/controls",
      "model_module_version": "1.1.0",
      "model_name": "SliderStyleModel",
      "state": {
       "description_width": ""
      }
     },
     "ddee483456d549af886ca886b911c111": {
      "model_module": "@jupyter-widgets/controls",
      "model_module_version": "1.1.0",
      "model_name": "HBoxModel",
      "state": {
       "children": [
        "IPY_MODEL_3f9b3d843a9e4e4c8fdb58078fd38271",
        "IPY_MODEL_21a6b4809fbf4658a11d859acd33e432"
       ],
       "layout": "IPY_MODEL_99dd3bf69e574156872d88cbe2c4b326"
      }
     },
     "de04b5e1ef8349edb669b9c5d648f45d": {
      "model_module": "@jupyter-widgets/base",
      "model_module_version": "1.0.0",
      "model_name": "LayoutModel",
      "state": {}
     },
     "de6f6e9206c844e5b34099ba1c47c8db": {
      "model_module": "@jupyter-widgets/output",
      "model_module_version": "1.0.0",
      "model_name": "OutputModel",
      "state": {
       "layout": "IPY_MODEL_29138c5380624a8195df5cde8d264304",
       "outputs": [
        {
         "data": {
          "image/png": "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\n",
          "text/plain": "<matplotlib.figure.Figure at 0x10e512ef0>"
         },
         "metadata": {},
         "output_type": "display_data"
        }
       ]
      }
     },
     "dec21cf6c43d498aac1b22cf8af91136": {
      "model_module": "@jupyter-widgets/controls",
      "model_module_version": "1.1.0",
      "model_name": "LinkModel",
      "state": {
       "source": [
        "IPY_MODEL_498d2184ed454e90a520fb3e4c58fe4d",
        "value"
       ],
       "target": [
        "IPY_MODEL_c2637f2db5a74ada81f3b351755b15c6",
        "value"
       ]
      }
     },
     "df4a2181eab04ed7b3792c5e8f285273": {
      "model_module": "@jupyter-widgets/controls",
      "model_module_version": "1.1.0",
      "model_name": "DescriptionStyleModel",
      "state": {
       "description_width": ""
      }
     },
     "df5a06e160104c06aeec710a2914b0e7": {
      "model_module": "@jupyter-widgets/output",
      "model_module_version": "1.0.0",
      "model_name": "OutputModel",
      "state": {
       "layout": "IPY_MODEL_5e0814a56f9f4778a2d5afd5f819a67c",
       "outputs": [
        {
         "name": "stdout",
         "output_type": "stream",
         "text": "0.0\n"
        },
        {
         "data": {
          "image/png": "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\n",
          "text/plain": "<matplotlib.figure.Figure at 0x107d27b70>"
         },
         "metadata": {},
         "output_type": "display_data"
        }
       ]
      }
     },
     "df7339aa7d8747b598b0d85cbbaa5692": {
      "model_module": "@jupyter-widgets/controls",
      "model_module_version": "1.1.0",
      "model_name": "VBoxModel",
      "state": {
       "_dom_classes": [
        "widget-interact"
       ],
       "children": [
        "IPY_MODEL_2e4b6b5b7b12436d86628741e0a4e61f",
        "IPY_MODEL_239ffd6866b34caab2013ff4adcc1a4a"
       ],
       "layout": "IPY_MODEL_252333e70442431db8464f30ab85400c"
      }
     },
     "df8dcc2dd0f4481899bccc14b3a59159": {
      "model_module": "@jupyter-widgets/controls",
      "model_module_version": "1.1.0",
      "model_name": "PlayModel",
      "state": {
       "description": "Press play",
       "layout": "IPY_MODEL_2c377fa7f7a443698fd3a545ef929e43",
       "style": "IPY_MODEL_0765778147d2410693c7019c5bcb1743"
      }
     },
     "df9f11f9d20f4bfc9dc59b5236bc5f44": {
      "model_module": "jupyter-leaflet",
      "model_module_version": "~0.8.1",
      "model_name": "LeafletTileLayerModel",
      "state": {
       "_model_module_version": "~0.8.1",
       "_view_count": null,
       "_view_module_version": "~0.8.1",
       "base": true,
       "max_zoom": 19,
       "min_zoom": 1,
       "options": [
        "attribution",
        "detect_retina",
        "max_zoom",
        "min_zoom",
        "tile_size"
       ]
      }
     },
     "e08e6e4e59d344488eb7a54f3d005827": {
      "model_module": "@jupyter-widgets/base",
      "model_module_version": "1.0.0",
      "model_name": "LayoutModel",
      "state": {}
     },
     "e0e73b09b4554a91a6bd0062c036558a": {
      "model_module": "@jupyter-widgets/controls",
      "model_module_version": "1.1.0",
      "model_name": "LinkModel",
      "state": {
       "source": [
        "IPY_MODEL_3f9b3d843a9e4e4c8fdb58078fd38271",
        "value"
       ],
       "target": [
        "IPY_MODEL_21a6b4809fbf4658a11d859acd33e432",
        "value"
       ]
      }
     },
     "e17207be2d494d58829fbfa98e2708dd": {
      "model_module": "@jupyter-widgets/base",
      "model_module_version": "1.0.0",
      "model_name": "LayoutModel",
      "state": {}
     },
     "e194974426ea47cd8693e00225a4b3de": {
      "model_module": "@jupyter-widgets/controls",
      "model_module_version": "1.1.0",
      "model_name": "PlayModel",
      "state": {
       "_repeat": true,
       "description": "Press play",
       "layout": "IPY_MODEL_0003166585a64458814331b54c1c36dd",
       "style": "IPY_MODEL_4d638e68ca9b4e2a9604adaf1eb21f2c"
      }
     },
     "e1d8368f67b341ad80f5ccda418bd165": {
      "model_module": "@jupyter-widgets/controls",
      "model_module_version": "1.1.0",
      "model_name": "LinkModel",
      "state": {
       "source": [
        "IPY_MODEL_a6c227756dd64874bf47a8c4a7b4eab8",
        "value"
       ],
       "target": [
        "IPY_MODEL_bd49ba37319048209ede47e47c77a045",
        "value"
       ]
      }
     },
     "e21f50ba38684fd1b9f3e067caf07489": {
      "model_module": "@jupyter-widgets/base",
      "model_module_version": "1.0.0",
      "model_name": "LayoutModel",
      "state": {}
     },
     "e2c14baac59948ae9255a83d2ae6e34a": {
      "model_module": "@jupyter-widgets/controls",
      "model_module_version": "1.1.0",
      "model_name": "SliderStyleModel",
      "state": {
       "description_width": ""
      }
     },
     "e2e2b0b3e8604d2a9890ac780b92f5c7": {
      "model_module": "@jupyter-widgets/controls",
      "model_module_version": "1.1.0",
      "model_name": "FloatSliderModel",
      "state": {
       "description": "long",
       "layout": "IPY_MODEL_4c239abc76d84addb0e93e8ce0139afe",
       "max": -0.176,
       "min": -0.178,
       "readout_format": ".4f",
       "step": 0.0001,
       "style": "IPY_MODEL_a79f71b89db9455188c3b83cdb112cca",
       "value": -0.1773
      }
     },
     "e2ebab9cd13b4efd8a69cb0b67b4340f": {
      "model_module": "jupyter-leaflet",
      "model_module_version": "~0.8.1",
      "model_name": "LeafletTileLayerModel",
      "state": {
       "_model_module_version": "~0.8.1",
       "_view_count": null,
       "_view_module_version": "~0.8.1",
       "base": true,
       "max_zoom": 19,
       "min_zoom": 1,
       "options": [
        "attribution",
        "detect_retina",
        "max_zoom",
        "min_zoom",
        "tile_size"
       ]
      }
     },
     "e32230c6d19646169730c1281009d5db": {
      "model_module": "jupyter-leaflet",
      "model_module_version": "~0.8.1",
      "model_name": "LeafletCircleMarkerModel",
      "state": {
       "_model_module_version": "~0.8.1",
       "_view_count": null,
       "_view_module_version": "~0.8.1",
       "color": "yellow",
       "fill_color": "#ff0000",
       "location": [
        51.501,
        -0.1773
       ],
       "options": [
        "class_name",
        "clickable",
        "color",
        "dash_array",
        "fill",
        "fill_color",
        "fill_opacity",
        "line_cap",
        "line_join",
        "opacity",
        "pointer_events",
        "radius",
        "stroke",
        "weight"
       ],
       "radius": 10
      }
     },
     "e396ad2089114497a81bd762d1663fce": {
      "model_module": "@jupyter-widgets/base",
      "model_module_version": "1.0.0",
      "model_name": "LayoutModel",
      "state": {}
     },
     "e3a905c547354a3f88bbd0677e49fe78": {
      "model_module": "jupyter-leaflet",
      "model_module_version": "~0.8.1",
      "model_name": "LeafletMapModel",
      "state": {
       "_dom_classes": [],
       "_model_module_version": "~0.8.1",
       "_view_count": null,
       "_view_module_version": "~0.8.1",
       "basemap": {
        "attribution": "Map data (c) <a href=\"https://openstreetmap.org\">OpenStreetMap</a> contributors",
        "max_zoom": 19,
        "url": "https://{s}.tile.openstreetmap.org/{z}/{x}/{y}.png"
       },
       "center": [
        51.501,
        -0.1773
       ],
       "dragging": false,
       "east": -0.175207257270813,
       "layers": [
        "IPY_MODEL_8cdeec68e0054ac7809a601c7ed85cdb",
        "IPY_MODEL_89ef5f5dbdb74077843a69045332d321",
        "IPY_MODEL_a2af4f4b9e6448959a9fd1ac461757a6"
       ],
       "layout": "IPY_MODEL_a0efdfc066e04b38b3020e82d3b8e614",
       "modisdate": "yesterday",
       "north": 51.50166701746684,
       "options": [
        "attribution_control",
        "basemap",
        "bounce_at_zoom_limits",
        "box_zoom",
        "center",
        "close_popup_on_click",
        "double_click_zoom",
        "dragging",
        "inertia",
        "inertia_deceleration",
        "inertia_max_speed",
        "keyboard",
        "keyboard_pan_offset",
        "keyboard_zoom_offset",
        "max_zoom",
        "min_zoom",
        "scroll_wheel_zoom",
        "tap",
        "tap_tolerance",
        "touch_zoom",
        "world_copy_jump",
        "zoom",
        "zoom_animation_threshold",
        "zoom_control",
        "zoom_start"
       ],
       "south": 51.500331275255164,
       "west": -0.17939686775207522,
       "zoom": 19,
       "zoom_control": false
      }
     },
     "e3e2bf623363493bba498e3cca9197f3": {
      "model_module": "@jupyter-widgets/controls",
      "model_module_version": "1.1.0",
      "model_name": "SliderStyleModel",
      "state": {
       "description_width": ""
      }
     },
     "e3faceb816714223a99d0f57f01a035e": {
      "model_module": "@jupyter-widgets/controls",
      "model_module_version": "1.1.0",
      "model_name": "LinkModel",
      "state": {
       "source": [
        "IPY_MODEL_82b9e0ca5ecf4e679f5e8c5cf7890a10",
        "value"
       ],
       "target": [
        "IPY_MODEL_b1b0c1aa3edc491791ef997ca964ef94",
        "value"
       ]
      }
     },
     "e58ed6f6da354e3ead105136440611c9": {
      "model_module": "@jupyter-widgets/base",
      "model_module_version": "1.0.0",
      "model_name": "LayoutModel",
      "state": {
       "height": "500px"
      }
     },
     "e5c3eaed2bd64023bd69e76983d9abe6": {
      "model_module": "@jupyter-widgets/controls",
      "model_module_version": "1.1.0",
      "model_name": "HBoxModel",
      "state": {
       "children": [
        "IPY_MODEL_53e7e613b5b04d8f91fac95a4a3401e3",
        "IPY_MODEL_eed5ef93049b4545a2f325d47025eef6"
       ],
       "layout": "IPY_MODEL_cde2b651a35e48d0a9626c6514eb57d5"
      }
     },
     "e74f97873de944f3a22c5e3f5d3c3f37": {
      "model_module": "@jupyter-widgets/controls",
      "model_module_version": "1.1.0",
      "model_name": "HBoxModel",
      "state": {
       "children": [
        "IPY_MODEL_cd8de952d7994452a41c2c44a50e3b33",
        "IPY_MODEL_aa549fac0cf649aa81cc164d4a28e273"
       ],
       "layout": "IPY_MODEL_60bc45af207f471387d14e9eb14242a3"
      }
     },
     "e7655eac19b84714819bc95dee7abd73": {
      "model_module": "@jupyter-widgets/controls",
      "model_module_version": "1.1.0",
      "model_name": "SliderStyleModel",
      "state": {
       "description_width": ""
      }
     },
     "e82b569b13a6404482a990aa452eb4cb": {
      "model_module": "@jupyter-widgets/controls",
      "model_module_version": "1.1.0",
      "model_name": "FloatSliderModel",
      "state": {
       "description": "x",
       "layout": "IPY_MODEL_79ea02170d4c401599bbf4a4f258cbd9",
       "step": 0.1,
       "style": "IPY_MODEL_e3e2bf623363493bba498e3cca9197f3",
       "value": 55
      }
     },
     "e885e567685444e682f41ac5389320ae": {
      "model_module": "@jupyter-widgets/controls",
      "model_module_version": "1.1.0",
      "model_name": "HBoxModel",
      "state": {
       "children": [
        "IPY_MODEL_20eb8bfd9299466ab9815acfa00e7df0",
        "IPY_MODEL_5c939cb88efa4a53b9c9ece17c86e509"
       ],
       "layout": "IPY_MODEL_29317bf612184bc19bf9453d13cd84da"
      }
     },
     "e95d04072998446c8995de8104c19e33": {
      "model_module": "jupyter-leaflet",
      "model_module_version": "~0.8.1",
      "model_name": "LeafletTileLayerModel",
      "state": {
       "_model_module_version": "~0.8.1",
       "_view_count": null,
       "_view_module_version": "~0.8.1",
       "base": true,
       "max_zoom": 19,
       "min_zoom": 1,
       "options": [
        "attribution",
        "detect_retina",
        "max_zoom",
        "min_zoom",
        "tile_size"
       ]
      }
     },
     "ea5508b161534515b00491c7078182df": {
      "model_module": "@jupyter-widgets/controls",
      "model_module_version": "1.1.0",
      "model_name": "VBoxModel",
      "state": {
       "_dom_classes": [
        "widget-interact"
       ],
       "children": [
        "IPY_MODEL_eed5ef93049b4545a2f325d47025eef6",
        "IPY_MODEL_7ed540fcc1154f9ebaf3ad6e26b1965d"
       ],
       "layout": "IPY_MODEL_06b96ac8da594e5d99bca78b3d56708f"
      }
     },
     "ea8d3c7581d64b389476d274f8d15669": {
      "model_module": "@jupyter-widgets/base",
      "model_module_version": "1.0.0",
      "model_name": "LayoutModel",
      "state": {}
     },
     "eaf37c8a5355439ca0e3842236b4e0ab": {
      "model_module": "jupyter-leaflet",
      "model_module_version": "~0.8.1",
      "model_name": "LeafletTileLayerModel",
      "state": {
       "_model_module_version": "~0.8.1",
       "_view_count": null,
       "_view_module_version": "~0.8.1",
       "base": true,
       "max_zoom": 19,
       "min_zoom": 1,
       "options": [
        "attribution",
        "detect_retina",
        "max_zoom",
        "min_zoom",
        "tile_size"
       ]
      }
     },
     "ebf253babdf94d91b4bc649e4d3563f7": {
      "model_module": "@jupyter-widgets/base",
      "model_module_version": "1.0.0",
      "model_name": "LayoutModel",
      "state": {}
     },
     "ece12c74fd7e41799d46c465f47d3e69": {
      "model_module": "@jupyter-widgets/base",
      "model_module_version": "1.0.0",
      "model_name": "LayoutModel",
      "state": {}
     },
     "eda20dbd24c94c89b1390a26d727221e": {
      "model_module": "jupyter-leaflet",
      "model_module_version": "~0.8.1",
      "model_name": "LeafletMapModel",
      "state": {
       "_dom_classes": [],
       "_model_module_version": "~0.8.1",
       "_view_count": null,
       "_view_module_version": "~0.8.1",
       "basemap": {
        "attribution": "Map data (c) <a href=\"https://openstreetmap.org\">OpenStreetMap</a> contributors",
        "max_zoom": 19,
        "url": "https://{s}.tile.openstreetmap.org/{z}/{x}/{y}.png"
       },
       "center": [
        51.502,
        -0.177
       ],
       "dragging": false,
       "east": -0.17490684986114502,
       "layers": [
        "IPY_MODEL_1d33739dd961436f95ec0cf31d54434a",
        "IPY_MODEL_6d7e6382953746d4a7a37dc3c9733d63",
        "IPY_MODEL_0fb5e522bd424ba48d54138c6495fae9"
       ],
       "layout": "IPY_MODEL_d99860e0173a4e9ab3a880759d5047b9",
       "modisdate": "yesterday",
       "north": 51.50266879843349,
       "options": [
        "attribution_control",
        "basemap",
        "bounce_at_zoom_limits",
        "box_zoom",
        "center",
        "close_popup_on_click",
        "double_click_zoom",
        "dragging",
        "inertia",
        "inertia_deceleration",
        "inertia_max_speed",
        "keyboard",
        "keyboard_pan_offset",
        "keyboard_zoom_offset",
        "max_zoom",
        "min_zoom",
        "scroll_wheel_zoom",
        "tap",
        "tap_tolerance",
        "touch_zoom",
        "world_copy_jump",
        "zoom",
        "zoom_animation_threshold",
        "zoom_control",
        "zoom_start"
       ],
       "south": 51.50133308558426,
       "west": -0.17909646034240723,
       "zoom": 20,
       "zoom_control": false
      }
     },
     "ede26354c7c34747b17f0d04ee0dafcc": {
      "model_module": "@jupyter-widgets/base",
      "model_module_version": "1.0.0",
      "model_name": "LayoutModel",
      "state": {}
     },
     "ee4801e433584983a879f57c71adc2f1": {
      "model_module": "@jupyter-widgets/base",
      "model_module_version": "1.0.0",
      "model_name": "LayoutModel",
      "state": {}
     },
     "ee7fc23aa6c44e25befee934f8e06430": {
      "model_module": "@jupyter-widgets/base",
      "model_module_version": "1.0.0",
      "model_name": "LayoutModel",
      "state": {}
     },
     "eeae78a1255d484b9397120d1db8933b": {
      "model_module": "@jupyter-widgets/base",
      "model_module_version": "1.0.0",
      "model_name": "LayoutModel",
      "state": {}
     },
     "eed5ef93049b4545a2f325d47025eef6": {
      "model_module": "@jupyter-widgets/controls",
      "model_module_version": "1.1.0",
      "model_name": "FloatSliderModel",
      "state": {
       "description": "x",
       "layout": "IPY_MODEL_232ed850494941b7af588996bb6e6684",
       "step": 0.1,
       "style": "IPY_MODEL_f19ffca343e346a080d823f1b15830ce"
      }
     },
     "f053299ba2424240b4a3055539a2bb1e": {
      "model_module": "@jupyter-widgets/base",
      "model_module_version": "1.0.0",
      "model_name": "LayoutModel",
      "state": {}
     },
     "f08e4b61e08148ea9d2ea7503413fd2a": {
      "model_module": "@jupyter-widgets/base",
      "model_module_version": "1.0.0",
      "model_name": "LayoutModel",
      "state": {}
     },
     "f12ccf403f93474e846f0ea624774290": {
      "model_module": "@jupyter-widgets/base",
      "model_module_version": "1.0.0",
      "model_name": "LayoutModel",
      "state": {}
     },
     "f15ae66005874892b8c7301a1f29fdbc": {
      "model_module": "@jupyter-widgets/controls",
      "model_module_version": "1.1.0",
      "model_name": "PlayModel",
      "state": {
       "description": "Press play",
       "layout": "IPY_MODEL_ff76d1559c19441c9cf8f3475ed6adee",
       "style": "IPY_MODEL_347eacb0d36c4121b8ad4c8458efda5d",
       "value": 50
      }
     },
     "f19ffca343e346a080d823f1b15830ce": {
      "model_module": "@jupyter-widgets/controls",
      "model_module_version": "1.1.0",
      "model_name": "SliderStyleModel",
      "state": {
       "description_width": ""
      }
     },
     "f246bb30582649088a6771a26a5890ce": {
      "model_module": "@jupyter-widgets/base",
      "model_module_version": "1.0.0",
      "model_name": "LayoutModel",
      "state": {}
     },
     "f33d4a0b36c64eb3bc31816b8cf25d4e": {
      "model_module": "@jupyter-widgets/output",
      "model_module_version": "1.0.0",
      "model_name": "OutputModel",
      "state": {
       "layout": "IPY_MODEL_bfb0ae97c8a04bc09d5600e1a097633f",
       "outputs": [
        {
         "name": "stdout",
         "output_type": "stream",
         "text": "100.0\n"
        },
        {
         "data": {
          "image/png": "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\n",
          "text/plain": "<matplotlib.figure.Figure at 0x107f34278>"
         },
         "metadata": {},
         "output_type": "display_data"
        }
       ]
      }
     },
     "f5551aaaddca4f3b995f82a3e96a5f4e": {
      "model_module": "@jupyter-widgets/base",
      "model_module_version": "1.0.0",
      "model_name": "LayoutModel",
      "state": {}
     },
     "f630092ec8a64b748e391f23f3e0ca2c": {
      "model_module": "jupyter-leaflet",
      "model_module_version": "~0.8.1",
      "model_name": "LeafletMapModel",
      "state": {
       "_dom_classes": [],
       "_model_module_version": "~0.8.1",
       "_view_count": null,
       "_view_module_version": "~0.8.1",
       "basemap": {
        "attribution": "Map data (c) <a href=\"https://openstreetmap.org\">OpenStreetMap</a> contributors",
        "max_zoom": 19,
        "url": "https://{s}.tile.openstreetmap.org/{z}/{x}/{y}.png"
       },
       "center": [
        51.55,
        -0.177
       ],
       "dragging": false,
       "east": -0.17490684986114502,
       "layers": [
        "IPY_MODEL_682b318bd4154bc8ad1a83d3b6d08577",
        "IPY_MODEL_95b95f68a87a49ee88706c9d78abae9a",
        "IPY_MODEL_686afa09d4884fc59080192deb71032b"
       ],
       "layout": "IPY_MODEL_d7008e87db834cd7b6e6230bdbdc2537",
       "modisdate": "yesterday",
       "north": 51.55066834783558,
       "options": [
        "attribution_control",
        "basemap",
        "bounce_at_zoom_limits",
        "box_zoom",
        "center",
        "close_popup_on_click",
        "double_click_zoom",
        "dragging",
        "inertia",
        "inertia_deceleration",
        "inertia_max_speed",
        "keyboard",
        "keyboard_pan_offset",
        "keyboard_zoom_offset",
        "max_zoom",
        "min_zoom",
        "scroll_wheel_zoom",
        "tap",
        "tap_tolerance",
        "touch_zoom",
        "world_copy_jump",
        "zoom",
        "zoom_animation_threshold",
        "zoom_control",
        "zoom_start"
       ],
       "south": 51.549334042344235,
       "west": -0.17909646034240723,
       "zoom": 20,
       "zoom_control": false
      }
     },
     "f64905b8f4f14d7381d66b4017eaf2bf": {
      "model_module": "@jupyter-widgets/base",
      "model_module_version": "1.0.0",
      "model_name": "LayoutModel",
      "state": {}
     },
     "f67d0bac49934e4a94933aca056007a1": {
      "model_module": "@jupyter-widgets/controls",
      "model_module_version": "1.1.0",
      "model_name": "VBoxModel",
      "state": {
       "_dom_classes": [
        "widget-interact"
       ],
       "children": [
        "IPY_MODEL_15c55de6972e49ed905b7fd0a605f38c",
        "IPY_MODEL_961e016604ce42fc968ad75371d17b82"
       ],
       "layout": "IPY_MODEL_eeae78a1255d484b9397120d1db8933b"
      }
     },
     "f74faf69b1cb45fda6fcf22d4f0775b5": {
      "model_module": "@jupyter-widgets/controls",
      "model_module_version": "1.1.0",
      "model_name": "LinkModel",
      "state": {
       "source": [
        "IPY_MODEL_04a32ee7811a445c9448866a38a6a98c",
        "value"
       ],
       "target": [
        "IPY_MODEL_e82b569b13a6404482a990aa452eb4cb",
        "value"
       ]
      }
     },
     "f78e46d110fd409cb7290d38ec6c36b1": {
      "model_module": "@jupyter-widgets/base",
      "model_module_version": "1.0.0",
      "model_name": "LayoutModel",
      "state": {}
     },
     "f86785d4153442148f07af3164ee3f37": {
      "model_module": "@jupyter-widgets/controls",
      "model_module_version": "1.1.0",
      "model_name": "LinkModel",
      "state": {
       "source": [
        "IPY_MODEL_78ed7bd76e724571b45e423eb385a18b",
        "value"
       ],
       "target": [
        "IPY_MODEL_60675e13d59f46e9974f338a10a61a68",
        "value"
       ]
      }
     },
     "f8ec9661d245421e8950b7f83d6b459d": {
      "model_module": "@jupyter-widgets/controls",
      "model_module_version": "1.1.0",
      "model_name": "LinkModel",
      "state": {
       "source": [
        "IPY_MODEL_354cfadf43594c30aa7f2a93d11fe8bb",
        "value"
       ],
       "target": [
        "IPY_MODEL_d0a9038383814630bf8252f6b83823f6",
        "value"
       ]
      }
     },
     "f8ed8b8dbcdd44919fcf0a856e4831f7": {
      "model_module": "@jupyter-widgets/output",
      "model_module_version": "1.0.0",
      "model_name": "OutputModel",
      "state": {
       "layout": "IPY_MODEL_09de76385e4a4471ae36a5b709e7056e",
       "outputs": [
        {
         "name": "stdout",
         "output_type": "stream",
         "text": "50.0\n"
        },
        {
         "data": {
          "image/png": "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\n",
          "text/plain": "<matplotlib.figure.Figure at 0x107967ac8>"
         },
         "metadata": {},
         "output_type": "display_data"
        }
       ]
      }
     },
     "f98ea23de59b4f4d8d7072c56c7e089d": {
      "model_module": "@jupyter-widgets/base",
      "model_module_version": "1.0.0",
      "model_name": "LayoutModel",
      "state": {}
     },
     "fa04b0be2cab43a18234e4a88a5e3726": {
      "model_module": "@jupyter-widgets/base",
      "model_module_version": "1.0.0",
      "model_name": "LayoutModel",
      "state": {}
     },
     "fabbbb276a484441a308a6d84a352f19": {
      "model_module": "jupyter-leaflet",
      "model_module_version": "~0.8.1",
      "model_name": "LeafletTileLayerModel",
      "state": {
       "_model_module_version": "~0.8.1",
       "_view_count": null,
       "_view_module_version": "~0.8.1",
       "base": true,
       "max_zoom": 19,
       "min_zoom": 1,
       "options": [
        "attribution",
        "detect_retina",
        "max_zoom",
        "min_zoom",
        "tile_size"
       ]
      }
     },
     "fad13512c1af41c899f1b482719fdb7a": {
      "model_module": "@jupyter-widgets/base",
      "model_module_version": "1.0.0",
      "model_name": "LayoutModel",
      "state": {}
     },
     "fad2618138aa459893da3f1c360b6889": {
      "model_module": "@jupyter-widgets/controls",
      "model_module_version": "1.1.0",
      "model_name": "DescriptionStyleModel",
      "state": {
       "description_width": ""
      }
     },
     "fb84e76480a7409fb3e80ea8735370a4": {
      "model_module": "@jupyter-widgets/controls",
      "model_module_version": "1.1.0",
      "model_name": "PlayModel",
      "state": {
       "description": "Press play",
       "layout": "IPY_MODEL_80da6e59bce043d2b43bb94203d57649",
       "style": "IPY_MODEL_2ebecdca666744549b4ebe8c1a9aa237",
       "value": 50
      }
     },
     "fbaddd4905194008ac269f69e6cd6045": {
      "model_module": "@jupyter-widgets/base",
      "model_module_version": "1.0.0",
      "model_name": "LayoutModel",
      "state": {}
     },
     "fbc16bd92eff49b2bda5f541c4ade4d8": {
      "model_module": "jupyter-leaflet",
      "model_module_version": "~0.8.1",
      "model_name": "LeafletMapModel",
      "state": {
       "_dom_classes": [],
       "_model_module_version": "~0.8.1",
       "_view_count": null,
       "_view_module_version": "~0.8.1",
       "basemap": {
        "attribution": "Map data (c) <a href=\"https://openstreetmap.org\">OpenStreetMap</a> contributors",
        "max_zoom": 19,
        "url": "https://{s}.tile.openstreetmap.org/{z}/{x}/{y}.png"
       },
       "center": [
        51.5,
        -0.175
       ],
       "dragging": false,
       "east": -0.17290592193603518,
       "layers": [
        "IPY_MODEL_cbed0db8a2044d4b9bc62b7edf43bc2e",
        "IPY_MODEL_5535e8cce7614db78030f66f65984044",
        "IPY_MODEL_5e6a4a87304948d18cd8a5eed206ad6d"
       ],
       "layout": "IPY_MODEL_aa7b66a63fd047e69138706017e78bc1",
       "modisdate": "yesterday",
       "north": 51.500668553858276,
       "options": [
        "attribution_control",
        "basemap",
        "bounce_at_zoom_limits",
        "box_zoom",
        "center",
        "close_popup_on_click",
        "double_click_zoom",
        "dragging",
        "inertia",
        "inertia_deceleration",
        "inertia_max_speed",
        "keyboard",
        "keyboard_pan_offset",
        "keyboard_zoom_offset",
        "max_zoom",
        "min_zoom",
        "scroll_wheel_zoom",
        "tap",
        "tap_tolerance",
        "touch_zoom",
        "world_copy_jump",
        "zoom",
        "zoom_animation_threshold",
        "zoom_control",
        "zoom_start"
       ],
       "south": 51.49933278238175,
       "west": -0.1770955324172974,
       "zoom": 20,
       "zoom_control": false
      }
     },
     "fd727f37757048dea357c62f1fe72780": {
      "model_module": "@jupyter-widgets/controls",
      "model_module_version": "1.1.0",
      "model_name": "SliderStyleModel",
      "state": {
       "description_width": ""
      }
     },
     "fd72eb206c5149698f8a44082cdcb152": {
      "model_module": "@jupyter-widgets/base",
      "model_module_version": "1.0.0",
      "model_name": "LayoutModel",
      "state": {
       "height": "350px"
      }
     },
     "fdcffb2d3cfc48c0993183087a8134f0": {
      "model_module": "jupyter-leaflet",
      "model_module_version": "~0.8.1",
      "model_name": "LeafletMapModel",
      "state": {
       "_dom_classes": [],
       "_model_module_version": "~0.8.1",
       "_view_count": null,
       "_view_module_version": "~0.8.1",
       "basemap": {
        "attribution": "Map data (c) <a href=\"https://openstreetmap.org\">OpenStreetMap</a> contributors",
        "max_zoom": 19,
        "url": "https://{s}.tile.openstreetmap.org/{z}/{x}/{y}.png"
       },
       "center": [
        51.5,
        -0.175
       ],
       "east": -0.17236948013305667,
       "layers": [
        "IPY_MODEL_81e33b1576e441c896b1cdabab68a0b0"
       ],
       "layout": "IPY_MODEL_642f2d9bfbb64bd3ba180d91ffbb7d7d",
       "modisdate": "yesterday",
       "north": 51.500668553858276,
       "options": [
        "attribution_control",
        "basemap",
        "bounce_at_zoom_limits",
        "box_zoom",
        "center",
        "close_popup_on_click",
        "double_click_zoom",
        "dragging",
        "inertia",
        "inertia_deceleration",
        "inertia_max_speed",
        "keyboard",
        "keyboard_pan_offset",
        "keyboard_zoom_offset",
        "max_zoom",
        "min_zoom",
        "scroll_wheel_zoom",
        "tap",
        "tap_tolerance",
        "touch_zoom",
        "world_copy_jump",
        "zoom",
        "zoom_animation_threshold",
        "zoom_control",
        "zoom_start"
       ],
       "south": 51.49933278238175,
       "west": -0.1776319742202759,
       "zoom": 20
      }
     },
     "feec33f9333c4d66852c384e7ab8ef2f": {
      "model_module": "@jupyter-widgets/base",
      "model_module_version": "1.0.0",
      "model_name": "LayoutModel",
      "state": {
       "height": "350px"
      }
     },
     "ff29efe7098b4a00bc1121954b2b5e25": {
      "model_module": "jupyter-leaflet",
      "model_module_version": "~0.8.1",
      "model_name": "LeafletTileLayerModel",
      "state": {
       "_model_module_version": "~0.8.1",
       "_view_count": null,
       "_view_module_version": "~0.8.1",
       "base": true,
       "max_zoom": 19,
       "min_zoom": 1,
       "options": [
        "attribution",
        "detect_retina",
        "max_zoom",
        "min_zoom",
        "tile_size"
       ]
      }
     },
     "ff7104fedc55488a925953d8f33b21a9": {
      "model_module": "@jupyter-widgets/base",
      "model_module_version": "1.0.0",
      "model_name": "LayoutModel",
      "state": {}
     },
     "ff76d1559c19441c9cf8f3475ed6adee": {
      "model_module": "@jupyter-widgets/base",
      "model_module_version": "1.0.0",
      "model_name": "LayoutModel",
      "state": {}
     },
     "ffd9c469c9eb47ab98647e0a0430c077": {
      "model_module": "jupyter-leaflet",
      "model_module_version": "~0.8.1",
      "model_name": "LeafletTileLayerModel",
      "state": {
       "_model_module_version": "~0.8.1",
       "_view_count": null,
       "_view_module_version": "~0.8.1",
       "base": true,
       "max_zoom": 19,
       "min_zoom": 1,
       "options": [
        "attribution",
        "detect_retina",
        "max_zoom",
        "min_zoom",
        "tile_size"
       ]
      }
     }
    },
    "version_major": 2,
    "version_minor": 0
   }
  }
 },
 "nbformat": 4,
 "nbformat_minor": 2
}
