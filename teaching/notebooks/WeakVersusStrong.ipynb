{
 "cells": [
  {
   "cell_type": "markdown",
   "metadata": {},
   "source": [
    "# Weak versus strong solutions"
   ]
  },
  {
   "cell_type": "markdown",
   "metadata": {},
   "source": [
    "The strong form of an arbitrary ODE can be written as\n",
    "\\\\[ \\mathcal{L}_u(x) = 0 \\\\]\n",
    "where \\\\(\\mathcal{L}_u\\\\) is a differential function relating the \\\\(u\\\\), \\\\(\\frac{du}{dx}\\\\), \\\\(\\frac{d^2u}{dx^2}\\\\) etc."
   ]
  },
  {
   "cell_type": "markdown",
   "metadata": {},
   "source": [
    "We can check this by going point by point in the domain and checking both sides. E.g. let's use\n",
    "\\\\[ \\mathcal{L}_u = u -\\frac{1}{4\\pi^2}\\frac{d^2}{dx^2}\\\\]\n",
    "along with boundary conditions \n",
    "\\\\[u=2\\quad\\mbox{ at }x=0,\\\\] \n",
    "\\\\[\\frac{du}{dx}=0\\quad\\mbox{ at }x=1.\\\\]\n",
    "\n",
    "I assert the solution is \\\\(u = 2 cos\\left(2\\pi x\\right) \\\\)\n",
    "\n",
    "Let's test.\n"
   ]
  },
  {
   "cell_type": "code",
   "execution_count": 1,
   "metadata": {
    "hide_input": false
   },
   "outputs": [
    {
     "data": {
      "application/vnd.jupyter.widget-view+json": {
       "model_id": "58006933e80e4502b25776e7e389810e",
       "version_major": 2,
       "version_minor": 0
      },
      "text/html": [
       "<p>Failed to display Jupyter Widget of type <code>VBox</code>.</p>\n",
       "<p>\n",
       "  If you're reading this message in the Jupyter Notebook or JupyterLab Notebook, it may mean\n",
       "  that the widgets JavaScript is still loading. If this message persists, it\n",
       "  likely means that the widgets JavaScript library is either not installed or\n",
       "  not enabled. See the <a href=\"https://ipywidgets.readthedocs.io/en/stable/user_install.html\">Jupyter\n",
       "  Widgets Documentation</a> for setup instructions.\n",
       "</p>\n",
       "<p>\n",
       "  If you're reading this message in another frontend (for example, a static\n",
       "  rendering on GitHub or <a href=\"https://nbviewer.jupyter.org/\">NBViewer</a>),\n",
       "  it may mean that your frontend doesn't currently support widgets.\n",
       "</p>\n"
      ],
      "text/plain": [
       "VBox(children=(HBox(children=(Play(value=0), IntSlider(value=0, description='x', readout=False))), HBox(children=(HTML(value='u=2cos(0.00)=2.000', layout=Layout(width='300px')), HTML(value=\"u'=4&pi;sin(0.00)=0.000\", layout=Layout(width='300px')))), HBox(children=(HTML(value=\"u''=-8&pi;cos(0.00)=25.133\", layout=Layout(width='300px')), HTMLMath(value='$$u-\\\\frac{1}{4\\\\pi}\\\\frac{d^2u}{dx^2}=0$$', layout=Layout(flex='1 1 auto', width='300px')))), Figure(axes=[Axis(label='x', scale=LinearScale(max=1.0, min=0.0)), Axis(label='u', orientation='vertical', scale=LinearScale(max=2.5, min=-2.5), side='left')], fig_margin={'top': 60, 'bottom': 60, 'left': 60, 'right': 60}, layout=Layout(width='auto'), marks=[Lines(colors=['#1f77b4', '#ff7f0e', '#2ca02c', '#d62728', '#9467bd', '#8c564b', '#e377c2', '#7f7f7f', '#bcbd22', '#17becf'], interactions={'hover': 'tooltip'}, scales={'x': LinearScale(max=1.0, min=0.0), 'y': LinearScale(max=2.5, min=-2.5)}, scales_metadata={'x': {'orientation': 'horizontal', 'dimension': 'x'}, 'y': {'orientation': 'vertical', 'dimension': 'y'}, 'color': {'dimension': 'color'}}, tooltip_style={'opacity': 0.9}, x=array([0.        , 0.02040816, 0.04081633, 0.06122449, 0.08163265,\n",
       "       0.10204082, 0.12244898, 0.14285714, 0.16326531, 0.18367347,\n",
       "       0.20408163, 0.2244898 , 0.24489796, 0.26530612, 0.28571429,\n",
       "       0.30612245, 0.32653061, 0.34693878, 0.36734694, 0.3877551 ,\n",
       "       0.40816327, 0.42857143, 0.44897959, 0.46938776, 0.48979592,\n",
       "       0.51020408, 0.53061224, 0.55102041, 0.57142857, 0.59183673,\n",
       "       0.6122449 , 0.63265306, 0.65306122, 0.67346939, 0.69387755,\n",
       "       0.71428571, 0.73469388, 0.75510204, 0.7755102 , 0.79591837,\n",
       "       0.81632653, 0.83673469, 0.85714286, 0.87755102, 0.89795918,\n",
       "       0.91836735, 0.93877551, 0.95918367, 0.97959184, 1.        ]), y=array([ 2.        ,  1.98358003,  1.93458973,  1.85383351,  1.74263741,\n",
       "        1.60282724,  1.4366987 ,  1.2469796 ,  1.03678514,  0.80956669,\n",
       "        0.56905517,  0.31919979,  0.06410316, -0.19204605, -0.44504187,\n",
       "       -0.69073011, -0.92507658, -1.14423332, -1.34460178, -1.52289192,\n",
       "       -1.67617621, -1.80193774, -1.89811149, -1.96311831, -1.99589079,\n",
       "       -1.99589079, -1.96311831, -1.89811149, -1.80193774, -1.67617621,\n",
       "       -1.52289192, -1.34460178, -1.14423332, -0.92507658, -0.69073011,\n",
       "       -0.44504187, -0.19204605,  0.06410316,  0.31919979,  0.56905517,\n",
       "        0.80956669,  1.03678514,  1.2469796 ,  1.4366987 ,  1.60282724,\n",
       "        1.74263741,  1.85383351,  1.93458973,  1.98358003,  2.        ])), Scatter(colors=['steelblue'], interactions={'hover': 'tooltip'}, scales={'x': LinearScale(max=1.0, min=0.0), 'y': LinearScale(max=2.5, min=-2.5)}, scales_metadata={'x': {'orientation': 'horizontal', 'dimension': 'x'}, 'y': {'orientation': 'vertical', 'dimension': 'y'}, 'color': {'dimension': 'color'}, 'size': {'dimension': 'size'}, 'opacity': {'dimension': 'opacity'}, 'rotation': {'dimension': 'rotation'}, 'skew': {'dimension': 'skew'}}, tooltip_style={'opacity': 0.9}, x=array([0.]), y=array([2.]))], scale_x=LinearScale(allow_padding=False, max=1.0, min=0.0), scale_y=LinearScale(allow_padding=False, max=1.0, min=0.0))))"
      ]
     },
     "metadata": {},
     "output_type": "display_data"
    }
   ],
   "source": [
    "import ipywidgets\n",
    "from bqplot import pyplot\n",
    "\n",
    "from plotter import video_block\n",
    "import numpy\n",
    "import ipywidgets\n",
    "\n",
    "x = numpy.linspace(0,1)\n",
    "pyplot.figure()\n",
    "x_sc = pyplot.LinearScale(min=0, max=1)\n",
    "y_sc = pyplot.LinearScale(min=-2.5, max=2.5)\n",
    "\n",
    "ax_x = pyplot.Axis(label='x', scale=x_sc, grid_lines='solid')\n",
    "ax_y = pyplot.Axis(label='u', scale=y_sc, orientation='vertical', side='left', grid_lines='solid')\n",
    "lines = pyplot.Lines(x=x, y=2.0*numpy.cos(2*numpy.pi*x), scales = {'x': x_sc, 'y': y_sc})\n",
    "s = pyplot.Scatter(x=[0.0], y=[2.0], marker='circle', scales=lines.scales)\n",
    "plt = pyplot.Figure(layout=ipywidgets.Layout(width='auto'),\n",
    "                        marks=[lines, s], axes=[ax_x,ax_y])\n",
    "\n",
    "\n",
    "text1 = ipywidgets.HTML(r'u=2cos(%1.2f)=%1.3f'%(0,2), layout=ipywidgets.Layout(width='300px'))\n",
    "text2 = ipywidgets.HTML(r\"u'=4&pi;sin(%1.2f)=%1.3f\"%(0,0), layout=ipywidgets.Layout(width='300px'))\n",
    "text3 = ipywidgets.HTML(r\"u''=-8&pi;cos(%1.2f)=%1.3f\"%(0,8*numpy.pi), layout=ipywidgets.Layout(width='300px'))\n",
    "text4 = ipywidgets.HTMLMath(r\"$$u-\\frac{1}{4\\pi}\\frac{d^2u}{dx^2}=0$$\", layout=ipywidgets.Layout(width='300px', flex='1 1 auto'))\n",
    "def update_plt(x):\n",
    "    plt.marks[1].x = numpy.array([x/100.])\n",
    "    plt.marks[1].y = numpy.array([2.0*numpy.cos(2*numpy.pi*x/100.)])\n",
    "    text1.value = r'u=2cos(%1.2f)=%1.3f'%(2.0*numpy.pi*x/100.,2.0*numpy.cos(2*numpy.pi*x/100.))\n",
    "    text2.value = r\"u'=4&pi;sin(%1.2f)=%1.3f\"%(2.0*numpy.pi*x/100.,4.0*numpy.pi*numpy.sin(2*numpy.pi*x/100.))\n",
    "    text3.value = r\"u''=-8&pi;sin(%1.2f)=%1.3f\"%(2.0*numpy.pi*x/100.,-8.0*numpy.pi**2*numpy.sin(2*numpy.pi*x/100.))\n",
    "\n",
    "w = ipywidgets.interactive(update_plt, x=ipywidgets.IntSlider(min=0.,max=100.,readout=False));\n",
    "\n",
    "slider = w.children[0]\n",
    "\n",
    "play = ipywidgets.Play(min=0,max=100., disabled=False)\n",
    "ipywidgets.jslink((play, 'value'), (slider, 'value'))\n",
    "\n",
    "controls = ipywidgets.HBox([play,slider])\n",
    "tt1 = ipywidgets.HBox([text1, text2])\n",
    "tt2 = ipywidgets.HBox([text3, text4])\n",
    "\n",
    "display(ipywidgets.VBox([controls, tt1, tt2, plt]))\n",
    "\n",
    "\n"
   ]
  },
  {
   "cell_type": "markdown",
   "metadata": {},
   "source": [
    "The *weak* solution turns things around into testing by integrals rather than by points. So \\\\(u\\\\) is a weak solution of \\\\(\\mathcal{L}_u\\\\) provided\n",
    "\\\\[\\mathcal{I}_{\\phi}=\\int_{\\Omega} \\phi(x)\\mathcal{L}_u(x)\\, dx=0,\\\\]\n",
    "for every choice of function, \\\\(\\phi(x):\\Omega\\rightarrow\\mathbb{R}\\\\) from some set (i.e. function space), \\\\(\\mathcal{V}\\\\). If the space of functions is generalised enough to include distributions such as \\\\(\\delta(x)\\\\) then the two equations are the same. Note too that, providing a solution to the strong form exists, it is guaranteed to be a solution to the weak form too, using the trivial identity\n",
    "\\\\[ \\int_\\Omega 0 \\, dx =0.\\\\]\n",
    "\n",
    "We can test a possible solution by doing the integral. Lets use the same example as before, and take our \\\\(\\mathcal{V}\\\\) as the set of functions with a Fourier series, so that every \\\\(\\phi\\\\) can be writen as\n",
    "\\\\[\\phi = \\sum_{n=0}^\\infty a_n \\cos(2n\\pi x)+ b_n\\sin(2n\\pi x) .\\\\]\n",
    "Since this has to be true for all values of \\\\(a_n\\\\) and \\\\(b_n\\\\), we can just test independently against the cosines and sines."
   ]
  },
  {
   "cell_type": "code",
   "execution_count": 10,
   "metadata": {},
   "outputs": [
    {
     "data": {
      "application/vnd.jupyter.widget-view+json": {
       "model_id": "e54cb0b294674f77ba4024122f33ee49",
       "version_major": 2,
       "version_minor": 0
      },
      "text/html": [
       "<p>Failed to display Jupyter Widget of type <code>VBox</code>.</p>\n",
       "<p>\n",
       "  If you're reading this message in the Jupyter Notebook or JupyterLab Notebook, it may mean\n",
       "  that the widgets JavaScript is still loading. If this message persists, it\n",
       "  likely means that the widgets JavaScript library is either not installed or\n",
       "  not enabled. See the <a href=\"https://ipywidgets.readthedocs.io/en/stable/user_install.html\">Jupyter\n",
       "  Widgets Documentation</a> for setup instructions.\n",
       "</p>\n",
       "<p>\n",
       "  If you're reading this message in another frontend (for example, a static\n",
       "  rendering on GitHub or <a href=\"https://nbviewer.jupyter.org/\">NBViewer</a>),\n",
       "  it may mean that your frontend doesn't currently support widgets.\n",
       "</p>\n"
      ],
      "text/plain": [
       "VBox(children=(HBox(children=(Play(value=0), IntSlider(value=0, description='n'))), HBox(children=(HTMLMath(value='$$\\\\mathcal{I}_{\\\\sin(2n\\\\pi x)}=$$'), HTML(value='0'))), HBox(children=(HTMLMath(value='$$\\\\mathcal{I}_{\\\\cos(2n\\\\pi x)}=$$'), HTML(value='0')))))"
      ]
     },
     "metadata": {},
     "output_type": "display_data"
    }
   ],
   "source": [
    "\n",
    "text1 = ipywidgets.HTMLMath(r'$$\\mathcal{I}_{\\sin(2n\\pi x)}=$$')\n",
    "text2 = ipywidgets.HTML('0')\n",
    "text3 = ipywidgets.HTMLMath(r'$$\\mathcal{I}_{\\cos(2n\\pi x)}=$$')\n",
    "text4 = ipywidgets.HTML('0')\n",
    "def int_upt(n):\n",
    "    text2.value=r'(-cos(2(%i)&pi;)/(%i) + cos(2(%i)&pi;)/(%i))/(4 Pi)=0'%(n-1,n-1,n+1,n+1)\n",
    "    text4.value=r'(-sin(2(%i)&pi;)/(%i) + sin(2(%i)&pi;)/(%i))/(4 Pi)=0'%(n-1,n-1,n+1,n+1)\n",
    "    \n",
    "w = ipywidgets.interactive(int_upt, n=ipywidgets.IntSlider(min=0.,max=100.));\n",
    "\n",
    "slider = w.children[0]\n",
    "\n",
    "play = ipywidgets.Play(min=0,max=100., disabled=False)\n",
    "ipywidgets.jslink((play, 'value'), (slider, 'value'))\n",
    "\n",
    "controls = ipywidgets.HBox([play,slider])\n",
    "tt1=ipywidgets.HBox([text1,text2])\n",
    "tt2=ipywidgets.HBox([text3,text4])\n",
    "\n",
    "ipywidgets.VBox([controls, tt1, tt2])\n",
    "\n"
   ]
  },
  {
   "cell_type": "code",
   "execution_count": null,
   "metadata": {},
   "outputs": [],
   "source": []
  },
  {
   "cell_type": "code",
   "execution_count": null,
   "metadata": {},
   "outputs": [],
   "source": []
  }
 ],
 "metadata": {
  "kernelspec": {
   "display_name": "Python 3",
   "language": "python",
   "name": "python3"
  },
  "language_info": {
   "codemirror_mode": {
    "name": "ipython",
    "version": 3
   },
   "file_extension": ".py",
   "mimetype": "text/x-python",
   "name": "python",
   "nbconvert_exporter": "python",
   "pygments_lexer": "ipython3",
   "version": "3.6.4"
  }
 },
 "nbformat": 4,
 "nbformat_minor": 2
}
