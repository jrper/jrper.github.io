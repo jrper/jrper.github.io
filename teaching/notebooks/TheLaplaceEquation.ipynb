{
 "cells": [
  {
   "cell_type": "markdown",
   "metadata": {},
   "source": [
    "# The Laplace Equation"
   ]
  },
  {
   "cell_type": "markdown",
   "metadata": {},
   "source": [
    "The Laplace equation is one of the canonical partial differential equationss with which numericists deal, and an example of an elliptic PDE. As you probably know, the equation for a parabola is\n",
    "\n",
    "\\\\[ a^2 x^2 + b^2 y^2=r. \\\\]\n",
    " \n",
    "Similar to this, the standard Laplace equation in two dimension is\n",
    "\n",
    "\\\\[ \\frac{\\partial^2 u}{\\partial x^2} +\\frac{\\partial ^2 u}{\\partial y^2}=f(x,y). \\\\]\n",
    " \n",
    "This is a model for a steady system in which information diffused through the domain boundaries balances sources and sinks within the domain itself."
   ]
  },
  {
   "cell_type": "markdown",
   "metadata": {},
   "source": [
    "## Boundary conditions\n",
    "\n",
    "The problem accepts several classes of boundary condition and remains well posed, however a condition of some sort is needed on every boundary. Some possible forms for the boundary condition are\n",
    "\n",
    "1. Dirichlet conditions: Here we specify the explicit value of \\\\(u\\\\) on the boundary itself, \n",
    "\\\\[u(x,y)=U_D \\quad (x,y)\\in \\delta\\Omega. \\\\] \n",
    "2. Neumann conditions: here we specify the rate of change of u in the direction \\\\(\\mathbf{n}\\\\) normal to the boundary,\n",
    "\\\\[\\mathbf{n}\\cdot \\nabla u(x,y)=g_N \\quad (x,y)\\in \\delta\\Omega.\\\\] \n",
    "3. Robin conditions: Here the condition is an equation relating the value of the boundary and its rate of change in the normal direction\n",
    "\\\\[u(x,y)+a\\mathbf{n}\\cdot \\nabla u(x,y)=g_N \\quad (x,y)\\in \\delta\\Omega.\\\\] "
   ]
  },
  {
   "cell_type": "markdown",
   "metadata": {},
   "source": [
    "Lets implement a quick finite difference solver for Laplace's equation using `numpy` and `scipy`.\n",
    "\n",
    "### Numbering\n",
    "\n",
    "Our domain is two dimensional, but we need one dimensional vectors to do maths with, so we need to come up with a mapping from an index pair, \\\\((i,j)\\\\) to a single index, \\\\(k\\\\). This can be done two different ways, \\\\((k=N*i+j)\\\\) and \\\\((k=N*j+i)\\\\). Which one is natural depends on a number of things"
   ]
  },
  {
   "cell_type": "code",
   "execution_count": 9,
   "metadata": {},
   "outputs": [
    {
     "data": {
      "image/png": "[encoded data removed]",
      "text/plain": [
       "<matplotlib.figure.Figure at 0x10d8d9a58>"
      ]
     },
     "metadata": {},
     "output_type": "display_data"
    }
   ],
   "source": [
    "import numpy\n",
    "from scipy import linalg\n",
    "\n",
    "N = 20\n",
    "dx = 1.0/(N-1)\n",
    "\n",
    "x = numpy.linspace(-dx/2., 1.0+dx/2., N+1)\n",
    "A = numpy.zeros([N*N, N*N])\n",
    "f = numpy.zeros([N, N])\n",
    "\n",
    "f[1:N//2,1:N//2]=1.0\n",
    "f[N//2:N,1:N//2]=-1.0\n",
    "f[1:N//2,N//2:N]=-1.0\n",
    "f[N//2:N,N//2:N]=1.0\n",
    "\n",
    "for j in range(N):\n",
    "    A[j,j] = 1.0\n",
    "    A[N*(N-1)+j,N*(N-1)+j] = 1.0\n",
    "for i in range(1,N-1):\n",
    "    A[N*i,N*i] = 1.0\n",
    "    for j in range(1,N-1):\n",
    "        A[N*i+j, N*(i+1)+j] =1.0\n",
    "        A[N*i+j, N*(i-1)+j] =1.0\n",
    "        A[N*i+j, N*i+j+1] =1.0\n",
    "        A[N*i+j, N*i+j-1] =1.0\n",
    "        A[N*i+j, N*i+j] = -4.0\n",
    "    A[N*i+N-1, N*i+N-1] = 1.0\n",
    "\n",
    "u = linalg.solve(A, f.ravel()).reshape(N, N)\n",
    "\n",
    "import pylab\n",
    "pylab.cool()\n",
    "pylab.pcolormesh(x, x, u)\n",
    "pylab.axis([0,1,0,1], shading='gouraud')\n",
    "pylab.colorbar()\n",
    "pylab.show()\n",
    "\n",
    "\n"
   ]
  },
  {
   "cell_type": "code",
   "execution_count": null,
   "metadata": {},
   "outputs": [],
   "source": []
  }
 ],
 "metadata": {
  "kernelspec": {
   "display_name": "Python 3",
   "language": "python",
   "name": "python3"
  },
  "language_info": {
   "codemirror_mode": {
    "name": "ipython",
    "version": 3
   },
   "file_extension": ".py",
   "mimetype": "text/x-python",
   "name": "python",
   "nbconvert_exporter": "python",
   "pygments_lexer": "ipython3",
   "version": "3.6.4"
  }
 },
 "nbformat": 4,
 "nbformat_minor": 2
}
