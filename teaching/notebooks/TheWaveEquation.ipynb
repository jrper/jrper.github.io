{
 "cells": [
  {
   "cell_type": "markdown",
   "metadata": {},
   "source": [
    "# The Wave Equation\n"
   ]
  },
  {
   "cell_type": "markdown",
   "metadata": {},
   "source": [
    "The wave equation is one of the canonical partial differential equationss with which numericists deal, and an example of a hyperbolic PDE. As you probably know, the equation for a parabola is\n",
    "\n",
    "\\\\[ x^2 = a^2 y^2+b. \\\\]\n",
    " \n",
    "Similar to this, the standard wave equation in one dimension is\n",
    "\n",
    "\\\\[ \\frac{\\partial^2 u}{\\partial t^2} = c^2\\frac{\\partial ^2 u}{\\partial x^2}. \\\\]\n",
    " \n",
    "This is a model for a system radiating information, where the speed of the propagation is \\\\(c\\\\), whichand has units of  m/s.\n",
    "\n",
    "When \\\\(c\\\\) is constant, the equation accepts leftward and rightward travelling wave solutions, \\\\(f(x+ct)\\\\) and \\\\(g(x-ct)\\\\)."
   ]
  },
  {
   "cell_type": "markdown",
   "metadata": {},
   "source": [
    "## Initial Conditions\n",
    "The second order ODE can be rewritten as a pair of coupled first order ODEs,\n",
    "\\\\[ \\frac{\\partial v}{\\partial t} = c^2\\frac{\\partial ^2 u}{\\partial t}, \\\\]\n",
    "\\\\[ \\frac{\\partial u}{\\partial t} = v. \\\\]\n",
    "where the second equation is a rewritten version of the identity, \\\\(v=\\frac{\\partial u}{\\partial t}\\\\). From this, it can be seen that we need to provide initial conditions for both \\\\(u\\\\) and \\\\(v\\\\), i.e\n",
    "\\\\[ u(x,0)= U(x) \\\\]\n",
    "\\\\[\\frac{\\partial u}{\\partial t} (x,0)= V(x). \\\\]\n",
    "\n",
    "## Boundary Conditions\n",
    "The boundary conditions must supply enough information to control both leftward and rightward travelling waves, so that we need a boundary condition on every boundary.\n",
    "\n",
    "Lets build a finite difference model for a wave equation"
   ]
  },
  {
   "cell_type": "code",
   "execution_count": 44,
   "metadata": {},
   "outputs": [
    {
     "data": {
      "application/vnd.jupyter.widget-view+json": {
       "model_id": "d46da55c88f04548894f2ec824ae898f",
       "version_major": 2,
       "version_minor": 0
      },
      "text/html": [
       "<p>Failed to display Jupyter Widget of type <code>HBox</code>.</p>\n",
       "<p>\n",
       "  If you're reading this message in the Jupyter Notebook or JupyterLab Notebook, it may mean\n",
       "  that the widgets JavaScript is still loading. If this message persists, it\n",
       "  likely means that the widgets JavaScript library is either not installed or\n",
       "  not enabled. See the <a href=\"https://ipywidgets.readthedocs.io/en/stable/user_install.html\">Jupyter\n",
       "  Widgets Documentation</a> for setup instructions.\n",
       "</p>\n",
       "<p>\n",
       "  If you're reading this message in another frontend (for example, a static\n",
       "  rendering on GitHub or <a href=\"https://nbviewer.jupyter.org/\">NBViewer</a>),\n",
       "  it may mean that your frontend doesn't currently support widgets.\n",
       "</p>\n"
      ],
      "text/plain": [
       "HBox(children=(Play(value=0, description='Press play'), FloatSlider(value=50.0, description='t', step=1.0)))"
      ]
     },
     "metadata": {},
     "output_type": "display_data"
    },
    {
     "data": {
      "application/vnd.jupyter.widget-view+json": {
       "model_id": "7f126e71d42e4ada887bdcf40c2d503c",
       "version_major": 2,
       "version_minor": 0
      },
      "text/html": [
       "<p>Failed to display Jupyter Widget of type <code>Figure</code>.</p>\n",
       "<p>\n",
       "  If you're reading this message in the Jupyter Notebook or JupyterLab Notebook, it may mean\n",
       "  that the widgets JavaScript is still loading. If this message persists, it\n",
       "  likely means that the widgets JavaScript library is either not installed or\n",
       "  not enabled. See the <a href=\"https://ipywidgets.readthedocs.io/en/stable/user_install.html\">Jupyter\n",
       "  Widgets Documentation</a> for setup instructions.\n",
       "</p>\n",
       "<p>\n",
       "  If you're reading this message in another frontend (for example, a static\n",
       "  rendering on GitHub or <a href=\"https://nbviewer.jupyter.org/\">NBViewer</a>),\n",
       "  it may mean that your frontend doesn't currently support widgets.\n",
       "</p>\n"
      ],
      "text/plain": [
       "Figure(axes=[Axis(label='x', scale=LinearScale(max=10.0, min=-10.0)), Axis(label='u', orientation='vertical', scale=LinearScale(max=1.0, min=-1.0), side='left')], fig_margin={'top': 60, 'bottom': 60, 'left': 60, 'right': 60}, layout=Layout(width='auto'), marks=[Lines(colors=['#1f77b4', '#ff7f0e', '#2ca02c', '#d62728', '#9467bd', '#8c564b', '#e377c2', '#7f7f7f', '#bcbd22', '#17becf'], interactions={'hover': 'tooltip'}, scales={'x': LinearScale(max=10.0, min=-10.0), 'y': LinearScale(max=1.0, min=-1.0)}, scales_metadata={'x': {'orientation': 'horizontal', 'dimension': 'x'}, 'y': {'orientation': 'vertical', 'dimension': 'y'}, 'color': {'dimension': 'color'}}, tooltip_style={'opacity': 0.9}, x=array([-10. ,  -9.8,  -9.6,  -9.4,  -9.2,  -9. ,  -8.8,  -8.6,  -8.4,\n",
       "        -8.2,  -8. ,  -7.8,  -7.6,  -7.4,  -7.2,  -7. ,  -6.8,  -6.6,\n",
       "        -6.4,  -6.2,  -6. ,  -5.8,  -5.6,  -5.4,  -5.2,  -5. ,  -4.8,\n",
       "        -4.6,  -4.4,  -4.2,  -4. ,  -3.8,  -3.6,  -3.4,  -3.2,  -3. ,\n",
       "        -2.8,  -2.6,  -2.4,  -2.2,  -2. ,  -1.8,  -1.6,  -1.4,  -1.2,\n",
       "        -1. ,  -0.8,  -0.6,  -0.4,  -0.2,   0. ,   0.2,   0.4,   0.6,\n",
       "         0.8,   1. ,   1.2,   1.4,   1.6,   1.8,   2. ,   2.2,   2.4,\n",
       "         2.6,   2.8,   3. ,   3.2,   3.4,   3.6,   3.8,   4. ,   4.2,\n",
       "         4.4,   4.6,   4.8,   5. ,   5.2,   5.4,   5.6,   5.8,   6. ,\n",
       "         6.2,   6.4,   6.6,   6.8,   7. ,   7.2,   7.4,   7.6,   7.8,\n",
       "         8. ,   8.2,   8.4,   8.6,   8.8,   9. ,   9.2,   9.4,   9.6,\n",
       "         9.8,  10. ]), y=array([3.72007598e-44, 1.95145238e-42, 9.44975498e-41, 4.22415241e-39,\n",
       "       1.74307090e-37, 6.63967720e-36, 2.33472278e-34, 7.57844527e-33,\n",
       "       2.27081292e-31, 6.28114815e-30, 1.60381089e-28, 3.78027784e-27,\n",
       "       8.22528065e-26, 1.65209178e-24, 3.06319086e-23, 5.24288566e-22,\n",
       "       8.28367701e-21, 1.20818202e-19, 1.62666462e-18, 2.02171585e-17,\n",
       "       2.31952283e-16, 2.45659537e-15, 2.40173478e-14, 2.16756888e-13,\n",
       "       1.80583144e-12, 1.38879439e-11, 9.85950558e-11, 6.46143177e-10,\n",
       "       3.90893843e-09, 2.18295780e-08, 1.12535175e-07, 5.35534780e-07,\n",
       "       2.35257520e-06, 9.54016287e-06, 3.57128496e-05, 1.23409804e-04,\n",
       "       3.93669041e-04, 1.15922917e-03, 3.15111160e-03, 7.90705405e-03,\n",
       "       1.83156389e-02, 3.91638951e-02, 7.73047404e-02, 1.40858421e-01,\n",
       "       2.36927759e-01, 3.67879441e-01, 5.27292424e-01, 6.97676326e-01,\n",
       "       8.52143789e-01, 9.60789439e-01, 1.00000000e+00, 9.60789439e-01,\n",
       "       8.52143789e-01, 6.97676326e-01, 5.27292424e-01, 3.67879441e-01,\n",
       "       2.36927759e-01, 1.40858421e-01, 7.73047404e-02, 3.91638951e-02,\n",
       "       1.83156389e-02, 7.90705405e-03, 3.15111160e-03, 1.15922917e-03,\n",
       "       3.93669041e-04, 1.23409804e-04, 3.57128496e-05, 9.54016287e-06,\n",
       "       2.35257520e-06, 5.35534780e-07, 1.12535175e-07, 2.18295780e-08,\n",
       "       3.90893843e-09, 6.46143177e-10, 9.85950558e-11, 1.38879439e-11,\n",
       "       1.80583144e-12, 2.16756888e-13, 2.40173478e-14, 2.45659537e-15,\n",
       "       2.31952283e-16, 2.02171585e-17, 1.62666462e-18, 1.20818202e-19,\n",
       "       8.28367701e-21, 5.24288566e-22, 3.06319086e-23, 1.65209178e-24,\n",
       "       8.22528065e-26, 3.78027784e-27, 1.60381089e-28, 6.28114815e-30,\n",
       "       2.27081292e-31, 7.57844527e-33, 2.33472278e-34, 6.63967720e-36,\n",
       "       1.74307090e-37, 4.22415241e-39, 9.44975498e-41, 1.95145238e-42,\n",
       "       3.72007598e-44]))], scale_x=LinearScale(allow_padding=False, max=1.0, min=0.0), scale_y=LinearScale(allow_padding=False, max=1.0, min=0.0))"
      ]
     },
     "metadata": {},
     "output_type": "display_data"
    }
   ],
   "source": [
    "# import relevant modules\n",
    "\n",
    "import numpy\n",
    "from scipy import linalg\n",
    "from bqplot import pyplot\n",
    "from IPython.display import display\n",
    "\n",
    "# set up our discretization\n",
    "\n",
    "N = 101\n",
    "Nt= 100\n",
    "dx = 10.0/(N-1)\n",
    "dt=1.0\n",
    "c=1.0\n",
    "x = numpy.linspace(-10.0, 10.0, N)\n",
    "\n",
    "# useful matrices. A handles the new step, B the old.\n",
    "\n",
    "A = numpy.zeros([2*N, 2*N])\n",
    "B = numpy.zeros([2*N, 2*N])\n",
    "\n",
    "for j in range(N):\n",
    "    # Dirichlet boundary conditions\n",
    "    A[j,j] = 1.0\n",
    "    A[N-1,N-1] = 1.0\n",
    "    A[N+j,N+j] = 1.0\n",
    "    A[2*N-1,2*N-1] = 1.0\n",
    "for i in range(1,N-1):\n",
    "    A[i, i] = 1.0\n",
    "    A[i, N+i-1] =-dt*c*1.0/dx**2/2.0\n",
    "    A[i, N+i] = +dt*c*2.0/dx**2/2.0\n",
    "    A[i, N+i+1] = -dt*c*1.0/dx**2/2.0\n",
    "    A[N+i, i] = -dt/2.0\n",
    "    A[N+i, N+i] = 1.0\n",
    "    B[i, i] = 1.0\n",
    "    B[i, N+i-1] = dt*c*1.0/dx**2/2.0\n",
    "    B[i, N+i] = -dt*c*2.0/dx**2/2.0\n",
    "    B[i, N+i+1] = dt*c*1.0/dx**2/2.0\n",
    "    B[N+i, i] = dt/2.0\n",
    "    B[N+i, N+i] = 1.0\n",
    "    \n",
    "\n",
    "\n",
    "# initial conditions\n",
    "    \n",
    "y = numpy.zeros(2*N)\n",
    "y[:N]=numpy.exp(-x**2)\n",
    "\n",
    "Y=[]\n",
    "    \n",
    "for _ in range(Nt):\n",
    "    Y.append(y)\n",
    "    z=numpy.dot(B,y)\n",
    "    y = linalg.solve(A, z)\n",
    "\n",
    "Y.append(y)\n",
    "\n",
    "pyplot.figure(1)\n",
    "xsc = pyplot.LinearScale(min=-10,max=10)\n",
    "ysc = pyplot.LinearScale(min=-1,max=1)\n",
    "axy = pyplot.Axis(label='u', scale=ysc, orientation='vertical', side='left', grid_lines='solid')\n",
    "axx = pyplot.Axis(label='x', scale=xsc, grid_lines='solid')\n",
    "lines = pyplot.Lines(x=x, y=Y[0][:N], scales = {'x': xsc, 'y': ysc})\n",
    "plt = pyplot.Figure(layout=ipywidgets.Layout(width='auto'), marks=[lines],axes=[axx,axy])\n",
    "def g(t):\n",
    "    lines.y = Y[int(t/dt)][:N]\n",
    "    \n",
    "import ipywidgets\n",
    "w = ipywidgets.interactive(g, t=(0.,1.0*Nt,1));\n",
    "slider = w.children[0]\n",
    "output = w.children[-1]\n",
    "\n",
    "play = ipywidgets.Play(\n",
    "#     interval=10,\n",
    "    value=0,\n",
    "    min=0,\n",
    "    max=Nt,\n",
    "    step=1,\n",
    "    description=\"Press play\",\n",
    "    disabled=False\n",
    ")\n",
    "\n",
    "\n",
    "ipywidgets.jslink((play, 'value'), (slider, 'value'))\n",
    "\n",
    "display(ipywidgets.HBox([play, slider]))\n",
    "display(plt)\n",
    "\n",
    "\n"
   ]
  },
  {
   "cell_type": "code",
   "execution_count": null,
   "metadata": {},
   "outputs": [],
   "source": []
  },
  {
   "cell_type": "code",
   "execution_count": null,
   "metadata": {},
   "outputs": [],
   "source": []
  }
 ],
 "metadata": {
  "kernelspec": {
   "display_name": "Python 3",
   "language": "python",
   "name": "python3"
  },
  "language_info": {
   "codemirror_mode": {
    "name": "ipython",
    "version": 3
   },
   "file_extension": ".py",
   "mimetype": "text/x-python",
   "name": "python",
   "nbconvert_exporter": "python",
   "pygments_lexer": "ipython3",
   "version": "3.6.4"
  },
  "widgets": {
   "application/vnd.jupyter.widget-state+json": {
    "state": {
     "006779c04d7f41bfb59386a2eaa699c1": {
      "model_module": "@jupyter-widgets/base",
      "model_module_version": "1.0.0",
      "model_name": "LayoutModel",
      "state": {}
     },
     "0142a9c95adb4e8a8f69f66ca3e9392e": {
      "model_module": "bqplot",
      "model_module_version": "^0.3.6",
      "model_name": "AxisModel",
      "state": {
       "label": "u",
       "orientation": "vertical",
       "scale": "IPY_MODEL_9a6cbd893901425886482b7d2a16bf12",
       "side": "left",
       "tick_values": {
        "type": null,
        "values": null
       }
      }
     },
     "0145a1b0a7e44d64973947ac9c03f608": {
      "model_module": "bqplot",
      "model_module_version": "^0.3.6",
      "model_name": "LinesModel",
      "state": {
       "color": {
        "type": null,
        "values": null
       },
       "display_legend": false,
       "fill_colors": [],
       "labels": [
        "C1"
       ],
       "scales": {
        "x": "IPY_MODEL_f0b72dd0e54947dab163d71cfce6a64d",
        "y": "IPY_MODEL_f3ad51a47ace413d97979095756c1dfc"
       },
       "selected": [],
       "x": {
        "type": "float",
        "values": [
         -1,
         -0.8,
         -0.6,
         -0.3999999999999999,
         -0.19999999999999996,
         0,
         0.20000000000000018,
         0.40000000000000013,
         0.6000000000000001,
         0.8,
         1
        ]
       },
       "y": {
        "type": "float",
        "values": [
         0.36787944117144233,
         0.5272924240430485,
         0.697676326071031,
         0.8521437889662115,
         0.9607894391523232,
         1,
         0.9607894391523232,
         0.8521437889662112,
         0.697676326071031,
         0.5272924240430485,
         0.36787944117144233
        ]
       }
      }
     },
     "015e8b748900473ca9375688fdaec68e": {
      "model_module": "bqplot",
      "model_module_version": "^0.3.6",
      "model_name": "LinearScaleModel",
      "state": {
       "max": 1,
       "min": -1,
       "stabilized": false
      }
     },
     "025b44d319074aca899bba0b9cd6a4ca": {
      "model_module": "@jupyter-widgets/base",
      "model_module_version": "1.0.0",
      "model_name": "LayoutModel",
      "state": {}
     },
     "032fd6b0c95a4b1c943a6524030faa7a": {
      "model_module": "bqplot",
      "model_module_version": "^0.3.6",
      "model_name": "AxisModel",
      "state": {
       "label": "x",
       "scale": "IPY_MODEL_2d178660894c499ebe72868825a2cfc2",
       "side": "bottom",
       "tick_values": {
        "type": null,
        "values": null
       }
      }
     },
     "033d6a7aa86e46deb29fef63065ed38b": {
      "model_module": "@jupyter-widgets/base",
      "model_module_version": "1.0.0",
      "model_name": "LayoutModel",
      "state": {
       "min_width": "125px"
      }
     },
     "03523f68997047ad8950060a1c81821a": {
      "model_module": "@jupyter-widgets/base",
      "model_module_version": "1.0.0",
      "model_name": "LayoutModel",
      "state": {}
     },
     "036c09dfc1bf41888aaace60929587ac": {
      "model_module": "bqplot",
      "model_module_version": "^0.3.6",
      "model_name": "AxisModel",
      "state": {
       "label": "x",
       "scale": "IPY_MODEL_ea90ddf7a7174024a7d9be39d93cfbe5",
       "side": "bottom",
       "tick_values": {
        "type": null,
        "values": null
       }
      }
     },
     "03bdae9edf174d55a0604d8a32196f83": {
      "model_module": "@jupyter-widgets/controls",
      "model_module_version": "1.1.0",
      "model_name": "SliderStyleModel",
      "state": {
       "description_width": ""
      }
     },
     "040fcd0a968e4569b3174c10bd94d80b": {
      "model_module": "bqplot",
      "model_module_version": "^0.3.6",
      "model_name": "AxisModel",
      "state": {
       "label": "x",
       "scale": "IPY_MODEL_60199ee49a824dbdabf722c9b6da2fa4",
       "side": "bottom",
       "tick_values": {
        "type": null,
        "values": null
       }
      }
     },
     "041ca51d8b1746679a3e044484ec8808": {
      "model_module": "@jupyter-widgets/output",
      "model_module_version": "1.0.0",
      "model_name": "OutputModel",
      "state": {
       "layout": "IPY_MODEL_772797b6322e4d70a7d6c41017e7bb3a"
      }
     },
     "0478a556a214477d99497ad91cf2e97f": {
      "model_module": "@jupyter-widgets/output",
      "model_module_version": "1.0.0",
      "model_name": "OutputModel",
      "state": {
       "layout": "IPY_MODEL_880e3bb047914a7ebd713c02295eff49",
       "outputs": [
        {
         "data": {
          "image/png": "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\n",
          "text/plain": "<matplotlib.figure.Figure at 0x1129d49b0>"
         },
         "metadata": {},
         "output_type": "display_data"
        }
       ]
      }
     },
     "0479dd0d9d724bc2906d320da535ab22": {
      "model_module": "@jupyter-widgets/controls",
      "model_module_version": "1.1.0",
      "model_name": "SliderStyleModel",
      "state": {
       "description_width": ""
      }
     },
     "04b962ca39a343c5869b2bea8c47cf0c": {
      "model_module": "bqplot",
      "model_module_version": "^0.3.6",
      "model_name": "AxisModel",
      "state": {
       "label": "u",
       "orientation": "vertical",
       "scale": "IPY_MODEL_a81bd3833de4425980156df040cf454c",
       "side": "left",
       "tick_values": {
        "type": null,
        "values": null
       }
      }
     },
     "058e47e4fc7845dc85d87620dbbfd17e": {
      "model_module": "bqplot",
      "model_module_version": "^0.3.6",
      "model_name": "AxisModel",
      "state": {
       "label": "u",
       "orientation": "vertical",
       "scale": "IPY_MODEL_6897400d0d824ed58a407a0246f879e7",
       "side": "left",
       "tick_values": {
        "type": null,
        "values": null
       }
      }
     },
     "05c718e25c554a18a4aa9ad8630a455c": {
      "model_module": "@jupyter-widgets/controls",
      "model_module_version": "1.1.0",
      "model_name": "PlayModel",
      "state": {
       "description": "Press play",
       "layout": "IPY_MODEL_f782a2f822cb4c1a93c39fe8301be0c8",
       "style": "IPY_MODEL_f0ecade595e545ef9f53e90d2ad9a90c",
       "value": 50
      }
     },
     "0669a25dc274495c9a224e8ba3342bd5": {
      "model_module": "@jupyter-widgets/controls",
      "model_module_version": "1.1.0",
      "model_name": "VBoxModel",
      "state": {
       "_dom_classes": [
        "widget-interact"
       ],
       "children": [
        "IPY_MODEL_e3ca17595b884682bd89304a8897d8ba",
        "IPY_MODEL_a4ca0749734546a6b9d3b193e5032f0c"
       ],
       "layout": "IPY_MODEL_c85f6f94e95f49c59a99900cbfb944cf"
      }
     },
     "06d4aa7f4b734411a191c0b2465b54b0": {
      "model_module": "@jupyter-widgets/base",
      "model_module_version": "1.0.0",
      "model_name": "LayoutModel",
      "state": {}
     },
     "06da4c31eab0405cbb94f9344303b4e3": {
      "model_module": "@jupyter-widgets/output",
      "model_module_version": "1.0.0",
      "model_name": "OutputModel",
      "state": {
       "layout": "IPY_MODEL_7c7b7d5d774442ea9f7df4c408d8147e"
      }
     },
     "075103f1a2164ecf97094aff707ba567": {
      "model_module": "bqplot",
      "model_module_version": "^0.3.6",
      "model_name": "AxisModel",
      "state": {
       "label": "x",
       "scale": "IPY_MODEL_ff1dd03e38574e8297f9896d637716ae",
       "side": "bottom",
       "tick_values": {
        "type": null,
        "values": null
       }
      }
     },
     "07572f8587434a90b48b8162d74fc104": {
      "model_module": "@jupyter-widgets/base",
      "model_module_version": "1.0.0",
      "model_name": "LayoutModel",
      "state": {}
     },
     "07bc7e5e2c0c4ecc9f914da52832256a": {
      "model_module": "@jupyter-widgets/base",
      "model_module_version": "1.0.0",
      "model_name": "LayoutModel",
      "state": {}
     },
     "08c97e1934b64317b9c8355ea62c521c": {
      "model_module": "bqplot",
      "model_module_version": "^0.3.6",
      "model_name": "LinearScaleModel",
      "state": {
       "allow_padding": false,
       "max": 1,
       "min": 0,
       "stabilized": false
      }
     },
     "08cff161ab9040a4a97e134afdfc7e51": {
      "model_module": "@jupyter-widgets/output",
      "model_module_version": "1.0.0",
      "model_name": "OutputModel",
      "state": {
       "layout": "IPY_MODEL_7a574cdea5e44243aa584c2e392ca74f"
      }
     },
     "092a00ccbac644f3b0a67181a5df5337": {
      "model_module": "@jupyter-widgets/controls",
      "model_module_version": "1.1.0",
      "model_name": "SliderStyleModel",
      "state": {
       "description_width": ""
      }
     },
     "09e9b1239e6e4712a2e3a9e4e236c263": {
      "model_module": "@jupyter-widgets/controls",
      "model_module_version": "1.1.0",
      "model_name": "HBoxModel",
      "state": {
       "children": [
        "IPY_MODEL_4c991109b63b416fb94c9153257c954d",
        "IPY_MODEL_49ce079bd5474d74ac9721b0554b9161"
       ],
       "layout": "IPY_MODEL_67db4b15f9464527a587f991f1b1cdbd"
      }
     },
     "0a0ca2fcd0f34c34bade4e95b21274d5": {
      "model_module": "@jupyter-widgets/controls",
      "model_module_version": "1.1.0",
      "model_name": "DescriptionStyleModel",
      "state": {
       "description_width": ""
      }
     },
     "0b12415ff96c495b9aeab427082e9c4d": {
      "model_module": "bqplot",
      "model_module_version": "^0.3.6",
      "model_name": "LinesModel",
      "state": {
       "color": {
        "type": null,
        "values": null
       },
       "display_legend": false,
       "fill_colors": [],
       "labels": [
        "C1"
       ],
       "scales": {
        "x": "IPY_MODEL_c2d467da28af42abbdc3dfc60c889a35",
        "y": "IPY_MODEL_c50963d51fea4b18b26bfa03d7ce2ed0"
       },
       "selected": [],
       "x": {
        "type": "float",
        "values": [
         -1,
         -0.8,
         -0.6,
         -0.3999999999999999,
         -0.19999999999999996,
         0,
         0.20000000000000018,
         0.40000000000000013,
         0.6000000000000001,
         0.8,
         1
        ]
       },
       "y": {
        "type": "float",
        "values": [
         0.36787944117144233,
         0.5272924240430485,
         0.697676326071031,
         0.8521437889662115,
         0.9607894391523232,
         1,
         0.9607894391523232,
         0.8521437889662112,
         0.697676326071031,
         0.5272924240430485,
         0.36787944117144233
        ]
       }
      }
     },
     "0b221c0f29874e29bc7981a34a3da57f": {
      "model_module": "@jupyter-widgets/output",
      "model_module_version": "1.0.0",
      "model_name": "OutputModel",
      "state": {
       "layout": "IPY_MODEL_69c9ca5cb766458ab4b7dfe06e31ec52",
       "outputs": [
        {
         "data": {
          "application/vnd.jupyter.widget-view+json": {
           "model_id": "ac2804f929fe4150ae0d6acaf5e2006e",
           "version_major": 2,
           "version_minor": 0
          },
          "text/html": "<p>Failed to display Jupyter Widget of type <code>Figure</code>.</p>\n<p>\n  If you're reading this message in the Jupyter Notebook or JupyterLab Notebook, it may mean\n  that the widgets JavaScript is still loading. If this message persists, it\n  likely means that the widgets JavaScript library is either not installed or\n  not enabled. See the <a href=\"https://ipywidgets.readthedocs.io/en/stable/user_install.html\">Jupyter\n  Widgets Documentation</a> for setup instructions.\n</p>\n<p>\n  If you're reading this message in another frontend (for example, a static\n  rendering on GitHub or <a href=\"https://nbviewer.jupyter.org/\">NBViewer</a>),\n  it may mean that your frontend doesn't currently support widgets.\n</p>\n",
          "text/plain": "Figure(fig_margin={'top': 60, 'bottom': 60, 'left': 60, 'right': 60}, layout=Layout(min_width='125px'), scale_x=LinearScale(allow_padding=False, max=1.0, min=0.0), scale_y=LinearScale(allow_padding=False, max=1.0, min=0.0))"
         },
         "metadata": {},
         "output_type": "display_data"
        }
       ]
      }
     },
     "0b8d16d18e5c47e99e3dca3489052146": {
      "model_module": "@jupyter-widgets/base",
      "model_module_version": "1.0.0",
      "model_name": "LayoutModel",
      "state": {}
     },
     "0ba5dad759ac4d998b84c03a62d7a818": {
      "model_module": "bqplot",
      "model_module_version": "^0.3.6",
      "model_name": "LinearScaleModel",
      "state": {
       "allow_padding": false,
       "max": 1,
       "min": 0,
       "stabilized": false
      }
     },
     "0c01abbf03b24be198d0de17368dbd94": {
      "model_module": "@jupyter-widgets/base",
      "model_module_version": "1.0.0",
      "model_name": "LayoutModel",
      "state": {}
     },
     "0c08ffd7156844159fc1708d0a32bfb6": {
      "model_module": "@jupyter-widgets/controls",
      "model_module_version": "1.1.0",
      "model_name": "PlayModel",
      "state": {
       "description": "Press play",
       "layout": "IPY_MODEL_beacdbe542834d83adefe64ecf756182",
       "style": "IPY_MODEL_ed4a9b78a20b4742903ce1545be88da1"
      }
     },
     "0cf217a352b94b48933a599087d31230": {
      "model_module": "bqplot",
      "model_module_version": "^0.3.6",
      "model_name": "AxisModel",
      "state": {
       "label": "x",
       "scale": "IPY_MODEL_1cbf3eaa6e5b4207b10fb06004ecb154",
       "side": "bottom",
       "tick_values": {
        "type": null,
        "values": null
       }
      }
     },
     "0df4a4f66c384c529553668de46613af": {
      "model_module": "@jupyter-widgets/base",
      "model_module_version": "1.0.0",
      "model_name": "LayoutModel",
      "state": {}
     },
     "0e2ea62c47ce4398a03ed7eba35bbc4e": {
      "model_module": "bqplot",
      "model_module_version": "^0.3.6",
      "model_name": "AxisModel",
      "state": {
       "label": "Value1",
       "orientation": "vertical",
       "scale": "IPY_MODEL_b4471836d06a4393b3e9890e1de1ea1b",
       "side": "left",
       "tick_values": {
        "type": null,
        "values": null
       }
      }
     },
     "0ece7ec4bea242da8da0c3dda95bd90d": {
      "model_module": "@jupyter-widgets/controls",
      "model_module_version": "1.1.0",
      "model_name": "VBoxModel",
      "state": {
       "_dom_classes": [
        "widget-interact"
       ],
       "children": [
        "IPY_MODEL_ed55c122ef754063982dbbb89b9d93f7",
        "IPY_MODEL_23c0c40362e5463796c82e340450d2e3"
       ],
       "layout": "IPY_MODEL_4344e65c20c34248b66af6a258689daf"
      }
     },
     "0ed9349d0ef048819436a6e61b5298e6": {
      "model_module": "@jupyter-widgets/base",
      "model_module_version": "1.0.0",
      "model_name": "LayoutModel",
      "state": {}
     },
     "0f55df1a9fca4611a534a60a3b3de78b": {
      "model_module": "bqplot",
      "model_module_version": "^0.3.6",
      "model_name": "LinearScaleModel",
      "state": {
       "allow_padding": false,
       "max": 1,
       "min": 0,
       "stabilized": false
      }
     },
     "0f7b5f7aca0743c5bee0587fdf6e0296": {
      "model_module": "@jupyter-widgets/base",
      "model_module_version": "1.0.0",
      "model_name": "LayoutModel",
      "state": {}
     },
     "10dfcfb7ac304023b7a189bd256a5bbb": {
      "model_module": "bqplot",
      "model_module_version": "^0.3.6",
      "model_name": "LinesModel",
      "state": {
       "color": {
        "type": null,
        "values": null
       },
       "display_legend": false,
       "fill_colors": [],
       "labels": [
        "C1"
       ],
       "scales": {
        "x": "IPY_MODEL_f0b72dd0e54947dab163d71cfce6a64d",
        "y": "IPY_MODEL_f3ad51a47ace413d97979095756c1dfc"
       },
       "selected": [],
       "x": {
        "type": "float",
        "values": [
         0,
         1,
         2,
         3,
         4,
         5,
         6,
         7,
         8,
         9,
         10
        ]
       },
       "y": {
        "type": "float",
        "values": [
         -1,
         -0.8,
         -0.6,
         -0.3999999999999999,
         -0.19999999999999996,
         0,
         0.20000000000000018,
         0.40000000000000013,
         0.6000000000000001,
         0.8,
         1
        ]
       }
      }
     },
     "10e266c9442b4f288cd8773160ec73ce": {
      "model_module": "@jupyter-widgets/controls",
      "model_module_version": "1.1.0",
      "model_name": "SliderStyleModel",
      "state": {
       "description_width": ""
      }
     },
     "10e5f8aa1c0e4e1cbd3dbf30a05cb83b": {
      "model_module": "bqplot",
      "model_module_version": "^0.3.6",
      "model_name": "LinearScaleModel",
      "state": {
       "allow_padding": false,
       "max": 1,
       "min": 0,
       "stabilized": false
      }
     },
     "113171520e234c87b5f9b9f9f271a864": {
      "model_module": "@jupyter-widgets/controls",
      "model_module_version": "1.1.0",
      "model_name": "LinkModel",
      "state": {
       "source": [
        "IPY_MODEL_664868b19ad14393a8d5f701dd806e4c",
        "value"
       ],
       "target": [
        "IPY_MODEL_84d495e49f3e492385576a9751a0c6b7",
        "value"
       ]
      }
     },
     "117e46e53fab4820800dbf1be04b2475": {
      "model_module": "bqplot",
      "model_module_version": "^0.3.6",
      "model_name": "LinearScaleModel",
      "state": {
       "allow_padding": false,
       "max": 1,
       "min": 0,
       "stabilized": false
      }
     },
     "11d67848552c40b0bbe509c01bb638c5": {
      "model_module": "bqplot",
      "model_module_version": "^0.3.6",
      "model_name": "LinearScaleModel",
      "state": {
       "max": 1,
       "min": -1,
       "stabilized": false
      }
     },
     "12445de4f54649ffbd74de9fdec9acb0": {
      "model_module": "bqplot",
      "model_module_version": "^0.3.6",
      "model_name": "LinearScaleModel",
      "state": {
       "allow_padding": false,
       "max": 1,
       "min": 0,
       "stabilized": false
      }
     },
     "12929283a829483a9df7248fef25c319": {
      "model_module": "bqplot",
      "model_module_version": "^0.3.6",
      "model_name": "LinearScaleModel",
      "state": {
       "allow_padding": false,
       "max": 1,
       "min": 0,
       "stabilized": false
      }
     },
     "12aa3d1ab857481ba38813fa0634d965": {
      "model_module": "bqplot",
      "model_module_version": "^0.3.6",
      "model_name": "LinearScaleModel",
      "state": {
       "max": 10,
       "min": -10,
       "stabilized": false
      }
     },
     "12d8171bb4194d94b9742553a57928ce": {
      "model_module": "@jupyter-widgets/base",
      "model_module_version": "1.0.0",
      "model_name": "LayoutModel",
      "state": {}
     },
     "1347614b111f4dbcac5c1c6ababd3a7e": {
      "model_module": "@jupyter-widgets/base",
      "model_module_version": "1.0.0",
      "model_name": "LayoutModel",
      "state": {}
     },
     "13cc6f45423b4b8a99cb5ab2b29527c2": {
      "model_module": "@jupyter-widgets/output",
      "model_module_version": "1.0.0",
      "model_name": "OutputModel",
      "state": {
       "layout": "IPY_MODEL_f1b403b661a448fea04e890a88b6d5c7"
      }
     },
     "14cb236b346d46ebbe2f18219046c3a0": {
      "model_module": "bqplot",
      "model_module_version": "^0.3.6",
      "model_name": "AxisModel",
      "state": {
       "label": "u",
       "orientation": "vertical",
       "scale": "IPY_MODEL_11d67848552c40b0bbe509c01bb638c5",
       "side": "left",
       "tick_values": {
        "type": null,
        "values": null
       }
      }
     },
     "15951ef601ff485b9dcf5f6a3886ae34": {
      "model_module": "@jupyter-widgets/controls",
      "model_module_version": "1.1.0",
      "model_name": "IntSliderModel",
      "state": {
       "description": "i",
       "layout": "IPY_MODEL_1f73006429004644a815d0a76cd8873d",
       "max": 20,
       "style": "IPY_MODEL_5556ec275700426f9ad9f041f682c1df"
      }
     },
     "178cee364b734d9b946504d9c4ec095e": {
      "model_module": "bqplot",
      "model_module_version": "^0.3.6",
      "model_name": "LinesModel",
      "state": {
       "color": {
        "type": null,
        "values": null
       },
       "display_legend": false,
       "fill_colors": [],
       "labels": [
        "C1"
       ],
       "scales": {
        "x": "IPY_MODEL_a005a466311d48f4af7fdaba2c174091",
        "y": "IPY_MODEL_9a6cbd893901425886482b7d2a16bf12"
       },
       "selected": [],
       "x": {
        "type": "float",
        "values": [
         -10,
         -8,
         -6,
         -4,
         -2,
         0,
         2,
         4,
         6,
         8,
         10
        ]
       },
       "y": {
        "type": "float",
        "values": [
         3.720075976020836e-44,
         1.603810890548638e-28,
         2.3195228302435696e-16,
         1.1253517471925912e-07,
         0.01831563888873418,
         1,
         0.01831563888873418,
         1.1253517471925912e-07,
         2.3195228302435696e-16,
         1.603810890548638e-28,
         3.720075976020836e-44
        ]
       }
      }
     },
     "18bbe5e8a93b4ec3ac3d67b4785c67c5": {
      "model_module": "@jupyter-widgets/base",
      "model_module_version": "1.0.0",
      "model_name": "LayoutModel",
      "state": {}
     },
     "18ec59aa2d584bb881fd0b25aa4bcd0d": {
      "model_module": "@jupyter-widgets/controls",
      "model_module_version": "1.1.0",
      "model_name": "SliderStyleModel",
      "state": {
       "description_width": ""
      }
     },
     "1953181beb694ad88bf34afd456e968d": {
      "model_module": "@jupyter-widgets/controls",
      "model_module_version": "1.1.0",
      "model_name": "HBoxModel",
      "state": {
       "children": [
        "IPY_MODEL_cd29e65a5a094f76bc7f73046fe99170",
        "IPY_MODEL_2cef0a75e742402d99606702dd4b6aec"
       ],
       "layout": "IPY_MODEL_a3263e886de64771a5be8f8e3e4afdd9"
      }
     },
     "19cbcaaad4a24adcba21012e8ffc1ba3": {
      "model_module": "@jupyter-widgets/controls",
      "model_module_version": "1.1.0",
      "model_name": "SliderStyleModel",
      "state": {
       "description_width": ""
      }
     },
     "1aa3d76b0f2541ddb00e4d86c037f059": {
      "model_module": "@jupyter-widgets/controls",
      "model_module_version": "1.1.0",
      "model_name": "VBoxModel",
      "state": {
       "_dom_classes": [
        "widget-interact"
       ],
       "children": [
        "IPY_MODEL_49ce079bd5474d74ac9721b0554b9161",
        "IPY_MODEL_647ea0664260415ab7b3cebea2abc93a"
       ],
       "layout": "IPY_MODEL_4d00f6ab71a9488ebe3957af27886a14"
      }
     },
     "1ae310ad57eb4d8280aa6259371ba0a7": {
      "model_module": "@jupyter-widgets/output",
      "model_module_version": "1.0.0",
      "model_name": "OutputModel",
      "state": {
       "layout": "IPY_MODEL_006779c04d7f41bfb59386a2eaa699c1"
      }
     },
     "1b617d4115f24a99a6de2a2b63a0f720": {
      "model_module": "bqplot",
      "model_module_version": "^0.3.6",
      "model_name": "LinesModel",
      "state": {
       "color": {
        "type": null,
        "values": null
       },
       "display_legend": false,
       "fill_colors": [],
       "labels": [
        "C1"
       ],
       "scales": {
        "x": "IPY_MODEL_691ca49a110249a092a4e002d40be0e5",
        "y": "IPY_MODEL_8dc9c158af9641c0a63661a2f2bfc7f3"
       },
       "selected": [],
       "x": {
        "type": "float",
        "values": [
         -1,
         -0.8,
         -0.6,
         -0.3999999999999999,
         -0.19999999999999996,
         0,
         0.20000000000000018,
         0.40000000000000013,
         0.6000000000000001,
         0.8,
         1
        ]
       },
       "y": {
        "type": "float",
        "values": [
         0.36787944117144233,
         0.5272924240430485,
         0.697676326071031,
         0.8521437889662115,
         0.9607894391523232,
         1,
         0.9607894391523232,
         0.8521437889662112,
         0.697676326071031,
         0.5272924240430485,
         0.36787944117144233
        ]
       }
      }
     },
     "1bc3e59f49ab43f4b3e1b0022ffb1efe": {
      "model_module": "@jupyter-widgets/base",
      "model_module_version": "1.0.0",
      "model_name": "LayoutModel",
      "state": {}
     },
     "1c1e989ff4e04d69bbefc171456b62e7": {
      "model_module": "@jupyter-widgets/controls",
      "model_module_version": "1.1.0",
      "model_name": "DescriptionStyleModel",
      "state": {
       "description_width": ""
      }
     },
     "1cbf3eaa6e5b4207b10fb06004ecb154": {
      "model_module": "bqplot",
      "model_module_version": "^0.3.6",
      "model_name": "LinearScaleModel",
      "state": {
       "max": 1,
       "min": -1,
       "stabilized": false
      }
     },
     "1d32c397381b448088c13ecd071bfe53": {
      "model_module": "@jupyter-widgets/base",
      "model_module_version": "1.0.0",
      "model_name": "LayoutModel",
      "state": {}
     },
     "1d49dddc9c434fe9a53cc128901267f5": {
      "model_module": "@jupyter-widgets/base",
      "model_module_version": "1.0.0",
      "model_name": "LayoutModel",
      "state": {}
     },
     "1e01d87fb48a4d39b2fb9cef2212c53f": {
      "model_module": "@jupyter-widgets/base",
      "model_module_version": "1.0.0",
      "model_name": "LayoutModel",
      "state": {}
     },
     "1ecec089b3654e11b2170076e96fc2d4": {
      "model_module": "@jupyter-widgets/controls",
      "model_module_version": "1.1.0",
      "model_name": "VBoxModel",
      "state": {
       "_dom_classes": [
        "widget-interact"
       ],
       "children": [
        "IPY_MODEL_23ef41f4f0334a0faa830b51e280448b",
        "IPY_MODEL_8f0b0beb59944d45bd676605a3d1396c"
       ],
       "layout": "IPY_MODEL_1347614b111f4dbcac5c1c6ababd3a7e"
      }
     },
     "1f0466a63ac3424599dfab2a4cb6c547": {
      "model_module": "@jupyter-widgets/base",
      "model_module_version": "1.0.0",
      "model_name": "LayoutModel",
      "state": {}
     },
     "1f459b69fd2d4beba7e2bc22d15b3a87": {
      "model_module": "@jupyter-widgets/controls",
      "model_module_version": "1.1.0",
      "model_name": "IntSliderModel",
      "state": {
       "description": "i",
       "layout": "IPY_MODEL_a680310ec2bd47c28298d64b91b54b54",
       "max": 20,
       "style": "IPY_MODEL_10e266c9442b4f288cd8773160ec73ce",
       "value": 10
      }
     },
     "1f73006429004644a815d0a76cd8873d": {
      "model_module": "@jupyter-widgets/base",
      "model_module_version": "1.0.0",
      "model_name": "LayoutModel",
      "state": {}
     },
     "1f7cefb2a3be432f81d021b2eb8f42fe": {
      "model_module": "@jupyter-widgets/output",
      "model_module_version": "1.0.0",
      "model_name": "OutputModel",
      "state": {
       "layout": "IPY_MODEL_297b98adcebe4b8aaf9efec4fde468c7"
      }
     },
     "1f9389ee222347d19600b8ec8e38e1c5": {
      "model_module": "bqplot",
      "model_module_version": "^0.3.6",
      "model_name": "LinearScaleModel",
      "state": {
       "max": 1,
       "min": -1,
       "stabilized": false
      }
     },
     "1fbfe11627054fa6a89aaf9da3e1981d": {
      "model_module": "@jupyter-widgets/controls",
      "model_module_version": "1.1.0",
      "model_name": "IntSliderModel",
      "state": {
       "description": "i",
       "layout": "IPY_MODEL_4d8ea5e948054ceebea213bc0c771f8f",
       "max": 20,
       "style": "IPY_MODEL_19cbcaaad4a24adcba21012e8ffc1ba3",
       "value": 10
      }
     },
     "1ff43db5b3874460821207e41ecc2a8a": {
      "model_module": "@jupyter-widgets/base",
      "model_module_version": "1.0.0",
      "model_name": "LayoutModel",
      "state": {}
     },
     "2062e0bbb8f74737b290f3ad714ead47": {
      "model_module": "bqplot",
      "model_module_version": "^0.3.6",
      "model_name": "LinearScaleModel",
      "state": {
       "allow_padding": false,
       "max": 1,
       "min": 0,
       "stabilized": false
      }
     },
     "206588fb0c6743128702169e18f0ca11": {
      "model_module": "@jupyter-widgets/base",
      "model_module_version": "1.0.0",
      "model_name": "LayoutModel",
      "state": {}
     },
     "208f88053def48c9bae483d11770264f": {
      "model_module": "@jupyter-widgets/base",
      "model_module_version": "1.0.0",
      "model_name": "LayoutModel",
      "state": {}
     },
     "2181da7968ca4d9d9d181295999396bc": {
      "model_module": "bqplot",
      "model_module_version": "^0.3.6",
      "model_name": "LinesModel",
      "state": {
       "color": {
        "type": null,
        "values": null
       },
       "display_legend": false,
       "fill_colors": [],
       "labels": [
        "C1"
       ],
       "scales": {
        "x": "IPY_MODEL_f0b72dd0e54947dab163d71cfce6a64d",
        "y": "IPY_MODEL_f3ad51a47ace413d97979095756c1dfc"
       },
       "selected": [],
       "x": {
        "type": "float",
        "values": [
         -1,
         -0.8,
         -0.6,
         -0.3999999999999999,
         -0.19999999999999996,
         0,
         0.20000000000000018,
         0.40000000000000013,
         0.6000000000000001,
         0.8,
         1
        ]
       },
       "y": {
        "type": "float",
        "values": [
         0.36787944117144233,
         0.5272924240430485,
         0.697676326071031,
         0.8521437889662115,
         0.9607894391523232,
         1,
         0.9607894391523232,
         0.8521437889662112,
         0.697676326071031,
         0.5272924240430485,
         0.36787944117144233
        ]
       }
      }
     },
     "2294f55593d842818bf6b0faf010e967": {
      "model_module": "bqplot",
      "model_module_version": "^0.3.6",
      "model_name": "LinearScaleModel",
      "state": {
       "allow_padding": false,
       "max": 1,
       "min": 0,
       "stabilized": false
      }
     },
     "231fb3580de74c6a86a55beb67098403": {
      "model_module": "bqplot",
      "model_module_version": "^0.3.6",
      "model_name": "LinesModel",
      "state": {
       "color": {
        "type": null,
        "values": null
       },
       "display_legend": false,
       "fill_colors": [],
       "labels": [
        "C1"
       ],
       "scales": {
        "x": "IPY_MODEL_f0b72dd0e54947dab163d71cfce6a64d",
        "y": "IPY_MODEL_f3ad51a47ace413d97979095756c1dfc"
       },
       "selected": [],
       "x": {
        "type": "float",
        "values": [
         -1,
         -0.8,
         -0.6,
         -0.3999999999999999,
         -0.19999999999999996,
         0,
         0.20000000000000018,
         0.40000000000000013,
         0.6000000000000001,
         0.8,
         1
        ]
       },
       "y": {
        "type": "float",
        "values": [
         0.36787944117144233,
         0.5272924240430485,
         0.697676326071031,
         0.8521437889662115,
         0.9607894391523232,
         1,
         0.9607894391523232,
         0.8521437889662112,
         0.697676326071031,
         0.5272924240430485,
         0.36787944117144233
        ]
       }
      }
     },
     "2333a5ae75c04a28ba2a3b09cd7f8489": {
      "model_module": "@jupyter-widgets/controls",
      "model_module_version": "1.1.0",
      "model_name": "LinkModel",
      "state": {
       "source": [
        "IPY_MODEL_9aa930dede6b4be6b5a6701490f04a6f",
        "value"
       ],
       "target": [
        "IPY_MODEL_9e8c84c0397c4e05b19f51f08539e39b",
        "value"
       ]
      }
     },
     "23b08453c75f4e41b7b26717cc03007f": {
      "model_module": "bqplot",
      "model_module_version": "^0.3.6",
      "model_name": "FigureModel",
      "state": {
       "_dom_classes": [],
       "axes": [
        "IPY_MODEL_032fd6b0c95a4b1c943a6524030faa7a",
        "IPY_MODEL_be6d035e07504c70a2d9ecf3827d9e05"
       ],
       "layout": "IPY_MODEL_3856789e9bfb461dbfc7053f11dfa85e",
       "marks": [
        "IPY_MODEL_b0abdc9403f84907848fc94628b177cd"
       ],
       "max_aspect_ratio": 6,
       "scale_x": "IPY_MODEL_d062bc19f46d4df097299543618c2e93",
       "scale_y": "IPY_MODEL_90864921946a4efa85a75716f44211de"
      }
     },
     "23c0c40362e5463796c82e340450d2e3": {
      "model_module": "@jupyter-widgets/output",
      "model_module_version": "1.0.0",
      "model_name": "OutputModel",
      "state": {
       "layout": "IPY_MODEL_df8b3b838c4a4806bd74078d21464126",
       "outputs": [
        {
         "data": {
          "text/plain": "Lines(colors=['#1f77b4', '#ff7f0e', '#2ca02c', '#d62728', '#9467bd', '#8c564b', '#e377c2', '#7f7f7f', '#bcbd22', '#17becf'], interactions={'hover': 'tooltip'}, scales={'x': LinearScale(), 'y': LinearScale()}, scales_metadata={'x': {'orientation': 'horizontal', 'dimension': 'x'}, 'y': {'orientation': 'vertical', 'dimension': 'y'}, 'color': {'dimension': 'color'}}, tooltip_style={'opacity': 0.9}, x=array([ 0,  1,  2,  3,  4,  5,  6,  7,  8,  9, 10]), y=array([-1. , -0.8, -0.6, -0.4, -0.2,  0. ,  0.2,  0.4,  0.6,  0.8,  1. ]))"
         },
         "metadata": {},
         "output_type": "display_data"
        }
       ]
      }
     },
     "23ef41f4f0334a0faa830b51e280448b": {
      "model_module": "@jupyter-widgets/controls",
      "model_module_version": "1.1.0",
      "model_name": "IntSliderModel",
      "state": {
       "description": "i",
       "layout": "IPY_MODEL_cf27d936b647471c8fe0b3cba10b1f13",
       "max": 20,
       "style": "IPY_MODEL_d07ed54ad11946459dc580fa0dd57447",
       "value": 10
      }
     },
     "240eac82792c465fb7ab24a033d23fcc": {
      "model_module": "bqplot",
      "model_module_version": "^0.3.6",
      "model_name": "LinearScaleModel",
      "state": {
       "allow_padding": false,
       "max": 1,
       "min": 0,
       "stabilized": false
      }
     },
     "24128562e0e0449bbd0de584b84649b2": {
      "model_module": "@jupyter-widgets/controls",
      "model_module_version": "1.1.0",
      "model_name": "DescriptionStyleModel",
      "state": {
       "description_width": ""
      }
     },
     "25cb418774344ee19e5e5e8b533ee71d": {
      "model_module": "@jupyter-widgets/controls",
      "model_module_version": "1.1.0",
      "model_name": "SliderStyleModel",
      "state": {
       "description_width": ""
      }
     },
     "25f1d0e8c71f45229dad6d53b3a07223": {
      "model_module": "@jupyter-widgets/controls",
      "model_module_version": "1.1.0",
      "model_name": "LinkModel",
      "state": {
       "source": [
        "IPY_MODEL_392f696e16fa4a8d9c3f5f74c4675ff3",
        "value"
       ],
       "target": [
        "IPY_MODEL_c3ab56518b514df6a95400c1a8cd973b",
        "value"
       ]
      }
     },
     "26375a42dcc4414891d804bb8ac63351": {
      "model_module": "bqplot",
      "model_module_version": "^0.3.6",
      "model_name": "LinesModel",
      "state": {
       "color": {
        "type": null,
        "values": null
       },
       "display_legend": false,
       "fill_colors": [],
       "labels": [
        "C1"
       ],
       "scales": {
        "x": "IPY_MODEL_f0b72dd0e54947dab163d71cfce6a64d",
        "y": "IPY_MODEL_f3ad51a47ace413d97979095756c1dfc"
       },
       "selected": [],
       "x": {
        "type": "float",
        "values": [
         0,
         1,
         2,
         3,
         4,
         5,
         6,
         7,
         8,
         9,
         10
        ]
       },
       "y": {
        "type": "float",
        "values": [
         -1,
         -0.8,
         -0.6,
         -0.3999999999999999,
         -0.19999999999999996,
         0,
         0.20000000000000018,
         0.40000000000000013,
         0.6000000000000001,
         0.8,
         1
        ]
       }
      }
     },
     "267faeda31bd4484b1cdbddf9b4e44fc": {
      "model_module": "bqplot",
      "model_module_version": "^0.3.6",
      "model_name": "AxisModel",
      "state": {
       "label": "u",
       "orientation": "vertical",
       "scale": "IPY_MODEL_fd4653ed1260455cbd702c32578ce9de",
       "side": "left",
       "tick_values": {
        "type": null,
        "values": null
       }
      }
     },
     "26b2a3c0ee3848f6b79cb45a0e3d4df6": {
      "model_module": "@jupyter-widgets/base",
      "model_module_version": "1.0.0",
      "model_name": "LayoutModel",
      "state": {}
     },
     "26b42029fa534ee9a76bca4c95e83b83": {
      "model_module": "@jupyter-widgets/controls",
      "model_module_version": "1.1.0",
      "model_name": "HBoxModel",
      "state": {
       "children": [
        "IPY_MODEL_9aa930dede6b4be6b5a6701490f04a6f",
        "IPY_MODEL_9e8c84c0397c4e05b19f51f08539e39b"
       ],
       "layout": "IPY_MODEL_a0eabcf7af5a4869b3f918fb39ee646e"
      }
     },
     "27de3c6a6c5441babe85ea919c276773": {
      "model_module": "bqplot",
      "model_module_version": "^0.3.6",
      "model_name": "LinearScaleModel",
      "state": {
       "allow_padding": false,
       "max": 1,
       "min": 0,
       "stabilized": false
      }
     },
     "282e7403652e42ff81390fbd2816c402": {
      "model_module": "@jupyter-widgets/base",
      "model_module_version": "1.0.0",
      "model_name": "LayoutModel",
      "state": {}
     },
     "286daa72b6a045e1b4a609f491062a41": {
      "model_module": "bqplot",
      "model_module_version": "^0.3.6",
      "model_name": "LinearScaleModel",
      "state": {
       "allow_padding": false,
       "max": 1,
       "min": 0,
       "stabilized": false
      }
     },
     "28d072d6fe4e4fa7a57552aced1ef924": {
      "model_module": "bqplot",
      "model_module_version": "^0.3.6",
      "model_name": "LinearScaleModel",
      "state": {
       "max": 1,
       "min": -1,
       "stabilized": false
      }
     },
     "2932c2ae6035486693680b10b6b56dd4": {
      "model_module": "@jupyter-widgets/controls",
      "model_module_version": "1.1.0",
      "model_name": "SliderStyleModel",
      "state": {
       "description_width": ""
      }
     },
     "297b98adcebe4b8aaf9efec4fde468c7": {
      "model_module": "@jupyter-widgets/base",
      "model_module_version": "1.0.0",
      "model_name": "LayoutModel",
      "state": {}
     },
     "29c44d7cd43e47db8276d58857ac9619": {
      "model_module": "bqplot",
      "model_module_version": "^0.3.6",
      "model_name": "LinearScaleModel",
      "state": {
       "allow_padding": false,
       "max": 1,
       "min": 0,
       "stabilized": false
      }
     },
     "2a4e61581c494b939ce7125d95713338": {
      "model_module": "@jupyter-widgets/base",
      "model_module_version": "1.0.0",
      "model_name": "LayoutModel",
      "state": {}
     },
     "2b2bca9dd9ea4db8a243c89860959876": {
      "model_module": "@jupyter-widgets/controls",
      "model_module_version": "1.1.0",
      "model_name": "SliderStyleModel",
      "state": {
       "description_width": ""
      }
     },
     "2b6226c1eed64a27a972109dd111d671": {
      "model_module": "bqplot",
      "model_module_version": "^0.3.6",
      "model_name": "FigureModel",
      "state": {
       "_dom_classes": [],
       "axes": [
        "IPY_MODEL_d3e5e2566dfb42fd9f2591de73121a08",
        "IPY_MODEL_32a4eb82cb6d4eb6b737f6308e4cc88f"
       ],
       "layout": "IPY_MODEL_60178e75d35c4cd685676c0282711a34",
       "max_aspect_ratio": 6,
       "scale_x": "IPY_MODEL_240eac82792c465fb7ab24a033d23fcc",
       "scale_y": "IPY_MODEL_4586cc7263b84007b763745dfb68ae7c"
      }
     },
     "2b8c250e9f7342d7a97cf9ea11899647": {
      "model_module": "@jupyter-widgets/controls",
      "model_module_version": "1.1.0",
      "model_name": "SliderStyleModel",
      "state": {
       "description_width": ""
      }
     },
     "2bd7316141ec4066920c1605b2e0ee70": {
      "model_module": "@jupyter-widgets/controls",
      "model_module_version": "1.1.0",
      "model_name": "FloatSliderModel",
      "state": {
       "description": "t",
       "layout": "IPY_MODEL_888265035b09477bb3469bb47940ef7c",
       "style": "IPY_MODEL_f34a0da8c9ca46e1932882fef54c2e03",
       "value": 100
      }
     },
     "2bed14ef8500403e9dadd644b881ef81": {
      "model_module": "@jupyter-widgets/base",
      "model_module_version": "1.0.0",
      "model_name": "LayoutModel",
      "state": {}
     },
     "2c82b5d87fd14cd09c961978b8c19a8e": {
      "model_module": "@jupyter-widgets/controls",
      "model_module_version": "1.1.0",
      "model_name": "SliderStyleModel",
      "state": {
       "description_width": ""
      }
     },
     "2cef0a75e742402d99606702dd4b6aec": {
      "model_module": "@jupyter-widgets/controls",
      "model_module_version": "1.1.0",
      "model_name": "IntSliderModel",
      "state": {
       "description": "i",
       "layout": "IPY_MODEL_60f6dde27d6e477f9a16f7ae08ace92d",
       "max": 20,
       "style": "IPY_MODEL_18ec59aa2d584bb881fd0b25aa4bcd0d",
       "value": 20
      }
     },
     "2d159aad2a784f76bf6b4b09dc510a41": {
      "model_module": "@jupyter-widgets/base",
      "model_module_version": "1.0.0",
      "model_name": "LayoutModel",
      "state": {}
     },
     "2d178660894c499ebe72868825a2cfc2": {
      "model_module": "bqplot",
      "model_module_version": "^0.3.6",
      "model_name": "LinearScaleModel",
      "state": {
       "max": 10,
       "min": -10,
       "stabilized": false
      }
     },
     "2d714dc6054144bfb41262c1436075c1": {
      "model_module": "@jupyter-widgets/controls",
      "model_module_version": "1.1.0",
      "model_name": "VBoxModel",
      "state": {
       "children": [
        "IPY_MODEL_8cbccc2aed6e433da74509d6cc79b756",
        "IPY_MODEL_2b6226c1eed64a27a972109dd111d671"
       ],
       "layout": "IPY_MODEL_f9f29ef766f645b8bf1dc436999212cf"
      }
     },
     "2d8bae946daa47ae87d11d6b3423244c": {
      "model_module": "@jupyter-widgets/controls",
      "model_module_version": "1.1.0",
      "model_name": "IntSliderModel",
      "state": {
       "description": "i",
       "layout": "IPY_MODEL_63885aa24eb14144b345298c0a81d47c",
       "max": 20,
       "style": "IPY_MODEL_dc99b1521cff4df5a26e307f8559df4f"
      }
     },
     "2db1ce2a201040ba97bb521b8e61c7a6": {
      "model_module": "@jupyter-widgets/base",
      "model_module_version": "1.0.0",
      "model_name": "LayoutModel",
      "state": {}
     },
     "2ec15bd3362c42ffafe5e73deded5bc6": {
      "model_module": "@jupyter-widgets/controls",
      "model_module_version": "1.1.0",
      "model_name": "VBoxModel",
      "state": {
       "_dom_classes": [
        "widget-interact"
       ],
       "children": [
        "IPY_MODEL_e657d8dd39e74161868f74b4202e665a",
        "IPY_MODEL_976e34027fb84ff9bf47e2f7bfb7b5eb"
       ],
       "layout": "IPY_MODEL_0df4a4f66c384c529553668de46613af"
      }
     },
     "2f006c3bd1004517a88d390c5aac65ef": {
      "model_module": "bqplot",
      "model_module_version": "^0.3.6",
      "model_name": "AxisModel",
      "state": {
       "label": "u",
       "orientation": "vertical",
       "scale": "IPY_MODEL_9bcfa59b122f434ca8a2e3796f494e33",
       "side": "left",
       "tick_values": {
        "type": null,
        "values": null
       }
      }
     },
     "2f5702ea12f24c389147ead29e816dec": {
      "model_module": "@jupyter-widgets/controls",
      "model_module_version": "1.1.0",
      "model_name": "FloatSliderModel",
      "state": {
       "description": "t",
       "layout": "IPY_MODEL_82c411d923f1432fa6524adb4b9e5702",
       "style": "IPY_MODEL_092a00ccbac644f3b0a67181a5df5337"
      }
     },
     "2f96d1d6af4446729153685339f1304c": {
      "model_module": "bqplot",
      "model_module_version": "^0.3.6",
      "model_name": "LinearScaleModel",
      "state": {
       "allow_padding": false,
       "max": 1,
       "min": 0,
       "stabilized": false
      }
     },
     "30799d69b2074ea78bbc6cac807d2cf4": {
      "model_module": "bqplot",
      "model_module_version": "^0.3.6",
      "model_name": "LinearScaleModel",
      "state": {
       "allow_padding": false,
       "max": 1,
       "min": 0,
       "stabilized": false
      }
     },
     "30a1a182387746a0bc2e02f618f855d8": {
      "model_module": "bqplot",
      "model_module_version": "^0.3.6",
      "model_name": "LinearScaleModel",
      "state": {
       "max": 10,
       "min": -10,
       "stabilized": false
      }
     },
     "32a4eb82cb6d4eb6b737f6308e4cc88f": {
      "model_module": "bqplot",
      "model_module_version": "^0.3.6",
      "model_name": "AxisModel",
      "state": {
       "label": "u",
       "orientation": "vertical",
       "scale": "IPY_MODEL_28d072d6fe4e4fa7a57552aced1ef924",
       "side": "left",
       "tick_values": {
        "type": null,
        "values": null
       }
      }
     },
     "32ae526fa6c0460ea3f4b6f91dc90069": {
      "model_module": "@jupyter-widgets/controls",
      "model_module_version": "1.1.0",
      "model_name": "IntSliderModel",
      "state": {
       "description": "i",
       "layout": "IPY_MODEL_47dea52b4f674e6994578ed82dea51c6",
       "max": 20,
       "style": "IPY_MODEL_bc11ac82d93c476eb823b4d211d56f33",
       "value": 10
      }
     },
     "32ee700195c34f379355edfbd128f80b": {
      "model_module": "@jupyter-widgets/controls",
      "model_module_version": "1.1.0",
      "model_name": "DescriptionStyleModel",
      "state": {
       "description_width": ""
      }
     },
     "33c7fe45b6654cc390cca4c5749cfb65": {
      "model_module": "@jupyter-widgets/controls",
      "model_module_version": "1.1.0",
      "model_name": "LinkModel",
      "state": {
       "source": [
        "IPY_MODEL_a4aebbed666c4b89a983b4e43f73fbe6",
        "value"
       ],
       "target": [
        "IPY_MODEL_2d8bae946daa47ae87d11d6b3423244c",
        "value"
       ]
      }
     },
     "34cc6b77ba9e4272833d6967d4d412c0": {
      "model_module": "bqplot",
      "model_module_version": "^0.3.6",
      "model_name": "AxisModel",
      "state": {
       "label": "x",
       "scale": "IPY_MODEL_9e513a4a458c4573910d99ed1344d73e",
       "side": "bottom",
       "tick_values": {
        "type": null,
        "values": null
       }
      }
     },
     "35ceacaac0a64606ad6caf863ea47f5e": {
      "model_module": "bqplot",
      "model_module_version": "^0.3.6",
      "model_name": "AxisModel",
      "state": {
       "label": "x",
       "scale": "IPY_MODEL_a694b1bcde4f4197b8e41ad6d788bb81",
       "side": "bottom",
       "tick_values": {
        "type": null,
        "values": null
       }
      }
     },
     "35ff49581cb44d00b48be65daccb8c76": {
      "model_module": "@jupyter-widgets/base",
      "model_module_version": "1.0.0",
      "model_name": "LayoutModel",
      "state": {}
     },
     "36693dd93bc74c188d21b7a47a7b1620": {
      "model_module": "bqplot",
      "model_module_version": "^0.3.6",
      "model_name": "FigureModel",
      "state": {
       "_dom_classes": [],
       "axes": [
        "IPY_MODEL_040fcd0a968e4569b3174c10bd94d80b",
        "IPY_MODEL_eb10c4be153f4c7e9d8e1354a00c22d9"
       ],
       "layout": "IPY_MODEL_55fabdb2b6184368b946c4dee1097948",
       "marks": [
        "IPY_MODEL_5aa8c4f0a6ed43e1b4e083493e632163"
       ],
       "max_aspect_ratio": 6,
       "scale_x": "IPY_MODEL_0f55df1a9fca4611a534a60a3b3de78b",
       "scale_y": "IPY_MODEL_fda06ffc688247a8acd01220124d6884"
      }
     },
     "371010e448c44c5a91932272d04d26ef": {
      "model_module": "@jupyter-widgets/controls",
      "model_module_version": "1.1.0",
      "model_name": "VBoxModel",
      "state": {
       "_dom_classes": [
        "widget-interact"
       ],
       "children": [
        "IPY_MODEL_c20423bb9d5949529dd85e8f7f0179a3",
        "IPY_MODEL_667b7e032ef54e23a6cedfe7286e454a"
       ],
       "layout": "IPY_MODEL_ceb1bb2ab2ae42529e863292c581f6e0"
      }
     },
     "3737eab5c0e84e0dae803d36e1d508d6": {
      "model_module": "@jupyter-widgets/base",
      "model_module_version": "1.0.0",
      "model_name": "LayoutModel",
      "state": {
       "min_width": "125px"
      }
     },
     "3772ff769a054329b04e2796acefdcb4": {
      "model_module": "@jupyter-widgets/controls",
      "model_module_version": "1.1.0",
      "model_name": "HBoxModel",
      "state": {
       "children": [
        "IPY_MODEL_62d2db69a8bf40c49c8e758dc265d322",
        "IPY_MODEL_2f5702ea12f24c389147ead29e816dec"
       ],
       "layout": "IPY_MODEL_7c08484af40b4db981517c80f67e8572"
      }
     },
     "37867280cca34e01b7fe4d4dd95821f0": {
      "model_module": "@jupyter-widgets/base",
      "model_module_version": "1.0.0",
      "model_name": "LayoutModel",
      "state": {}
     },
     "37987f7fb26041d7b74115ec78b0fcb2": {
      "model_module": "@jupyter-widgets/output",
      "model_module_version": "1.0.0",
      "model_name": "OutputModel",
      "state": {
       "layout": "IPY_MODEL_d7a8ec6e6f834a6e8218e14584df9a25",
       "outputs": [
        {
         "data": {
          "text/plain": "Lines(colors=['#1f77b4', '#ff7f0e', '#2ca02c', '#d62728', '#9467bd', '#8c564b', '#e377c2', '#7f7f7f', '#bcbd22', '#17becf'], interactions={'hover': 'tooltip'}, scales={'x': LinearScale(), 'y': LinearScale()}, scales_metadata={'x': {'orientation': 'horizontal', 'dimension': 'x'}, 'y': {'orientation': 'vertical', 'dimension': 'y'}, 'color': {'dimension': 'color'}}, tooltip_style={'opacity': 0.9}, x=array([ 0,  1,  2,  3,  4,  5,  6,  7,  8,  9, 10]), y=array([-1. , -0.8, -0.6, -0.4, -0.2,  0. ,  0.2,  0.4,  0.6,  0.8,  1. ]))"
         },
         "metadata": {},
         "output_type": "display_data"
        }
       ]
      }
     },
     "381778e888c9459da582a501083ebe94": {
      "model_module": "@jupyter-widgets/controls",
      "model_module_version": "1.1.0",
      "model_name": "SliderStyleModel",
      "state": {
       "description_width": ""
      }
     },
     "3856789e9bfb461dbfc7053f11dfa85e": {
      "model_module": "@jupyter-widgets/base",
      "model_module_version": "1.0.0",
      "model_name": "LayoutModel",
      "state": {
       "min_width": "125px"
      }
     },
     "38b863ceff4b4a7b80e257f04adb74a6": {
      "model_module": "@jupyter-widgets/controls",
      "model_module_version": "1.1.0",
      "model_name": "VBoxModel",
      "state": {
       "_dom_classes": [
        "widget-interact"
       ],
       "children": [
        "IPY_MODEL_2bd7316141ec4066920c1605b2e0ee70",
        "IPY_MODEL_08cff161ab9040a4a97e134afdfc7e51"
       ],
       "layout": "IPY_MODEL_876bd79aed2042d5b8500bfc30a95b7e"
      }
     },
     "38e473a531ec4a96aeead3a372bfcd99": {
      "model_module": "@jupyter-widgets/controls",
      "model_module_version": "1.1.0",
      "model_name": "IntSliderModel",
      "state": {
       "description": "i",
       "layout": "IPY_MODEL_4fc8fa61ca3b4515a49fa3a1fa99f13e",
       "max": 20,
       "style": "IPY_MODEL_c850d4ba49974bada52b14f48a3269e9",
       "value": 10
      }
     },
     "39136f84eb684fdb93632651a70dd960": {
      "model_module": "@jupyter-widgets/controls",
      "model_module_version": "1.1.0",
      "model_name": "VBoxModel",
      "state": {
       "_dom_classes": [
        "widget-interact"
       ],
       "children": [
        "IPY_MODEL_fd1647c56775456caa643760e3e8f76e",
        "IPY_MODEL_fb750e9cb82c48a285b98e59a5724550"
       ],
       "layout": "IPY_MODEL_489fc4fddcad42cba4c922a76fc58b8b"
      }
     },
     "392f696e16fa4a8d9c3f5f74c4675ff3": {
      "model_module": "@jupyter-widgets/controls",
      "model_module_version": "1.1.0",
      "model_name": "PlayModel",
      "state": {
       "description": "Press play",
       "layout": "IPY_MODEL_ecd2be8846fe4615809375e5f2cc0248",
       "style": "IPY_MODEL_32ee700195c34f379355edfbd128f80b",
       "value": 100
      }
     },
     "39f8e66ccbba405798bd8618cc397d15": {
      "model_module": "@jupyter-widgets/base",
      "model_module_version": "1.0.0",
      "model_name": "LayoutModel",
      "state": {}
     },
     "3b3c0376d81e4ba3bee0b7f94a9c66ab": {
      "model_module": "bqplot",
      "model_module_version": "^0.3.6",
      "model_name": "FigureModel",
      "state": {
       "_dom_classes": [],
       "axes": [
        "IPY_MODEL_58f2434f0dc84b4baa3f77a2c1beead8",
        "IPY_MODEL_aec1adc272364993b96cfc32610b1b0e"
       ],
       "layout": "IPY_MODEL_ff0a659fe0db47cdb8e9cbd7ce4deca7",
       "marks": [
        "IPY_MODEL_9f0c8d6f05814a9ab23c978542d134f4",
        "IPY_MODEL_7351c178fed1448e95dd886c5bc8d872",
        "IPY_MODEL_dfeb9b8ebf1f4a109048be80b96f0aff",
        "IPY_MODEL_940ae7ad17dc409aabd39f40c5a87251",
        "IPY_MODEL_2181da7968ca4d9d9d181295999396bc",
        "IPY_MODEL_26375a42dcc4414891d804bb8ac63351",
        "IPY_MODEL_4ccfb1efdcbf4cf8a309b4773cb2873e",
        "IPY_MODEL_10dfcfb7ac304023b7a189bd256a5bbb",
        "IPY_MODEL_231fb3580de74c6a86a55beb67098403",
        "IPY_MODEL_b29064dd7cd349729c0c795c5344a04f",
        "IPY_MODEL_0145a1b0a7e44d64973947ac9c03f608",
        "IPY_MODEL_501928255d9f434ab37b167f622d0992",
        "IPY_MODEL_8b401d7fe2004a0d90a9562b35a73edc",
        "IPY_MODEL_89af3c677b514d7caf786c83159b4b50"
       ],
       "max_aspect_ratio": 6,
       "scale_x": "IPY_MODEL_f5b751b2a2a2421a9ba73ba76686799a",
       "scale_y": "IPY_MODEL_b8886c5a85f74aaf92d11c2cf219c280"
      }
     },
     "3b6b62d14e5847a98533d715154df349": {
      "model_module": "bqplot",
      "model_module_version": "^0.3.6",
      "model_name": "AxisModel",
      "state": {
       "label": "Value1",
       "orientation": "vertical",
       "scale": "IPY_MODEL_f3ad51a47ace413d97979095756c1dfc",
       "side": "left",
       "tick_values": {
        "type": null,
        "values": null
       }
      }
     },
     "3b8cc3204b6f43b0bbdd66a7b97cdbe4": {
      "model_module": "@jupyter-widgets/base",
      "model_module_version": "1.0.0",
      "model_name": "LayoutModel",
      "state": {
       "min_width": "125px"
      }
     },
     "3bb30080794844928c594b7b98fa4343": {
      "model_module": "bqplot",
      "model_module_version": "^0.3.6",
      "model_name": "FigureModel",
      "state": {
       "_dom_classes": [],
       "axes": [
        "IPY_MODEL_4b3a73c968a94c428540778467bfffb0",
        "IPY_MODEL_04b962ca39a343c5869b2bea8c47cf0c"
       ],
       "layout": "IPY_MODEL_3737eab5c0e84e0dae803d36e1d508d6",
       "marks": [
        "IPY_MODEL_9c53fa0b7f974eaf8018e40cd4f6f28b"
       ],
       "max_aspect_ratio": 6,
       "scale_x": "IPY_MODEL_a76928b178294b0dbf6887bd09c02af9",
       "scale_y": "IPY_MODEL_30799d69b2074ea78bbc6cac807d2cf4"
      }
     },
     "3be7c99772da468aa8b5f5c11fbf3411": {
      "model_module": "bqplot",
      "model_module_version": "^0.3.6",
      "model_name": "LinearScaleModel",
      "state": {
       "allow_padding": false,
       "max": 1,
       "min": 0,
       "stabilized": false
      }
     },
     "3c4ee67bba8d42078640efa2c66ef25a": {
      "model_module": "@jupyter-widgets/output",
      "model_module_version": "1.0.0",
      "model_name": "OutputModel",
      "state": {
       "layout": "IPY_MODEL_1e01d87fb48a4d39b2fb9cef2212c53f",
       "outputs": [
        {
         "ename": "AttributeError",
         "evalue": "module 'bqplot' has no attribute 'pyploty'",
         "output_type": "error",
         "traceback": [
          "\u001b[0;31m---------------------------------------------------------------------------\u001b[0m",
          "\u001b[0;31mAttributeError\u001b[0m                            Traceback (most recent call last)",
          "\u001b[0;32m/opt/local/Library/Frameworks/Python.framework/Versions/3.6/lib/python3.6/site-packages/ipywidgets/widgets/interaction.py\u001b[0m in \u001b[0;36mupdate\u001b[0;34m(self, *args)\u001b[0m\n\u001b[1;32m    248\u001b[0m                     \u001b[0mvalue\u001b[0m \u001b[0;34m=\u001b[0m \u001b[0mwidget\u001b[0m\u001b[0;34m.\u001b[0m\u001b[0mget_interact_value\u001b[0m\u001b[0;34m(\u001b[0m\u001b[0;34m)\u001b[0m\u001b[0;34m\u001b[0m\u001b[0m\n\u001b[1;32m    249\u001b[0m                     \u001b[0mself\u001b[0m\u001b[0;34m.\u001b[0m\u001b[0mkwargs\u001b[0m\u001b[0;34m[\u001b[0m\u001b[0mwidget\u001b[0m\u001b[0;34m.\u001b[0m\u001b[0m_kwarg\u001b[0m\u001b[0;34m]\u001b[0m \u001b[0;34m=\u001b[0m \u001b[0mvalue\u001b[0m\u001b[0;34m\u001b[0m\u001b[0m\n\u001b[0;32m--> 250\u001b[0;31m                 \u001b[0mself\u001b[0m\u001b[0;34m.\u001b[0m\u001b[0mresult\u001b[0m \u001b[0;34m=\u001b[0m \u001b[0mself\u001b[0m\u001b[0;34m.\u001b[0m\u001b[0mf\u001b[0m\u001b[0;34m(\u001b[0m\u001b[0;34m**\u001b[0m\u001b[0mself\u001b[0m\u001b[0;34m.\u001b[0m\u001b[0mkwargs\u001b[0m\u001b[0;34m)\u001b[0m\u001b[0;34m\u001b[0m\u001b[0m\n\u001b[0m\u001b[1;32m    251\u001b[0m                 \u001b[0mshow_inline_matplotlib_plots\u001b[0m\u001b[0;34m(\u001b[0m\u001b[0;34m)\u001b[0m\u001b[0;34m\u001b[0m\u001b[0m\n\u001b[1;32m    252\u001b[0m                 \u001b[0;32mif\u001b[0m \u001b[0mself\u001b[0m\u001b[0;34m.\u001b[0m\u001b[0mauto_display\u001b[0m \u001b[0;32mand\u001b[0m \u001b[0mself\u001b[0m\u001b[0;34m.\u001b[0m\u001b[0mresult\u001b[0m \u001b[0;32mis\u001b[0m \u001b[0;32mnot\u001b[0m \u001b[0;32mNone\u001b[0m\u001b[0;34m:\u001b[0m\u001b[0;34m\u001b[0m\u001b[0m\n",
          "\u001b[0;32m<ipython-input-7-fac1def7a4f6>\u001b[0m in \u001b[0;36mg\u001b[0;34m(i)\u001b[0m\n\u001b[1;32m     46\u001b[0m \u001b[0;32mfrom\u001b[0m \u001b[0mbqplot\u001b[0m \u001b[0;32mimport\u001b[0m \u001b[0mpyplot\u001b[0m\u001b[0;34m\u001b[0m\u001b[0m\n\u001b[1;32m     47\u001b[0m \u001b[0;32mdef\u001b[0m \u001b[0mg\u001b[0m\u001b[0;34m(\u001b[0m\u001b[0mi\u001b[0m\u001b[0;34m)\u001b[0m\u001b[0;34m:\u001b[0m\u001b[0;34m\u001b[0m\u001b[0m\n\u001b[0;32m---> 48\u001b[0;31m     \u001b[0mbqplot\u001b[0m\u001b[0;34m.\u001b[0m\u001b[0mpyploty\u001b[0m\u001b[0;34m.\u001b[0m\u001b[0mPlot\u001b[0m\u001b[0;34m(\u001b[0m\u001b[0mx\u001b[0m\u001b[0;34m,\u001b[0m\u001b[0mY\u001b[0m\u001b[0;34m[\u001b[0m\u001b[0mi\u001b[0m\u001b[0;34m]\u001b[0m\u001b[0;34m[\u001b[0m\u001b[0;34m:\u001b[0m\u001b[0mN\u001b[0m\u001b[0;34m]\u001b[0m\u001b[0;34m)\u001b[0m\u001b[0;34m\u001b[0m\u001b[0m\n\u001b[0m\u001b[1;32m     49\u001b[0m \u001b[0;34m\u001b[0m\u001b[0m\n\u001b[1;32m     50\u001b[0m \u001b[0;32mimport\u001b[0m \u001b[0mipywidgets\u001b[0m\u001b[0;34m\u001b[0m\u001b[0m\n",
          "\u001b[0;31mAttributeError\u001b[0m: module 'bqplot' has no attribute 'pyploty'"
         ]
        }
       ]
      }
     },
     "3cb3dbf4b1064ee59049666d5dc88499": {
      "model_module": "@jupyter-widgets/controls",
      "model_module_version": "1.1.0",
      "model_name": "VBoxModel",
      "state": {
       "children": [
        "IPY_MODEL_ad95602c4acc42b68ea8d8684cbe291a",
        "IPY_MODEL_ead56e2d4fbf45559b6db55e91ae76b1"
       ],
       "layout": "IPY_MODEL_46708fd1028744998c50e6750c6f7998"
      }
     },
     "3cf3200107c54f24bb8486efb0fea9f8": {
      "model_module": "@jupyter-widgets/base",
      "model_module_version": "1.0.0",
      "model_name": "LayoutModel",
      "state": {}
     },
     "3dc47b79cf6e4ca9b255fb838e46d341": {
      "model_module": "@jupyter-widgets/base",
      "model_module_version": "1.0.0",
      "model_name": "LayoutModel",
      "state": {
       "min_width": "125px"
      }
     },
     "3e760bd5db0c45f285b961a8163b404a": {
      "model_module": "bqplot",
      "model_module_version": "^0.3.6",
      "model_name": "LinesModel",
      "state": {
       "color": {
        "type": null,
        "values": null
       },
       "display_legend": false,
       "fill_colors": [],
       "labels": [
        "C1"
       ],
       "scales": {
        "x": "IPY_MODEL_e7bfd51ec0724065829a444aca788972",
        "y": "IPY_MODEL_28d072d6fe4e4fa7a57552aced1ef924"
       },
       "selected": [],
       "x": {
        "type": "float",
        "values": [
         -1,
         -0.8,
         -0.6,
         -0.3999999999999999,
         -0.19999999999999996,
         0,
         0.20000000000000018,
         0.40000000000000013,
         0.6000000000000001,
         0.8,
         1
        ]
       },
       "y": {
        "type": "float",
        "values": [
         0,
         0.3530747282913117,
         0.6188080099666193,
         0.7957058732638276,
         1.005916701617038,
         1.1903728120147854,
         1.0059167016170372,
         0.7957058732638274,
         0.6188080099666193,
         0.35307472829131203,
         0
        ]
       }
      }
     },
     "3f82d9b0b9a04daa9ac0a3bb210586fa": {
      "model_module": "bqplot",
      "model_module_version": "^0.3.6",
      "model_name": "LinearScaleModel",
      "state": {
       "max": 1,
       "min": -1,
       "stabilized": false
      }
     },
     "3faedb8a495e45cb92487a9ed2d3a192": {
      "model_module": "@jupyter-widgets/output",
      "model_module_version": "1.0.0",
      "model_name": "OutputModel",
      "state": {
       "layout": "IPY_MODEL_b8ad47d8dd5e4106b20c332070d648b6"
      }
     },
     "4088ba4c31854c6d8529c66043c14ad0": {
      "model_module": "@jupyter-widgets/controls",
      "model_module_version": "1.1.0",
      "model_name": "IntSliderModel",
      "state": {
       "description": "i",
       "layout": "IPY_MODEL_86ccdfcf5341407bb4829c7fd4f4c248",
       "max": 20,
       "style": "IPY_MODEL_59c60d5bef9a4fa387c680fad095ab96",
       "value": 10
      }
     },
     "4105994d5a3f4025ad16a3d0f2beac9a": {
      "model_module": "@jupyter-widgets/controls",
      "model_module_version": "1.1.0",
      "model_name": "IntSliderModel",
      "state": {
       "description": "i",
       "layout": "IPY_MODEL_aada2526a0144bae8676f18ee5395d71",
       "max": 20,
       "style": "IPY_MODEL_506e2b130654478390c0b7d2a5f73dc3",
       "value": 10
      }
     },
     "419635e3851f4b1983d0ecb596750c22": {
      "model_module": "bqplot",
      "model_module_version": "^0.3.6",
      "model_name": "LinearScaleModel",
      "state": {
       "allow_padding": false,
       "max": 1,
       "min": 0,
       "stabilized": false
      }
     },
     "41b513c3d7eb47bbbfe819861cf780e9": {
      "model_module": "@jupyter-widgets/base",
      "model_module_version": "1.0.0",
      "model_name": "LayoutModel",
      "state": {}
     },
     "42f33601408f4ae2ad0e8330baeb442e": {
      "model_module": "bqplot",
      "model_module_version": "^0.3.6",
      "model_name": "AxisModel",
      "state": {
       "label": "x",
       "scale": "IPY_MODEL_8a44704c5cf14fa8956042586aa360b5",
       "side": "bottom",
       "tick_values": {
        "type": null,
        "values": null
       }
      }
     },
     "4344e65c20c34248b66af6a258689daf": {
      "model_module": "@jupyter-widgets/base",
      "model_module_version": "1.0.0",
      "model_name": "LayoutModel",
      "state": {}
     },
     "439865148c1b47c59466c435f78a1361": {
      "model_module": "bqplot",
      "model_module_version": "^0.3.6",
      "model_name": "AxisModel",
      "state": {
       "label": "u",
       "orientation": "vertical",
       "scale": "IPY_MODEL_015e8b748900473ca9375688fdaec68e",
       "side": "left",
       "tick_values": {
        "type": null,
        "values": null
       }
      }
     },
     "43e24d4d62d344e3b2b33bd4bdc9b649": {
      "model_module": "@jupyter-widgets/base",
      "model_module_version": "1.0.0",
      "model_name": "LayoutModel",
      "state": {}
     },
     "43fec010b52546f19f867010baca3133": {
      "model_module": "@jupyter-widgets/base",
      "model_module_version": "1.0.0",
      "model_name": "LayoutModel",
      "state": {}
     },
     "4571d5910a254deba8f29629225a9880": {
      "model_module": "bqplot",
      "model_module_version": "^0.3.6",
      "model_name": "AxisModel",
      "state": {
       "label": "u",
       "orientation": "vertical",
       "scale": "IPY_MODEL_9c1339ef8a9d4b45a7756468d2a1e561",
       "side": "left",
       "tick_values": {
        "type": null,
        "values": null
       }
      }
     },
     "45786bc09c534bf18f116c11531adeae": {
      "model_module": "bqplot",
      "model_module_version": "^0.3.6",
      "model_name": "AxisModel",
      "state": {
       "label": "u",
       "orientation": "vertical",
       "scale": "IPY_MODEL_1f9389ee222347d19600b8ec8e38e1c5",
       "side": "left",
       "tick_values": {
        "type": null,
        "values": null
       }
      }
     },
     "4586cc7263b84007b763745dfb68ae7c": {
      "model_module": "bqplot",
      "model_module_version": "^0.3.6",
      "model_name": "LinearScaleModel",
      "state": {
       "allow_padding": false,
       "max": 1,
       "min": 0,
       "stabilized": false
      }
     },
     "45dbb99c46a1445fb03ce0f1e7f4ade8": {
      "model_module": "@jupyter-widgets/base",
      "model_module_version": "1.0.0",
      "model_name": "LayoutModel",
      "state": {}
     },
     "46708fd1028744998c50e6750c6f7998": {
      "model_module": "@jupyter-widgets/base",
      "model_module_version": "1.0.0",
      "model_name": "LayoutModel",
      "state": {}
     },
     "468d0453a1cc4cdf99fe1880dc3afb75": {
      "model_module": "@jupyter-widgets/base",
      "model_module_version": "1.0.0",
      "model_name": "LayoutModel",
      "state": {}
     },
     "469cb6fc792b4e5498dddc640bf8a04b": {
      "model_module": "bqplot",
      "model_module_version": "^0.3.6",
      "model_name": "LinearScaleModel",
      "state": {
       "allow_padding": false,
       "max": 1,
       "min": 0,
       "stabilized": false
      }
     },
     "471d1ce538084ef0a74bf0bbb694d75e": {
      "model_module": "@jupyter-widgets/controls",
      "model_module_version": "1.1.0",
      "model_name": "VBoxModel",
      "state": {
       "_dom_classes": [
        "widget-interact"
       ],
       "children": [
        "IPY_MODEL_968fae57506247af8bd58ca64a974329",
        "IPY_MODEL_6c47b2a038d14430b76088d6def9618d"
       ],
       "layout": "IPY_MODEL_e987fc5729674d689795ee9f66c0cc22"
      }
     },
     "47b15d247c1b4a93b5808b1017facc72": {
      "model_module": "@jupyter-widgets/controls",
      "model_module_version": "1.1.0",
      "model_name": "VBoxModel",
      "state": {
       "_dom_classes": [
        "widget-interact"
       ],
       "children": [
        "IPY_MODEL_6ff9284a9db444c8895490feaca2ef39",
        "IPY_MODEL_962a7f4067c64a9f9262535bc0997b56"
       ],
       "layout": "IPY_MODEL_69b0853cb91c42e5b591cad6a5c9afef"
      }
     },
     "47c77177aa1549d7a2e5b79a4820a4cc": {
      "model_module": "@jupyter-widgets/base",
      "model_module_version": "1.0.0",
      "model_name": "LayoutModel",
      "state": {
       "height": "auto",
       "width": "auto"
      }
     },
     "47d7e718bc4541fea08889a377e9e45b": {
      "model_module": "@jupyter-widgets/controls",
      "model_module_version": "1.1.0",
      "model_name": "VBoxModel",
      "state": {
       "_dom_classes": [
        "widget-interact"
       ],
       "children": [
        "IPY_MODEL_2f5702ea12f24c389147ead29e816dec",
        "IPY_MODEL_e7770f733eb248ddb04dbf7aca0d8aa3"
       ],
       "layout": "IPY_MODEL_8f89cdc5c1c34f0597623b3fbad54745"
      }
     },
     "47dea52b4f674e6994578ed82dea51c6": {
      "model_module": "@jupyter-widgets/base",
      "model_module_version": "1.0.0",
      "model_name": "LayoutModel",
      "state": {}
     },
     "489fc4fddcad42cba4c922a76fc58b8b": {
      "model_module": "@jupyter-widgets/base",
      "model_module_version": "1.0.0",
      "model_name": "LayoutModel",
      "state": {}
     },
     "48cd48bebbe441dfbac74dc4f53559e5": {
      "model_module": "@jupyter-widgets/controls",
      "model_module_version": "1.1.0",
      "model_name": "DescriptionStyleModel",
      "state": {
       "description_width": ""
      }
     },
     "48ded124717b45759b7af8ee80fbef38": {
      "model_module": "bqplot",
      "model_module_version": "^0.3.6",
      "model_name": "LinearScaleModel",
      "state": {
       "max": 1,
       "min": -1,
       "stabilized": false
      }
     },
     "48f243c516854f35a99b38b96aa39555": {
      "model_module": "@jupyter-widgets/base",
      "model_module_version": "1.0.0",
      "model_name": "LayoutModel",
      "state": {}
     },
     "49b05b3032334404aaae832189fa98e3": {
      "model_module": "@jupyter-widgets/controls",
      "model_module_version": "1.1.0",
      "model_name": "PlayModel",
      "state": {
       "description": "Press play",
       "layout": "IPY_MODEL_cc8e8dd508164961b66ff0bfd66a9c4b",
       "max": 20,
       "style": "IPY_MODEL_0a0ca2fcd0f34c34bade4e95b21274d5",
       "value": 20
      }
     },
     "49ce079bd5474d74ac9721b0554b9161": {
      "model_module": "@jupyter-widgets/controls",
      "model_module_version": "1.1.0",
      "model_name": "FloatSliderModel",
      "state": {
       "description": "t",
       "layout": "IPY_MODEL_e38c461da61b40d2920de7e353f9ba51",
       "max": 20,
       "style": "IPY_MODEL_efb2f07354a6438ea8c41fadb8a5f6de",
       "value": 20
      }
     },
     "49f93e0c40794649b6ac69716dbfb82d": {
      "model_module": "@jupyter-widgets/base",
      "model_module_version": "1.0.0",
      "model_name": "LayoutModel",
      "state": {
       "min_width": "125px"
      }
     },
     "4a90ef5eac584351b78b8011752545f0": {
      "model_module": "@jupyter-widgets/base",
      "model_module_version": "1.0.0",
      "model_name": "LayoutModel",
      "state": {}
     },
     "4b32b17ccaa040bc97868156349b3b87": {
      "model_module": "@jupyter-widgets/base",
      "model_module_version": "1.0.0",
      "model_name": "LayoutModel",
      "state": {}
     },
     "4b39b555a854421cb75e2012784aa54a": {
      "model_module": "@jupyter-widgets/controls",
      "model_module_version": "1.1.0",
      "model_name": "SliderStyleModel",
      "state": {
       "description_width": ""
      }
     },
     "4b3a73c968a94c428540778467bfffb0": {
      "model_module": "bqplot",
      "model_module_version": "^0.3.6",
      "model_name": "AxisModel",
      "state": {
       "label": "x",
       "scale": "IPY_MODEL_eb876c4f766c4ceba2ef98623bc90df9",
       "side": "bottom",
       "tick_values": {
        "type": null,
        "values": null
       }
      }
     },
     "4bf1558504ce4a7e91db062b6ca89a2c": {
      "model_module": "bqplot",
      "model_module_version": "^0.3.6",
      "model_name": "LinesModel",
      "state": {
       "color": {
        "type": null,
        "values": null
       },
       "display_legend": false,
       "fill_colors": [],
       "labels": [
        "C1"
       ],
       "scales": {
        "x": "IPY_MODEL_6b4f66d8dca547d5bb98a2486793d248",
        "y": "IPY_MODEL_11d67848552c40b0bbe509c01bb638c5"
       },
       "selected": [],
       "x": {
        "type": "float",
        "values": [
         -1,
         -0.8,
         -0.6,
         -0.3999999999999999,
         -0.19999999999999996,
         0,
         0.20000000000000018,
         0.40000000000000013,
         0.6000000000000001,
         0.8,
         1
        ]
       },
       "y": {
        "type": "float",
        "values": [
         0.36787944117144233,
         0.5272924240430485,
         0.697676326071031,
         0.8521437889662115,
         0.9607894391523232,
         1,
         0.9607894391523232,
         0.8521437889662112,
         0.697676326071031,
         0.5272924240430485,
         0.36787944117144233
        ]
       }
      }
     },
     "4c991109b63b416fb94c9153257c954d": {
      "model_module": "@jupyter-widgets/controls",
      "model_module_version": "1.1.0",
      "model_name": "PlayModel",
      "state": {
       "description": "Press play",
       "layout": "IPY_MODEL_d1ce0e2938214462bd9bbe88f6282ef6",
       "style": "IPY_MODEL_ee1f34fea5204247b77cd0480aae9d6a",
       "value": 20
      }
     },
     "4ccfb1efdcbf4cf8a309b4773cb2873e": {
      "model_module": "bqplot",
      "model_module_version": "^0.3.6",
      "model_name": "LinesModel",
      "state": {
       "color": {
        "type": null,
        "values": null
       },
       "display_legend": false,
       "fill_colors": [],
       "labels": [
        "C1"
       ],
       "scales": {
        "x": "IPY_MODEL_f0b72dd0e54947dab163d71cfce6a64d",
        "y": "IPY_MODEL_f3ad51a47ace413d97979095756c1dfc"
       },
       "selected": [],
       "x": {
        "type": "float",
        "values": [
         -1,
         -0.8,
         -0.6,
         -0.3999999999999999,
         -0.19999999999999996,
         0,
         0.20000000000000018,
         0.40000000000000013,
         0.6000000000000001,
         0.8,
         1
        ]
       },
       "y": {
        "type": "float",
        "values": [
         0.36787944117144233,
         0.5272924240430485,
         0.697676326071031,
         0.8521437889662115,
         0.9607894391523232,
         1,
         0.9607894391523232,
         0.8521437889662112,
         0.697676326071031,
         0.5272924240430485,
         0.36787944117144233
        ]
       }
      }
     },
     "4d00f6ab71a9488ebe3957af27886a14": {
      "model_module": "@jupyter-widgets/base",
      "model_module_version": "1.0.0",
      "model_name": "LayoutModel",
      "state": {}
     },
     "4d8ea5e948054ceebea213bc0c771f8f": {
      "model_module": "@jupyter-widgets/base",
      "model_module_version": "1.0.0",
      "model_name": "LayoutModel",
      "state": {}
     },
     "4e331bf4947b49eb8e2ee1a8313632c0": {
      "model_module": "@jupyter-widgets/base",
      "model_module_version": "1.0.0",
      "model_name": "LayoutModel",
      "state": {}
     },
     "4f7badcc9c7c4b2b94cf4ebc77b502f9": {
      "model_module": "@jupyter-widgets/base",
      "model_module_version": "1.0.0",
      "model_name": "LayoutModel",
      "state": {}
     },
     "4fc8fa61ca3b4515a49fa3a1fa99f13e": {
      "model_module": "@jupyter-widgets/base",
      "model_module_version": "1.0.0",
      "model_name": "LayoutModel",
      "state": {}
     },
     "4fcdbc53f5e74ee392e25c61400ebde2": {
      "model_module": "bqplot",
      "model_module_version": "^0.3.6",
      "model_name": "AxisModel",
      "state": {
       "label": "x",
       "scale": "IPY_MODEL_719c3c0a545d4044b81d2e76b65ae240",
       "side": "bottom",
       "tick_values": {
        "type": null,
        "values": null
       }
      }
     },
     "501928255d9f434ab37b167f622d0992": {
      "model_module": "bqplot",
      "model_module_version": "^0.3.6",
      "model_name": "LinesModel",
      "state": {
       "color": {
        "type": null,
        "values": null
       },
       "display_legend": false,
       "fill_colors": [],
       "labels": [
        "C1"
       ],
       "scales": {
        "x": "IPY_MODEL_f0b72dd0e54947dab163d71cfce6a64d",
        "y": "IPY_MODEL_f3ad51a47ace413d97979095756c1dfc"
       },
       "selected": [],
       "x": {
        "type": "float",
        "values": [
         -1,
         -0.8,
         -0.6,
         -0.3999999999999999,
         -0.19999999999999996,
         0,
         0.20000000000000018,
         0.40000000000000013,
         0.6000000000000001,
         0.8,
         1
        ]
       },
       "y": {
        "type": "float",
        "values": [
         0,
         -0.3362647413778738,
         -0.6761422386404448,
         -0.9690469881020407,
         -0.9731942987148601,
         -0.9267521851910099,
         -0.9731942987148594,
         -0.9690469881020416,
         -0.6761422386404452,
         -0.33626474137787454,
         0
        ]
       }
      }
     },
     "506e2b130654478390c0b7d2a5f73dc3": {
      "model_module": "@jupyter-widgets/controls",
      "model_module_version": "1.1.0",
      "model_name": "SliderStyleModel",
      "state": {
       "description_width": ""
      }
     },
     "50836da5a26c4b41891902b9691d34fc": {
      "model_module": "@jupyter-widgets/base",
      "model_module_version": "1.0.0",
      "model_name": "LayoutModel",
      "state": {}
     },
     "50c261782d1741fea6d868b969760e8f": {
      "model_module": "@jupyter-widgets/controls",
      "model_module_version": "1.1.0",
      "model_name": "LinkModel",
      "state": {
       "source": [
        "IPY_MODEL_eea35f2e4bb643e19950e0c63ac5bae2",
        "value"
       ],
       "target": [
        "IPY_MODEL_eb7c4eaa686e4afbb883c7a0a0895db3",
        "value"
       ]
      }
     },
     "52a5da4a7f1f4aa0bc9615b7eb2cf74e": {
      "model_module": "@jupyter-widgets/base",
      "model_module_version": "1.0.0",
      "model_name": "LayoutModel",
      "state": {}
     },
     "52f8cb7655f24f97811e8247e110ad16": {
      "model_module": "bqplot",
      "model_module_version": "^0.3.6",
      "model_name": "FigureModel",
      "state": {
       "_dom_classes": [],
       "layout": "IPY_MODEL_a07e21183eb147cd98830acf81798636",
       "max_aspect_ratio": 6,
       "scale_x": "IPY_MODEL_e51c8b23096b46fe98e2c825a00514fd",
       "scale_y": "IPY_MODEL_12929283a829483a9df7248fef25c319"
      }
     },
     "554b79174ec34bffa5163b6e8e162df3": {
      "model_module": "@jupyter-widgets/base",
      "model_module_version": "1.0.0",
      "model_name": "LayoutModel",
      "state": {
       "min_width": "125px"
      }
     },
     "5556ec275700426f9ad9f041f682c1df": {
      "model_module": "@jupyter-widgets/controls",
      "model_module_version": "1.1.0",
      "model_name": "SliderStyleModel",
      "state": {
       "description_width": ""
      }
     },
     "557e86d88bed4f828ed1238a7d4c9c86": {
      "model_module": "@jupyter-widgets/controls",
      "model_module_version": "1.1.0",
      "model_name": "VBoxModel",
      "state": {
       "children": [
        "IPY_MODEL_f3a036e894634cfb8bb144874b9bb6f3",
        "IPY_MODEL_23b08453c75f4e41b7b26717cc03007f"
       ],
       "layout": "IPY_MODEL_8c8e9b02092c471885291a82269f6677"
      }
     },
     "55bafe7c3a9241eea2328d20345143e1": {
      "model_module": "bqplot",
      "model_module_version": "^0.3.6",
      "model_name": "LinearScaleModel",
      "state": {
       "allow_padding": false,
       "max": 1,
       "min": 0,
       "stabilized": false
      }
     },
     "55f046aa578d4e09acae95b9050c8185": {
      "model_module": "bqplot",
      "model_module_version": "^0.3.6",
      "model_name": "LinearScaleModel",
      "state": {
       "allow_padding": false,
       "max": 1,
       "min": 0,
       "stabilized": false
      }
     },
     "55fabdb2b6184368b946c4dee1097948": {
      "model_module": "@jupyter-widgets/base",
      "model_module_version": "1.0.0",
      "model_name": "LayoutModel",
      "state": {
       "min_width": "125px"
      }
     },
     "5633b152cc6d47939546dae4937468f2": {
      "model_module": "bqplot",
      "model_module_version": "^0.3.6",
      "model_name": "AxisModel",
      "state": {
       "label": "u",
       "orientation": "vertical",
       "scale": "IPY_MODEL_c133014ea9be40d79e3c84ead1d44fd2",
       "side": "left",
       "tick_values": {
        "type": null,
        "values": null
       }
      }
     },
     "56f10770d69641cf8fdb86c459dc1d81": {
      "model_module": "@jupyter-widgets/controls",
      "model_module_version": "1.1.0",
      "model_name": "VBoxModel",
      "state": {
       "_dom_classes": [
        "widget-interact"
       ],
       "children": [
        "IPY_MODEL_8b9d614c7d1645ec9f6c40b55b81ef21",
        "IPY_MODEL_831b1748d04447da9b6c5c2216270a26"
       ],
       "layout": "IPY_MODEL_ead204e67ba74a69b17243e881cc387b"
      }
     },
     "5763198ef560455ab2375a42f32b2713": {
      "model_module": "@jupyter-widgets/base",
      "model_module_version": "1.0.0",
      "model_name": "LayoutModel",
      "state": {}
     },
     "580562896a6942798d80a6bc1b266538": {
      "model_module": "@jupyter-widgets/controls",
      "model_module_version": "1.1.0",
      "model_name": "LinkModel",
      "state": {
       "source": [
        "IPY_MODEL_62d2db69a8bf40c49c8e758dc265d322",
        "value"
       ],
       "target": [
        "IPY_MODEL_2f5702ea12f24c389147ead29e816dec",
        "value"
       ]
      }
     },
     "581feb021b7b4c63a754b8251b18238d": {
      "model_module": "@jupyter-widgets/controls",
      "model_module_version": "1.1.0",
      "model_name": "PlayModel",
      "state": {
       "description": "Press play",
       "layout": "IPY_MODEL_ff1eda58ee0046419d1a4737ce998bd5",
       "style": "IPY_MODEL_cc69695589a343619df8a6a1e4c1462e",
       "value": 100
      }
     },
     "58273dad3c0e4b598a486885aa9456cf": {
      "model_module": "bqplot",
      "model_module_version": "^0.3.6",
      "model_name": "LinearScaleModel",
      "state": {
       "max": 1,
       "min": -1,
       "stabilized": false
      }
     },
     "5854c76ac3d048459d43bffd08fd93a8": {
      "model_module": "@jupyter-widgets/controls",
      "model_module_version": "1.1.0",
      "model_name": "LinkModel",
      "state": {
       "source": [
        "IPY_MODEL_8b4aa167700a4d2ca89bb43d0f09155d",
        "value"
       ],
       "target": [
        "IPY_MODEL_e3ca17595b884682bd89304a8897d8ba",
        "value"
       ]
      }
     },
     "587d2d06ffb6462f9b57b25280b8340a": {
      "model_module": "@jupyter-widgets/controls",
      "model_module_version": "1.1.0",
      "model_name": "VBoxModel",
      "state": {
       "_dom_classes": [
        "widget-interact"
       ],
       "children": [
        "IPY_MODEL_2cef0a75e742402d99606702dd4b6aec",
        "IPY_MODEL_dfe73c15137644e28daefaf0f50db92e"
       ],
       "layout": "IPY_MODEL_784a3efc6c0f4439b12f43243dfcebb0"
      }
     },
     "58f2434f0dc84b4baa3f77a2c1beead8": {
      "model_module": "bqplot",
      "model_module_version": "^0.3.6",
      "model_name": "AxisModel",
      "state": {
       "scale": "IPY_MODEL_f0b72dd0e54947dab163d71cfce6a64d",
       "side": "bottom",
       "tick_values": {
        "type": null,
        "values": null
       }
      }
     },
     "58f9d09131cb464d99fcfdf27b984795": {
      "model_module": "@jupyter-widgets/controls",
      "model_module_version": "1.1.0",
      "model_name": "FloatSliderModel",
      "state": {
       "description": "t",
       "layout": "IPY_MODEL_3cf3200107c54f24bb8486efb0fea9f8",
       "max": 20,
       "style": "IPY_MODEL_ccff9b4f19d34172a331d01ff9c9794a",
       "value": 20
      }
     },
     "5988ce78e82e464d9e090ff91cb6f78d": {
      "model_module": "@jupyter-widgets/controls",
      "model_module_version": "1.1.0",
      "model_name": "VBoxModel",
      "state": {
       "children": [
        "IPY_MODEL_09e9b1239e6e4712a2e3a9e4e236c263",
        "IPY_MODEL_721d8c80a5934656825b289241cf71ea"
       ],
       "layout": "IPY_MODEL_b9dde07f735d48d884873a2f99fb5059"
      }
     },
     "59c60d5bef9a4fa387c680fad095ab96": {
      "model_module": "@jupyter-widgets/controls",
      "model_module_version": "1.1.0",
      "model_name": "SliderStyleModel",
      "state": {
       "description_width": ""
      }
     },
     "5a2333946d4c40728edce56b7ed7d078": {
      "model_module": "bqplot",
      "model_module_version": "^0.3.6",
      "model_name": "LinesModel",
      "state": {
       "color": {
        "type": null,
        "values": null
       },
       "display_legend": false,
       "fill_colors": [],
       "labels": [
        "C1"
       ],
       "scales": {
        "x": "IPY_MODEL_9e513a4a458c4573910d99ed1344d73e",
        "y": "IPY_MODEL_f7a40e2f9e5e405e8878bca79402aeaf"
       },
       "selected": [],
       "x": {
        "type": "float",
        "values": [
         -10,
         -9.8,
         -9.6,
         -9.4,
         -9.2,
         -9,
         -8.8,
         -8.6,
         -8.4,
         -8.2,
         -8,
         -7.8,
         -7.6,
         -7.4,
         -7.199999999999999,
         -7,
         -6.8,
         -6.6,
         -6.4,
         -6.199999999999999,
         -6,
         -5.8,
         -5.6,
         -5.3999999999999995,
         -5.199999999999999,
         -5,
         -4.8,
         -4.6,
         -4.3999999999999995,
         -4.199999999999999,
         -4,
         -3.8,
         -3.5999999999999996,
         -3.3999999999999995,
         -3.1999999999999993,
         -3,
         -2.8,
         -2.5999999999999996,
         -2.3999999999999995,
         -2.1999999999999993,
         -2,
         -1.799999999999999,
         -1.5999999999999996,
         -1.4000000000000004,
         -1.1999999999999993,
         -1,
         -0.7999999999999989,
         -0.5999999999999996,
         -0.3999999999999986,
         -0.1999999999999993,
         0,
         0.20000000000000107,
         0.40000000000000036,
         0.6000000000000014,
         0.8000000000000007,
         1,
         1.200000000000001,
         1.4000000000000004,
         1.6000000000000014,
         1.8000000000000007,
         2,
         2.200000000000001,
         2.4000000000000004,
         2.6000000000000014,
         2.8000000000000007,
         3,
         3.200000000000001,
         3.4000000000000004,
         3.6000000000000014,
         3.8000000000000007,
         4,
         4.200000000000001,
         4.4,
         4.600000000000001,
         4.800000000000001,
         5,
         5.200000000000001,
         5.4,
         5.600000000000001,
         5.800000000000001,
         6,
         6.199999999999999,
         6.400000000000002,
         6.600000000000001,
         6.800000000000001,
         7,
         7.199999999999999,
         7.400000000000002,
         7.600000000000001,
         7.800000000000001,
         8,
         8.2,
         8.400000000000002,
         8.600000000000001,
         8.8,
         9,
         9.200000000000003,
         9.400000000000002,
         9.600000000000001,
         9.8,
         10
        ]
       },
       "y": {
        "type": "float",
        "values": [
         0,
         0.08476561646189551,
         0.16020162742915733,
         0.21810117287642017,
         0.2523754335937056,
         0.25980475328112096,
         0.24045041017781021,
         0.19766412740704015,
         0.13767460649880814,
         0.06878040356769333,
         0.00023241560330333755,
         -0.059058940154100625,
         -0.10181507786416688,
         -0.12347992730594903,
         -0.12291643349912462,
         -0.102555571474781,
         -0.06792091459443839,
         -0.026558673606139394,
         0.013473723029968632,
         0.04529085952929979,
         0.06468367692725785,
         0.07107843881674636,
         0.0676557823796946,
         0.06050078409062731,
         0.05689431074639906,
         0.06311980539797446,
         0.08237305426175823,
         0.11344020804617483,
         0.15068335398354327,
         0.1855266488113827,
         0.2091339865639572,
         0.21546509809663483,
         0.203602495774323,
         0.17834878941145504,
         0.14866757461813762,
         0.12442978095624824,
         0.112760064193969,
         0.11559946694303669,
         0.129624996585882,
         0.14851974812145485,
         0.16634712989109346,
         0.18019892825213546,
         0.19078202768304564,
         0.20091011069837172,
         0.21311767194984554,
         0.22797311853631896,
         0.24395654676955747,
         0.25859931471681374,
         0.2698399569369476,
         0.2766784607248969,
         0.27894309383700966,
         0.2766784607248871,
         0.2698399569369636,
         0.258599314716788,
         0.24395654676954326,
         0.22797311853633495,
         0.21311767194984377,
         0.20091011069837705,
         0.1907820276830332,
         0.18019892825215322,
         0.16634712989105793,
         0.14851974812145485,
         0.12962499658587845,
         0.1155994669430136,
         0.11276006419397078,
         0.12442978095626955,
         0.14866757461813407,
         0.1783487894114515,
         0.20360249577431588,
         0.21546509809661885,
         0.2091339865639643,
         0.18552664881136316,
         0.1506833539835437,
         0.11344020804616628,
         0.08237305426176711,
         0.06311980539796824,
         0.056894310746394616,
         0.06050078409064419,
         0.06765578237968395,
         0.07107843881674819,
         0.06468367692727295,
         0.04529085952929002,
         0.013473723029976625,
         -0.026558673606125183,
         -0.06792091459444727,
         -0.1025555714747739,
         -0.12291643349911752,
         -0.12347992730593838,
         -0.10181507786415622,
         -0.05905894015409885,
         0.00023241560329978483,
         0.06878040356769866,
         0.1376746064988037,
         0.1976641274070317,
         0.24045041017780622,
         0.25980475328112096,
         0.25237543359370296,
         0.2181011728764286,
         0.160201627429156,
         0.08476561646189684,
         0
        ]
       }
      }
     },
     "5a53784944a74f4b9a3d6449542aeb61": {
      "model_module": "@jupyter-widgets/output",
      "model_module_version": "1.0.0",
      "model_name": "OutputModel",
      "state": {
       "layout": "IPY_MODEL_dac0aa91d4e247a3bd2df64ab9a51e53"
      }
     },
     "5a8bd7966a654efc84df73fcb1e8e68a": {
      "model_module": "bqplot",
      "model_module_version": "^0.3.6",
      "model_name": "FigureModel",
      "state": {
       "_dom_classes": [],
       "axes": [
        "IPY_MODEL_9da7bc40315c4cf6a75ecba458982538",
        "IPY_MODEL_45786bc09c534bf18f116c11531adeae"
       ],
       "layout": "IPY_MODEL_a0e5680543044832a3e11918cbf4d605",
       "marks": [
        "IPY_MODEL_75209a0a69b5497eb035ad3024a5b04c"
       ],
       "max_aspect_ratio": 6,
       "scale_x": "IPY_MODEL_f7399d03cac44754abb5f1b2675e247d",
       "scale_y": "IPY_MODEL_c4df843294e2425fb80aed59f2d762d9"
      }
     },
     "5aa8c4f0a6ed43e1b4e083493e632163": {
      "model_module": "bqplot",
      "model_module_version": "^0.3.6",
      "model_name": "LinesModel",
      "state": {
       "color": {
        "type": null,
        "values": null
       },
       "display_legend": false,
       "fill_colors": [],
       "labels": [
        "C1"
       ],
       "scales": {
        "x": "IPY_MODEL_60199ee49a824dbdabf722c9b6da2fa4",
        "y": "IPY_MODEL_3f82d9b0b9a04daa9ac0a3bb210586fa"
       },
       "selected": [],
       "x": {
        "type": "float",
        "values": [
         -10,
         -8,
         -6,
         -4,
         -2,
         0,
         2,
         4,
         6,
         8,
         10
        ]
       },
       "y": {
        "type": "float",
        "values": [
         0,
         0.43964851599163646,
         -0.06842468796589003,
         0.19909753510332934,
         0.06756373528283657,
         0.38990240906695917,
         0.06756373528283655,
         0.1990975351033297,
         -0.06842468796589024,
         0.4396485159916365,
         0
        ]
       }
      }
     },
     "5ad2c4f054cc4e9f9a42561dc9b386bf": {
      "model_module": "@jupyter-widgets/base",
      "model_module_version": "1.0.0",
      "model_name": "LayoutModel",
      "state": {}
     },
     "5b7003681c1d42c0b5c613be11de22a9": {
      "model_module": "bqplot",
      "model_module_version": "^0.3.6",
      "model_name": "LinearScaleModel",
      "state": {
       "max": 1,
       "min": -1,
       "stabilized": false
      }
     },
     "5c040bb33ffe4b279bb08e907697f2e1": {
      "model_module": "@jupyter-widgets/base",
      "model_module_version": "1.0.0",
      "model_name": "LayoutModel",
      "state": {}
     },
     "5c6666e755e146b98a06590e2e7fed08": {
      "model_module": "@jupyter-widgets/controls",
      "model_module_version": "1.1.0",
      "model_name": "VBoxModel",
      "state": {
       "children": [
        "IPY_MODEL_f84331ea96f644599266c938c4ea417f",
        "IPY_MODEL_8c9b7dad98e049ca9b77fe8735bc03cd"
       ],
       "layout": "IPY_MODEL_6971eb00f19a4517a9d86f752948bd79"
      }
     },
     "5c76cbf4d930497d86f8fb94d099cfde": {
      "model_module": "@jupyter-widgets/base",
      "model_module_version": "1.0.0",
      "model_name": "LayoutModel",
      "state": {}
     },
     "5c86815dd3874005ae1f2848922156a1": {
      "model_module": "@jupyter-widgets/controls",
      "model_module_version": "1.1.0",
      "model_name": "FloatSliderModel",
      "state": {
       "description": "t",
       "layout": "IPY_MODEL_69d6b6a93ed14c1b98869650c1eb65d6",
       "style": "IPY_MODEL_381778e888c9459da582a501083ebe94",
       "value": 100
      }
     },
     "5d3d7e74cc99473bade484795d8038b3": {
      "model_module": "@jupyter-widgets/base",
      "model_module_version": "1.0.0",
      "model_name": "LayoutModel",
      "state": {}
     },
     "5db4f7c15cdd42209ad527165f779b96": {
      "model_module": "@jupyter-widgets/base",
      "model_module_version": "1.0.0",
      "model_name": "LayoutModel",
      "state": {}
     },
     "5dbe5e9a909b42d08577f387c734a089": {
      "model_module": "@jupyter-widgets/base",
      "model_module_version": "1.0.0",
      "model_name": "LayoutModel",
      "state": {
       "min_width": "125px"
      }
     },
     "5e284a828fed444d8bfffe3fbfc70e67": {
      "model_module": "bqplot",
      "model_module_version": "^0.3.6",
      "model_name": "LinearScaleModel",
      "state": {
       "allow_padding": false,
       "max": 1,
       "min": 0,
       "stabilized": false
      }
     },
     "5e99a4a4aca64356abdf0da199c2d1f5": {
      "model_module": "@jupyter-widgets/controls",
      "model_module_version": "1.1.0",
      "model_name": "PlayModel",
      "state": {
       "description": "Press play",
       "layout": "IPY_MODEL_bda982de90b94704b3a8aabe1eb8bcc2",
       "style": "IPY_MODEL_e3dd7a4fb9e24cc9b4eb86efc30a48f5",
       "value": 50
      }
     },
     "5f24228c0d2a47788b0ae38a696a57dd": {
      "model_module": "@jupyter-widgets/base",
      "model_module_version": "1.0.0",
      "model_name": "LayoutModel",
      "state": {
       "min_width": "125px"
      }
     },
     "5fa30ae658104873b79adb439e5c739e": {
      "model_module": "@jupyter-widgets/controls",
      "model_module_version": "1.1.0",
      "model_name": "VBoxModel",
      "state": {
       "_dom_classes": [
        "widget-interact"
       ],
       "children": [
        "IPY_MODEL_c2645b7c918c4ceb95ba4c59bd1c9c76",
        "IPY_MODEL_cf89606f6d2341f1ac0aaa09dca5a7fa"
       ],
       "layout": "IPY_MODEL_2a4e61581c494b939ce7125d95713338"
      }
     },
     "60178e75d35c4cd685676c0282711a34": {
      "model_module": "@jupyter-widgets/base",
      "model_module_version": "1.0.0",
      "model_name": "LayoutModel",
      "state": {
       "min_width": "125px"
      }
     },
     "60199ee49a824dbdabf722c9b6da2fa4": {
      "model_module": "bqplot",
      "model_module_version": "^0.3.6",
      "model_name": "LinearScaleModel",
      "state": {
       "max": 10,
       "min": -10,
       "stabilized": false
      }
     },
     "606b9c25321e4b269c35f48a6cbc6a2f": {
      "model_module": "@jupyter-widgets/controls",
      "model_module_version": "1.1.0",
      "model_name": "LinkModel",
      "state": {
       "source": [
        "IPY_MODEL_581feb021b7b4c63a754b8251b18238d",
        "value"
       ],
       "target": [
        "IPY_MODEL_5c86815dd3874005ae1f2848922156a1",
        "value"
       ]
      }
     },
     "60f6dde27d6e477f9a16f7ae08ace92d": {
      "model_module": "@jupyter-widgets/base",
      "model_module_version": "1.0.0",
      "model_name": "LayoutModel",
      "state": {}
     },
     "61f46e18360f4101a29e61c60e021fb2": {
      "model_module": "@jupyter-widgets/output",
      "model_module_version": "1.0.0",
      "model_name": "OutputModel",
      "state": {
       "layout": "IPY_MODEL_1d32c397381b448088c13ecd071bfe53"
      }
     },
     "62d2db69a8bf40c49c8e758dc265d322": {
      "model_module": "@jupyter-widgets/controls",
      "model_module_version": "1.1.0",
      "model_name": "PlayModel",
      "state": {
       "description": "Press play",
       "layout": "IPY_MODEL_48f243c516854f35a99b38b96aa39555",
       "style": "IPY_MODEL_af1eadcb427944e49177d66735159ebe"
      }
     },
     "62f3ca7ba1cd4791930d8358c260b17d": {
      "model_module": "bqplot",
      "model_module_version": "^0.3.6",
      "model_name": "LinesModel",
      "state": {
       "color": {
        "type": null,
        "values": null
       },
       "display_legend": false,
       "fill_colors": [],
       "labels": [
        "C1"
       ],
       "scales": {
        "x": "IPY_MODEL_ea90ddf7a7174024a7d9be39d93cfbe5",
        "y": "IPY_MODEL_aa1c87f740f0445a88dc555b1c82371f"
       },
       "selected": [],
       "x": {
        "type": "float",
        "values": [
         -10,
         -9.8,
         -9.6,
         -9.4,
         -9.2,
         -9,
         -8.8,
         -8.6,
         -8.4,
         -8.2,
         -8,
         -7.8,
         -7.6,
         -7.4,
         -7.199999999999999,
         -7,
         -6.8,
         -6.6,
         -6.4,
         -6.199999999999999,
         -6,
         -5.8,
         -5.6,
         -5.3999999999999995,
         -5.199999999999999,
         -5,
         -4.8,
         -4.6,
         -4.3999999999999995,
         -4.199999999999999,
         -4,
         -3.8,
         -3.5999999999999996,
         -3.3999999999999995,
         -3.1999999999999993,
         -3,
         -2.8,
         -2.5999999999999996,
         -2.3999999999999995,
         -2.1999999999999993,
         -2,
         -1.799999999999999,
         -1.5999999999999996,
         -1.4000000000000004,
         -1.1999999999999993,
         -1,
         -0.7999999999999989,
         -0.5999999999999996,
         -0.3999999999999986,
         -0.1999999999999993,
         0,
         0.20000000000000107,
         0.40000000000000036,
         0.6000000000000014,
         0.8000000000000007,
         1,
         1.200000000000001,
         1.4000000000000004,
         1.6000000000000014,
         1.8000000000000007,
         2,
         2.200000000000001,
         2.4000000000000004,
         2.6000000000000014,
         2.8000000000000007,
         3,
         3.200000000000001,
         3.4000000000000004,
         3.6000000000000014,
         3.8000000000000007,
         4,
         4.200000000000001,
         4.4,
         4.600000000000001,
         4.800000000000001,
         5,
         5.200000000000001,
         5.4,
         5.600000000000001,
         5.800000000000001,
         6,
         6.199999999999999,
         6.400000000000002,
         6.600000000000001,
         6.800000000000001,
         7,
         7.199999999999999,
         7.400000000000002,
         7.600000000000001,
         7.800000000000001,
         8,
         8.2,
         8.400000000000002,
         8.600000000000001,
         8.8,
         9,
         9.200000000000003,
         9.400000000000002,
         9.600000000000001,
         9.8,
         10
        ]
       },
       "y": {
        "type": "float",
        "values": [
         0,
         0.08476561646189551,
         0.16020162742915733,
         0.21810117287642017,
         0.2523754335937056,
         0.25980475328112096,
         0.24045041017781021,
         0.19766412740704015,
         0.13767460649880814,
         0.06878040356769333,
         0.00023241560330333755,
         -0.059058940154100625,
         -0.10181507786416688,
         -0.12347992730594903,
         -0.12291643349912462,
         -0.102555571474781,
         -0.06792091459443839,
         -0.026558673606139394,
         0.013473723029968632,
         0.04529085952929979,
         0.06468367692725785,
         0.07107843881674636,
         0.0676557823796946,
         0.06050078409062731,
         0.05689431074639906,
         0.06311980539797446,
         0.08237305426175823,
         0.11344020804617483,
         0.15068335398354327,
         0.1855266488113827,
         0.2091339865639572,
         0.21546509809663483,
         0.203602495774323,
         0.17834878941145504,
         0.14866757461813762,
         0.12442978095624824,
         0.112760064193969,
         0.11559946694303669,
         0.129624996585882,
         0.14851974812145485,
         0.16634712989109346,
         0.18019892825213546,
         0.19078202768304564,
         0.20091011069837172,
         0.21311767194984554,
         0.22797311853631896,
         0.24395654676955747,
         0.25859931471681374,
         0.2698399569369476,
         0.2766784607248969,
         0.27894309383700966,
         0.2766784607248871,
         0.2698399569369636,
         0.258599314716788,
         0.24395654676954326,
         0.22797311853633495,
         0.21311767194984377,
         0.20091011069837705,
         0.1907820276830332,
         0.18019892825215322,
         0.16634712989105793,
         0.14851974812145485,
         0.12962499658587845,
         0.1155994669430136,
         0.11276006419397078,
         0.12442978095626955,
         0.14866757461813407,
         0.1783487894114515,
         0.20360249577431588,
         0.21546509809661885,
         0.2091339865639643,
         0.18552664881136316,
         0.1506833539835437,
         0.11344020804616628,
         0.08237305426176711,
         0.06311980539796824,
         0.056894310746394616,
         0.06050078409064419,
         0.06765578237968395,
         0.07107843881674819,
         0.06468367692727295,
         0.04529085952929002,
         0.013473723029976625,
         -0.026558673606125183,
         -0.06792091459444727,
         -0.1025555714747739,
         -0.12291643349911752,
         -0.12347992730593838,
         -0.10181507786415622,
         -0.05905894015409885,
         0.00023241560329978483,
         0.06878040356769866,
         0.1376746064988037,
         0.1976641274070317,
         0.24045041017780622,
         0.25980475328112096,
         0.25237543359370296,
         0.2181011728764286,
         0.160201627429156,
         0.08476561646189684,
         0
        ]
       }
      }
     },
     "6333a6a1a02247ca91fba0c51a2f06de": {
      "model_module": "@jupyter-widgets/base",
      "model_module_version": "1.0.0",
      "model_name": "LayoutModel",
      "state": {
       "min_width": "125px"
      }
     },
     "63885aa24eb14144b345298c0a81d47c": {
      "model_module": "@jupyter-widgets/base",
      "model_module_version": "1.0.0",
      "model_name": "LayoutModel",
      "state": {}
     },
     "6394c898ccdd48589a2b6b1f9ea8612b": {
      "model_module": "@jupyter-widgets/base",
      "model_module_version": "1.0.0",
      "model_name": "LayoutModel",
      "state": {}
     },
     "6408f268203a440fbbb71c57f0501fb0": {
      "model_module": "@jupyter-widgets/base",
      "model_module_version": "1.0.0",
      "model_name": "LayoutModel",
      "state": {}
     },
     "6456d5bc2e814d2bbacef3045c5360ec": {
      "model_module": "@jupyter-widgets/controls",
      "model_module_version": "1.1.0",
      "model_name": "SliderStyleModel",
      "state": {
       "description_width": ""
      }
     },
     "647ea0664260415ab7b3cebea2abc93a": {
      "model_module": "@jupyter-widgets/output",
      "model_module_version": "1.0.0",
      "model_name": "OutputModel",
      "state": {
       "layout": "IPY_MODEL_653922a34b7145379100596dd33a6947"
      }
     },
     "6525d9d544544630a581262a5e84e5e5": {
      "model_module": "@jupyter-widgets/controls",
      "model_module_version": "1.1.0",
      "model_name": "VBoxModel",
      "state": {
       "_dom_classes": [
        "widget-interact"
       ],
       "children": [
        "IPY_MODEL_4088ba4c31854c6d8529c66043c14ad0",
        "IPY_MODEL_0b221c0f29874e29bc7981a34a3da57f"
       ],
       "layout": "IPY_MODEL_8999671ab922453c965f20aa6f663f3d"
      }
     },
     "653922a34b7145379100596dd33a6947": {
      "model_module": "@jupyter-widgets/base",
      "model_module_version": "1.0.0",
      "model_name": "LayoutModel",
      "state": {}
     },
     "659632677c054074a8762f375254f62a": {
      "model_module": "@jupyter-widgets/controls",
      "model_module_version": "1.1.0",
      "model_name": "HBoxModel",
      "state": {
       "children": [
        "IPY_MODEL_942b3bec9d5e4846ba4ae56fe07c7675",
        "IPY_MODEL_cc57e1ad134642519866febb9a3b7a5d"
       ],
       "layout": "IPY_MODEL_6b3eb7c788c5485e87a3b6fa80e2b97a"
      }
     },
     "65b83360db314bfcb9d4175ce77120f1": {
      "model_module": "@jupyter-widgets/controls",
      "model_module_version": "1.1.0",
      "model_name": "VBoxModel",
      "state": {
       "_dom_classes": [
        "widget-interact"
       ],
       "children": [
        "IPY_MODEL_c3ab56518b514df6a95400c1a8cd973b",
        "IPY_MODEL_d6ba5947266f4cc6b4d57d7df7023b98"
       ],
       "layout": "IPY_MODEL_6394c898ccdd48589a2b6b1f9ea8612b"
      }
     },
     "660685e0a6cf4308bf9dfe14b01d2d22": {
      "model_module": "@jupyter-widgets/controls",
      "model_module_version": "1.1.0",
      "model_name": "VBoxModel",
      "state": {
       "_dom_classes": [
        "widget-interact"
       ],
       "children": [
        "IPY_MODEL_ce36a0e3d2dd4829beb254a7c2c434a7",
        "IPY_MODEL_b872ad9f1b3845cb880f197efd5e6658"
       ],
       "layout": "IPY_MODEL_4e331bf4947b49eb8e2ee1a8313632c0"
      }
     },
     "66398816338642db8fafa1c1f00e3874": {
      "model_module": "@jupyter-widgets/controls",
      "model_module_version": "1.1.0",
      "model_name": "FloatSliderModel",
      "state": {
       "description": "t",
       "layout": "IPY_MODEL_ebb5a62fc4ab413c8ff10cefb4289033",
       "style": "IPY_MODEL_7d534eb2f4894a05a7ece7fc01a3433e"
      }
     },
     "664868b19ad14393a8d5f701dd806e4c": {
      "model_module": "@jupyter-widgets/controls",
      "model_module_version": "1.1.0",
      "model_name": "PlayModel",
      "state": {
       "description": "Press play",
       "layout": "IPY_MODEL_e09c760540f04c1e975fa98722afe993",
       "max": 20,
       "style": "IPY_MODEL_f2d1bd77907a46e9aa04c61bb3568af5",
       "value": 20
      }
     },
     "667b7e032ef54e23a6cedfe7286e454a": {
      "model_module": "@jupyter-widgets/output",
      "model_module_version": "1.0.0",
      "model_name": "OutputModel",
      "state": {
       "layout": "IPY_MODEL_5c76cbf4d930497d86f8fb94d099cfde"
      }
     },
     "6715b15f3cf8454c9cf64a54128b3da9": {
      "model_module": "bqplot",
      "model_module_version": "^0.3.6",
      "model_name": "LinearScaleModel",
      "state": {
       "max": 1,
       "min": -1,
       "stabilized": false
      }
     },
     "67427d2c86fd4a02b331bef3b978a746": {
      "model_module": "@jupyter-widgets/controls",
      "model_module_version": "1.1.0",
      "model_name": "LinkModel",
      "state": {
       "source": [
        "IPY_MODEL_49b05b3032334404aaae832189fa98e3",
        "value"
       ],
       "target": [
        "IPY_MODEL_c2645b7c918c4ceb95ba4c59bd1c9c76",
        "value"
       ]
      }
     },
     "67884520c2d444f1982c3331ffacfd78": {
      "model_module": "@jupyter-widgets/controls",
      "model_module_version": "1.1.0",
      "model_name": "VBoxModel",
      "state": {
       "_dom_classes": [
        "widget-interact"
       ],
       "children": [
        "IPY_MODEL_66398816338642db8fafa1c1f00e3874",
        "IPY_MODEL_cff57549f78c474ab4df30a2992d3859"
       ],
       "layout": "IPY_MODEL_9587240ff9f141abb3da79fd8af3c0d5"
      }
     },
     "67db4b15f9464527a587f991f1b1cdbd": {
      "model_module": "@jupyter-widgets/base",
      "model_module_version": "1.0.0",
      "model_name": "LayoutModel",
      "state": {}
     },
     "680b2880b69349e793acdce850b6d014": {
      "model_module": "@jupyter-widgets/base",
      "model_module_version": "1.0.0",
      "model_name": "LayoutModel",
      "state": {}
     },
     "6897400d0d824ed58a407a0246f879e7": {
      "model_module": "bqplot",
      "model_module_version": "^0.3.6",
      "model_name": "LinearScaleModel",
      "state": {
       "max": 1,
       "min": -1,
       "stabilized": false
      }
     },
     "691ca49a110249a092a4e002d40be0e5": {
      "model_module": "bqplot",
      "model_module_version": "^0.3.6",
      "model_name": "LinearScaleModel",
      "state": {
       "max": 1,
       "min": -1,
       "stabilized": false
      }
     },
     "691eee8b7a6a4eaab482f5fa80561543": {
      "model_module": "@jupyter-widgets/controls",
      "model_module_version": "1.1.0",
      "model_name": "DescriptionStyleModel",
      "state": {
       "description_width": ""
      }
     },
     "6971eb00f19a4517a9d86f752948bd79": {
      "model_module": "@jupyter-widgets/base",
      "model_module_version": "1.0.0",
      "model_name": "LayoutModel",
      "state": {}
     },
     "69b0853cb91c42e5b591cad6a5c9afef": {
      "model_module": "@jupyter-widgets/base",
      "model_module_version": "1.0.0",
      "model_name": "LayoutModel",
      "state": {}
     },
     "69c9ca5cb766458ab4b7dfe06e31ec52": {
      "model_module": "@jupyter-widgets/base",
      "model_module_version": "1.0.0",
      "model_name": "LayoutModel",
      "state": {}
     },
     "69d6b6a93ed14c1b98869650c1eb65d6": {
      "model_module": "@jupyter-widgets/base",
      "model_module_version": "1.0.0",
      "model_name": "LayoutModel",
      "state": {}
     },
     "6a273dd785304fd891ebd1e073f203f1": {
      "model_module": "@jupyter-widgets/base",
      "model_module_version": "1.0.0",
      "model_name": "LayoutModel",
      "state": {}
     },
     "6a563232ae96445b80aebd4bf5cbaf67": {
      "model_module": "bqplot",
      "model_module_version": "^0.3.6",
      "model_name": "LinearScaleModel",
      "state": {
       "allow_padding": false,
       "max": 1,
       "min": 0,
       "stabilized": false
      }
     },
     "6b3eb7c788c5485e87a3b6fa80e2b97a": {
      "model_module": "@jupyter-widgets/base",
      "model_module_version": "1.0.0",
      "model_name": "LayoutModel",
      "state": {}
     },
     "6b4f66d8dca547d5bb98a2486793d248": {
      "model_module": "bqplot",
      "model_module_version": "^0.3.6",
      "model_name": "LinearScaleModel",
      "state": {
       "max": 1,
       "min": -1,
       "stabilized": false
      }
     },
     "6c324b85f272470d94fe157164be1fe2": {
      "model_module": "@jupyter-widgets/controls",
      "model_module_version": "1.1.0",
      "model_name": "HBoxModel",
      "state": {
       "children": [
        "IPY_MODEL_664868b19ad14393a8d5f701dd806e4c",
        "IPY_MODEL_84d495e49f3e492385576a9751a0c6b7"
       ],
       "layout": "IPY_MODEL_a388a71930fa453d9c0f6fe757478c5e"
      }
     },
     "6c47b2a038d14430b76088d6def9618d": {
      "model_module": "@jupyter-widgets/output",
      "model_module_version": "1.0.0",
      "model_name": "OutputModel",
      "state": {
       "layout": "IPY_MODEL_a8ef53cc8e684db7ac7510e866f986ee"
      }
     },
     "6ca5fa4e2c24466f84680edafffa062c": {
      "model_module": "@jupyter-widgets/base",
      "model_module_version": "1.0.0",
      "model_name": "LayoutModel",
      "state": {
       "width": "auto"
      }
     },
     "6d41291acee54efa9aff0cf0806b8634": {
      "model_module": "bqplot",
      "model_module_version": "^0.3.6",
      "model_name": "LinearScaleModel",
      "state": {
       "allow_padding": false,
       "max": 1,
       "min": 0,
       "stabilized": false
      }
     },
     "6dc756a8e45e4d538a28f6f88f5b90c8": {
      "model_module": "bqplot",
      "model_module_version": "^0.3.6",
      "model_name": "LinearScaleModel",
      "state": {
       "allow_padding": false,
       "max": 1,
       "min": 0,
       "stabilized": false
      }
     },
     "6e6255fe9f5d4f53b3210ae9e739f4a0": {
      "model_module": "@jupyter-widgets/controls",
      "model_module_version": "1.1.0",
      "model_name": "VBoxModel",
      "state": {
       "_dom_classes": [
        "widget-interact"
       ],
       "children": [
        "IPY_MODEL_fb522d2c2bed4c08b69d8a1b25249993",
        "IPY_MODEL_3c4ee67bba8d42078640efa2c66ef25a"
       ],
       "layout": "IPY_MODEL_1ff43db5b3874460821207e41ecc2a8a"
      }
     },
     "6ef34d7b51ac41b2ac53ebafc33f17c5": {
      "model_module": "@jupyter-widgets/controls",
      "model_module_version": "1.1.0",
      "model_name": "SliderStyleModel",
      "state": {
       "description_width": ""
      }
     },
     "6f40b21a1bce4e68beb055b4d49a2792": {
      "model_module": "@jupyter-widgets/base",
      "model_module_version": "1.0.0",
      "model_name": "LayoutModel",
      "state": {}
     },
     "6ff9284a9db444c8895490feaca2ef39": {
      "model_module": "@jupyter-widgets/controls",
      "model_module_version": "1.1.0",
      "model_name": "IntSliderModel",
      "state": {
       "description": "i",
       "layout": "IPY_MODEL_468d0453a1cc4cdf99fe1880dc3afb75",
       "max": 20,
       "style": "IPY_MODEL_8fbf60c515784ee3b2bd78acd308add9",
       "value": 10
      }
     },
     "706a60edafdc48719c4d2cf4b41a277c": {
      "model_module": "bqplot",
      "model_module_version": "^0.3.6",
      "model_name": "LinearScaleModel",
      "state": {
       "allow_padding": false,
       "max": 1,
       "min": 0,
       "stabilized": false
      }
     },
     "719c3c0a545d4044b81d2e76b65ae240": {
      "model_module": "bqplot",
      "model_module_version": "^0.3.6",
      "model_name": "LinearScaleModel",
      "state": {
       "max": 10,
       "min": -10,
       "stabilized": false
      }
     },
     "71f4bdd766864e3ca83abafaebd7495f": {
      "model_module": "bqplot",
      "model_module_version": "^0.3.6",
      "model_name": "FigureModel",
      "state": {
       "_dom_classes": [],
       "axes": [
        "IPY_MODEL_e3bf9844364c4fc4bfd9759fc453eb27",
        "IPY_MODEL_b97e2bcbaf9e43ef98ba9b01d0eafafb"
       ],
       "layout": "IPY_MODEL_b550d3fe365f490f8f2ecbb926f06299",
       "marks": [
        "IPY_MODEL_df9cfbefe19b4f329caee27e74f65fc1"
       ],
       "max_aspect_ratio": 6,
       "scale_x": "IPY_MODEL_469cb6fc792b4e5498dddc640bf8a04b",
       "scale_y": "IPY_MODEL_08c97e1934b64317b9c8355ea62c521c"
      }
     },
     "721d8c80a5934656825b289241cf71ea": {
      "model_module": "bqplot",
      "model_module_version": "^0.3.6",
      "model_name": "FigureModel",
      "state": {
       "_dom_classes": [],
       "axes": [
        "IPY_MODEL_4fcdbc53f5e74ee392e25c61400ebde2",
        "IPY_MODEL_267faeda31bd4484b1cdbddf9b4e44fc"
       ],
       "layout": "IPY_MODEL_5dbe5e9a909b42d08577f387c734a089",
       "marks": [
        "IPY_MODEL_95a0f088516448b19910692a2bb940f9"
       ],
       "max_aspect_ratio": 6,
       "scale_x": "IPY_MODEL_0ba5dad759ac4d998b84c03a62d7a818",
       "scale_y": "IPY_MODEL_55bafe7c3a9241eea2328d20345143e1"
      }
     },
     "725fb47aff6549dbaa28a19d6029e18a": {
      "model_module": "@jupyter-widgets/controls",
      "model_module_version": "1.1.0",
      "model_name": "HBoxModel",
      "state": {
       "children": [
        "IPY_MODEL_0c08ffd7156844159fc1708d0a32bfb6",
        "IPY_MODEL_66398816338642db8fafa1c1f00e3874"
       ],
       "layout": "IPY_MODEL_cb7b72371e394003814c9a688b793314"
      }
     },
     "72e69792b913486d8889a8506c4a032e": {
      "model_module": "bqplot",
      "model_module_version": "^0.3.6",
      "model_name": "LinearScaleModel",
      "state": {
       "allow_padding": false,
       "max": 1,
       "min": 0,
       "stabilized": false
      }
     },
     "734165c5e605491c9dd4a5ab6484cb72": {
      "model_module": "@jupyter-widgets/controls",
      "model_module_version": "1.1.0",
      "model_name": "SliderStyleModel",
      "state": {
       "description_width": ""
      }
     },
     "7342ad8e46f0487aa1df06bd6062d946": {
      "model_module": "bqplot",
      "model_module_version": "^0.3.6",
      "model_name": "AxisModel",
      "state": {
       "label": "u",
       "orientation": "vertical",
       "scale": "IPY_MODEL_6715b15f3cf8454c9cf64a54128b3da9",
       "side": "left",
       "tick_values": {
        "type": null,
        "values": null
       }
      }
     },
     "7351c178fed1448e95dd886c5bc8d872": {
      "model_module": "bqplot",
      "model_module_version": "^0.3.6",
      "model_name": "LinesModel",
      "state": {
       "color": {
        "type": null,
        "values": null
       },
       "display_legend": false,
       "fill_colors": [],
       "labels": [
        "C1"
       ],
       "scales": {
        "x": "IPY_MODEL_f0b72dd0e54947dab163d71cfce6a64d",
        "y": "IPY_MODEL_f3ad51a47ace413d97979095756c1dfc"
       },
       "selected": [],
       "x": {
        "type": "float",
        "values": [
         -1,
         -0.8,
         -0.6,
         -0.3999999999999999,
         -0.19999999999999996,
         0,
         0.20000000000000018,
         0.40000000000000013,
         0.6000000000000001,
         0.8,
         1
        ]
       },
       "y": {
        "type": "float",
        "values": [
         0,
         -0.3362647413778738,
         -0.6761422386404448,
         -0.9690469881020407,
         -0.9731942987148601,
         -0.9267521851910099,
         -0.9731942987148594,
         -0.9690469881020416,
         -0.6761422386404452,
         -0.33626474137787454,
         0
        ]
       }
      }
     },
     "739d027db80247f794e7897e14f55853": {
      "model_module": "@jupyter-widgets/base",
      "model_module_version": "1.0.0",
      "model_name": "LayoutModel",
      "state": {}
     },
     "7468389f92cd4ea8bf7d8a20e5646c1a": {
      "model_module": "bqplot",
      "model_module_version": "^0.3.6",
      "model_name": "LinesModel",
      "state": {
       "color": {
        "type": null,
        "values": null
       },
       "display_legend": false,
       "fill_colors": [],
       "labels": [
        "C1"
       ],
       "scales": {
        "x": "IPY_MODEL_8a44704c5cf14fa8956042586aa360b5",
        "y": "IPY_MODEL_a4318b69cde24713b67f9e1bde5b6e96"
       },
       "selected": [],
       "x": {
        "type": "float",
        "values": [
         -1,
         -0.8,
         -0.6,
         -0.3999999999999999,
         -0.19999999999999996,
         0,
         0.20000000000000018,
         0.40000000000000013,
         0.6000000000000001,
         0.8,
         1
        ]
       },
       "y": {
        "type": "float",
        "values": [
         0.36787944117144233,
         0.5272924240430485,
         0.697676326071031,
         0.8521437889662115,
         0.9607894391523232,
         1,
         0.9607894391523232,
         0.8521437889662112,
         0.697676326071031,
         0.5272924240430485,
         0.36787944117144233
        ]
       }
      }
     },
     "74c032705cc149d28d61202dbdd5f3ee": {
      "model_module": "@jupyter-widgets/controls",
      "model_module_version": "1.1.0",
      "model_name": "SliderStyleModel",
      "state": {
       "description_width": ""
      }
     },
     "75209a0a69b5497eb035ad3024a5b04c": {
      "model_module": "bqplot",
      "model_module_version": "^0.3.6",
      "model_name": "LinesModel",
      "state": {
       "color": {
        "type": null,
        "values": null
       },
       "display_legend": false,
       "fill_colors": [],
       "labels": [
        "C1"
       ],
       "scales": {
        "x": "IPY_MODEL_12aa3d1ab857481ba38813fa0634d965",
        "y": "IPY_MODEL_1f9389ee222347d19600b8ec8e38e1c5"
       },
       "selected": [],
       "x": {
        "type": "float",
        "values": [
         -10,
         -9.8,
         -9.6,
         -9.4,
         -9.2,
         -9,
         -8.8,
         -8.6,
         -8.4,
         -8.2,
         -8,
         -7.8,
         -7.6,
         -7.4,
         -7.199999999999999,
         -7,
         -6.8,
         -6.6,
         -6.4,
         -6.199999999999999,
         -6,
         -5.8,
         -5.6,
         -5.3999999999999995,
         -5.199999999999999,
         -5,
         -4.8,
         -4.6,
         -4.3999999999999995,
         -4.199999999999999,
         -4,
         -3.8,
         -3.5999999999999996,
         -3.3999999999999995,
         -3.1999999999999993,
         -3,
         -2.8,
         -2.5999999999999996,
         -2.3999999999999995,
         -2.1999999999999993,
         -2,
         -1.799999999999999,
         -1.5999999999999996,
         -1.4000000000000004,
         -1.1999999999999993,
         -1,
         -0.7999999999999989,
         -0.5999999999999996,
         -0.3999999999999986,
         -0.1999999999999993,
         0,
         0.20000000000000107,
         0.40000000000000036,
         0.6000000000000014,
         0.8000000000000007,
         1,
         1.200000000000001,
         1.4000000000000004,
         1.6000000000000014,
         1.8000000000000007,
         2,
         2.200000000000001,
         2.4000000000000004,
         2.6000000000000014,
         2.8000000000000007,
         3,
         3.200000000000001,
         3.4000000000000004,
         3.6000000000000014,
         3.8000000000000007,
         4,
         4.200000000000001,
         4.4,
         4.600000000000001,
         4.800000000000001,
         5,
         5.200000000000001,
         5.4,
         5.600000000000001,
         5.800000000000001,
         6,
         6.199999999999999,
         6.400000000000002,
         6.600000000000001,
         6.800000000000001,
         7,
         7.199999999999999,
         7.400000000000002,
         7.600000000000001,
         7.800000000000001,
         8,
         8.2,
         8.400000000000002,
         8.600000000000001,
         8.8,
         9,
         9.200000000000003,
         9.400000000000002,
         9.600000000000001,
         9.8,
         10
        ]
       },
       "y": {
        "type": "float",
        "values": [
         0,
         -0.03862121700529175,
         -0.0683265228770687,
         -0.08152971377915963,
         -0.07343501066867675,
         -0.04345113997788541,
         0.003993314554229688,
         0.05988939910439672,
         0.11262988890880798,
         0.1510902077166758,
         0.16768245758552602,
         0.1601059078210718,
         0.13110194534505926,
         0.08655834937487428,
         0.03315096277141305,
         -0.023213721070608706,
         -0.07764088698054694,
         -0.1256853046946198,
         -0.1630301025842864,
         -0.18610812876873517,
         -0.19344873262017126,
         -0.18678442917048532,
         -0.17095282325483652,
         -0.15234370373462092,
         -0.13650947200751506,
         -0.12599851344097512,
         -0.1193145960052,
         -0.11138876287330746,
         -0.09539714377839914,
         -0.06532749901525037,
         -0.018423426960801237,
         0.04340886862253868,
         0.1138456604351461,
         0.18403154416679612,
         0.24540398359686577,
         0.2923551422740438,
         0.32371912561064065,
         0.3425729390895267,
         0.3544977097011639,
         0.365004787740574,
         0.3771142380860333,
         0.3900024577999588,
         0.3992373978483368,
         0.39853319635643025,
         0.3823958103305287,
         0.34870198583754153,
         0.3002673054005367,
         0.24480042301087468,
         0.19318612565922177,
         0.15660392678251878,
         0.14338447348234107,
         0.156603926782517,
         0.19318612565926174,
         0.24480042301083815,
         0.30026730540053004,
         0.3487019858375149,
         0.3823958103305092,
         0.39853319635646756,
         0.3992373978482888,
         0.390002457799941,
         0.3771142380860404,
         0.3650047877405811,
         0.354497709701171,
         0.34257293908951425,
         0.32371912561061933,
         0.2923551422740367,
         0.24540398359691196,
         0.18403154416677836,
         0.11384566043518518,
         0.0434088686225671,
         -0.018423426960826106,
         -0.06532749901524681,
         -0.09539714377839204,
         -0.11138876287328081,
         -0.1193145960052231,
         -0.12599851344094404,
         -0.1365094720075266,
         -0.15234370373459427,
         -0.1709528232548707,
         -0.1867844291704665,
         -0.19344873262015327,
         -0.18610812876868055,
         -0.16303010258427497,
         -0.12568530469461026,
         -0.0776408869805536,
         -0.023213721070606486,
         0.03315096277141916,
         0.08655834937484863,
         0.13110194534510855,
         0.16010590782109135,
         0.16768245758553046,
         0.1510902077166385,
         0.11262988890882752,
         0.059889399104391394,
         0.0039933145542287996,
         -0.04345113997788408,
         -0.07343501066868074,
         -0.08152971377917274,
         -0.06832652287705993,
         -0.038621217005259945,
         0
        ]
       }
      }
     },
     "7543d960d25d44c2a6f160630fdd811e": {
      "model_module": "@jupyter-widgets/controls",
      "model_module_version": "1.1.0",
      "model_name": "VBoxModel",
      "state": {
       "_dom_classes": [
        "widget-interact"
       ],
       "children": [
        "IPY_MODEL_ff199d66caaf46ef8e1e0922804ac3bd",
        "IPY_MODEL_78b085b455574f7d821538600bdec0f0"
       ],
       "layout": "IPY_MODEL_c8d5fb93304d46b8bbfd2c992d952836"
      }
     },
     "769cb199803144169afe8c45f1cc8745": {
      "model_module": "@jupyter-widgets/controls",
      "model_module_version": "1.1.0",
      "model_name": "LinkModel",
      "state": {
       "source": [
        "IPY_MODEL_4c991109b63b416fb94c9153257c954d",
        "value"
       ],
       "target": [
        "IPY_MODEL_49ce079bd5474d74ac9721b0554b9161",
        "value"
       ]
      }
     },
     "76eb831204f74dec840d4c39a2ccadd0": {
      "model_module": "bqplot",
      "model_module_version": "^0.3.6",
      "model_name": "FigureModel",
      "state": {
       "_dom_classes": [],
       "axes": [
        "IPY_MODEL_c2efdf8265a54f51bf3165fb34df01ed",
        "IPY_MODEL_439865148c1b47c59466c435f78a1361"
       ],
       "layout": "IPY_MODEL_033d6a7aa86e46deb29fef63065ed38b",
       "max_aspect_ratio": 6,
       "scale_x": "IPY_MODEL_5e284a828fed444d8bfffe3fbfc70e67",
       "scale_y": "IPY_MODEL_419635e3851f4b1983d0ecb596750c22"
      }
     },
     "772797b6322e4d70a7d6c41017e7bb3a": {
      "model_module": "@jupyter-widgets/base",
      "model_module_version": "1.0.0",
      "model_name": "LayoutModel",
      "state": {}
     },
     "783350b0e7514be19779f3dd1ac88938": {
      "model_module": "@jupyter-widgets/base",
      "model_module_version": "1.0.0",
      "model_name": "LayoutModel",
      "state": {}
     },
     "784a3efc6c0f4439b12f43243dfcebb0": {
      "model_module": "@jupyter-widgets/base",
      "model_module_version": "1.0.0",
      "model_name": "LayoutModel",
      "state": {}
     },
     "78b085b455574f7d821538600bdec0f0": {
      "model_module": "@jupyter-widgets/output",
      "model_module_version": "1.0.0",
      "model_name": "OutputModel",
      "state": {
       "layout": "IPY_MODEL_be2cf52363394a72a6d89d1d945e6164"
      }
     },
     "78e2a65eb349420eac865bf4e88bf80c": {
      "model_module": "@jupyter-widgets/controls",
      "model_module_version": "1.1.0",
      "model_name": "VBoxModel",
      "state": {
       "_dom_classes": [
        "widget-interact"
       ],
       "children": [
        "IPY_MODEL_c45bb960a8f4497db589604085c130cf",
        "IPY_MODEL_ea74de72a00d42808751a9d40e582eb9"
       ],
       "layout": "IPY_MODEL_41b513c3d7eb47bbbfe819861cf780e9"
      }
     },
     "794b2019baf84e45abdfc869d9076ab5": {
      "model_module": "@jupyter-widgets/output",
      "model_module_version": "1.0.0",
      "model_name": "OutputModel",
      "state": {
       "layout": "IPY_MODEL_7c9a090a8464418ca550bd57cfdfbd84"
      }
     },
     "7a574cdea5e44243aa584c2e392ca74f": {
      "model_module": "@jupyter-widgets/base",
      "model_module_version": "1.0.0",
      "model_name": "LayoutModel",
      "state": {}
     },
     "7a6bc51c159e403d8f53d1fb538c7556": {
      "model_module": "bqplot",
      "model_module_version": "^0.3.6",
      "model_name": "LinearScaleModel",
      "state": {
       "allow_padding": false,
       "max": 1,
       "min": 0,
       "stabilized": false
      }
     },
     "7a705823623a4678bc737d3e8d206668": {
      "model_module": "@jupyter-widgets/base",
      "model_module_version": "1.0.0",
      "model_name": "LayoutModel",
      "state": {}
     },
     "7bd0da95e3f74dd293de9cd04682d161": {
      "model_module": "@jupyter-widgets/controls",
      "model_module_version": "1.1.0",
      "model_name": "SliderStyleModel",
      "state": {
       "description_width": ""
      }
     },
     "7c08484af40b4db981517c80f67e8572": {
      "model_module": "@jupyter-widgets/base",
      "model_module_version": "1.0.0",
      "model_name": "LayoutModel",
      "state": {}
     },
     "7c7b7d5d774442ea9f7df4c408d8147e": {
      "model_module": "@jupyter-widgets/base",
      "model_module_version": "1.0.0",
      "model_name": "LayoutModel",
      "state": {}
     },
     "7c9a090a8464418ca550bd57cfdfbd84": {
      "model_module": "@jupyter-widgets/base",
      "model_module_version": "1.0.0",
      "model_name": "LayoutModel",
      "state": {}
     },
     "7ca2e9802a3647349c1f6cfc753a7921": {
      "model_module": "@jupyter-widgets/base",
      "model_module_version": "1.0.0",
      "model_name": "LayoutModel",
      "state": {}
     },
     "7cfac4987021475ba9491239ced37660": {
      "model_module": "@jupyter-widgets/base",
      "model_module_version": "1.0.0",
      "model_name": "LayoutModel",
      "state": {}
     },
     "7d534eb2f4894a05a7ece7fc01a3433e": {
      "model_module": "@jupyter-widgets/controls",
      "model_module_version": "1.1.0",
      "model_name": "SliderStyleModel",
      "state": {
       "description_width": ""
      }
     },
     "7db0421f40564f9b84c22372afa1314e": {
      "model_module": "@jupyter-widgets/base",
      "model_module_version": "1.0.0",
      "model_name": "LayoutModel",
      "state": {}
     },
     "7e02c5c2ca354358ad2070eab1b2aae1": {
      "model_module": "@jupyter-widgets/controls",
      "model_module_version": "1.1.0",
      "model_name": "DescriptionStyleModel",
      "state": {
       "description_width": ""
      }
     },
     "7e5c36527a184ebeaa718b7234add82d": {
      "model_module": "@jupyter-widgets/base",
      "model_module_version": "1.0.0",
      "model_name": "LayoutModel",
      "state": {}
     },
     "7f126e71d42e4ada887bdcf40c2d503c": {
      "model_module": "bqplot",
      "model_module_version": "^0.3.6",
      "model_name": "FigureModel",
      "state": {
       "_dom_classes": [],
       "axes": [
        "IPY_MODEL_35ceacaac0a64606ad6caf863ea47f5e",
        "IPY_MODEL_2f006c3bd1004517a88d390c5aac65ef"
       ],
       "layout": "IPY_MODEL_9fa66fbc868e4c19b8d7270072a9b9e0",
       "marks": [
        "IPY_MODEL_8c6fddd3ecdb4088afde88ce6669a910"
       ],
       "max_aspect_ratio": 6,
       "scale_x": "IPY_MODEL_eabe63f98962493884edb0c74ca4ffe5",
       "scale_y": "IPY_MODEL_72e69792b913486d8889a8506c4a032e"
      }
     },
     "808316dc92ee499a9563d1e4ce1f92af": {
      "model_module": "bqplot",
      "model_module_version": "^0.3.6",
      "model_name": "FigureModel",
      "state": {
       "_dom_classes": [],
       "layout": "IPY_MODEL_9c8c5990d3b24e1b8cbe6aec9809b052",
       "max_aspect_ratio": 6,
       "scale_x": "IPY_MODEL_d40cfb47be8549fc87960e6b468c297d",
       "scale_y": "IPY_MODEL_706a60edafdc48719c4d2cf4b41a277c"
      }
     },
     "81133083a62943d384c04ce82d4ec317": {
      "model_module": "bqplot",
      "model_module_version": "^0.3.6",
      "model_name": "LinearScaleModel",
      "state": {
       "max": 1,
       "min": -1,
       "stabilized": false
      }
     },
     "82c411d923f1432fa6524adb4b9e5702": {
      "model_module": "@jupyter-widgets/base",
      "model_module_version": "1.0.0",
      "model_name": "LayoutModel",
      "state": {}
     },
     "82e17d84445646fe9c791dd0c6a2dd40": {
      "model_module": "@jupyter-widgets/controls",
      "model_module_version": "1.1.0",
      "model_name": "VBoxModel",
      "state": {
       "_dom_classes": [
        "widget-interact"
       ],
       "children": [
        "IPY_MODEL_2d8bae946daa47ae87d11d6b3423244c",
        "IPY_MODEL_3faedb8a495e45cb92487a9ed2d3a192"
       ],
       "layout": "IPY_MODEL_fa68761432264a328d3e3e39b89f9e16"
      }
     },
     "831b1748d04447da9b6c5c2216270a26": {
      "model_module": "@jupyter-widgets/output",
      "model_module_version": "1.0.0",
      "model_name": "OutputModel",
      "state": {
       "layout": "IPY_MODEL_e650c337bd7b42f5aec4c2b6ccec2cfa",
       "outputs": [
        {
         "ename": "AttributeError",
         "evalue": "module 'bqplot' has no attribute 'pyplot'",
         "output_type": "error",
         "traceback": [
          "\u001b[0;31m---------------------------------------------------------------------------\u001b[0m",
          "\u001b[0;31mAttributeError\u001b[0m                            Traceback (most recent call last)",
          "\u001b[0;32m/opt/local/Library/Frameworks/Python.framework/Versions/3.6/lib/python3.6/site-packages/ipywidgets/widgets/interaction.py\u001b[0m in \u001b[0;36mupdate\u001b[0;34m(self, *args)\u001b[0m\n\u001b[1;32m    248\u001b[0m                     \u001b[0mvalue\u001b[0m \u001b[0;34m=\u001b[0m \u001b[0mwidget\u001b[0m\u001b[0;34m.\u001b[0m\u001b[0mget_interact_value\u001b[0m\u001b[0;34m(\u001b[0m\u001b[0;34m)\u001b[0m\u001b[0;34m\u001b[0m\u001b[0m\n\u001b[1;32m    249\u001b[0m                     \u001b[0mself\u001b[0m\u001b[0;34m.\u001b[0m\u001b[0mkwargs\u001b[0m\u001b[0;34m[\u001b[0m\u001b[0mwidget\u001b[0m\u001b[0;34m.\u001b[0m\u001b[0m_kwarg\u001b[0m\u001b[0;34m]\u001b[0m \u001b[0;34m=\u001b[0m \u001b[0mvalue\u001b[0m\u001b[0;34m\u001b[0m\u001b[0m\n\u001b[0;32m--> 250\u001b[0;31m                 \u001b[0mself\u001b[0m\u001b[0;34m.\u001b[0m\u001b[0mresult\u001b[0m \u001b[0;34m=\u001b[0m \u001b[0mself\u001b[0m\u001b[0;34m.\u001b[0m\u001b[0mf\u001b[0m\u001b[0;34m(\u001b[0m\u001b[0;34m**\u001b[0m\u001b[0mself\u001b[0m\u001b[0;34m.\u001b[0m\u001b[0mkwargs\u001b[0m\u001b[0;34m)\u001b[0m\u001b[0;34m\u001b[0m\u001b[0m\n\u001b[0m\u001b[1;32m    251\u001b[0m                 \u001b[0mshow_inline_matplotlib_plots\u001b[0m\u001b[0;34m(\u001b[0m\u001b[0;34m)\u001b[0m\u001b[0;34m\u001b[0m\u001b[0m\n\u001b[1;32m    252\u001b[0m                 \u001b[0;32mif\u001b[0m \u001b[0mself\u001b[0m\u001b[0;34m.\u001b[0m\u001b[0mauto_display\u001b[0m \u001b[0;32mand\u001b[0m \u001b[0mself\u001b[0m\u001b[0;34m.\u001b[0m\u001b[0mresult\u001b[0m \u001b[0;32mis\u001b[0m \u001b[0;32mnot\u001b[0m \u001b[0;32mNone\u001b[0m\u001b[0;34m:\u001b[0m\u001b[0;34m\u001b[0m\u001b[0m\n",
          "\u001b[0;32m<ipython-input-6-d06d0b5b1874>\u001b[0m in \u001b[0;36mg\u001b[0;34m(i)\u001b[0m\n\u001b[1;32m     46\u001b[0m \u001b[0;32mimport\u001b[0m \u001b[0mbqplot\u001b[0m\u001b[0;34m\u001b[0m\u001b[0m\n\u001b[1;32m     47\u001b[0m \u001b[0;32mdef\u001b[0m \u001b[0mg\u001b[0m\u001b[0;34m(\u001b[0m\u001b[0mi\u001b[0m\u001b[0;34m)\u001b[0m\u001b[0;34m:\u001b[0m\u001b[0;34m\u001b[0m\u001b[0m\n\u001b[0;32m---> 48\u001b[0;31m     \u001b[0mbqplot\u001b[0m\u001b[0;34m.\u001b[0m\u001b[0mpyplot\u001b[0m\u001b[0;34m.\u001b[0m\u001b[0mPlot\u001b[0m\u001b[0;34m(\u001b[0m\u001b[0mx\u001b[0m\u001b[0;34m,\u001b[0m\u001b[0mY\u001b[0m\u001b[0;34m[\u001b[0m\u001b[0mi\u001b[0m\u001b[0;34m]\u001b[0m\u001b[0;34m[\u001b[0m\u001b[0;34m:\u001b[0m\u001b[0mN\u001b[0m\u001b[0;34m]\u001b[0m\u001b[0;34m)\u001b[0m\u001b[0;34m\u001b[0m\u001b[0m\n\u001b[0m\u001b[1;32m     49\u001b[0m \u001b[0;34m\u001b[0m\u001b[0m\n\u001b[1;32m     50\u001b[0m \u001b[0;32mimport\u001b[0m \u001b[0mipywidgets\u001b[0m\u001b[0;34m\u001b[0m\u001b[0m\n",
          "\u001b[0;31mAttributeError\u001b[0m: module 'bqplot' has no attribute 'pyplot'"
         ]
        }
       ]
      }
     },
     "8448266285d04ce09a8c2e167340b887": {
      "model_module": "@jupyter-widgets/base",
      "model_module_version": "1.0.0",
      "model_name": "LayoutModel",
      "state": {}
     },
     "84d495e49f3e492385576a9751a0c6b7": {
      "model_module": "@jupyter-widgets/controls",
      "model_module_version": "1.1.0",
      "model_name": "IntSliderModel",
      "state": {
       "description": "i",
       "layout": "IPY_MODEL_5c040bb33ffe4b279bb08e907697f2e1",
       "max": 20,
       "style": "IPY_MODEL_7bd0da95e3f74dd293de9cd04682d161",
       "value": 20
      }
     },
     "85200edb3125422d988a7c2a5127e194": {
      "model_module": "@jupyter-widgets/controls",
      "model_module_version": "1.1.0",
      "model_name": "VBoxModel",
      "state": {
       "children": [
        "IPY_MODEL_6c324b85f272470d94fe157164be1fe2",
        "IPY_MODEL_36693dd93bc74c188d21b7a47a7b1620"
       ],
       "layout": "IPY_MODEL_07572f8587434a90b48b8162d74fc104"
      }
     },
     "856f528f8569466e964eb96a503bb93a": {
      "model_module": "@jupyter-widgets/base",
      "model_module_version": "1.0.0",
      "model_name": "LayoutModel",
      "state": {}
     },
     "864a8f12cb44453799915c8d9aaee0c6": {
      "model_module": "bqplot",
      "model_module_version": "^0.3.6",
      "model_name": "FigureModel",
      "state": {
       "_dom_classes": [],
       "axes": [
        "IPY_MODEL_075103f1a2164ecf97094aff707ba567",
        "IPY_MODEL_ee961eec6e194c7bab72ef39ab403446"
       ],
       "layout": "IPY_MODEL_6ca5fa4e2c24466f84680edafffa062c",
       "marks": [
        "IPY_MODEL_923b5ef98ebe40569a557c39a09320b3"
       ],
       "max_aspect_ratio": 6,
       "scale_x": "IPY_MODEL_a593671c3b7b4eefbe52231f4f16bece",
       "scale_y": "IPY_MODEL_96284f43644a4ea6892786c1fb53a8c3"
      }
     },
     "86ccdfcf5341407bb4829c7fd4f4c248": {
      "model_module": "@jupyter-widgets/base",
      "model_module_version": "1.0.0",
      "model_name": "LayoutModel",
      "state": {}
     },
     "86fb8011249c43948691b30ed039d892": {
      "model_module": "bqplot",
      "model_module_version": "^0.3.6",
      "model_name": "LinesModel",
      "state": {
       "color": {
        "type": null,
        "values": null
       },
       "display_legend": false,
       "fill_colors": [],
       "labels": [
        "C1"
       ],
       "scales": {
        "x": "IPY_MODEL_1cbf3eaa6e5b4207b10fb06004ecb154",
        "y": "IPY_MODEL_9c1339ef8a9d4b45a7756468d2a1e561"
       },
       "selected": [],
       "x": {
        "type": "float",
        "values": [
         -1,
         -0.8,
         -0.6,
         -0.3999999999999999,
         -0.19999999999999996,
         0,
         0.20000000000000018,
         0.40000000000000013,
         0.6000000000000001,
         0.8,
         1
        ]
       },
       "y": {
        "type": "float",
        "values": [
         0,
         0.3530747282913117,
         0.6188080099666193,
         0.7957058732638276,
         1.005916701617038,
         1.1903728120147854,
         1.0059167016170372,
         0.7957058732638274,
         0.6188080099666193,
         0.35307472829131203,
         0
        ]
       }
      }
     },
     "870ba4164bc347b698fbaff512aad854": {
      "model_module": "bqplot",
      "model_module_version": "^0.3.6",
      "model_name": "FigureModel",
      "state": {
       "_dom_classes": [],
       "axes": [
        "IPY_MODEL_a38b05b8977b4bc1a6b01dbf71b45b94",
        "IPY_MODEL_de1646c3effd421795135c2c46dacce6"
       ],
       "layout": "IPY_MODEL_c566c32405ae466ba282565d6bbe8bd9",
       "max_aspect_ratio": 6,
       "scale_x": "IPY_MODEL_b3454e559abc400493dc6b63d0bb105d",
       "scale_y": "IPY_MODEL_10e5f8aa1c0e4e1cbd3dbf30a05cb83b"
      }
     },
     "876bd79aed2042d5b8500bfc30a95b7e": {
      "model_module": "@jupyter-widgets/base",
      "model_module_version": "1.0.0",
      "model_name": "LayoutModel",
      "state": {}
     },
     "87933f14b1654404af8f98ffcc135964": {
      "model_module": "bqplot",
      "model_module_version": "^0.3.6",
      "model_name": "AxisModel",
      "state": {
       "label": "Value2",
       "scale": "IPY_MODEL_58273dad3c0e4b598a486885aa9456cf",
       "side": "bottom",
       "tick_values": {
        "type": null,
        "values": null
       }
      }
     },
     "880e3bb047914a7ebd713c02295eff49": {
      "model_module": "@jupyter-widgets/base",
      "model_module_version": "1.0.0",
      "model_name": "LayoutModel",
      "state": {}
     },
     "881f320c3a784fa283ab8d43e1ad0689": {
      "model_module": "bqplot",
      "model_module_version": "^0.3.6",
      "model_name": "LinearScaleModel",
      "state": {
       "allow_padding": false,
       "max": 1,
       "min": 0,
       "stabilized": false
      }
     },
     "886bb3e31ada4c86b01f1fdf7df8e719": {
      "model_module": "@jupyter-widgets/base",
      "model_module_version": "1.0.0",
      "model_name": "LayoutModel",
      "state": {
       "min_width": "125px"
      }
     },
     "888265035b09477bb3469bb47940ef7c": {
      "model_module": "@jupyter-widgets/base",
      "model_module_version": "1.0.0",
      "model_name": "LayoutModel",
      "state": {}
     },
     "8999671ab922453c965f20aa6f663f3d": {
      "model_module": "@jupyter-widgets/base",
      "model_module_version": "1.0.0",
      "model_name": "LayoutModel",
      "state": {}
     },
     "89a736e32f6546f585d7cd68d3f7ceaa": {
      "model_module": "bqplot",
      "model_module_version": "^0.3.6",
      "model_name": "LinearScaleModel",
      "state": {
       "allow_padding": false,
       "max": 1,
       "min": 0,
       "stabilized": false
      }
     },
     "89af3c677b514d7caf786c83159b4b50": {
      "model_module": "bqplot",
      "model_module_version": "^0.3.6",
      "model_name": "LinesModel",
      "state": {
       "color": {
        "type": null,
        "values": null
       },
       "display_legend": false,
       "fill_colors": [],
       "labels": [
        "C1"
       ],
       "scales": {
        "x": "IPY_MODEL_f0b72dd0e54947dab163d71cfce6a64d",
        "y": "IPY_MODEL_f3ad51a47ace413d97979095756c1dfc"
       },
       "selected": [],
       "x": {
        "type": "float",
        "values": [
         -1,
         -0.8,
         -0.6,
         -0.3999999999999999,
         -0.19999999999999996,
         0,
         0.20000000000000018,
         0.40000000000000013,
         0.6000000000000001,
         0.8,
         1
        ]
       },
       "y": {
        "type": "float",
        "values": [
         0,
         0.40327313690551797,
         0.6673776472759797,
         0.826203881599038,
         0.927092299162471,
         0.9626272461049317,
         0.9270922991624708,
         0.8262038815990379,
         0.6673776472759797,
         0.4032731369055179,
         0
        ]
       }
      }
     },
     "89d1efe2a48e4cb48d193e030cbd929e": {
      "model_module": "bqplot",
      "model_module_version": "^0.3.6",
      "model_name": "AxisModel",
      "state": {
       "label": "u",
       "orientation": "vertical",
       "scale": "IPY_MODEL_a4318b69cde24713b67f9e1bde5b6e96",
       "side": "left",
       "tick_values": {
        "type": null,
        "values": null
       }
      }
     },
     "8a44704c5cf14fa8956042586aa360b5": {
      "model_module": "bqplot",
      "model_module_version": "^0.3.6",
      "model_name": "LinearScaleModel",
      "state": {
       "max": 1,
       "min": -1,
       "stabilized": false
      }
     },
     "8a702cb814944ae3bef5db664fcad388": {
      "model_module": "@jupyter-widgets/controls",
      "model_module_version": "1.1.0",
      "model_name": "DescriptionStyleModel",
      "state": {
       "description_width": ""
      }
     },
     "8a995b52e2574bfe8e579e42d867e166": {
      "model_module": "@jupyter-widgets/base",
      "model_module_version": "1.0.0",
      "model_name": "LayoutModel",
      "state": {}
     },
     "8b046de4667f4b9ba29d9bb3745dbf39": {
      "model_module": "@jupyter-widgets/base",
      "model_module_version": "1.0.0",
      "model_name": "LayoutModel",
      "state": {}
     },
     "8b0e99d10833455684d642ef72fce2e3": {
      "model_module": "bqplot",
      "model_module_version": "^0.3.6",
      "model_name": "FigureModel",
      "state": {
       "_dom_classes": [],
       "axes": [
        "IPY_MODEL_e1ceafd2053746f78fb2b083673faaf2",
        "IPY_MODEL_7342ad8e46f0487aa1df06bd6062d946"
       ],
       "layout": "IPY_MODEL_c1c4182dba99448e9b9316f5bb9424b5",
       "max_aspect_ratio": 6,
       "scale_x": "IPY_MODEL_2294f55593d842818bf6b0faf010e967",
       "scale_y": "IPY_MODEL_29c44d7cd43e47db8276d58857ac9619"
      }
     },
     "8b401d7fe2004a0d90a9562b35a73edc": {
      "model_module": "bqplot",
      "model_module_version": "^0.3.6",
      "model_name": "LinesModel",
      "state": {
       "color": {
        "type": null,
        "values": null
       },
       "display_legend": false,
       "fill_colors": [],
       "labels": [
        "C1"
       ],
       "scales": {
        "x": "IPY_MODEL_f0b72dd0e54947dab163d71cfce6a64d",
        "y": "IPY_MODEL_f3ad51a47ace413d97979095756c1dfc"
       },
       "selected": [],
       "x": {
        "type": "float",
        "values": [
         -1,
         -0.8,
         -0.6,
         -0.3999999999999999,
         -0.19999999999999996,
         0,
         0.20000000000000018,
         0.40000000000000013,
         0.6000000000000001,
         0.8,
         1
        ]
       },
       "y": {
        "type": "float",
        "values": [
         0,
         -0.3362647413778738,
         -0.6761422386404448,
         -0.9690469881020407,
         -0.9731942987148601,
         -0.9267521851910099,
         -0.9731942987148594,
         -0.9690469881020416,
         -0.6761422386404452,
         -0.33626474137787454,
         0
        ]
       }
      }
     },
     "8b4aa167700a4d2ca89bb43d0f09155d": {
      "model_module": "@jupyter-widgets/controls",
      "model_module_version": "1.1.0",
      "model_name": "PlayModel",
      "state": {
       "description": "Press play",
       "layout": "IPY_MODEL_39f8e66ccbba405798bd8618cc397d15",
       "max": 20,
       "style": "IPY_MODEL_8a702cb814944ae3bef5db664fcad388"
      }
     },
     "8b9d614c7d1645ec9f6c40b55b81ef21": {
      "model_module": "@jupyter-widgets/controls",
      "model_module_version": "1.1.0",
      "model_name": "IntSliderModel",
      "state": {
       "description": "i",
       "layout": "IPY_MODEL_2db1ce2a201040ba97bb521b8e61c7a6",
       "max": 20,
       "style": "IPY_MODEL_d72eed88248a47f7889faab64545f3a7",
       "value": 10
      }
     },
     "8bd7ac3a1d0c45309091a3118a99ca91": {
      "model_module": "@jupyter-widgets/controls",
      "model_module_version": "1.1.0",
      "model_name": "VBoxModel",
      "state": {
       "children": [
        "IPY_MODEL_725fb47aff6549dbaa28a19d6029e18a",
        "IPY_MODEL_3bb30080794844928c594b7b98fa4343"
       ],
       "layout": "IPY_MODEL_af47e958782d49d7bf613a39d85c3882"
      }
     },
     "8c6fddd3ecdb4088afde88ce6669a910": {
      "model_module": "bqplot",
      "model_module_version": "^0.3.6",
      "model_name": "LinesModel",
      "state": {
       "color": {
        "type": null,
        "values": null
       },
       "display_legend": false,
       "fill_colors": [],
       "labels": [
        "C1"
       ],
       "scales": {
        "x": "IPY_MODEL_a694b1bcde4f4197b8e41ad6d788bb81",
        "y": "IPY_MODEL_9bcfa59b122f434ca8a2e3796f494e33"
       },
       "selected": [],
       "x": {
        "type": "float",
        "values": [
         -10,
         -9.8,
         -9.6,
         -9.4,
         -9.2,
         -9,
         -8.8,
         -8.6,
         -8.4,
         -8.2,
         -8,
         -7.8,
         -7.6,
         -7.4,
         -7.199999999999999,
         -7,
         -6.8,
         -6.6,
         -6.4,
         -6.199999999999999,
         -6,
         -5.8,
         -5.6,
         -5.3999999999999995,
         -5.199999999999999,
         -5,
         -4.8,
         -4.6,
         -4.3999999999999995,
         -4.199999999999999,
         -4,
         -3.8,
         -3.5999999999999996,
         -3.3999999999999995,
         -3.1999999999999993,
         -3,
         -2.8,
         -2.5999999999999996,
         -2.3999999999999995,
         -2.1999999999999993,
         -2,
         -1.799999999999999,
         -1.5999999999999996,
         -1.4000000000000004,
         -1.1999999999999993,
         -1,
         -0.7999999999999989,
         -0.5999999999999996,
         -0.3999999999999986,
         -0.1999999999999993,
         0,
         0.20000000000000107,
         0.40000000000000036,
         0.6000000000000014,
         0.8000000000000007,
         1,
         1.200000000000001,
         1.4000000000000004,
         1.6000000000000014,
         1.8000000000000007,
         2,
         2.200000000000001,
         2.4000000000000004,
         2.6000000000000014,
         2.8000000000000007,
         3,
         3.200000000000001,
         3.4000000000000004,
         3.6000000000000014,
         3.8000000000000007,
         4,
         4.200000000000001,
         4.4,
         4.600000000000001,
         4.800000000000001,
         5,
         5.200000000000001,
         5.4,
         5.600000000000001,
         5.800000000000001,
         6,
         6.199999999999999,
         6.400000000000002,
         6.600000000000001,
         6.800000000000001,
         7,
         7.199999999999999,
         7.400000000000002,
         7.600000000000001,
         7.800000000000001,
         8,
         8.2,
         8.400000000000002,
         8.600000000000001,
         8.8,
         9,
         9.200000000000003,
         9.400000000000002,
         9.600000000000001,
         9.8,
         10
        ]
       },
       "y": {
        "type": "float",
        "values": [
         0,
         -0.03862121700529175,
         -0.0683265228770687,
         -0.08152971377915963,
         -0.07343501066867675,
         -0.04345113997788541,
         0.003993314554229688,
         0.05988939910439672,
         0.11262988890880798,
         0.1510902077166758,
         0.16768245758552602,
         0.1601059078210718,
         0.13110194534505926,
         0.08655834937487428,
         0.03315096277141305,
         -0.023213721070608706,
         -0.07764088698054694,
         -0.1256853046946198,
         -0.1630301025842864,
         -0.18610812876873517,
         -0.19344873262017126,
         -0.18678442917048532,
         -0.17095282325483652,
         -0.15234370373462092,
         -0.13650947200751506,
         -0.12599851344097512,
         -0.1193145960052,
         -0.11138876287330746,
         -0.09539714377839914,
         -0.06532749901525037,
         -0.018423426960801237,
         0.04340886862253868,
         0.1138456604351461,
         0.18403154416679612,
         0.24540398359686577,
         0.2923551422740438,
         0.32371912561064065,
         0.3425729390895267,
         0.3544977097011639,
         0.365004787740574,
         0.3771142380860333,
         0.3900024577999588,
         0.3992373978483368,
         0.39853319635643025,
         0.3823958103305287,
         0.34870198583754153,
         0.3002673054005367,
         0.24480042301087468,
         0.19318612565922177,
         0.15660392678251878,
         0.14338447348234107,
         0.156603926782517,
         0.19318612565926174,
         0.24480042301083815,
         0.30026730540053004,
         0.3487019858375149,
         0.3823958103305092,
         0.39853319635646756,
         0.3992373978482888,
         0.390002457799941,
         0.3771142380860404,
         0.3650047877405811,
         0.354497709701171,
         0.34257293908951425,
         0.32371912561061933,
         0.2923551422740367,
         0.24540398359691196,
         0.18403154416677836,
         0.11384566043518518,
         0.0434088686225671,
         -0.018423426960826106,
         -0.06532749901524681,
         -0.09539714377839204,
         -0.11138876287328081,
         -0.1193145960052231,
         -0.12599851344094404,
         -0.1365094720075266,
         -0.15234370373459427,
         -0.1709528232548707,
         -0.1867844291704665,
         -0.19344873262015327,
         -0.18610812876868055,
         -0.16303010258427497,
         -0.12568530469461026,
         -0.0776408869805536,
         -0.023213721070606486,
         0.03315096277141916,
         0.08655834937484863,
         0.13110194534510855,
         0.16010590782109135,
         0.16768245758553046,
         0.1510902077166385,
         0.11262988890882752,
         0.059889399104391394,
         0.0039933145542287996,
         -0.04345113997788408,
         -0.07343501066868074,
         -0.08152971377917274,
         -0.06832652287705993,
         -0.038621217005259945,
         0
        ]
       }
      }
     },
     "8c8e9b02092c471885291a82269f6677": {
      "model_module": "@jupyter-widgets/base",
      "model_module_version": "1.0.0",
      "model_name": "LayoutModel",
      "state": {}
     },
     "8c9b7dad98e049ca9b77fe8735bc03cd": {
      "model_module": "bqplot",
      "model_module_version": "^0.3.6",
      "model_name": "FigureModel",
      "state": {
       "_dom_classes": [],
       "axes": [
        "IPY_MODEL_34cc6b77ba9e4272833d6967d4d412c0",
        "IPY_MODEL_a50eda91afcc45908c58bb8280fe78d7"
       ],
       "layout": "IPY_MODEL_49f93e0c40794649b6ac69716dbfb82d",
       "marks": [
        "IPY_MODEL_5a2333946d4c40728edce56b7ed7d078"
       ],
       "max_aspect_ratio": 6,
       "scale_x": "IPY_MODEL_7a6bc51c159e403d8f53d1fb538c7556",
       "scale_y": "IPY_MODEL_881f320c3a784fa283ab8d43e1ad0689"
      }
     },
     "8cbccc2aed6e433da74509d6cc79b756": {
      "model_module": "@jupyter-widgets/controls",
      "model_module_version": "1.1.0",
      "model_name": "HBoxModel",
      "state": {
       "children": [
        "IPY_MODEL_49b05b3032334404aaae832189fa98e3",
        "IPY_MODEL_c2645b7c918c4ceb95ba4c59bd1c9c76"
       ],
       "layout": "IPY_MODEL_8448266285d04ce09a8c2e167340b887"
      }
     },
     "8d83bd57eaee460281ebc888097634b3": {
      "model_module": "@jupyter-widgets/controls",
      "model_module_version": "1.1.0",
      "model_name": "HBoxModel",
      "state": {
       "children": [
        "IPY_MODEL_f148140c95664c1595d0d482ed460b19",
        "IPY_MODEL_2bd7316141ec4066920c1605b2e0ee70"
       ],
       "layout": "IPY_MODEL_8b046de4667f4b9ba29d9bb3745dbf39"
      }
     },
     "8dc9c158af9641c0a63661a2f2bfc7f3": {
      "model_module": "bqplot",
      "model_module_version": "^0.3.6",
      "model_name": "LinearScaleModel",
      "state": {
       "max": 1,
       "min": -1,
       "stabilized": false
      }
     },
     "8dfa872228f547dfa0b0bfe57956c550": {
      "model_module": "@jupyter-widgets/controls",
      "model_module_version": "1.1.0",
      "model_name": "DescriptionStyleModel",
      "state": {
       "description_width": ""
      }
     },
     "8e3d7cef04e74eaf896fe1742c1d00cd": {
      "model_module": "bqplot",
      "model_module_version": "^0.3.6",
      "model_name": "LinearScaleModel",
      "state": {
       "allow_padding": false,
       "max": 1,
       "min": 0,
       "stabilized": false
      }
     },
     "8f0b0beb59944d45bd676605a3d1396c": {
      "model_module": "@jupyter-widgets/output",
      "model_module_version": "1.0.0",
      "model_name": "OutputModel",
      "state": {
       "layout": "IPY_MODEL_6f40b21a1bce4e68beb055b4d49a2792",
       "outputs": [
        {
         "data": {
          "text/plain": "Lines(colors=['#1f77b4', '#ff7f0e', '#2ca02c', '#d62728', '#9467bd', '#8c564b', '#e377c2', '#7f7f7f', '#bcbd22', '#17becf'], interactions={'hover': 'tooltip'}, scales={'x': LinearScale(), 'y': LinearScale()}, scales_metadata={'x': {'orientation': 'horizontal', 'dimension': 'x'}, 'y': {'orientation': 'vertical', 'dimension': 'y'}, 'color': {'dimension': 'color'}}, tooltip_style={'opacity': 0.9}, x=array([-1. , -0.8, -0.6, -0.4, -0.2,  0. ,  0.2,  0.4,  0.6,  0.8,  1. ]), y=array([ 0.        , -0.33626474, -0.67614224, -0.96904699, -0.9731943 ,\n       -0.92675219, -0.9731943 , -0.96904699, -0.67614224, -0.33626474,\n        0.        ]))"
         },
         "metadata": {},
         "output_type": "display_data"
        }
       ]
      }
     },
     "8f89cdc5c1c34f0597623b3fbad54745": {
      "model_module": "@jupyter-widgets/base",
      "model_module_version": "1.0.0",
      "model_name": "LayoutModel",
      "state": {}
     },
     "8fbf60c515784ee3b2bd78acd308add9": {
      "model_module": "@jupyter-widgets/controls",
      "model_module_version": "1.1.0",
      "model_name": "SliderStyleModel",
      "state": {
       "description_width": ""
      }
     },
     "90864921946a4efa85a75716f44211de": {
      "model_module": "bqplot",
      "model_module_version": "^0.3.6",
      "model_name": "LinearScaleModel",
      "state": {
       "allow_padding": false,
       "max": 1,
       "min": 0,
       "stabilized": false
      }
     },
     "90a2afed3d71460987cc7870bd40b67d": {
      "model_module": "bqplot",
      "model_module_version": "^0.3.6",
      "model_name": "LinearScaleModel",
      "state": {
       "allow_padding": false,
       "max": 1,
       "min": 0,
       "stabilized": false
      }
     },
     "923b5ef98ebe40569a557c39a09320b3": {
      "model_module": "bqplot",
      "model_module_version": "^0.3.6",
      "model_name": "LinesModel",
      "state": {
       "color": {
        "type": null,
        "values": null
       },
       "display_legend": false,
       "fill_colors": [],
       "labels": [
        "C1"
       ],
       "scales": {
        "x": "IPY_MODEL_ff1dd03e38574e8297f9896d637716ae",
        "y": "IPY_MODEL_cd81a8e36f5541728faae1e07dba7278"
       },
       "selected": [],
       "x": {
        "type": "float",
        "values": [
         -10,
         -9.8,
         -9.6,
         -9.4,
         -9.2,
         -9,
         -8.8,
         -8.6,
         -8.4,
         -8.2,
         -8,
         -7.8,
         -7.6,
         -7.4,
         -7.199999999999999,
         -7,
         -6.8,
         -6.6,
         -6.4,
         -6.199999999999999,
         -6,
         -5.8,
         -5.6,
         -5.3999999999999995,
         -5.199999999999999,
         -5,
         -4.8,
         -4.6,
         -4.3999999999999995,
         -4.199999999999999,
         -4,
         -3.8,
         -3.5999999999999996,
         -3.3999999999999995,
         -3.1999999999999993,
         -3,
         -2.8,
         -2.5999999999999996,
         -2.3999999999999995,
         -2.1999999999999993,
         -2,
         -1.799999999999999,
         -1.5999999999999996,
         -1.4000000000000004,
         -1.1999999999999993,
         -1,
         -0.7999999999999989,
         -0.5999999999999996,
         -0.3999999999999986,
         -0.1999999999999993,
         0,
         0.20000000000000107,
         0.40000000000000036,
         0.6000000000000014,
         0.8000000000000007,
         1,
         1.200000000000001,
         1.4000000000000004,
         1.6000000000000014,
         1.8000000000000007,
         2,
         2.200000000000001,
         2.4000000000000004,
         2.6000000000000014,
         2.8000000000000007,
         3,
         3.200000000000001,
         3.4000000000000004,
         3.6000000000000014,
         3.8000000000000007,
         4,
         4.200000000000001,
         4.4,
         4.600000000000001,
         4.800000000000001,
         5,
         5.200000000000001,
         5.4,
         5.600000000000001,
         5.800000000000001,
         6,
         6.199999999999999,
         6.400000000000002,
         6.600000000000001,
         6.800000000000001,
         7,
         7.199999999999999,
         7.400000000000002,
         7.600000000000001,
         7.800000000000001,
         8,
         8.2,
         8.400000000000002,
         8.600000000000001,
         8.8,
         9,
         9.200000000000003,
         9.400000000000002,
         9.600000000000001,
         9.8,
         10
        ]
       },
       "y": {
        "type": "float",
        "values": [
         0,
         -0.03862121700529175,
         -0.0683265228770687,
         -0.08152971377915963,
         -0.07343501066867675,
         -0.04345113997788541,
         0.003993314554229688,
         0.05988939910439672,
         0.11262988890880798,
         0.1510902077166758,
         0.16768245758552602,
         0.1601059078210718,
         0.13110194534505926,
         0.08655834937487428,
         0.03315096277141305,
         -0.023213721070608706,
         -0.07764088698054694,
         -0.1256853046946198,
         -0.1630301025842864,
         -0.18610812876873517,
         -0.19344873262017126,
         -0.18678442917048532,
         -0.17095282325483652,
         -0.15234370373462092,
         -0.13650947200751506,
         -0.12599851344097512,
         -0.1193145960052,
         -0.11138876287330746,
         -0.09539714377839914,
         -0.06532749901525037,
         -0.018423426960801237,
         0.04340886862253868,
         0.1138456604351461,
         0.18403154416679612,
         0.24540398359686577,
         0.2923551422740438,
         0.32371912561064065,
         0.3425729390895267,
         0.3544977097011639,
         0.365004787740574,
         0.3771142380860333,
         0.3900024577999588,
         0.3992373978483368,
         0.39853319635643025,
         0.3823958103305287,
         0.34870198583754153,
         0.3002673054005367,
         0.24480042301087468,
         0.19318612565922177,
         0.15660392678251878,
         0.14338447348234107,
         0.156603926782517,
         0.19318612565926174,
         0.24480042301083815,
         0.30026730540053004,
         0.3487019858375149,
         0.3823958103305092,
         0.39853319635646756,
         0.3992373978482888,
         0.390002457799941,
         0.3771142380860404,
         0.3650047877405811,
         0.354497709701171,
         0.34257293908951425,
         0.32371912561061933,
         0.2923551422740367,
         0.24540398359691196,
         0.18403154416677836,
         0.11384566043518518,
         0.0434088686225671,
         -0.018423426960826106,
         -0.06532749901524681,
         -0.09539714377839204,
         -0.11138876287328081,
         -0.1193145960052231,
         -0.12599851344094404,
         -0.1365094720075266,
         -0.15234370373459427,
         -0.1709528232548707,
         -0.1867844291704665,
         -0.19344873262015327,
         -0.18610812876868055,
         -0.16303010258427497,
         -0.12568530469461026,
         -0.0776408869805536,
         -0.023213721070606486,
         0.03315096277141916,
         0.08655834937484863,
         0.13110194534510855,
         0.16010590782109135,
         0.16768245758553046,
         0.1510902077166385,
         0.11262988890882752,
         0.059889399104391394,
         0.0039933145542287996,
         -0.04345113997788408,
         -0.07343501066868074,
         -0.08152971377917274,
         -0.06832652287705993,
         -0.038621217005259945,
         0
        ]
       }
      }
     },
     "93bb34d026194c3998fb2fe24a6b1560": {
      "model_module": "bqplot",
      "model_module_version": "^0.3.6",
      "model_name": "AxisModel",
      "state": {
       "label": "x",
       "scale": "IPY_MODEL_f1b5a55ede564643bce0bfe723e14221",
       "side": "bottom",
       "tick_values": {
        "type": null,
        "values": null
       }
      }
     },
     "940ae7ad17dc409aabd39f40c5a87251": {
      "model_module": "bqplot",
      "model_module_version": "^0.3.6",
      "model_name": "LinesModel",
      "state": {
       "color": {
        "type": null,
        "values": null
       },
       "display_legend": false,
       "fill_colors": [],
       "labels": [
        "C1"
       ],
       "scales": {
        "x": "IPY_MODEL_f0b72dd0e54947dab163d71cfce6a64d",
        "y": "IPY_MODEL_f3ad51a47ace413d97979095756c1dfc"
       },
       "selected": [],
       "x": {
        "type": "float",
        "values": [
         0,
         1,
         2,
         3,
         4,
         5,
         6,
         7,
         8,
         9,
         10
        ]
       },
       "y": {
        "type": "float",
        "values": [
         -1,
         -0.8,
         -0.6,
         -0.3999999999999999,
         -0.19999999999999996,
         0,
         0.20000000000000018,
         0.40000000000000013,
         0.6000000000000001,
         0.8,
         1
        ]
       }
      }
     },
     "942b3bec9d5e4846ba4ae56fe07c7675": {
      "model_module": "@jupyter-widgets/controls",
      "model_module_version": "1.1.0",
      "model_name": "PlayModel",
      "state": {
       "description": "Press play",
       "layout": "IPY_MODEL_f8398c355cfb4307a7ac194891743265",
       "style": "IPY_MODEL_f8fced6435af41dca2a8fc1ed5371c12",
       "value": 100
      }
     },
     "95259d8870014c8e97a66a647ebfda8a": {
      "model_module": "@jupyter-widgets/controls",
      "model_module_version": "1.1.0",
      "model_name": "DescriptionStyleModel",
      "state": {
       "description_width": ""
      }
     },
     "9587240ff9f141abb3da79fd8af3c0d5": {
      "model_module": "@jupyter-widgets/base",
      "model_module_version": "1.0.0",
      "model_name": "LayoutModel",
      "state": {}
     },
     "95a0f088516448b19910692a2bb940f9": {
      "model_module": "bqplot",
      "model_module_version": "^0.3.6",
      "model_name": "LinesModel",
      "state": {
       "color": {
        "type": null,
        "values": null
       },
       "display_legend": false,
       "fill_colors": [],
       "labels": [
        "C1"
       ],
       "scales": {
        "x": "IPY_MODEL_719c3c0a545d4044b81d2e76b65ae240",
        "y": "IPY_MODEL_fd4653ed1260455cbd702c32578ce9de"
       },
       "selected": [],
       "x": {
        "type": "float",
        "values": [
         -10,
         -9.8,
         -9.6,
         -9.4,
         -9.2,
         -9,
         -8.8,
         -8.6,
         -8.4,
         -8.2,
         -8,
         -7.8,
         -7.6,
         -7.4,
         -7.199999999999999,
         -7,
         -6.8,
         -6.6,
         -6.4,
         -6.199999999999999,
         -6,
         -5.8,
         -5.6,
         -5.3999999999999995,
         -5.199999999999999,
         -5,
         -4.8,
         -4.6,
         -4.3999999999999995,
         -4.199999999999999,
         -4,
         -3.8,
         -3.5999999999999996,
         -3.3999999999999995,
         -3.1999999999999993,
         -3,
         -2.8,
         -2.5999999999999996,
         -2.3999999999999995,
         -2.1999999999999993,
         -2,
         -1.799999999999999,
         -1.5999999999999996,
         -1.4000000000000004,
         -1.1999999999999993,
         -1,
         -0.7999999999999989,
         -0.5999999999999996,
         -0.3999999999999986,
         -0.1999999999999993,
         0,
         0.20000000000000107,
         0.40000000000000036,
         0.6000000000000014,
         0.8000000000000007,
         1,
         1.200000000000001,
         1.4000000000000004,
         1.6000000000000014,
         1.8000000000000007,
         2,
         2.200000000000001,
         2.4000000000000004,
         2.6000000000000014,
         2.8000000000000007,
         3,
         3.200000000000001,
         3.4000000000000004,
         3.6000000000000014,
         3.8000000000000007,
         4,
         4.200000000000001,
         4.4,
         4.600000000000001,
         4.800000000000001,
         5,
         5.200000000000001,
         5.4,
         5.600000000000001,
         5.800000000000001,
         6,
         6.199999999999999,
         6.400000000000002,
         6.600000000000001,
         6.800000000000001,
         7,
         7.199999999999999,
         7.400000000000002,
         7.600000000000001,
         7.800000000000001,
         8,
         8.2,
         8.400000000000002,
         8.600000000000001,
         8.8,
         9,
         9.200000000000003,
         9.400000000000002,
         9.600000000000001,
         9.8,
         10
        ]
       },
       "y": {
        "type": "float",
        "values": [
         0,
         0.08476561646189551,
         0.16020162742915733,
         0.21810117287642017,
         0.2523754335937056,
         0.25980475328112096,
         0.24045041017781021,
         0.19766412740704015,
         0.13767460649880814,
         0.06878040356769333,
         0.00023241560330333755,
         -0.059058940154100625,
         -0.10181507786416688,
         -0.12347992730594903,
         -0.12291643349912462,
         -0.102555571474781,
         -0.06792091459443839,
         -0.026558673606139394,
         0.013473723029968632,
         0.04529085952929979,
         0.06468367692725785,
         0.07107843881674636,
         0.0676557823796946,
         0.06050078409062731,
         0.05689431074639906,
         0.06311980539797446,
         0.08237305426175823,
         0.11344020804617483,
         0.15068335398354327,
         0.1855266488113827,
         0.2091339865639572,
         0.21546509809663483,
         0.203602495774323,
         0.17834878941145504,
         0.14866757461813762,
         0.12442978095624824,
         0.112760064193969,
         0.11559946694303669,
         0.129624996585882,
         0.14851974812145485,
         0.16634712989109346,
         0.18019892825213546,
         0.19078202768304564,
         0.20091011069837172,
         0.21311767194984554,
         0.22797311853631896,
         0.24395654676955747,
         0.25859931471681374,
         0.2698399569369476,
         0.2766784607248969,
         0.27894309383700966,
         0.2766784607248871,
         0.2698399569369636,
         0.258599314716788,
         0.24395654676954326,
         0.22797311853633495,
         0.21311767194984377,
         0.20091011069837705,
         0.1907820276830332,
         0.18019892825215322,
         0.16634712989105793,
         0.14851974812145485,
         0.12962499658587845,
         0.1155994669430136,
         0.11276006419397078,
         0.12442978095626955,
         0.14866757461813407,
         0.1783487894114515,
         0.20360249577431588,
         0.21546509809661885,
         0.2091339865639643,
         0.18552664881136316,
         0.1506833539835437,
         0.11344020804616628,
         0.08237305426176711,
         0.06311980539796824,
         0.056894310746394616,
         0.06050078409064419,
         0.06765578237968395,
         0.07107843881674819,
         0.06468367692727295,
         0.04529085952929002,
         0.013473723029976625,
         -0.026558673606125183,
         -0.06792091459444727,
         -0.1025555714747739,
         -0.12291643349911752,
         -0.12347992730593838,
         -0.10181507786415622,
         -0.05905894015409885,
         0.00023241560329978483,
         0.06878040356769866,
         0.1376746064988037,
         0.1976641274070317,
         0.24045041017780622,
         0.25980475328112096,
         0.25237543359370296,
         0.2181011728764286,
         0.160201627429156,
         0.08476561646189684,
         0
        ]
       }
      }
     },
     "96284f43644a4ea6892786c1fb53a8c3": {
      "model_module": "bqplot",
      "model_module_version": "^0.3.6",
      "model_name": "LinearScaleModel",
      "state": {
       "allow_padding": false,
       "max": 1,
       "min": 0,
       "stabilized": false
      }
     },
     "962a7f4067c64a9f9262535bc0997b56": {
      "model_module": "@jupyter-widgets/output",
      "model_module_version": "1.0.0",
      "model_name": "OutputModel",
      "state": {
       "layout": "IPY_MODEL_1d49dddc9c434fe9a53cc128901267f5"
      }
     },
     "968fae57506247af8bd58ca64a974329": {
      "model_module": "@jupyter-widgets/controls",
      "model_module_version": "1.1.0",
      "model_name": "IntSliderModel",
      "state": {
       "description": "i",
       "layout": "IPY_MODEL_b72b0050cb464e149a92e2da00eb38f1",
       "max": 20,
       "style": "IPY_MODEL_cf6d836b92e84a65824e01fe233ac011",
       "value": 1
      }
     },
     "9717283018824b38a5ec44694706b023": {
      "model_module": "@jupyter-widgets/controls",
      "model_module_version": "1.1.0",
      "model_name": "SliderStyleModel",
      "state": {
       "description_width": ""
      }
     },
     "975f8871c266465481b28a4d6250752f": {
      "model_module": "bqplot",
      "model_module_version": "^0.3.6",
      "model_name": "LinearScaleModel",
      "state": {
       "allow_padding": false,
       "max": 1,
       "min": 0,
       "stabilized": false
      }
     },
     "976e34027fb84ff9bf47e2f7bfb7b5eb": {
      "model_module": "@jupyter-widgets/output",
      "model_module_version": "1.0.0",
      "model_name": "OutputModel",
      "state": {
       "layout": "IPY_MODEL_6408f268203a440fbbb71c57f0501fb0",
       "outputs": [
        {
         "ename": "AttributeError",
         "evalue": "module 'bqplot' has no attribute 'pyplot'",
         "output_type": "error",
         "traceback": [
          "\u001b[0;31m---------------------------------------------------------------------------\u001b[0m",
          "\u001b[0;31mAttributeError\u001b[0m                            Traceback (most recent call last)",
          "\u001b[0;32m/opt/local/Library/Frameworks/Python.framework/Versions/3.6/lib/python3.6/site-packages/ipywidgets/widgets/interaction.py\u001b[0m in \u001b[0;36mupdate\u001b[0;34m(self, *args)\u001b[0m\n\u001b[1;32m    248\u001b[0m                     \u001b[0mvalue\u001b[0m \u001b[0;34m=\u001b[0m \u001b[0mwidget\u001b[0m\u001b[0;34m.\u001b[0m\u001b[0mget_interact_value\u001b[0m\u001b[0;34m(\u001b[0m\u001b[0;34m)\u001b[0m\u001b[0;34m\u001b[0m\u001b[0m\n\u001b[1;32m    249\u001b[0m                     \u001b[0mself\u001b[0m\u001b[0;34m.\u001b[0m\u001b[0mkwargs\u001b[0m\u001b[0;34m[\u001b[0m\u001b[0mwidget\u001b[0m\u001b[0;34m.\u001b[0m\u001b[0m_kwarg\u001b[0m\u001b[0;34m]\u001b[0m \u001b[0;34m=\u001b[0m \u001b[0mvalue\u001b[0m\u001b[0;34m\u001b[0m\u001b[0m\n\u001b[0;32m--> 250\u001b[0;31m                 \u001b[0mself\u001b[0m\u001b[0;34m.\u001b[0m\u001b[0mresult\u001b[0m \u001b[0;34m=\u001b[0m \u001b[0mself\u001b[0m\u001b[0;34m.\u001b[0m\u001b[0mf\u001b[0m\u001b[0;34m(\u001b[0m\u001b[0;34m**\u001b[0m\u001b[0mself\u001b[0m\u001b[0;34m.\u001b[0m\u001b[0mkwargs\u001b[0m\u001b[0;34m)\u001b[0m\u001b[0;34m\u001b[0m\u001b[0m\n\u001b[0m\u001b[1;32m    251\u001b[0m                 \u001b[0mshow_inline_matplotlib_plots\u001b[0m\u001b[0;34m(\u001b[0m\u001b[0;34m)\u001b[0m\u001b[0;34m\u001b[0m\u001b[0m\n\u001b[1;32m    252\u001b[0m                 \u001b[0;32mif\u001b[0m \u001b[0mself\u001b[0m\u001b[0;34m.\u001b[0m\u001b[0mauto_display\u001b[0m \u001b[0;32mand\u001b[0m \u001b[0mself\u001b[0m\u001b[0;34m.\u001b[0m\u001b[0mresult\u001b[0m \u001b[0;32mis\u001b[0m \u001b[0;32mnot\u001b[0m \u001b[0;32mNone\u001b[0m\u001b[0;34m:\u001b[0m\u001b[0;34m\u001b[0m\u001b[0m\n",
          "\u001b[0;32m<ipython-input-5-d2a3a6ef164d>\u001b[0m in \u001b[0;36mg\u001b[0;34m(i)\u001b[0m\n\u001b[1;32m     46\u001b[0m \u001b[0;32mimport\u001b[0m \u001b[0mbqplot\u001b[0m\u001b[0;34m\u001b[0m\u001b[0m\n\u001b[1;32m     47\u001b[0m \u001b[0;32mdef\u001b[0m \u001b[0mg\u001b[0m\u001b[0;34m(\u001b[0m\u001b[0mi\u001b[0m\u001b[0;34m)\u001b[0m\u001b[0;34m:\u001b[0m\u001b[0;34m\u001b[0m\u001b[0m\n\u001b[0;32m---> 48\u001b[0;31m     \u001b[0mbqplot\u001b[0m\u001b[0;34m.\u001b[0m\u001b[0mpyplot\u001b[0m\u001b[0;34m.\u001b[0m\u001b[0mplot\u001b[0m\u001b[0;34m(\u001b[0m\u001b[0mx\u001b[0m\u001b[0;34m,\u001b[0m\u001b[0mY\u001b[0m\u001b[0;34m[\u001b[0m\u001b[0mi\u001b[0m\u001b[0;34m]\u001b[0m\u001b[0;34m[\u001b[0m\u001b[0;34m:\u001b[0m\u001b[0mN\u001b[0m\u001b[0;34m]\u001b[0m\u001b[0;34m)\u001b[0m\u001b[0;34m\u001b[0m\u001b[0m\n\u001b[0m\u001b[1;32m     49\u001b[0m \u001b[0;34m\u001b[0m\u001b[0m\n\u001b[1;32m     50\u001b[0m \u001b[0;32mimport\u001b[0m \u001b[0mipywidgets\u001b[0m\u001b[0;34m\u001b[0m\u001b[0m\n",
          "\u001b[0;31mAttributeError\u001b[0m: module 'bqplot' has no attribute 'pyplot'"
         ]
        }
       ]
      }
     },
     "98b7da45002c4649b959444a349c90eb": {
      "model_module": "@jupyter-widgets/base",
      "model_module_version": "1.0.0",
      "model_name": "LayoutModel",
      "state": {
       "min_width": "125px"
      }
     },
     "9909924882014dfea5f56c9bae7e59d9": {
      "model_module": "@jupyter-widgets/controls",
      "model_module_version": "1.1.0",
      "model_name": "LinkModel",
      "state": {
       "source": [
        "IPY_MODEL_ee70c60e5a514868a66702d368a55817",
        "value"
       ],
       "target": [
        "IPY_MODEL_c20423bb9d5949529dd85e8f7f0179a3",
        "value"
       ]
      }
     },
     "992d765e826f48519481306d63a201fd": {
      "model_module": "@jupyter-widgets/base",
      "model_module_version": "1.0.0",
      "model_name": "LayoutModel",
      "state": {}
     },
     "99579b95b3144ba58d4f26ddf8240283": {
      "model_module": "bqplot",
      "model_module_version": "^0.3.6",
      "model_name": "LinesModel",
      "state": {
       "color": {
        "type": null,
        "values": null
       },
       "display_legend": false,
       "fill_colors": [],
       "labels": [
        "C1"
       ],
       "scales": {
        "x": "IPY_MODEL_58273dad3c0e4b598a486885aa9456cf",
        "y": "IPY_MODEL_b4471836d06a4393b3e9890e1de1ea1b"
       },
       "selected": [],
       "x": {
        "type": "float",
        "values": [
         -1,
         -0.8,
         -0.6,
         -0.3999999999999999,
         -0.19999999999999996,
         0,
         0.20000000000000018,
         0.40000000000000013,
         0.6000000000000001,
         0.8,
         1
        ]
       },
       "y": {
        "type": "float",
        "values": [
         0,
         -0.3362647413778738,
         -0.6761422386404448,
         -0.9690469881020407,
         -0.9731942987148601,
         -0.9267521851910099,
         -0.9731942987148594,
         -0.9690469881020416,
         -0.6761422386404452,
         -0.33626474137787454,
         0
        ]
       }
      }
     },
     "99bf30c41de04573ba1e5c906dd733e8": {
      "model_module": "@jupyter-widgets/base",
      "model_module_version": "1.0.0",
      "model_name": "LayoutModel",
      "state": {}
     },
     "9a6cbd893901425886482b7d2a16bf12": {
      "model_module": "bqplot",
      "model_module_version": "^0.3.6",
      "model_name": "LinearScaleModel",
      "state": {
       "max": 1,
       "min": -1,
       "stabilized": false
      }
     },
     "9aa930dede6b4be6b5a6701490f04a6f": {
      "model_module": "@jupyter-widgets/controls",
      "model_module_version": "1.1.0",
      "model_name": "PlayModel",
      "state": {
       "description": "Press play",
       "layout": "IPY_MODEL_b13a55236a6a442baab14b8f8e154920",
       "style": "IPY_MODEL_e3f65156cb2248b5997374f52dc0efe3",
       "value": 20
      }
     },
     "9ad5c1377a574fb789c15b31642d2d3f": {
      "model_module": "bqplot",
      "model_module_version": "^0.3.6",
      "model_name": "AxisModel",
      "state": {
       "label": "Value1",
       "orientation": "vertical",
       "scale": "IPY_MODEL_f3ad51a47ace413d97979095756c1dfc",
       "side": "left",
       "tick_values": {
        "type": null,
        "values": null
       }
      }
     },
     "9ae2646f7c394e579e543b5dc7afaba2": {
      "model_module": "bqplot",
      "model_module_version": "^0.3.6",
      "model_name": "LinesModel",
      "state": {
       "color": {
        "type": null,
        "values": null
       },
       "display_legend": false,
       "fill_colors": [],
       "labels": [
        "C1"
       ],
       "scales": {
        "x": "IPY_MODEL_5b7003681c1d42c0b5c613be11de22a9",
        "y": "IPY_MODEL_015e8b748900473ca9375688fdaec68e"
       },
       "selected": [],
       "x": {
        "type": "float",
        "values": [
         -1,
         -0.8,
         -0.6,
         -0.3999999999999999,
         -0.19999999999999996,
         0,
         0.20000000000000018,
         0.40000000000000013,
         0.6000000000000001,
         0.8,
         1
        ]
       },
       "y": {
        "type": "float",
        "values": [
         0,
         0.16989983836966532,
         0.5376294062312201,
         0.7340337163215506,
         0.8272144409989451,
         0.8558143235620249,
         0.8272144409989446,
         0.734033716321551,
         0.5376294062312199,
         0.16989983836966527,
         0
        ]
       }
      }
     },
     "9afc82c2660e4f8b9d79ed4a2a57402b": {
      "model_module": "@jupyter-widgets/output",
      "model_module_version": "1.0.0",
      "model_name": "OutputModel",
      "state": {
       "layout": "IPY_MODEL_d3fc4ebd003147718ad0bc8da0b076f0"
      }
     },
     "9b623afe58cd4ed2a712272b2b8d7459": {
      "model_module": "@jupyter-widgets/controls",
      "model_module_version": "1.1.0",
      "model_name": "VBoxModel",
      "state": {
       "_dom_classes": [
        "widget-interact"
       ],
       "children": [
        "IPY_MODEL_eb7c4eaa686e4afbb883c7a0a0895db3",
        "IPY_MODEL_bdade6be34e8425591333d976062bb3d"
       ],
       "layout": "IPY_MODEL_26b2a3c0ee3848f6b79cb45a0e3d4df6"
      }
     },
     "9bcfa59b122f434ca8a2e3796f494e33": {
      "model_module": "bqplot",
      "model_module_version": "^0.3.6",
      "model_name": "LinearScaleModel",
      "state": {
       "max": 1,
       "min": -1,
       "stabilized": false
      }
     },
     "9c1339ef8a9d4b45a7756468d2a1e561": {
      "model_module": "bqplot",
      "model_module_version": "^0.3.6",
      "model_name": "LinearScaleModel",
      "state": {
       "max": 1,
       "min": -1,
       "stabilized": false
      }
     },
     "9c29dd19b3bf4459b9d275e11e8539ac": {
      "model_module": "@jupyter-widgets/controls",
      "model_module_version": "1.1.0",
      "model_name": "VBoxModel",
      "state": {
       "_dom_classes": [
        "widget-interact"
       ],
       "children": [
        "IPY_MODEL_ff86e3cac50f472e962c2fd4dd6db78a",
        "IPY_MODEL_de55f649aeac4a409d729d93d945ffbe"
       ],
       "layout": "IPY_MODEL_0ed9349d0ef048819436a6e61b5298e6"
      }
     },
     "9c53fa0b7f974eaf8018e40cd4f6f28b": {
      "model_module": "bqplot",
      "model_module_version": "^0.3.6",
      "model_name": "LinesModel",
      "state": {
       "color": {
        "type": null,
        "values": null
       },
       "display_legend": false,
       "fill_colors": [],
       "labels": [
        "C1"
       ],
       "scales": {
        "x": "IPY_MODEL_eb876c4f766c4ceba2ef98623bc90df9",
        "y": "IPY_MODEL_a81bd3833de4425980156df040cf454c"
       },
       "selected": [],
       "x": {
        "type": "float",
        "values": [
         -10,
         -9.8,
         -9.6,
         -9.4,
         -9.2,
         -9,
         -8.8,
         -8.6,
         -8.4,
         -8.2,
         -8,
         -7.8,
         -7.6,
         -7.4,
         -7.199999999999999,
         -7,
         -6.8,
         -6.6,
         -6.4,
         -6.199999999999999,
         -6,
         -5.8,
         -5.6,
         -5.3999999999999995,
         -5.199999999999999,
         -5,
         -4.8,
         -4.6,
         -4.3999999999999995,
         -4.199999999999999,
         -4,
         -3.8,
         -3.5999999999999996,
         -3.3999999999999995,
         -3.1999999999999993,
         -3,
         -2.8,
         -2.5999999999999996,
         -2.3999999999999995,
         -2.1999999999999993,
         -2,
         -1.799999999999999,
         -1.5999999999999996,
         -1.4000000000000004,
         -1.1999999999999993,
         -1,
         -0.7999999999999989,
         -0.5999999999999996,
         -0.3999999999999986,
         -0.1999999999999993,
         0,
         0.20000000000000107,
         0.40000000000000036,
         0.6000000000000014,
         0.8000000000000007,
         1,
         1.200000000000001,
         1.4000000000000004,
         1.6000000000000014,
         1.8000000000000007,
         2,
         2.200000000000001,
         2.4000000000000004,
         2.6000000000000014,
         2.8000000000000007,
         3,
         3.200000000000001,
         3.4000000000000004,
         3.6000000000000014,
         3.8000000000000007,
         4,
         4.200000000000001,
         4.4,
         4.600000000000001,
         4.800000000000001,
         5,
         5.200000000000001,
         5.4,
         5.600000000000001,
         5.800000000000001,
         6,
         6.199999999999999,
         6.400000000000002,
         6.600000000000001,
         6.800000000000001,
         7,
         7.199999999999999,
         7.400000000000002,
         7.600000000000001,
         7.800000000000001,
         8,
         8.2,
         8.400000000000002,
         8.600000000000001,
         8.8,
         9,
         9.200000000000003,
         9.400000000000002,
         9.600000000000001,
         9.8,
         10
        ]
       },
       "y": {
        "type": "float",
        "values": [
         3.720075976020836e-44,
         1.9514523802953378e-42,
         9.449754976491218e-41,
         4.224152406206143e-39,
         1.7430708966453162e-37,
         6.639677199580735e-36,
         2.3347227834872395e-34,
         7.57844526761843e-33,
         2.270812922026391e-31,
         6.2811481476060214e-30,
         1.603810890548638e-28,
         3.7802778447760985e-27,
         8.225280651606685e-26,
         1.6520917823142601e-24,
         3.0631908645774736e-23,
         5.242885663363464e-22,
         8.283677007682918e-21,
         1.2081820198999795e-19,
         1.6266646214532314e-18,
         2.021715848695361e-17,
         2.3195228302435696e-16,
         2.456595368792143e-15,
         2.4017347816209693e-14,
         2.1675688826189771e-13,
         1.80583143751323e-12,
         1.3887943864964021e-11,
         9.859505575991516e-11,
         6.461431773106131e-10,
         3.908938434264878e-09,
         2.1829577951254933e-08,
         1.1253517471925912e-07,
         5.355347802793109e-07,
         2.3525752000097794e-06,
         9.540162873079265e-06,
         3.57128496416354e-05,
         0.00012340980408667956,
         0.0003936690406550786,
         0.0011592291739045935,
         0.0031511115984444497,
         0.007907054051593462,
         0.01831563888873418,
         0.039163895098987225,
         0.07730474044329984,
         0.14085842092104484,
         0.23692775868212212,
         0.36787944117144233,
         0.5272924240430494,
         0.6976763260710314,
         0.8521437889662123,
         0.9607894391523235,
         1,
         0.9607894391523228,
         0.8521437889662111,
         0.6976763260710299,
         0.527292424043048,
         0.36787944117144233,
         0.23692775868212113,
         0.14085842092104484,
         0.0773047404432994,
         0.039163895098986976,
         0.01831563888873418,
         0.007907054051593407,
         0.0031511115984444358,
         0.001159229173904582,
         0.0003936690406550765,
         0.00012340980408667956,
         3.5712849641634954e-05,
         9.540162873079214e-06,
         2.35257520000975e-06,
         5.35534780279308e-07,
         1.1253517471925912e-07,
         2.1829577951254626e-08,
         3.90893843426485e-09,
         6.461431773106016e-10,
         9.859505575991446e-11,
         1.3887943864964021e-11,
         1.805831437513198e-12,
         2.167568882618954e-13,
         2.4017347816209182e-14,
         2.4565953687921255e-15,
         2.3195228302435696e-16,
         2.021715848695361e-17,
         1.6266646214531967e-18,
         1.2081820198999538e-19,
         8.2836770076828e-21,
         5.242885663363464e-22,
         3.0631908645774736e-23,
         1.6520917823142133e-24,
         8.22528065160651e-26,
         3.780277844776045e-27,
         1.603810890548638e-28,
         6.2811481476060214e-30,
         2.270812922026327e-31,
         7.578445267618215e-33,
         2.3347227834872395e-34,
         6.639677199580735e-36,
         1.7430708966451924e-37,
         4.224152406206023e-39,
         9.44975497649095e-41,
         1.9514523802953378e-42,
         3.720075976020836e-44
        ]
       }
      }
     },
     "9c8c5990d3b24e1b8cbe6aec9809b052": {
      "model_module": "@jupyter-widgets/base",
      "model_module_version": "1.0.0",
      "model_name": "LayoutModel",
      "state": {
       "min_width": "125px"
      }
     },
     "9c92a2903eec46b2bcef4673fa3eee04": {
      "model_module": "bqplot",
      "model_module_version": "^0.3.6",
      "model_name": "AxisModel",
      "state": {
       "label": "u",
       "orientation": "vertical",
       "scale": "IPY_MODEL_c50963d51fea4b18b26bfa03d7ce2ed0",
       "side": "left",
       "tick_values": {
        "type": null,
        "values": null
       }
      }
     },
     "9ce8644230c24fb1a3e2fe2f31667481": {
      "model_module": "@jupyter-widgets/base",
      "model_module_version": "1.0.0",
      "model_name": "LayoutModel",
      "state": {}
     },
     "9d2453146d9045b6ac0dd829de3600d2": {
      "model_module": "@jupyter-widgets/base",
      "model_module_version": "1.0.0",
      "model_name": "LayoutModel",
      "state": {}
     },
     "9d524213f9e3431d924947bed4b4de9a": {
      "model_module": "bqplot",
      "model_module_version": "^0.3.6",
      "model_name": "LinesModel",
      "state": {
       "color": {
        "type": null,
        "values": null
       },
       "display_legend": false,
       "fill_colors": [],
       "labels": [
        "C1"
       ],
       "scales": {
        "x": "IPY_MODEL_30a1a182387746a0bc2e02f618f855d8",
        "y": "IPY_MODEL_6715b15f3cf8454c9cf64a54128b3da9"
       },
       "selected": [],
       "x": {
        "type": "float",
        "values": [
         -10,
         -8,
         -6,
         -4,
         -2,
         0,
         2,
         4,
         6,
         8,
         10
        ]
       },
       "y": {
        "type": "float",
        "values": [
         3.720075976020836e-44,
         1.603810890548638e-28,
         2.3195228302435696e-16,
         1.1253517471925912e-07,
         0.01831563888873418,
         1,
         0.01831563888873418,
         1.1253517471925912e-07,
         2.3195228302435696e-16,
         1.603810890548638e-28,
         3.720075976020836e-44
        ]
       }
      }
     },
     "9da5cd6487654605bcf03b9ba35277f9": {
      "model_module": "@jupyter-widgets/controls",
      "model_module_version": "1.1.0",
      "model_name": "VBoxModel",
      "state": {
       "_dom_classes": [
        "widget-interact"
       ],
       "children": [
        "IPY_MODEL_15951ef601ff485b9dcf5f6a3886ae34",
        "IPY_MODEL_0478a556a214477d99497ad91cf2e97f"
       ],
       "layout": "IPY_MODEL_db63f4b454ab4025b3228775a1123e43"
      }
     },
     "9da7bc40315c4cf6a75ecba458982538": {
      "model_module": "bqplot",
      "model_module_version": "^0.3.6",
      "model_name": "AxisModel",
      "state": {
       "label": "x",
       "scale": "IPY_MODEL_12aa3d1ab857481ba38813fa0634d965",
       "side": "bottom",
       "tick_values": {
        "type": null,
        "values": null
       }
      }
     },
     "9dccbd6d7e1f4113aedf5cb05e11448e": {
      "model_module": "@jupyter-widgets/base",
      "model_module_version": "1.0.0",
      "model_name": "LayoutModel",
      "state": {}
     },
     "9de40d8578864470a7f128dd973e9ab4": {
      "model_module": "bqplot",
      "model_module_version": "^0.3.6",
      "model_name": "FigureModel",
      "state": {
       "_dom_classes": [],
       "axes": [
        "IPY_MODEL_93bb34d026194c3998fb2fe24a6b1560",
        "IPY_MODEL_5633b152cc6d47939546dae4937468f2"
       ],
       "layout": "IPY_MODEL_47c77177aa1549d7a2e5b79a4820a4cc",
       "marks": [
        "IPY_MODEL_d6a2e97c430642889859276c98813bfe"
       ],
       "max_aspect_ratio": 6,
       "scale_x": "IPY_MODEL_6dc756a8e45e4d538a28f6f88f5b90c8",
       "scale_y": "IPY_MODEL_a85d76567e224450a709c50851476681"
      }
     },
     "9e513a4a458c4573910d99ed1344d73e": {
      "model_module": "bqplot",
      "model_module_version": "^0.3.6",
      "model_name": "LinearScaleModel",
      "state": {
       "max": 10,
       "min": -10,
       "stabilized": false
      }
     },
     "9e8c84c0397c4e05b19f51f08539e39b": {
      "model_module": "@jupyter-widgets/controls",
      "model_module_version": "1.1.0",
      "model_name": "IntSliderModel",
      "state": {
       "description": "i",
       "layout": "IPY_MODEL_99bf30c41de04573ba1e5c906dd733e8",
       "max": 20,
       "style": "IPY_MODEL_2c82b5d87fd14cd09c961978b8c19a8e",
       "value": 20
      }
     },
     "9f0c8d6f05814a9ab23c978542d134f4": {
      "model_module": "bqplot",
      "model_module_version": "^0.3.6",
      "model_name": "LinesModel",
      "state": {
       "color": {
        "type": null,
        "values": null
       },
       "display_legend": false,
       "fill_colors": [],
       "labels": [
        "C1"
       ],
       "scales": {
        "x": "IPY_MODEL_f0b72dd0e54947dab163d71cfce6a64d",
        "y": "IPY_MODEL_f3ad51a47ace413d97979095756c1dfc"
       },
       "selected": [],
       "x": {
        "type": "float",
        "values": [
         -1,
         -0.8,
         -0.6,
         -0.3999999999999999,
         -0.19999999999999996,
         0,
         0.20000000000000018,
         0.40000000000000013,
         0.6000000000000001,
         0.8,
         1
        ]
       },
       "y": {
        "type": "float",
        "values": [
         0,
         -0.3362647413778738,
         -0.6761422386404448,
         -0.9690469881020407,
         -0.9731942987148601,
         -0.9267521851910099,
         -0.9731942987148594,
         -0.9690469881020416,
         -0.6761422386404452,
         -0.33626474137787454,
         0
        ]
       }
      }
     },
     "9fa66fbc868e4c19b8d7270072a9b9e0": {
      "model_module": "@jupyter-widgets/base",
      "model_module_version": "1.0.0",
      "model_name": "LayoutModel",
      "state": {
       "width": "auto"
      }
     },
     "a005a466311d48f4af7fdaba2c174091": {
      "model_module": "bqplot",
      "model_module_version": "^0.3.6",
      "model_name": "LinearScaleModel",
      "state": {
       "max": 10,
       "min": -10,
       "stabilized": false
      }
     },
     "a07e21183eb147cd98830acf81798636": {
      "model_module": "@jupyter-widgets/base",
      "model_module_version": "1.0.0",
      "model_name": "LayoutModel",
      "state": {
       "min_width": "125px"
      }
     },
     "a0e5680543044832a3e11918cbf4d605": {
      "model_module": "@jupyter-widgets/base",
      "model_module_version": "1.0.0",
      "model_name": "LayoutModel",
      "state": {
       "min_width": "125px"
      }
     },
     "a0eabcf7af5a4869b3f918fb39ee646e": {
      "model_module": "@jupyter-widgets/base",
      "model_module_version": "1.0.0",
      "model_name": "LayoutModel",
      "state": {}
     },
     "a2c40792a1834ec1b64ab457972cc223": {
      "model_module": "bqplot",
      "model_module_version": "^0.3.6",
      "model_name": "FigureModel",
      "state": {
       "_dom_classes": [],
       "layout": "IPY_MODEL_886bb3e31ada4c86b01f1fdf7df8e719",
       "max_aspect_ratio": 6,
       "scale_x": "IPY_MODEL_a2d20e534f524fc49cf18b4418209ac4",
       "scale_y": "IPY_MODEL_27de3c6a6c5441babe85ea919c276773"
      }
     },
     "a2d20e534f524fc49cf18b4418209ac4": {
      "model_module": "bqplot",
      "model_module_version": "^0.3.6",
      "model_name": "LinearScaleModel",
      "state": {
       "allow_padding": false,
       "max": 1,
       "min": 0,
       "stabilized": false
      }
     },
     "a2fbe1498b114524a0d12dc83e6ce872": {
      "model_module": "@jupyter-widgets/base",
      "model_module_version": "1.0.0",
      "model_name": "LayoutModel",
      "state": {
       "min_width": "125px"
      }
     },
     "a30cb9611ee445bc938a777c529afd71": {
      "model_module": "bqplot",
      "model_module_version": "^0.3.6",
      "model_name": "AxisModel",
      "state": {
       "label": "x",
       "scale": "IPY_MODEL_c2d467da28af42abbdc3dfc60c889a35",
       "side": "bottom",
       "tick_values": {
        "type": null,
        "values": null
       }
      }
     },
     "a3263e886de64771a5be8f8e3e4afdd9": {
      "model_module": "@jupyter-widgets/base",
      "model_module_version": "1.0.0",
      "model_name": "LayoutModel",
      "state": {}
     },
     "a388a71930fa453d9c0f6fe757478c5e": {
      "model_module": "@jupyter-widgets/base",
      "model_module_version": "1.0.0",
      "model_name": "LayoutModel",
      "state": {}
     },
     "a38b05b8977b4bc1a6b01dbf71b45b94": {
      "model_module": "bqplot",
      "model_module_version": "^0.3.6",
      "model_name": "AxisModel",
      "state": {
       "label": "x",
       "scale": "IPY_MODEL_691ca49a110249a092a4e002d40be0e5",
       "side": "bottom",
       "tick_values": {
        "type": null,
        "values": null
       }
      }
     },
     "a3f98d9cc10142abbf9a5a037c6d5b4b": {
      "model_module": "bqplot",
      "model_module_version": "^0.3.6",
      "model_name": "LinearScaleModel",
      "state": {
       "allow_padding": false,
       "max": 1,
       "min": 0,
       "stabilized": false
      }
     },
     "a3fe33c580e64877a08fb029af28d6fe": {
      "model_module": "@jupyter-widgets/base",
      "model_module_version": "1.0.0",
      "model_name": "LayoutModel",
      "state": {
       "min_width": "125px"
      }
     },
     "a4318b69cde24713b67f9e1bde5b6e96": {
      "model_module": "bqplot",
      "model_module_version": "^0.3.6",
      "model_name": "LinearScaleModel",
      "state": {
       "max": 1,
       "min": -1,
       "stabilized": false
      }
     },
     "a47033f90c2f47e1a28284ec2f6de73c": {
      "model_module": "bqplot",
      "model_module_version": "^0.3.6",
      "model_name": "FigureModel",
      "state": {
       "_dom_classes": [],
       "axes": [
        "IPY_MODEL_87933f14b1654404af8f98ffcc135964",
        "IPY_MODEL_0e2ea62c47ce4398a03ed7eba35bbc4e"
       ],
       "layout": "IPY_MODEL_e1691050d48b4cdbb40ceca10faf9220",
       "max_aspect_ratio": 6,
       "scale_x": "IPY_MODEL_3be7c99772da468aa8b5f5c11fbf3411",
       "scale_y": "IPY_MODEL_f4ada8333f694271baa2ef0c9eac1a43"
      }
     },
     "a47e9f6118b94b729bb37e3df4052eb7": {
      "model_module": "@jupyter-widgets/controls",
      "model_module_version": "1.1.0",
      "model_name": "IntSliderModel",
      "state": {
       "description": "i",
       "layout": "IPY_MODEL_e138363f9c984793851c078421ec9f43",
       "max": 20,
       "style": "IPY_MODEL_6456d5bc2e814d2bbacef3045c5360ec",
       "value": 10
      }
     },
     "a4aebbed666c4b89a983b4e43f73fbe6": {
      "model_module": "@jupyter-widgets/controls",
      "model_module_version": "1.1.0",
      "model_name": "PlayModel",
      "state": {
       "description": "Press play",
       "layout": "IPY_MODEL_5db4f7c15cdd42209ad527165f779b96",
       "max": 20,
       "style": "IPY_MODEL_95259d8870014c8e97a66a647ebfda8a"
      }
     },
     "a4ca0749734546a6b9d3b193e5032f0c": {
      "model_module": "@jupyter-widgets/output",
      "model_module_version": "1.0.0",
      "model_name": "OutputModel",
      "state": {
       "layout": "IPY_MODEL_5ad2c4f054cc4e9f9a42561dc9b386bf"
      }
     },
     "a50eda91afcc45908c58bb8280fe78d7": {
      "model_module": "bqplot",
      "model_module_version": "^0.3.6",
      "model_name": "AxisModel",
      "state": {
       "label": "u",
       "orientation": "vertical",
       "scale": "IPY_MODEL_f7a40e2f9e5e405e8878bca79402aeaf",
       "side": "left",
       "tick_values": {
        "type": null,
        "values": null
       }
      }
     },
     "a593671c3b7b4eefbe52231f4f16bece": {
      "model_module": "bqplot",
      "model_module_version": "^0.3.6",
      "model_name": "LinearScaleModel",
      "state": {
       "allow_padding": false,
       "max": 1,
       "min": 0,
       "stabilized": false
      }
     },
     "a612a0be183846969a2dd27a292a811b": {
      "model_module": "bqplot",
      "model_module_version": "^0.3.6",
      "model_name": "LinesModel",
      "state": {
       "color": {
        "type": null,
        "values": null
       },
       "display_legend": false,
       "fill_colors": [],
       "labels": [
        "C1"
       ],
       "scales": {
        "x": "IPY_MODEL_fac53c7696b24f7eaf9a822912e5801b",
        "y": "IPY_MODEL_6897400d0d824ed58a407a0246f879e7"
       },
       "selected": [],
       "x": {
        "type": "float",
        "values": [
         -1,
         -0.8,
         -0.6,
         -0.3999999999999999,
         -0.19999999999999996,
         0,
         0.20000000000000018,
         0.40000000000000013,
         0.6000000000000001,
         0.8,
         1
        ]
       },
       "y": {
        "type": "float",
        "values": [
         0,
         -0.3362647413778738,
         -0.6761422386404448,
         -0.9690469881020407,
         -0.9731942987148601,
         -0.9267521851910099,
         -0.9731942987148594,
         -0.9690469881020416,
         -0.6761422386404452,
         -0.33626474137787454,
         0
        ]
       }
      }
     },
     "a680310ec2bd47c28298d64b91b54b54": {
      "model_module": "@jupyter-widgets/base",
      "model_module_version": "1.0.0",
      "model_name": "LayoutModel",
      "state": {}
     },
     "a694b1bcde4f4197b8e41ad6d788bb81": {
      "model_module": "bqplot",
      "model_module_version": "^0.3.6",
      "model_name": "LinearScaleModel",
      "state": {
       "max": 10,
       "min": -10,
       "stabilized": false
      }
     },
     "a6a6000070774c17bec4f4e22675a7f6": {
      "model_module": "@jupyter-widgets/controls",
      "model_module_version": "1.1.0",
      "model_name": "LinkModel",
      "state": {
       "source": [
        "IPY_MODEL_942b3bec9d5e4846ba4ae56fe07c7675",
        "value"
       ],
       "target": [
        "IPY_MODEL_cc57e1ad134642519866febb9a3b7a5d",
        "value"
       ]
      }
     },
     "a76928b178294b0dbf6887bd09c02af9": {
      "model_module": "bqplot",
      "model_module_version": "^0.3.6",
      "model_name": "LinearScaleModel",
      "state": {
       "allow_padding": false,
       "max": 1,
       "min": 0,
       "stabilized": false
      }
     },
     "a81bd3833de4425980156df040cf454c": {
      "model_module": "bqplot",
      "model_module_version": "^0.3.6",
      "model_name": "LinearScaleModel",
      "state": {
       "max": 1,
       "min": -1,
       "stabilized": false
      }
     },
     "a833d9de251344eab5b906c1d27ea0d8": {
      "model_module": "@jupyter-widgets/controls",
      "model_module_version": "1.1.0",
      "model_name": "VBoxModel",
      "state": {
       "children": [
        "IPY_MODEL_fbcaa7f04e7d4033b254467b921a16e3",
        "IPY_MODEL_8b0e99d10833455684d642ef72fce2e3"
       ],
       "layout": "IPY_MODEL_7a705823623a4678bc737d3e8d206668"
      }
     },
     "a85d76567e224450a709c50851476681": {
      "model_module": "bqplot",
      "model_module_version": "^0.3.6",
      "model_name": "LinearScaleModel",
      "state": {
       "allow_padding": false,
       "max": 1,
       "min": 0,
       "stabilized": false
      }
     },
     "a8d1593ffe5a4c90aeae2049bfc46068": {
      "model_module": "@jupyter-widgets/base",
      "model_module_version": "1.0.0",
      "model_name": "LayoutModel",
      "state": {}
     },
     "a8ef53cc8e684db7ac7510e866f986ee": {
      "model_module": "@jupyter-widgets/base",
      "model_module_version": "1.0.0",
      "model_name": "LayoutModel",
      "state": {}
     },
     "aa1c87f740f0445a88dc555b1c82371f": {
      "model_module": "bqplot",
      "model_module_version": "^0.3.6",
      "model_name": "LinearScaleModel",
      "state": {
       "max": 1,
       "min": -1,
       "stabilized": false
      }
     },
     "aa7456ecff014bf8b1a84dd355ea950e": {
      "model_module": "@jupyter-widgets/controls",
      "model_module_version": "1.1.0",
      "model_name": "VBoxModel",
      "state": {
       "_dom_classes": [
        "widget-interact"
       ],
       "children": [
        "IPY_MODEL_5c86815dd3874005ae1f2848922156a1",
        "IPY_MODEL_61f46e18360f4101a29e61c60e021fb2"
       ],
       "layout": "IPY_MODEL_50836da5a26c4b41891902b9691d34fc"
      }
     },
     "aada2526a0144bae8676f18ee5395d71": {
      "model_module": "@jupyter-widgets/base",
      "model_module_version": "1.0.0",
      "model_name": "LayoutModel",
      "state": {}
     },
     "ab48eacba3a84c62bd22151940e778c9": {
      "model_module": "@jupyter-widgets/controls",
      "model_module_version": "1.1.0",
      "model_name": "SliderStyleModel",
      "state": {
       "description_width": ""
      }
     },
     "ab5a2ff724f34f5bb49bcbe48ea1c376": {
      "model_module": "bqplot",
      "model_module_version": "^0.3.6",
      "model_name": "AxisModel",
      "state": {
       "label": "x",
       "scale": "IPY_MODEL_fac53c7696b24f7eaf9a822912e5801b",
       "side": "bottom",
       "tick_values": {
        "type": null,
        "values": null
       }
      }
     },
     "abf569d808874a7bae21f075d3bcf789": {
      "model_module": "@jupyter-widgets/base",
      "model_module_version": "1.0.0",
      "model_name": "LayoutModel",
      "state": {}
     },
     "ac2804f929fe4150ae0d6acaf5e2006e": {
      "model_module": "bqplot",
      "model_module_version": "^0.3.6",
      "model_name": "FigureModel",
      "state": {
       "_dom_classes": [],
       "layout": "IPY_MODEL_6333a6a1a02247ca91fba0c51a2f06de",
       "max_aspect_ratio": 6,
       "scale_x": "IPY_MODEL_c458bbbcb55449e0898f150ae3d818d2",
       "scale_y": "IPY_MODEL_2062e0bbb8f74737b290f3ad714ead47"
      }
     },
     "acb7d35952d0471780e9cf83664a6cc5": {
      "model_module": "bqplot",
      "model_module_version": "^0.3.6",
      "model_name": "FigureModel",
      "state": {
       "_dom_classes": [],
       "axes": [
        "IPY_MODEL_a30cb9611ee445bc938a777c529afd71",
        "IPY_MODEL_9c92a2903eec46b2bcef4673fa3eee04"
       ],
       "layout": "IPY_MODEL_e3b53b54dd2b4ea0be3a65eda387c78b",
       "max_aspect_ratio": 6,
       "scale_x": "IPY_MODEL_55f046aa578d4e09acae95b9050c8185",
       "scale_y": "IPY_MODEL_c1b57cd837c948d8ab976b5d26118da9"
      }
     },
     "acdf132e374847388d59f7f983d3bdb9": {
      "model_module": "@jupyter-widgets/base",
      "model_module_version": "1.0.0",
      "model_name": "LayoutModel",
      "state": {}
     },
     "acfdbc7692d044798be620859beb6a42": {
      "model_module": "@jupyter-widgets/base",
      "model_module_version": "1.0.0",
      "model_name": "LayoutModel",
      "state": {}
     },
     "ad6987ddc1a64090920fa63b6471311c": {
      "model_module": "@jupyter-widgets/controls",
      "model_module_version": "1.1.0",
      "model_name": "VBoxModel",
      "state": {
       "_dom_classes": [
        "widget-interact"
       ],
       "children": [
        "IPY_MODEL_f99ddfd4c2794534a815d105145e9bf0",
        "IPY_MODEL_bb314f556725445eb81a01f257b4125d"
       ],
       "layout": "IPY_MODEL_f098b559d0b2482db715f4bacd62193d"
      }
     },
     "ad95602c4acc42b68ea8d8684cbe291a": {
      "model_module": "@jupyter-widgets/controls",
      "model_module_version": "1.1.0",
      "model_name": "HBoxModel",
      "state": {
       "children": [
        "IPY_MODEL_d5f47ce2fbbb4e84a5b39c5af8ee484c",
        "IPY_MODEL_a47e9f6118b94b729bb37e3df4052eb7"
       ],
       "layout": "IPY_MODEL_43fec010b52546f19f867010baca3133"
      }
     },
     "aec1adc272364993b96cfc32610b1b0e": {
      "model_module": "bqplot",
      "model_module_version": "^0.3.6",
      "model_name": "AxisModel",
      "state": {
       "orientation": "vertical",
       "scale": "IPY_MODEL_f3ad51a47ace413d97979095756c1dfc",
       "side": "left",
       "tick_values": {
        "type": null,
        "values": null
       }
      }
     },
     "af1eadcb427944e49177d66735159ebe": {
      "model_module": "@jupyter-widgets/controls",
      "model_module_version": "1.1.0",
      "model_name": "DescriptionStyleModel",
      "state": {
       "description_width": ""
      }
     },
     "af47e958782d49d7bf613a39d85c3882": {
      "model_module": "@jupyter-widgets/base",
      "model_module_version": "1.0.0",
      "model_name": "LayoutModel",
      "state": {}
     },
     "b0abdc9403f84907848fc94628b177cd": {
      "model_module": "bqplot",
      "model_module_version": "^0.3.6",
      "model_name": "LinesModel",
      "state": {
       "color": {
        "type": null,
        "values": null
       },
       "display_legend": false,
       "fill_colors": [],
       "labels": [
        "C1"
       ],
       "scales": {
        "x": "IPY_MODEL_2d178660894c499ebe72868825a2cfc2",
        "y": "IPY_MODEL_48ded124717b45759b7af8ee80fbef38"
       },
       "selected": [],
       "x": {
        "type": "float",
        "values": [
         -10,
         -9.8,
         -9.6,
         -9.4,
         -9.2,
         -9,
         -8.8,
         -8.6,
         -8.4,
         -8.2,
         -8,
         -7.8,
         -7.6,
         -7.4,
         -7.199999999999999,
         -7,
         -6.8,
         -6.6,
         -6.4,
         -6.199999999999999,
         -6,
         -5.8,
         -5.6,
         -5.3999999999999995,
         -5.199999999999999,
         -5,
         -4.8,
         -4.6,
         -4.3999999999999995,
         -4.199999999999999,
         -4,
         -3.8,
         -3.5999999999999996,
         -3.3999999999999995,
         -3.1999999999999993,
         -3,
         -2.8,
         -2.5999999999999996,
         -2.3999999999999995,
         -2.1999999999999993,
         -2,
         -1.799999999999999,
         -1.5999999999999996,
         -1.4000000000000004,
         -1.1999999999999993,
         -1,
         -0.7999999999999989,
         -0.5999999999999996,
         -0.3999999999999986,
         -0.1999999999999993,
         0,
         0.20000000000000107,
         0.40000000000000036,
         0.6000000000000014,
         0.8000000000000007,
         1,
         1.200000000000001,
         1.4000000000000004,
         1.6000000000000014,
         1.8000000000000007,
         2,
         2.200000000000001,
         2.4000000000000004,
         2.6000000000000014,
         2.8000000000000007,
         3,
         3.200000000000001,
         3.4000000000000004,
         3.6000000000000014,
         3.8000000000000007,
         4,
         4.200000000000001,
         4.4,
         4.600000000000001,
         4.800000000000001,
         5,
         5.200000000000001,
         5.4,
         5.600000000000001,
         5.800000000000001,
         6,
         6.199999999999999,
         6.400000000000002,
         6.600000000000001,
         6.800000000000001,
         7,
         7.199999999999999,
         7.400000000000002,
         7.600000000000001,
         7.800000000000001,
         8,
         8.2,
         8.400000000000002,
         8.600000000000001,
         8.8,
         9,
         9.200000000000003,
         9.400000000000002,
         9.600000000000001,
         9.8,
         10
        ]
       },
       "y": {
        "type": "float",
        "values": [
         3.720075976020836e-44,
         1.9514523802953378e-42,
         9.449754976491218e-41,
         4.224152406206143e-39,
         1.7430708966453162e-37,
         6.639677199580735e-36,
         2.3347227834872395e-34,
         7.57844526761843e-33,
         2.270812922026391e-31,
         6.2811481476060214e-30,
         1.603810890548638e-28,
         3.7802778447760985e-27,
         8.225280651606685e-26,
         1.6520917823142601e-24,
         3.0631908645774736e-23,
         5.242885663363464e-22,
         8.283677007682918e-21,
         1.2081820198999795e-19,
         1.6266646214532314e-18,
         2.021715848695361e-17,
         2.3195228302435696e-16,
         2.456595368792143e-15,
         2.4017347816209693e-14,
         2.1675688826189771e-13,
         1.80583143751323e-12,
         1.3887943864964021e-11,
         9.859505575991516e-11,
         6.461431773106131e-10,
         3.908938434264878e-09,
         2.1829577951254933e-08,
         1.1253517471925912e-07,
         5.355347802793109e-07,
         2.3525752000097794e-06,
         9.540162873079265e-06,
         3.57128496416354e-05,
         0.00012340980408667956,
         0.0003936690406550786,
         0.0011592291739045935,
         0.0031511115984444497,
         0.007907054051593462,
         0.01831563888873418,
         0.039163895098987225,
         0.07730474044329984,
         0.14085842092104484,
         0.23692775868212212,
         0.36787944117144233,
         0.5272924240430494,
         0.6976763260710314,
         0.8521437889662123,
         0.9607894391523235,
         1,
         0.9607894391523228,
         0.8521437889662111,
         0.6976763260710299,
         0.527292424043048,
         0.36787944117144233,
         0.23692775868212113,
         0.14085842092104484,
         0.0773047404432994,
         0.039163895098986976,
         0.01831563888873418,
         0.007907054051593407,
         0.0031511115984444358,
         0.001159229173904582,
         0.0003936690406550765,
         0.00012340980408667956,
         3.5712849641634954e-05,
         9.540162873079214e-06,
         2.35257520000975e-06,
         5.35534780279308e-07,
         1.1253517471925912e-07,
         2.1829577951254626e-08,
         3.90893843426485e-09,
         6.461431773106016e-10,
         9.859505575991446e-11,
         1.3887943864964021e-11,
         1.805831437513198e-12,
         2.167568882618954e-13,
         2.4017347816209182e-14,
         2.4565953687921255e-15,
         2.3195228302435696e-16,
         2.021715848695361e-17,
         1.6266646214531967e-18,
         1.2081820198999538e-19,
         8.2836770076828e-21,
         5.242885663363464e-22,
         3.0631908645774736e-23,
         1.6520917823142133e-24,
         8.22528065160651e-26,
         3.780277844776045e-27,
         1.603810890548638e-28,
         6.2811481476060214e-30,
         2.270812922026327e-31,
         7.578445267618215e-33,
         2.3347227834872395e-34,
         6.639677199580735e-36,
         1.7430708966451924e-37,
         4.224152406206023e-39,
         9.44975497649095e-41,
         1.9514523802953378e-42,
         3.720075976020836e-44
        ]
       }
      }
     },
     "b0dd544f2c8f41979a26b7e32642a27b": {
      "model_module": "@jupyter-widgets/base",
      "model_module_version": "1.0.0",
      "model_name": "LayoutModel",
      "state": {}
     },
     "b13a55236a6a442baab14b8f8e154920": {
      "model_module": "@jupyter-widgets/base",
      "model_module_version": "1.0.0",
      "model_name": "LayoutModel",
      "state": {}
     },
     "b1ff9b397c1d42d1821c82361e64c5bb": {
      "model_module": "bqplot",
      "model_module_version": "^0.3.6",
      "model_name": "LinearScaleModel",
      "state": {
       "allow_padding": false,
       "max": 1,
       "min": 0,
       "stabilized": false
      }
     },
     "b206e6480bf1474984262badc36a0aa2": {
      "model_module": "bqplot",
      "model_module_version": "^0.3.6",
      "model_name": "FigureModel",
      "state": {
       "_dom_classes": [],
       "axes": [
        "IPY_MODEL_036c09dfc1bf41888aaace60929587ac",
        "IPY_MODEL_e972732c493149c49757d8e18670f450"
       ],
       "layout": "IPY_MODEL_3dc47b79cf6e4ca9b255fb838e46d341",
       "marks": [
        "IPY_MODEL_62f3ca7ba1cd4791930d8358c260b17d"
       ],
       "max_aspect_ratio": 6,
       "scale_x": "IPY_MODEL_b1ff9b397c1d42d1821c82361e64c5bb",
       "scale_y": "IPY_MODEL_f8d26159113d4d0ebb3fbd2e58f30631"
      }
     },
     "b29064dd7cd349729c0c795c5344a04f": {
      "model_module": "bqplot",
      "model_module_version": "^0.3.6",
      "model_name": "LinesModel",
      "state": {
       "color": {
        "type": null,
        "values": null
       },
       "display_legend": false,
       "fill_colors": [],
       "labels": [
        "C1"
       ],
       "scales": {
        "x": "IPY_MODEL_f0b72dd0e54947dab163d71cfce6a64d",
        "y": "IPY_MODEL_f3ad51a47ace413d97979095756c1dfc"
       },
       "selected": [],
       "x": {
        "type": "float",
        "values": [
         0,
         1,
         2,
         3,
         4,
         5,
         6,
         7,
         8,
         9,
         10
        ]
       },
       "y": {
        "type": "float",
        "values": [
         -1,
         -0.8,
         -0.6,
         -0.3999999999999999,
         -0.19999999999999996,
         0,
         0.20000000000000018,
         0.40000000000000013,
         0.6000000000000001,
         0.8,
         1
        ]
       }
      }
     },
     "b2c2c472ad7a42e38427a80073ba6fe7": {
      "model_module": "@jupyter-widgets/controls",
      "model_module_version": "1.1.0",
      "model_name": "SliderStyleModel",
      "state": {
       "description_width": ""
      }
     },
     "b31a6a6b92e148e183ce247770d474fd": {
      "model_module": "@jupyter-widgets/controls",
      "model_module_version": "1.1.0",
      "model_name": "VBoxModel",
      "state": {
       "_dom_classes": [
        "widget-interact"
       ],
       "children": [
        "IPY_MODEL_4105994d5a3f4025ad16a3d0f2beac9a",
        "IPY_MODEL_37987f7fb26041d7b74115ec78b0fcb2"
       ],
       "layout": "IPY_MODEL_b6106415c53344e5b6bc6d739ab0b462"
      }
     },
     "b3454e559abc400493dc6b63d0bb105d": {
      "model_module": "bqplot",
      "model_module_version": "^0.3.6",
      "model_name": "LinearScaleModel",
      "state": {
       "allow_padding": false,
       "max": 1,
       "min": 0,
       "stabilized": false
      }
     },
     "b3759e29146f4430b7f561137fb88b5a": {
      "model_module": "@jupyter-widgets/controls",
      "model_module_version": "1.1.0",
      "model_name": "SliderStyleModel",
      "state": {
       "description_width": ""
      }
     },
     "b38a888ba32840f2af78b8d5ff07330b": {
      "model_module": "bqplot",
      "model_module_version": "^0.3.6",
      "model_name": "LinearScaleModel",
      "state": {
       "allow_padding": false,
       "max": 1,
       "min": 0,
       "stabilized": false
      }
     },
     "b4471836d06a4393b3e9890e1de1ea1b": {
      "model_module": "bqplot",
      "model_module_version": "^0.3.6",
      "model_name": "LinearScaleModel",
      "state": {
       "max": 1,
       "min": -1,
       "stabilized": false
      }
     },
     "b550d3fe365f490f8f2ecbb926f06299": {
      "model_module": "@jupyter-widgets/base",
      "model_module_version": "1.0.0",
      "model_name": "LayoutModel",
      "state": {
       "min_width": "125px"
      }
     },
     "b58d2f9ce5f046ccb2b3c6a834b8a0b8": {
      "model_module": "@jupyter-widgets/base",
      "model_module_version": "1.0.0",
      "model_name": "LayoutModel",
      "state": {
       "min_width": "125px"
      }
     },
     "b5965025ae88429cba67885563ff1040": {
      "model_module": "@jupyter-widgets/base",
      "model_module_version": "1.0.0",
      "model_name": "LayoutModel",
      "state": {}
     },
     "b5e5e3697e714438b86c438315623052": {
      "model_module": "@jupyter-widgets/controls",
      "model_module_version": "1.1.0",
      "model_name": "VBoxModel",
      "state": {
       "_dom_classes": [
        "widget-interact"
       ],
       "children": [
        "IPY_MODEL_32ae526fa6c0460ea3f4b6f91dc90069",
        "IPY_MODEL_bedd4eb0dd414df086294c4636f4e918"
       ],
       "layout": "IPY_MODEL_43e24d4d62d344e3b2b33bd4bdc9b649"
      }
     },
     "b6106415c53344e5b6bc6d739ab0b462": {
      "model_module": "@jupyter-widgets/base",
      "model_module_version": "1.0.0",
      "model_name": "LayoutModel",
      "state": {}
     },
     "b664946a0a6e45b0b4575ef20a584e38": {
      "model_module": "bqplot",
      "model_module_version": "^0.3.6",
      "model_name": "LinearScaleModel",
      "state": {
       "allow_padding": false,
       "max": 1,
       "min": 0,
       "stabilized": false
      }
     },
     "b6eb6697f840444eaca7d403fc9d1446": {
      "model_module": "bqplot",
      "model_module_version": "^0.3.6",
      "model_name": "AxisModel",
      "state": {
       "label": "x",
       "scale": "IPY_MODEL_a005a466311d48f4af7fdaba2c174091",
       "side": "bottom",
       "tick_values": {
        "type": null,
        "values": null
       }
      }
     },
     "b72b0050cb464e149a92e2da00eb38f1": {
      "model_module": "@jupyter-widgets/base",
      "model_module_version": "1.0.0",
      "model_name": "LayoutModel",
      "state": {}
     },
     "b80a48787d6044de86dabf372b9c87c3": {
      "model_module": "@jupyter-widgets/controls",
      "model_module_version": "1.1.0",
      "model_name": "VBoxModel",
      "state": {
       "_dom_classes": [
        "widget-interact"
       ],
       "children": [
        "IPY_MODEL_cc57e1ad134642519866febb9a3b7a5d",
        "IPY_MODEL_1f7cefb2a3be432f81d021b2eb8f42fe"
       ],
       "layout": "IPY_MODEL_8a995b52e2574bfe8e579e42d867e166"
      }
     },
     "b872ad9f1b3845cb880f197efd5e6658": {
      "model_module": "@jupyter-widgets/output",
      "model_module_version": "1.0.0",
      "model_name": "OutputModel",
      "state": {
       "layout": "IPY_MODEL_cd7fae34a73b42f0bb617c096aafeec8",
       "outputs": [
        {
         "data": {
          "text/plain": "<matplotlib.figure.Figure at 0x111f45d30>"
         },
         "metadata": {},
         "output_type": "display_data"
        }
       ]
      }
     },
     "b8886c5a85f74aaf92d11c2cf219c280": {
      "model_module": "bqplot",
      "model_module_version": "^0.3.6",
      "model_name": "LinearScaleModel",
      "state": {
       "allow_padding": false,
       "max": 1,
       "min": 0,
       "stabilized": false
      }
     },
     "b8ad47d8dd5e4106b20c332070d648b6": {
      "model_module": "@jupyter-widgets/base",
      "model_module_version": "1.0.0",
      "model_name": "LayoutModel",
      "state": {}
     },
     "b8cc4ca270fa455d9404194a45468a0c": {
      "model_module": "@jupyter-widgets/controls",
      "model_module_version": "1.1.0",
      "model_name": "VBoxModel",
      "state": {
       "_dom_classes": [
        "widget-interact"
       ],
       "children": [
        "IPY_MODEL_84d495e49f3e492385576a9751a0c6b7",
        "IPY_MODEL_041ca51d8b1746679a3e044484ec8808"
       ],
       "layout": "IPY_MODEL_783350b0e7514be19779f3dd1ac88938"
      }
     },
     "b97e2bcbaf9e43ef98ba9b01d0eafafb": {
      "model_module": "bqplot",
      "model_module_version": "^0.3.6",
      "model_name": "AxisModel",
      "state": {
       "label": "u",
       "orientation": "vertical",
       "scale": "IPY_MODEL_81133083a62943d384c04ce82d4ec317",
       "side": "left",
       "tick_values": {
        "type": null,
        "values": null
       }
      }
     },
     "b9dde07f735d48d884873a2f99fb5059": {
      "model_module": "@jupyter-widgets/base",
      "model_module_version": "1.0.0",
      "model_name": "LayoutModel",
      "state": {}
     },
     "ba46e5474414450a9633e092f9c41a0c": {
      "model_module": "bqplot",
      "model_module_version": "^0.3.6",
      "model_name": "FigureModel",
      "state": {
       "_dom_classes": [],
       "layout": "IPY_MODEL_5f24228c0d2a47788b0ae38a696a57dd",
       "max_aspect_ratio": 6,
       "scale_x": "IPY_MODEL_8e3d7cef04e74eaf896fe1742c1d00cd",
       "scale_y": "IPY_MODEL_975f8871c266465481b28a4d6250752f"
      }
     },
     "bae1c89de71e4955849a99fa810bea8b": {
      "model_module": "@jupyter-widgets/controls",
      "model_module_version": "1.1.0",
      "model_name": "HBoxModel",
      "state": {
       "children": [
        "IPY_MODEL_a4aebbed666c4b89a983b4e43f73fbe6",
        "IPY_MODEL_2d8bae946daa47ae87d11d6b3423244c"
       ],
       "layout": "IPY_MODEL_5d3d7e74cc99473bade484795d8038b3"
      }
     },
     "bb314f556725445eb81a01f257b4125d": {
      "model_module": "@jupyter-widgets/output",
      "model_module_version": "1.0.0",
      "model_name": "OutputModel",
      "state": {
       "layout": "IPY_MODEL_f63c18f6c5014cbfbe7d3fb773b52f00",
       "outputs": [
        {
         "name": "stderr",
         "output_type": "stream",
         "text": "/opt/local/Library/Frameworks/Python.framework/Versions/3.6/lib/python3.6/site-packages/bqplot/pyplot.py:603: FutureWarning: Conversion of the second argument of issubdtype from `str` to `str` is deprecated. In future, it will be treated as `np.str_ == np.dtype(str).type`.\n  issubdtype(dtype, Scale.scale_types[key].dtype)\n"
        }
       ]
      }
     },
     "bc11ac82d93c476eb823b4d211d56f33": {
      "model_module": "@jupyter-widgets/controls",
      "model_module_version": "1.1.0",
      "model_name": "SliderStyleModel",
      "state": {
       "description_width": ""
      }
     },
     "bc22a311306c441d95c7ba4a4c83c3dc": {
      "model_module": "@jupyter-widgets/base",
      "model_module_version": "1.0.0",
      "model_name": "LayoutModel",
      "state": {
       "min_width": "125px"
      }
     },
     "bda982de90b94704b3a8aabe1eb8bcc2": {
      "model_module": "@jupyter-widgets/base",
      "model_module_version": "1.0.0",
      "model_name": "LayoutModel",
      "state": {}
     },
     "bdade6be34e8425591333d976062bb3d": {
      "model_module": "@jupyter-widgets/output",
      "model_module_version": "1.0.0",
      "model_name": "OutputModel",
      "state": {
       "layout": "IPY_MODEL_a8d1593ffe5a4c90aeae2049bfc46068"
      }
     },
     "be2cf52363394a72a6d89d1d945e6164": {
      "model_module": "@jupyter-widgets/base",
      "model_module_version": "1.0.0",
      "model_name": "LayoutModel",
      "state": {}
     },
     "be352239cde94ffab4ba7c9878e9d5cb": {
      "model_module": "@jupyter-widgets/base",
      "model_module_version": "1.0.0",
      "model_name": "LayoutModel",
      "state": {}
     },
     "be6d035e07504c70a2d9ecf3827d9e05": {
      "model_module": "bqplot",
      "model_module_version": "^0.3.6",
      "model_name": "AxisModel",
      "state": {
       "label": "u",
       "orientation": "vertical",
       "scale": "IPY_MODEL_48ded124717b45759b7af8ee80fbef38",
       "side": "left",
       "tick_values": {
        "type": null,
        "values": null
       }
      }
     },
     "beacdbe542834d83adefe64ecf756182": {
      "model_module": "@jupyter-widgets/base",
      "model_module_version": "1.0.0",
      "model_name": "LayoutModel",
      "state": {}
     },
     "bedd4eb0dd414df086294c4636f4e918": {
      "model_module": "@jupyter-widgets/output",
      "model_module_version": "1.0.0",
      "model_name": "OutputModel",
      "state": {
       "layout": "IPY_MODEL_208f88053def48c9bae483d11770264f",
       "outputs": [
        {
         "ename": "NameError",
         "evalue": "name 'pqplot' is not defined",
         "output_type": "error",
         "traceback": [
          "\u001b[0;31m---------------------------------------------------------------------------\u001b[0m",
          "\u001b[0;31mNameError\u001b[0m                                 Traceback (most recent call last)",
          "\u001b[0;32m/opt/local/Library/Frameworks/Python.framework/Versions/3.6/lib/python3.6/site-packages/ipywidgets/widgets/interaction.py\u001b[0m in \u001b[0;36mupdate\u001b[0;34m(self, *args)\u001b[0m\n\u001b[1;32m    248\u001b[0m                     \u001b[0mvalue\u001b[0m \u001b[0;34m=\u001b[0m \u001b[0mwidget\u001b[0m\u001b[0;34m.\u001b[0m\u001b[0mget_interact_value\u001b[0m\u001b[0;34m(\u001b[0m\u001b[0;34m)\u001b[0m\u001b[0;34m\u001b[0m\u001b[0m\n\u001b[1;32m    249\u001b[0m                     \u001b[0mself\u001b[0m\u001b[0;34m.\u001b[0m\u001b[0mkwargs\u001b[0m\u001b[0;34m[\u001b[0m\u001b[0mwidget\u001b[0m\u001b[0;34m.\u001b[0m\u001b[0m_kwarg\u001b[0m\u001b[0;34m]\u001b[0m \u001b[0;34m=\u001b[0m \u001b[0mvalue\u001b[0m\u001b[0;34m\u001b[0m\u001b[0m\n\u001b[0;32m--> 250\u001b[0;31m                 \u001b[0mself\u001b[0m\u001b[0;34m.\u001b[0m\u001b[0mresult\u001b[0m \u001b[0;34m=\u001b[0m \u001b[0mself\u001b[0m\u001b[0;34m.\u001b[0m\u001b[0mf\u001b[0m\u001b[0;34m(\u001b[0m\u001b[0;34m**\u001b[0m\u001b[0mself\u001b[0m\u001b[0;34m.\u001b[0m\u001b[0mkwargs\u001b[0m\u001b[0;34m)\u001b[0m\u001b[0;34m\u001b[0m\u001b[0m\n\u001b[0m\u001b[1;32m    251\u001b[0m                 \u001b[0mshow_inline_matplotlib_plots\u001b[0m\u001b[0;34m(\u001b[0m\u001b[0;34m)\u001b[0m\u001b[0;34m\u001b[0m\u001b[0m\n\u001b[1;32m    252\u001b[0m                 \u001b[0;32mif\u001b[0m \u001b[0mself\u001b[0m\u001b[0;34m.\u001b[0m\u001b[0mauto_display\u001b[0m \u001b[0;32mand\u001b[0m \u001b[0mself\u001b[0m\u001b[0;34m.\u001b[0m\u001b[0mresult\u001b[0m \u001b[0;32mis\u001b[0m \u001b[0;32mnot\u001b[0m \u001b[0;32mNone\u001b[0m\u001b[0;34m:\u001b[0m\u001b[0;34m\u001b[0m\u001b[0m\n",
          "\u001b[0;32m<ipython-input-4-109f7a7ab50c>\u001b[0m in \u001b[0;36mg\u001b[0;34m(i)\u001b[0m\n\u001b[1;32m     45\u001b[0m \u001b[0;34m\u001b[0m\u001b[0m\n\u001b[1;32m     46\u001b[0m \u001b[0;32mdef\u001b[0m \u001b[0mg\u001b[0m\u001b[0;34m(\u001b[0m\u001b[0mi\u001b[0m\u001b[0;34m)\u001b[0m\u001b[0;34m:\u001b[0m\u001b[0;34m\u001b[0m\u001b[0m\n\u001b[0;32m---> 47\u001b[0;31m     \u001b[0mpqplot\u001b[0m\u001b[0;34m.\u001b[0m\u001b[0mpyplot\u001b[0m\u001b[0;34m.\u001b[0m\u001b[0mplot\u001b[0m\u001b[0;34m(\u001b[0m\u001b[0mx\u001b[0m\u001b[0;34m,\u001b[0m\u001b[0mY\u001b[0m\u001b[0;34m[\u001b[0m\u001b[0mi\u001b[0m\u001b[0;34m]\u001b[0m\u001b[0;34m[\u001b[0m\u001b[0;34m:\u001b[0m\u001b[0mN\u001b[0m\u001b[0;34m]\u001b[0m\u001b[0;34m)\u001b[0m\u001b[0;34m\u001b[0m\u001b[0m\n\u001b[0m\u001b[1;32m     48\u001b[0m \u001b[0;34m\u001b[0m\u001b[0m\n\u001b[1;32m     49\u001b[0m \u001b[0;32mimport\u001b[0m \u001b[0mipywidgets\u001b[0m\u001b[0;34m\u001b[0m\u001b[0m\n",
          "\u001b[0;31mNameError\u001b[0m: name 'pqplot' is not defined"
         ]
        }
       ]
      }
     },
     "c133014ea9be40d79e3c84ead1d44fd2": {
      "model_module": "bqplot",
      "model_module_version": "^0.3.6",
      "model_name": "LinearScaleModel",
      "state": {
       "max": 1,
       "min": -1,
       "stabilized": false
      }
     },
     "c15372b2464d468bba31a916dcfa5261": {
      "model_module": "@jupyter-widgets/controls",
      "model_module_version": "1.1.0",
      "model_name": "LinkModel",
      "state": {
       "source": [
        "IPY_MODEL_fd5f28cdc7f746ccae787be8fb325421",
        "value"
       ],
       "target": [
        "IPY_MODEL_58f9d09131cb464d99fcfdf27b984795",
        "value"
       ]
      }
     },
     "c1b57cd837c948d8ab976b5d26118da9": {
      "model_module": "bqplot",
      "model_module_version": "^0.3.6",
      "model_name": "LinearScaleModel",
      "state": {
       "allow_padding": false,
       "max": 1,
       "min": 0,
       "stabilized": false
      }
     },
     "c1c4182dba99448e9b9316f5bb9424b5": {
      "model_module": "@jupyter-widgets/base",
      "model_module_version": "1.0.0",
      "model_name": "LayoutModel",
      "state": {
       "min_width": "125px"
      }
     },
     "c20423bb9d5949529dd85e8f7f0179a3": {
      "model_module": "@jupyter-widgets/controls",
      "model_module_version": "1.1.0",
      "model_name": "IntSliderModel",
      "state": {
       "description": "i",
       "layout": "IPY_MODEL_9ce8644230c24fb1a3e2fe2f31667481",
       "max": 20,
       "style": "IPY_MODEL_ab48eacba3a84c62bd22151940e778c9"
      }
     },
     "c23d02c8e7e44d6cba6bcf8a23aa755d": {
      "model_module": "@jupyter-widgets/base",
      "model_module_version": "1.0.0",
      "model_name": "LayoutModel",
      "state": {}
     },
     "c2645b7c918c4ceb95ba4c59bd1c9c76": {
      "model_module": "@jupyter-widgets/controls",
      "model_module_version": "1.1.0",
      "model_name": "IntSliderModel",
      "state": {
       "description": "i",
       "layout": "IPY_MODEL_0c01abbf03b24be198d0de17368dbd94",
       "max": 20,
       "style": "IPY_MODEL_734165c5e605491c9dd4a5ab6484cb72",
       "value": 20
      }
     },
     "c2d467da28af42abbdc3dfc60c889a35": {
      "model_module": "bqplot",
      "model_module_version": "^0.3.6",
      "model_name": "LinearScaleModel",
      "state": {
       "max": 1,
       "min": -1,
       "stabilized": false
      }
     },
     "c2efdf8265a54f51bf3165fb34df01ed": {
      "model_module": "bqplot",
      "model_module_version": "^0.3.6",
      "model_name": "AxisModel",
      "state": {
       "label": "x",
       "scale": "IPY_MODEL_5b7003681c1d42c0b5c613be11de22a9",
       "side": "bottom",
       "tick_values": {
        "type": null,
        "values": null
       }
      }
     },
     "c37bbe7373b146c19c6fcba4cc87b2bb": {
      "model_module": "bqplot",
      "model_module_version": "^0.3.6",
      "model_name": "FigureModel",
      "state": {
       "_dom_classes": [],
       "axes": [
        "IPY_MODEL_0cf217a352b94b48933a599087d31230",
        "IPY_MODEL_4571d5910a254deba8f29629225a9880"
       ],
       "layout": "IPY_MODEL_3b8cc3204b6f43b0bbdd66a7b97cdbe4",
       "max_aspect_ratio": 6,
       "scale_x": "IPY_MODEL_6a563232ae96445b80aebd4bf5cbaf67",
       "scale_y": "IPY_MODEL_f9295279416745efabad7ec37647e3d8"
      }
     },
     "c3ab56518b514df6a95400c1a8cd973b": {
      "model_module": "@jupyter-widgets/controls",
      "model_module_version": "1.1.0",
      "model_name": "FloatSliderModel",
      "state": {
       "description": "t",
       "layout": "IPY_MODEL_be352239cde94ffab4ba7c9878e9d5cb",
       "style": "IPY_MODEL_0479dd0d9d724bc2906d320da535ab22",
       "value": 100
      }
     },
     "c3ff2e3a85bc4ab78a41d76907f995f8": {
      "model_module": "@jupyter-widgets/base",
      "model_module_version": "1.0.0",
      "model_name": "LayoutModel",
      "state": {}
     },
     "c445dbadf48d4d3fb71b4fe88c6dee20": {
      "model_module": "@jupyter-widgets/controls",
      "model_module_version": "1.1.0",
      "model_name": "VBoxModel",
      "state": {
       "_dom_classes": [
        "widget-interact"
       ],
       "children": [
        "IPY_MODEL_d0b907aa2de64c759b3b125529f3c318",
        "IPY_MODEL_9afc82c2660e4f8b9d79ed4a2a57402b"
       ],
       "layout": "IPY_MODEL_b5965025ae88429cba67885563ff1040"
      }
     },
     "c458bbbcb55449e0898f150ae3d818d2": {
      "model_module": "bqplot",
      "model_module_version": "^0.3.6",
      "model_name": "LinearScaleModel",
      "state": {
       "allow_padding": false,
       "max": 1,
       "min": 0,
       "stabilized": false
      }
     },
     "c45bb960a8f4497db589604085c130cf": {
      "model_module": "@jupyter-widgets/controls",
      "model_module_version": "1.1.0",
      "model_name": "IntSliderModel",
      "state": {
       "description": "i",
       "layout": "IPY_MODEL_7cfac4987021475ba9491239ced37660",
       "max": 20,
       "style": "IPY_MODEL_03bdae9edf174d55a0604d8a32196f83",
       "value": 10
      }
     },
     "c4b89310e1204416bdcfe44b2f3baf92": {
      "model_module": "@jupyter-widgets/controls",
      "model_module_version": "1.1.0",
      "model_name": "VBoxModel",
      "state": {
       "_dom_classes": [
        "widget-interact"
       ],
       "children": [
        "IPY_MODEL_58f9d09131cb464d99fcfdf27b984795",
        "IPY_MODEL_794b2019baf84e45abdfc869d9076ab5"
       ],
       "layout": "IPY_MODEL_c23d02c8e7e44d6cba6bcf8a23aa755d"
      }
     },
     "c4c4093f000149be91f2f612e51fae5f": {
      "model_module": "bqplot",
      "model_module_version": "^0.3.6",
      "model_name": "FigureModel",
      "state": {
       "_dom_classes": [],
       "axes": [
        "IPY_MODEL_ab5a2ff724f34f5bb49bcbe48ea1c376",
        "IPY_MODEL_058e47e4fc7845dc85d87620dbbfd17e"
       ],
       "layout": "IPY_MODEL_bc22a311306c441d95c7ba4a4c83c3dc",
       "max_aspect_ratio": 6,
       "scale_x": "IPY_MODEL_f22ef9c9ca4f48f7b3f8930bc44712f6",
       "scale_y": "IPY_MODEL_12445de4f54649ffbd74de9fdec9acb0"
      }
     },
     "c4df843294e2425fb80aed59f2d762d9": {
      "model_module": "bqplot",
      "model_module_version": "^0.3.6",
      "model_name": "LinearScaleModel",
      "state": {
       "allow_padding": false,
       "max": 1,
       "min": 0,
       "stabilized": false
      }
     },
     "c50963d51fea4b18b26bfa03d7ce2ed0": {
      "model_module": "bqplot",
      "model_module_version": "^0.3.6",
      "model_name": "LinearScaleModel",
      "state": {
       "max": 1,
       "min": -1,
       "stabilized": false
      }
     },
     "c566c32405ae466ba282565d6bbe8bd9": {
      "model_module": "@jupyter-widgets/base",
      "model_module_version": "1.0.0",
      "model_name": "LayoutModel",
      "state": {
       "min_width": "125px"
      }
     },
     "c6a18bc799244976b42b887253561fc4": {
      "model_module": "bqplot",
      "model_module_version": "^0.3.6",
      "model_name": "AxisModel",
      "state": {
       "label": "x",
       "scale": "IPY_MODEL_6b4f66d8dca547d5bb98a2486793d248",
       "side": "bottom",
       "tick_values": {
        "type": null,
        "values": null
       }
      }
     },
     "c850d4ba49974bada52b14f48a3269e9": {
      "model_module": "@jupyter-widgets/controls",
      "model_module_version": "1.1.0",
      "model_name": "SliderStyleModel",
      "state": {
       "description_width": ""
      }
     },
     "c85f6f94e95f49c59a99900cbfb944cf": {
      "model_module": "@jupyter-widgets/base",
      "model_module_version": "1.0.0",
      "model_name": "LayoutModel",
      "state": {}
     },
     "c8d5fb93304d46b8bbfd2c992d952836": {
      "model_module": "@jupyter-widgets/base",
      "model_module_version": "1.0.0",
      "model_name": "LayoutModel",
      "state": {}
     },
     "cb7b72371e394003814c9a688b793314": {
      "model_module": "@jupyter-widgets/base",
      "model_module_version": "1.0.0",
      "model_name": "LayoutModel",
      "state": {}
     },
     "cbe0aa38fe1e4e9d914ea4b1dd655889": {
      "model_module": "@jupyter-widgets/controls",
      "model_module_version": "1.1.0",
      "model_name": "VBoxModel",
      "state": {
       "children": [
        "IPY_MODEL_1953181beb694ad88bf34afd456e968d",
        "IPY_MODEL_b206e6480bf1474984262badc36a0aa2"
       ],
       "layout": "IPY_MODEL_e6f245304cc4465e80efeb73c13da21b"
      }
     },
     "cc57e1ad134642519866febb9a3b7a5d": {
      "model_module": "@jupyter-widgets/controls",
      "model_module_version": "1.1.0",
      "model_name": "FloatSliderModel",
      "state": {
       "description": "t",
       "layout": "IPY_MODEL_1f0466a63ac3424599dfab2a4cb6c547",
       "style": "IPY_MODEL_d2a7bf00614f4914abb95c8a2758dfe5",
       "value": 100
      }
     },
     "cc69695589a343619df8a6a1e4c1462e": {
      "model_module": "@jupyter-widgets/controls",
      "model_module_version": "1.1.0",
      "model_name": "DescriptionStyleModel",
      "state": {
       "description_width": ""
      }
     },
     "cc8e8dd508164961b66ff0bfd66a9c4b": {
      "model_module": "@jupyter-widgets/base",
      "model_module_version": "1.0.0",
      "model_name": "LayoutModel",
      "state": {}
     },
     "ccff9b4f19d34172a331d01ff9c9794a": {
      "model_module": "@jupyter-widgets/controls",
      "model_module_version": "1.1.0",
      "model_name": "SliderStyleModel",
      "state": {
       "description_width": ""
      }
     },
     "cd29e65a5a094f76bc7f73046fe99170": {
      "model_module": "@jupyter-widgets/controls",
      "model_module_version": "1.1.0",
      "model_name": "PlayModel",
      "state": {
       "description": "Press play",
       "layout": "IPY_MODEL_35ff49581cb44d00b48be65daccb8c76",
       "max": 20,
       "style": "IPY_MODEL_24128562e0e0449bbd0de584b84649b2",
       "value": 20
      }
     },
     "cd576883e34a47d6a78265f6b78558be": {
      "model_module": "@jupyter-widgets/controls",
      "model_module_version": "1.1.0",
      "model_name": "LinkModel",
      "state": {
       "source": [
        "IPY_MODEL_cd29e65a5a094f76bc7f73046fe99170",
        "value"
       ],
       "target": [
        "IPY_MODEL_2cef0a75e742402d99606702dd4b6aec",
        "value"
       ]
      }
     },
     "cd7fae34a73b42f0bb617c096aafeec8": {
      "model_module": "@jupyter-widgets/base",
      "model_module_version": "1.0.0",
      "model_name": "LayoutModel",
      "state": {}
     },
     "cd81a8e36f5541728faae1e07dba7278": {
      "model_module": "bqplot",
      "model_module_version": "^0.3.6",
      "model_name": "LinearScaleModel",
      "state": {
       "max": 1,
       "min": -1,
       "stabilized": false
      }
     },
     "ce36a0e3d2dd4829beb254a7c2c434a7": {
      "model_module": "@jupyter-widgets/controls",
      "model_module_version": "1.1.0",
      "model_name": "IntSliderModel",
      "state": {
       "description": "i",
       "layout": "IPY_MODEL_d1460014876e47508bdaedaf790e9369",
       "max": 20,
       "style": "IPY_MODEL_4b39b555a854421cb75e2012784aa54a",
       "value": 10
      }
     },
     "ceb1bb2ab2ae42529e863292c581f6e0": {
      "model_module": "@jupyter-widgets/base",
      "model_module_version": "1.0.0",
      "model_name": "LayoutModel",
      "state": {}
     },
     "cf27d936b647471c8fe0b3cba10b1f13": {
      "model_module": "@jupyter-widgets/base",
      "model_module_version": "1.0.0",
      "model_name": "LayoutModel",
      "state": {}
     },
     "cf3ed1880464441ca7855962930cbd0a": {
      "model_module": "@jupyter-widgets/controls",
      "model_module_version": "1.1.0",
      "model_name": "PlayModel",
      "state": {
       "description": "Press play",
       "layout": "IPY_MODEL_acdf132e374847388d59f7f983d3bdb9",
       "style": "IPY_MODEL_691eee8b7a6a4eaab482f5fa80561543",
       "value": 50
      }
     },
     "cf6d836b92e84a65824e01fe233ac011": {
      "model_module": "@jupyter-widgets/controls",
      "model_module_version": "1.1.0",
      "model_name": "SliderStyleModel",
      "state": {
       "description_width": ""
      }
     },
     "cf89606f6d2341f1ac0aaa09dca5a7fa": {
      "model_module": "@jupyter-widgets/output",
      "model_module_version": "1.0.0",
      "model_name": "OutputModel",
      "state": {
       "layout": "IPY_MODEL_f9aea92c07d74436a8d448f33a055129"
      }
     },
     "cff57549f78c474ab4df30a2992d3859": {
      "model_module": "@jupyter-widgets/output",
      "model_module_version": "1.0.0",
      "model_name": "OutputModel",
      "state": {
       "layout": "IPY_MODEL_52a5da4a7f1f4aa0bc9615b7eb2cf74e"
      }
     },
     "d062bc19f46d4df097299543618c2e93": {
      "model_module": "bqplot",
      "model_module_version": "^0.3.6",
      "model_name": "LinearScaleModel",
      "state": {
       "allow_padding": false,
       "max": 1,
       "min": 0,
       "stabilized": false
      }
     },
     "d07ed54ad11946459dc580fa0dd57447": {
      "model_module": "@jupyter-widgets/controls",
      "model_module_version": "1.1.0",
      "model_name": "SliderStyleModel",
      "state": {
       "description_width": ""
      }
     },
     "d0b907aa2de64c759b3b125529f3c318": {
      "model_module": "@jupyter-widgets/controls",
      "model_module_version": "1.1.0",
      "model_name": "IntSliderModel",
      "state": {
       "description": "i",
       "layout": "IPY_MODEL_282e7403652e42ff81390fbd2816c402",
       "max": 20,
       "style": "IPY_MODEL_db2e9ac153074b629ab2e5808f030c03",
       "value": 10
      }
     },
     "d1460014876e47508bdaedaf790e9369": {
      "model_module": "@jupyter-widgets/base",
      "model_module_version": "1.0.0",
      "model_name": "LayoutModel",
      "state": {}
     },
     "d1ce0e2938214462bd9bbe88f6282ef6": {
      "model_module": "@jupyter-widgets/base",
      "model_module_version": "1.0.0",
      "model_name": "LayoutModel",
      "state": {}
     },
     "d1d68bb0e5f64498b10f00552c8727a6": {
      "model_module": "@jupyter-widgets/controls",
      "model_module_version": "1.1.0",
      "model_name": "LinkModel",
      "state": {
       "source": [
        "IPY_MODEL_0c08ffd7156844159fc1708d0a32bfb6",
        "value"
       ],
       "target": [
        "IPY_MODEL_66398816338642db8fafa1c1f00e3874",
        "value"
       ]
      }
     },
     "d2a7bf00614f4914abb95c8a2758dfe5": {
      "model_module": "@jupyter-widgets/controls",
      "model_module_version": "1.1.0",
      "model_name": "SliderStyleModel",
      "state": {
       "description_width": ""
      }
     },
     "d341b8c2302f452fa1f3a027ee04a660": {
      "model_module": "@jupyter-widgets/controls",
      "model_module_version": "1.1.0",
      "model_name": "VBoxModel",
      "state": {
       "children": [
        "IPY_MODEL_bae1c89de71e4955849a99fa810bea8b",
        "IPY_MODEL_e9804978d4eb4a1b92ec1c2ce78490cb"
       ],
       "layout": "IPY_MODEL_c3ff2e3a85bc4ab78a41d76907f995f8"
      }
     },
     "d3d85fe7c6be4b6887451306c0275b6e": {
      "model_module": "@jupyter-widgets/controls",
      "model_module_version": "1.1.0",
      "model_name": "VBoxModel",
      "state": {
       "children": [
        "IPY_MODEL_26b42029fa534ee9a76bca4c95e83b83",
        "IPY_MODEL_c37bbe7373b146c19c6fcba4cc87b2bb"
       ],
       "layout": "IPY_MODEL_739d027db80247f794e7897e14f55853"
      }
     },
     "d3e5e2566dfb42fd9f2591de73121a08": {
      "model_module": "bqplot",
      "model_module_version": "^0.3.6",
      "model_name": "AxisModel",
      "state": {
       "label": "x",
       "scale": "IPY_MODEL_e7bfd51ec0724065829a444aca788972",
       "side": "bottom",
       "tick_values": {
        "type": null,
        "values": null
       }
      }
     },
     "d3eb6d356e6c46ceb1a6a64b7615aeec": {
      "model_module": "@jupyter-widgets/base",
      "model_module_version": "1.0.0",
      "model_name": "LayoutModel",
      "state": {}
     },
     "d3fc4ebd003147718ad0bc8da0b076f0": {
      "model_module": "@jupyter-widgets/base",
      "model_module_version": "1.0.0",
      "model_name": "LayoutModel",
      "state": {}
     },
     "d40cfb47be8549fc87960e6b468c297d": {
      "model_module": "bqplot",
      "model_module_version": "^0.3.6",
      "model_name": "LinearScaleModel",
      "state": {
       "allow_padding": false,
       "max": 1,
       "min": 0,
       "stabilized": false
      }
     },
     "d46da55c88f04548894f2ec824ae898f": {
      "model_module": "@jupyter-widgets/controls",
      "model_module_version": "1.1.0",
      "model_name": "HBoxModel",
      "state": {
       "children": [
        "IPY_MODEL_392f696e16fa4a8d9c3f5f74c4675ff3",
        "IPY_MODEL_c3ab56518b514df6a95400c1a8cd973b"
       ],
       "layout": "IPY_MODEL_025b44d319074aca899bba0b9cd6a4ca"
      }
     },
     "d5a4307babc44a2489c1fcb046d0d763": {
      "model_module": "@jupyter-widgets/controls",
      "model_module_version": "1.1.0",
      "model_name": "VBoxModel",
      "state": {
       "children": [
        "IPY_MODEL_fdc476f598a04ef792388bf6b6f7da67",
        "IPY_MODEL_e95c9553ffbf4a7bba4e0c7a441270b0"
       ],
       "layout": "IPY_MODEL_4f7badcc9c7c4b2b94cf4ebc77b502f9"
      }
     },
     "d5cacaa58eef4b879a7f307a61584e5f": {
      "model_module": "bqplot",
      "model_module_version": "^0.3.6",
      "model_name": "FigureModel",
      "state": {
       "_dom_classes": [],
       "axes": [
        "IPY_MODEL_e9eba7af61534d528ae25f7dea7b8e4b",
        "IPY_MODEL_3b6b62d14e5847a98533d715154df349"
       ],
       "layout": "IPY_MODEL_a3fe33c580e64877a08fb029af28d6fe",
       "max_aspect_ratio": 6,
       "scale_x": "IPY_MODEL_a3f98d9cc10142abbf9a5a037c6d5b4b",
       "scale_y": "IPY_MODEL_286daa72b6a045e1b4a609f491062a41"
      }
     },
     "d5f47ce2fbbb4e84a5b39c5af8ee484c": {
      "model_module": "@jupyter-widgets/controls",
      "model_module_version": "1.1.0",
      "model_name": "PlayModel",
      "state": {
       "description": "Press play",
       "layout": "IPY_MODEL_6a273dd785304fd891ebd1e073f203f1",
       "style": "IPY_MODEL_8dfa872228f547dfa0b0bfe57956c550"
      }
     },
     "d6a2e97c430642889859276c98813bfe": {
      "model_module": "bqplot",
      "model_module_version": "^0.3.6",
      "model_name": "LinesModel",
      "state": {
       "color": {
        "type": null,
        "values": null
       },
       "display_legend": false,
       "fill_colors": [],
       "labels": [
        "C1"
       ],
       "scales": {
        "x": "IPY_MODEL_f1b5a55ede564643bce0bfe723e14221",
        "y": "IPY_MODEL_c133014ea9be40d79e3c84ead1d44fd2"
       },
       "selected": [],
       "x": {
        "type": "float",
        "values": [
         -10,
         -9.8,
         -9.6,
         -9.4,
         -9.2,
         -9,
         -8.8,
         -8.6,
         -8.4,
         -8.2,
         -8,
         -7.8,
         -7.6,
         -7.4,
         -7.199999999999999,
         -7,
         -6.8,
         -6.6,
         -6.4,
         -6.199999999999999,
         -6,
         -5.8,
         -5.6,
         -5.3999999999999995,
         -5.199999999999999,
         -5,
         -4.8,
         -4.6,
         -4.3999999999999995,
         -4.199999999999999,
         -4,
         -3.8,
         -3.5999999999999996,
         -3.3999999999999995,
         -3.1999999999999993,
         -3,
         -2.8,
         -2.5999999999999996,
         -2.3999999999999995,
         -2.1999999999999993,
         -2,
         -1.799999999999999,
         -1.5999999999999996,
         -1.4000000000000004,
         -1.1999999999999993,
         -1,
         -0.7999999999999989,
         -0.5999999999999996,
         -0.3999999999999986,
         -0.1999999999999993,
         0,
         0.20000000000000107,
         0.40000000000000036,
         0.6000000000000014,
         0.8000000000000007,
         1,
         1.200000000000001,
         1.4000000000000004,
         1.6000000000000014,
         1.8000000000000007,
         2,
         2.200000000000001,
         2.4000000000000004,
         2.6000000000000014,
         2.8000000000000007,
         3,
         3.200000000000001,
         3.4000000000000004,
         3.6000000000000014,
         3.8000000000000007,
         4,
         4.200000000000001,
         4.4,
         4.600000000000001,
         4.800000000000001,
         5,
         5.200000000000001,
         5.4,
         5.600000000000001,
         5.800000000000001,
         6,
         6.199999999999999,
         6.400000000000002,
         6.600000000000001,
         6.800000000000001,
         7,
         7.199999999999999,
         7.400000000000002,
         7.600000000000001,
         7.800000000000001,
         8,
         8.2,
         8.400000000000002,
         8.600000000000001,
         8.8,
         9,
         9.200000000000003,
         9.400000000000002,
         9.600000000000001,
         9.8,
         10
        ]
       },
       "y": {
        "type": "float",
        "values": [
         0,
         -0.03862121700529175,
         -0.0683265228770687,
         -0.08152971377915963,
         -0.07343501066867675,
         -0.04345113997788541,
         0.003993314554229688,
         0.05988939910439672,
         0.11262988890880798,
         0.1510902077166758,
         0.16768245758552602,
         0.1601059078210718,
         0.13110194534505926,
         0.08655834937487428,
         0.03315096277141305,
         -0.023213721070608706,
         -0.07764088698054694,
         -0.1256853046946198,
         -0.1630301025842864,
         -0.18610812876873517,
         -0.19344873262017126,
         -0.18678442917048532,
         -0.17095282325483652,
         -0.15234370373462092,
         -0.13650947200751506,
         -0.12599851344097512,
         -0.1193145960052,
         -0.11138876287330746,
         -0.09539714377839914,
         -0.06532749901525037,
         -0.018423426960801237,
         0.04340886862253868,
         0.1138456604351461,
         0.18403154416679612,
         0.24540398359686577,
         0.2923551422740438,
         0.32371912561064065,
         0.3425729390895267,
         0.3544977097011639,
         0.365004787740574,
         0.3771142380860333,
         0.3900024577999588,
         0.3992373978483368,
         0.39853319635643025,
         0.3823958103305287,
         0.34870198583754153,
         0.3002673054005367,
         0.24480042301087468,
         0.19318612565922177,
         0.15660392678251878,
         0.14338447348234107,
         0.156603926782517,
         0.19318612565926174,
         0.24480042301083815,
         0.30026730540053004,
         0.3487019858375149,
         0.3823958103305092,
         0.39853319635646756,
         0.3992373978482888,
         0.390002457799941,
         0.3771142380860404,
         0.3650047877405811,
         0.354497709701171,
         0.34257293908951425,
         0.32371912561061933,
         0.2923551422740367,
         0.24540398359691196,
         0.18403154416677836,
         0.11384566043518518,
         0.0434088686225671,
         -0.018423426960826106,
         -0.06532749901524681,
         -0.09539714377839204,
         -0.11138876287328081,
         -0.1193145960052231,
         -0.12599851344094404,
         -0.1365094720075266,
         -0.15234370373459427,
         -0.1709528232548707,
         -0.1867844291704665,
         -0.19344873262015327,
         -0.18610812876868055,
         -0.16303010258427497,
         -0.12568530469461026,
         -0.0776408869805536,
         -0.023213721070606486,
         0.03315096277141916,
         0.08655834937484863,
         0.13110194534510855,
         0.16010590782109135,
         0.16768245758553046,
         0.1510902077166385,
         0.11262988890882752,
         0.059889399104391394,
         0.0039933145542287996,
         -0.04345113997788408,
         -0.07343501066868074,
         -0.08152971377917274,
         -0.06832652287705993,
         -0.038621217005259945,
         0
        ]
       }
      }
     },
     "d6ba5947266f4cc6b4d57d7df7023b98": {
      "model_module": "@jupyter-widgets/output",
      "model_module_version": "1.0.0",
      "model_name": "OutputModel",
      "state": {
       "layout": "IPY_MODEL_e49b5bd78edf4044a585e812e82437c3"
      }
     },
     "d72eed88248a47f7889faab64545f3a7": {
      "model_module": "@jupyter-widgets/controls",
      "model_module_version": "1.1.0",
      "model_name": "SliderStyleModel",
      "state": {
       "description_width": ""
      }
     },
     "d7a8ec6e6f834a6e8218e14584df9a25": {
      "model_module": "@jupyter-widgets/base",
      "model_module_version": "1.0.0",
      "model_name": "LayoutModel",
      "state": {}
     },
     "dac0aa91d4e247a3bd2df64ab9a51e53": {
      "model_module": "@jupyter-widgets/base",
      "model_module_version": "1.0.0",
      "model_name": "LayoutModel",
      "state": {}
     },
     "db2d8f095e014aebb7f8f67b8d54ff3b": {
      "model_module": "bqplot",
      "model_module_version": "^0.3.6",
      "model_name": "FigureModel",
      "state": {
       "_dom_classes": [],
       "layout": "IPY_MODEL_a2fbe1498b114524a0d12dc83e6ce872",
       "max_aspect_ratio": 6,
       "scale_x": "IPY_MODEL_90a2afed3d71460987cc7870bd40b67d",
       "scale_y": "IPY_MODEL_b664946a0a6e45b0b4575ef20a584e38",
       "title": "Figure 1"
      }
     },
     "db2e9ac153074b629ab2e5808f030c03": {
      "model_module": "@jupyter-widgets/controls",
      "model_module_version": "1.1.0",
      "model_name": "SliderStyleModel",
      "state": {
       "description_width": ""
      }
     },
     "db63f4b454ab4025b3228775a1123e43": {
      "model_module": "@jupyter-widgets/base",
      "model_module_version": "1.0.0",
      "model_name": "LayoutModel",
      "state": {}
     },
     "dc99b1521cff4df5a26e307f8559df4f": {
      "model_module": "@jupyter-widgets/controls",
      "model_module_version": "1.1.0",
      "model_name": "SliderStyleModel",
      "state": {
       "description_width": ""
      }
     },
     "dd859a5583344cefac207841c0a18a65": {
      "model_module": "@jupyter-widgets/controls",
      "model_module_version": "1.1.0",
      "model_name": "VBoxModel",
      "state": {
       "_dom_classes": [
        "widget-interact"
       ],
       "children": [
        "IPY_MODEL_38e473a531ec4a96aeead3a372bfcd99",
        "IPY_MODEL_edf1d75a1cb84144a34775918790d245"
       ],
       "layout": "IPY_MODEL_12d8171bb4194d94b9742553a57928ce"
      }
     },
     "de1646c3effd421795135c2c46dacce6": {
      "model_module": "bqplot",
      "model_module_version": "^0.3.6",
      "model_name": "AxisModel",
      "state": {
       "label": "u",
       "orientation": "vertical",
       "scale": "IPY_MODEL_8dc9c158af9641c0a63661a2f2bfc7f3",
       "side": "left",
       "tick_values": {
        "type": null,
        "values": null
       }
      }
     },
     "de55f649aeac4a409d729d93d945ffbe": {
      "model_module": "@jupyter-widgets/output",
      "model_module_version": "1.0.0",
      "model_name": "OutputModel",
      "state": {
       "layout": "IPY_MODEL_acfdbc7692d044798be620859beb6a42"
      }
     },
     "df19512badec45f09f52d6c2dc8cd735": {
      "model_module": "@jupyter-widgets/base",
      "model_module_version": "1.0.0",
      "model_name": "LayoutModel",
      "state": {}
     },
     "df8b3b838c4a4806bd74078d21464126": {
      "model_module": "@jupyter-widgets/base",
      "model_module_version": "1.0.0",
      "model_name": "LayoutModel",
      "state": {}
     },
     "df9cfbefe19b4f329caee27e74f65fc1": {
      "model_module": "bqplot",
      "model_module_version": "^0.3.6",
      "model_name": "LinesModel",
      "state": {
       "color": {
        "type": null,
        "values": null
       },
       "display_legend": false,
       "fill_colors": [],
       "labels": [
        "C1"
       ],
       "scales": {
        "x": "IPY_MODEL_fe96505457a0492caa965a716d051afb",
        "y": "IPY_MODEL_81133083a62943d384c04ce82d4ec317"
       },
       "selected": [],
       "x": {
        "type": "float",
        "values": [
         -10,
         -9.8,
         -9.6,
         -9.4,
         -9.2,
         -9,
         -8.8,
         -8.6,
         -8.4,
         -8.2,
         -8,
         -7.8,
         -7.6,
         -7.4,
         -7.199999999999999,
         -7,
         -6.8,
         -6.6,
         -6.4,
         -6.199999999999999,
         -6,
         -5.8,
         -5.6,
         -5.3999999999999995,
         -5.199999999999999,
         -5,
         -4.8,
         -4.6,
         -4.3999999999999995,
         -4.199999999999999,
         -4,
         -3.8,
         -3.5999999999999996,
         -3.3999999999999995,
         -3.1999999999999993,
         -3,
         -2.8,
         -2.5999999999999996,
         -2.3999999999999995,
         -2.1999999999999993,
         -2,
         -1.799999999999999,
         -1.5999999999999996,
         -1.4000000000000004,
         -1.1999999999999993,
         -1,
         -0.7999999999999989,
         -0.5999999999999996,
         -0.3999999999999986,
         -0.1999999999999993,
         0,
         0.20000000000000107,
         0.40000000000000036,
         0.6000000000000014,
         0.8000000000000007,
         1,
         1.200000000000001,
         1.4000000000000004,
         1.6000000000000014,
         1.8000000000000007,
         2,
         2.200000000000001,
         2.4000000000000004,
         2.6000000000000014,
         2.8000000000000007,
         3,
         3.200000000000001,
         3.4000000000000004,
         3.6000000000000014,
         3.8000000000000007,
         4,
         4.200000000000001,
         4.4,
         4.600000000000001,
         4.800000000000001,
         5,
         5.200000000000001,
         5.4,
         5.600000000000001,
         5.800000000000001,
         6,
         6.199999999999999,
         6.400000000000002,
         6.600000000000001,
         6.800000000000001,
         7,
         7.199999999999999,
         7.400000000000002,
         7.600000000000001,
         7.800000000000001,
         8,
         8.2,
         8.400000000000002,
         8.600000000000001,
         8.8,
         9,
         9.200000000000003,
         9.400000000000002,
         9.600000000000001,
         9.8,
         10
        ]
       },
       "y": {
        "type": "float",
        "values": [
         3.720075976020836e-44,
         1.9514523802953378e-42,
         9.449754976491218e-41,
         4.224152406206143e-39,
         1.7430708966453162e-37,
         6.639677199580735e-36,
         2.3347227834872395e-34,
         7.57844526761843e-33,
         2.270812922026391e-31,
         6.2811481476060214e-30,
         1.603810890548638e-28,
         3.7802778447760985e-27,
         8.225280651606685e-26,
         1.6520917823142601e-24,
         3.0631908645774736e-23,
         5.242885663363464e-22,
         8.283677007682918e-21,
         1.2081820198999795e-19,
         1.6266646214532314e-18,
         2.021715848695361e-17,
         2.3195228302435696e-16,
         2.456595368792143e-15,
         2.4017347816209693e-14,
         2.1675688826189771e-13,
         1.80583143751323e-12,
         1.3887943864964021e-11,
         9.859505575991516e-11,
         6.461431773106131e-10,
         3.908938434264878e-09,
         2.1829577951254933e-08,
         1.1253517471925912e-07,
         5.355347802793109e-07,
         2.3525752000097794e-06,
         9.540162873079265e-06,
         3.57128496416354e-05,
         0.00012340980408667956,
         0.0003936690406550786,
         0.0011592291739045935,
         0.0031511115984444497,
         0.007907054051593462,
         0.01831563888873418,
         0.039163895098987225,
         0.07730474044329984,
         0.14085842092104484,
         0.23692775868212212,
         0.36787944117144233,
         0.5272924240430494,
         0.6976763260710314,
         0.8521437889662123,
         0.9607894391523235,
         1,
         0.9607894391523228,
         0.8521437889662111,
         0.6976763260710299,
         0.527292424043048,
         0.36787944117144233,
         0.23692775868212113,
         0.14085842092104484,
         0.0773047404432994,
         0.039163895098986976,
         0.01831563888873418,
         0.007907054051593407,
         0.0031511115984444358,
         0.001159229173904582,
         0.0003936690406550765,
         0.00012340980408667956,
         3.5712849641634954e-05,
         9.540162873079214e-06,
         2.35257520000975e-06,
         5.35534780279308e-07,
         1.1253517471925912e-07,
         2.1829577951254626e-08,
         3.90893843426485e-09,
         6.461431773106016e-10,
         9.859505575991446e-11,
         1.3887943864964021e-11,
         1.805831437513198e-12,
         2.167568882618954e-13,
         2.4017347816209182e-14,
         2.4565953687921255e-15,
         2.3195228302435696e-16,
         2.021715848695361e-17,
         1.6266646214531967e-18,
         1.2081820198999538e-19,
         8.2836770076828e-21,
         5.242885663363464e-22,
         3.0631908645774736e-23,
         1.6520917823142133e-24,
         8.22528065160651e-26,
         3.780277844776045e-27,
         1.603810890548638e-28,
         6.2811481476060214e-30,
         2.270812922026327e-31,
         7.578445267618215e-33,
         2.3347227834872395e-34,
         6.639677199580735e-36,
         1.7430708966451924e-37,
         4.224152406206023e-39,
         9.44975497649095e-41,
         1.9514523802953378e-42,
         3.720075976020836e-44
        ]
       }
      }
     },
     "dfe73c15137644e28daefaf0f50db92e": {
      "model_module": "@jupyter-widgets/output",
      "model_module_version": "1.0.0",
      "model_name": "OutputModel",
      "state": {
       "layout": "IPY_MODEL_06d4aa7f4b734411a191c0b2465b54b0"
      }
     },
     "dfeb9b8ebf1f4a109048be80b96f0aff": {
      "model_module": "bqplot",
      "model_module_version": "^0.3.6",
      "model_name": "LinesModel",
      "state": {
       "color": {
        "type": null,
        "values": null
       },
       "display_legend": false,
       "fill_colors": [],
       "labels": [
        "C1"
       ],
       "scales": {
        "x": "IPY_MODEL_f0b72dd0e54947dab163d71cfce6a64d",
        "y": "IPY_MODEL_f3ad51a47ace413d97979095756c1dfc"
       },
       "selected": [],
       "x": {
        "type": "float",
        "values": [
         -1,
         -0.8,
         -0.6,
         -0.3999999999999999,
         -0.19999999999999996,
         0,
         0.20000000000000018,
         0.40000000000000013,
         0.6000000000000001,
         0.8,
         1
        ]
       },
       "y": {
        "type": "float",
        "values": [
         0.36787944117144233,
         0.5272924240430485,
         0.697676326071031,
         0.8521437889662115,
         0.9607894391523232,
         1,
         0.9607894391523232,
         0.8521437889662112,
         0.697676326071031,
         0.5272924240430485,
         0.36787944117144233
        ]
       }
      }
     },
     "e09c760540f04c1e975fa98722afe993": {
      "model_module": "@jupyter-widgets/base",
      "model_module_version": "1.0.0",
      "model_name": "LayoutModel",
      "state": {}
     },
     "e116a45e4a784d37aa2c402f15d3ef15": {
      "model_module": "@jupyter-widgets/controls",
      "model_module_version": "1.1.0",
      "model_name": "VBoxModel",
      "state": {
       "_dom_classes": [
        "widget-interact"
       ],
       "children": [
        "IPY_MODEL_f6400c2afe32459c85852fc0cd365668",
        "IPY_MODEL_13cc6f45423b4b8a99cb5ab2b29527c2"
       ],
       "layout": "IPY_MODEL_1bc3e59f49ab43f4b3e1b0022ffb1efe"
      }
     },
     "e138363f9c984793851c078421ec9f43": {
      "model_module": "@jupyter-widgets/base",
      "model_module_version": "1.0.0",
      "model_name": "LayoutModel",
      "state": {}
     },
     "e1691050d48b4cdbb40ceca10faf9220": {
      "model_module": "@jupyter-widgets/base",
      "model_module_version": "1.0.0",
      "model_name": "LayoutModel",
      "state": {
       "min_width": "125px"
      }
     },
     "e1ceafd2053746f78fb2b083673faaf2": {
      "model_module": "bqplot",
      "model_module_version": "^0.3.6",
      "model_name": "AxisModel",
      "state": {
       "label": "x",
       "scale": "IPY_MODEL_30a1a182387746a0bc2e02f618f855d8",
       "side": "bottom",
       "tick_values": {
        "type": null,
        "values": null
       }
      }
     },
     "e2e0ba73eb264b019d908e02b7ebc689": {
      "model_module": "bqplot",
      "model_module_version": "^0.3.6",
      "model_name": "LinearScaleModel",
      "state": {
       "allow_padding": false,
       "max": 1,
       "min": 0,
       "stabilized": false
      }
     },
     "e38c461da61b40d2920de7e353f9ba51": {
      "model_module": "@jupyter-widgets/base",
      "model_module_version": "1.0.0",
      "model_name": "LayoutModel",
      "state": {}
     },
     "e3b53b54dd2b4ea0be3a65eda387c78b": {
      "model_module": "@jupyter-widgets/base",
      "model_module_version": "1.0.0",
      "model_name": "LayoutModel",
      "state": {
       "min_width": "125px"
      }
     },
     "e3bf9844364c4fc4bfd9759fc453eb27": {
      "model_module": "bqplot",
      "model_module_version": "^0.3.6",
      "model_name": "AxisModel",
      "state": {
       "label": "x",
       "scale": "IPY_MODEL_fe96505457a0492caa965a716d051afb",
       "side": "bottom",
       "tick_values": {
        "type": null,
        "values": null
       }
      }
     },
     "e3ca17595b884682bd89304a8897d8ba": {
      "model_module": "@jupyter-widgets/controls",
      "model_module_version": "1.1.0",
      "model_name": "IntSliderModel",
      "state": {
       "description": "i",
       "layout": "IPY_MODEL_07bc7e5e2c0c4ecc9f914da52832256a",
       "max": 20,
       "style": "IPY_MODEL_2932c2ae6035486693680b10b6b56dd4"
      }
     },
     "e3dd7a4fb9e24cc9b4eb86efc30a48f5": {
      "model_module": "@jupyter-widgets/controls",
      "model_module_version": "1.1.0",
      "model_name": "DescriptionStyleModel",
      "state": {
       "description_width": ""
      }
     },
     "e3f65156cb2248b5997374f52dc0efe3": {
      "model_module": "@jupyter-widgets/controls",
      "model_module_version": "1.1.0",
      "model_name": "DescriptionStyleModel",
      "state": {
       "description_width": ""
      }
     },
     "e49b5bd78edf4044a585e812e82437c3": {
      "model_module": "@jupyter-widgets/base",
      "model_module_version": "1.0.0",
      "model_name": "LayoutModel",
      "state": {}
     },
     "e51c8b23096b46fe98e2c825a00514fd": {
      "model_module": "bqplot",
      "model_module_version": "^0.3.6",
      "model_name": "LinearScaleModel",
      "state": {
       "allow_padding": false,
       "max": 1,
       "min": 0,
       "stabilized": false
      }
     },
     "e5439ae1e2cb40d2a1d4e24b05f9c3f7": {
      "model_module": "@jupyter-widgets/controls",
      "model_module_version": "1.1.0",
      "model_name": "LinkModel",
      "state": {
       "source": [
        "IPY_MODEL_f148140c95664c1595d0d482ed460b19",
        "value"
       ],
       "target": [
        "IPY_MODEL_2bd7316141ec4066920c1605b2e0ee70",
        "value"
       ]
      }
     },
     "e650c337bd7b42f5aec4c2b6ccec2cfa": {
      "model_module": "@jupyter-widgets/base",
      "model_module_version": "1.0.0",
      "model_name": "LayoutModel",
      "state": {}
     },
     "e657d8dd39e74161868f74b4202e665a": {
      "model_module": "@jupyter-widgets/controls",
      "model_module_version": "1.1.0",
      "model_name": "IntSliderModel",
      "state": {
       "description": "i",
       "layout": "IPY_MODEL_03523f68997047ad8950060a1c81821a",
       "max": 20,
       "style": "IPY_MODEL_74c032705cc149d28d61202dbdd5f3ee",
       "value": 10
      }
     },
     "e6ef6da59c434a65be6329379d5b3444": {
      "model_module": "bqplot",
      "model_module_version": "^0.3.6",
      "model_name": "AxisModel",
      "state": {
       "label": "Value2",
       "scale": "IPY_MODEL_f0b72dd0e54947dab163d71cfce6a64d",
       "side": "bottom",
       "tick_values": {
        "type": null,
        "values": null
       }
      }
     },
     "e6f245304cc4465e80efeb73c13da21b": {
      "model_module": "@jupyter-widgets/base",
      "model_module_version": "1.0.0",
      "model_name": "LayoutModel",
      "state": {}
     },
     "e7770f733eb248ddb04dbf7aca0d8aa3": {
      "model_module": "@jupyter-widgets/output",
      "model_module_version": "1.0.0",
      "model_name": "OutputModel",
      "state": {
       "layout": "IPY_MODEL_abf569d808874a7bae21f075d3bcf789"
      }
     },
     "e7bfd51ec0724065829a444aca788972": {
      "model_module": "bqplot",
      "model_module_version": "^0.3.6",
      "model_name": "LinearScaleModel",
      "state": {
       "max": 1,
       "min": -1,
       "stabilized": false
      }
     },
     "e95c9553ffbf4a7bba4e0c7a441270b0": {
      "model_module": "bqplot",
      "model_module_version": "^0.3.6",
      "model_name": "FigureModel",
      "state": {
       "_dom_classes": [],
       "axes": [
        "IPY_MODEL_b6eb6697f840444eaca7d403fc9d1446",
        "IPY_MODEL_0142a9c95adb4e8a8f69f66ca3e9392e"
       ],
       "layout": "IPY_MODEL_fbe6634c3bd145a591404fd832b9458f",
       "max_aspect_ratio": 6,
       "scale_x": "IPY_MODEL_2f96d1d6af4446729153685339f1304c",
       "scale_y": "IPY_MODEL_e2e0ba73eb264b019d908e02b7ebc689"
      }
     },
     "e972732c493149c49757d8e18670f450": {
      "model_module": "bqplot",
      "model_module_version": "^0.3.6",
      "model_name": "AxisModel",
      "state": {
       "label": "u",
       "orientation": "vertical",
       "scale": "IPY_MODEL_aa1c87f740f0445a88dc555b1c82371f",
       "side": "left",
       "tick_values": {
        "type": null,
        "values": null
       }
      }
     },
     "e9804978d4eb4a1b92ec1c2ce78490cb": {
      "model_module": "bqplot",
      "model_module_version": "^0.3.6",
      "model_name": "FigureModel",
      "state": {
       "_dom_classes": [],
       "axes": [
        "IPY_MODEL_42f33601408f4ae2ad0e8330baeb442e",
        "IPY_MODEL_89d1efe2a48e4cb48d193e030cbd929e"
       ],
       "layout": "IPY_MODEL_554b79174ec34bffa5163b6e8e162df3",
       "max_aspect_ratio": 6,
       "scale_x": "IPY_MODEL_ff4b417bcfd04d2a8c7c4d453ebe290a",
       "scale_y": "IPY_MODEL_89a736e32f6546f585d7cd68d3f7ceaa"
      }
     },
     "e981d7bf00604bd6a4f5604d4e3f4ee8": {
      "model_module": "@jupyter-widgets/controls",
      "model_module_version": "1.1.0",
      "model_name": "VBoxModel",
      "state": {
       "_dom_classes": [
        "widget-interact"
       ],
       "children": [
        "IPY_MODEL_1f459b69fd2d4beba7e2bc22d15b3a87",
        "IPY_MODEL_5a53784944a74f4b9a3d6449542aeb61"
       ],
       "layout": "IPY_MODEL_4a90ef5eac584351b78b8011752545f0"
      }
     },
     "e987fc5729674d689795ee9f66c0cc22": {
      "model_module": "@jupyter-widgets/base",
      "model_module_version": "1.0.0",
      "model_name": "LayoutModel",
      "state": {}
     },
     "e9cdddcc59334b88a4029d7c9e2499fa": {
      "model_module": "bqplot",
      "model_module_version": "^0.3.6",
      "model_name": "FigureModel",
      "state": {
       "_dom_classes": [],
       "layout": "IPY_MODEL_b58d2f9ce5f046ccb2b3c6a834b8a0b8",
       "max_aspect_ratio": 6,
       "scale_x": "IPY_MODEL_b38a888ba32840f2af78b8d5ff07330b",
       "scale_y": "IPY_MODEL_fc649acb2f614964969a80e52ddd7965"
      }
     },
     "e9eba7af61534d528ae25f7dea7b8e4b": {
      "model_module": "bqplot",
      "model_module_version": "^0.3.6",
      "model_name": "AxisModel",
      "state": {
       "label": "Value2",
       "scale": "IPY_MODEL_f0b72dd0e54947dab163d71cfce6a64d",
       "side": "bottom",
       "tick_values": {
        "type": null,
        "values": null
       }
      }
     },
     "ea74de72a00d42808751a9d40e582eb9": {
      "model_module": "@jupyter-widgets/output",
      "model_module_version": "1.0.0",
      "model_name": "OutputModel",
      "state": {
       "layout": "IPY_MODEL_f0b204c4e9e842c58aeaa94b1b31a907"
      }
     },
     "ea90ddf7a7174024a7d9be39d93cfbe5": {
      "model_module": "bqplot",
      "model_module_version": "^0.3.6",
      "model_name": "LinearScaleModel",
      "state": {
       "max": 10,
       "min": -10,
       "stabilized": false
      }
     },
     "eabe63f98962493884edb0c74ca4ffe5": {
      "model_module": "bqplot",
      "model_module_version": "^0.3.6",
      "model_name": "LinearScaleModel",
      "state": {
       "allow_padding": false,
       "max": 1,
       "min": 0,
       "stabilized": false
      }
     },
     "ead204e67ba74a69b17243e881cc387b": {
      "model_module": "@jupyter-widgets/base",
      "model_module_version": "1.0.0",
      "model_name": "LayoutModel",
      "state": {}
     },
     "ead56e2d4fbf45559b6db55e91ae76b1": {
      "model_module": "bqplot",
      "model_module_version": "^0.3.6",
      "model_name": "FigureModel",
      "state": {
       "_dom_classes": [],
       "axes": [
        "IPY_MODEL_c6a18bc799244976b42b887253561fc4",
        "IPY_MODEL_14cb236b346d46ebbe2f18219046c3a0"
       ],
       "layout": "IPY_MODEL_98b7da45002c4649b959444a349c90eb",
       "max_aspect_ratio": 6,
       "scale_x": "IPY_MODEL_117e46e53fab4820800dbf1be04b2475",
       "scale_y": "IPY_MODEL_6d41291acee54efa9aff0cf0806b8634"
      }
     },
     "eb10c4be153f4c7e9d8e1354a00c22d9": {
      "model_module": "bqplot",
      "model_module_version": "^0.3.6",
      "model_name": "AxisModel",
      "state": {
       "label": "u",
       "orientation": "vertical",
       "scale": "IPY_MODEL_3f82d9b0b9a04daa9ac0a3bb210586fa",
       "side": "left",
       "tick_values": {
        "type": null,
        "values": null
       }
      }
     },
     "eb7c4eaa686e4afbb883c7a0a0895db3": {
      "model_module": "@jupyter-widgets/controls",
      "model_module_version": "1.1.0",
      "model_name": "FloatSliderModel",
      "state": {
       "description": "i",
       "layout": "IPY_MODEL_2bed14ef8500403e9dadd644b881ef81",
       "max": 20,
       "style": "IPY_MODEL_25cb418774344ee19e5e5e8b533ee71d"
      }
     },
     "eb876c4f766c4ceba2ef98623bc90df9": {
      "model_module": "bqplot",
      "model_module_version": "^0.3.6",
      "model_name": "LinearScaleModel",
      "state": {
       "max": 10,
       "min": -10,
       "stabilized": false
      }
     },
     "ebb5a62fc4ab413c8ff10cefb4289033": {
      "model_module": "@jupyter-widgets/base",
      "model_module_version": "1.0.0",
      "model_name": "LayoutModel",
      "state": {}
     },
     "ecd2be8846fe4615809375e5f2cc0248": {
      "model_module": "@jupyter-widgets/base",
      "model_module_version": "1.0.0",
      "model_name": "LayoutModel",
      "state": {}
     },
     "ecf2b0a40f3b4c13b3c5c7baeabd4b5d": {
      "model_module": "@jupyter-widgets/output",
      "model_module_version": "1.0.0",
      "model_name": "OutputModel",
      "state": {
       "layout": "IPY_MODEL_856f528f8569466e964eb96a503bb93a",
       "outputs": [
        {
         "data": {
          "image/png": "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\n",
          "text/plain": "<matplotlib.figure.Figure at 0x11252c860>"
         },
         "metadata": {},
         "output_type": "display_data"
        }
       ]
      }
     },
     "ed4a9b78a20b4742903ce1545be88da1": {
      "model_module": "@jupyter-widgets/controls",
      "model_module_version": "1.1.0",
      "model_name": "DescriptionStyleModel",
      "state": {
       "description_width": ""
      }
     },
     "ed55c122ef754063982dbbb89b9d93f7": {
      "model_module": "@jupyter-widgets/controls",
      "model_module_version": "1.1.0",
      "model_name": "IntSliderModel",
      "state": {
       "description": "i",
       "layout": "IPY_MODEL_fa905b49dbd54533866a86d57123cd2b",
       "max": 20,
       "style": "IPY_MODEL_2b8c250e9f7342d7a97cf9ea11899647",
       "value": 10
      }
     },
     "edf1d75a1cb84144a34775918790d245": {
      "model_module": "@jupyter-widgets/output",
      "model_module_version": "1.0.0",
      "model_name": "OutputModel",
      "state": {
       "layout": "IPY_MODEL_4b32b17ccaa040bc97868156349b3b87"
      }
     },
     "ee1f34fea5204247b77cd0480aae9d6a": {
      "model_module": "@jupyter-widgets/controls",
      "model_module_version": "1.1.0",
      "model_name": "DescriptionStyleModel",
      "state": {
       "description_width": ""
      }
     },
     "ee43a603177f4f6bb0c12c4d6dd78e43": {
      "model_module": "@jupyter-widgets/controls",
      "model_module_version": "1.1.0",
      "model_name": "HBoxModel",
      "state": {
       "children": [
        "IPY_MODEL_581feb021b7b4c63a754b8251b18238d",
        "IPY_MODEL_5c86815dd3874005ae1f2848922156a1"
       ],
       "layout": "IPY_MODEL_680b2880b69349e793acdce850b6d014"
      }
     },
     "ee70c60e5a514868a66702d368a55817": {
      "model_module": "@jupyter-widgets/controls",
      "model_module_version": "1.1.0",
      "model_name": "PlayModel",
      "state": {
       "description": "Press play",
       "layout": "IPY_MODEL_206588fb0c6743128702169e18f0ca11",
       "max": 20,
       "style": "IPY_MODEL_f2e85040072b44c582d36957f8cade19"
      }
     },
     "ee961eec6e194c7bab72ef39ab403446": {
      "model_module": "bqplot",
      "model_module_version": "^0.3.6",
      "model_name": "AxisModel",
      "state": {
       "label": "u",
       "orientation": "vertical",
       "scale": "IPY_MODEL_cd81a8e36f5541728faae1e07dba7278",
       "side": "left",
       "tick_values": {
        "type": null,
        "values": null
       }
      }
     },
     "eea35f2e4bb643e19950e0c63ac5bae2": {
      "model_module": "@jupyter-widgets/controls",
      "model_module_version": "1.1.0",
      "model_name": "PlayModel",
      "state": {
       "description": "Press play",
       "layout": "IPY_MODEL_7e5c36527a184ebeaa718b7234add82d",
       "max": 20,
       "style": "IPY_MODEL_7e02c5c2ca354358ad2070eab1b2aae1"
      }
     },
     "ef6b8cbe52bd4a23ba710bab3755dbac": {
      "model_module": "@jupyter-widgets/base",
      "model_module_version": "1.0.0",
      "model_name": "LayoutModel",
      "state": {}
     },
     "efb2f07354a6438ea8c41fadb8a5f6de": {
      "model_module": "@jupyter-widgets/controls",
      "model_module_version": "1.1.0",
      "model_name": "SliderStyleModel",
      "state": {
       "description_width": ""
      }
     },
     "f067a079bb914faca6b8121d890ea7bd": {
      "model_module": "@jupyter-widgets/controls",
      "model_module_version": "1.1.0",
      "model_name": "VBoxModel",
      "state": {
       "_dom_classes": [
        "widget-interact"
       ],
       "children": [
        "IPY_MODEL_a47e9f6118b94b729bb37e3df4052eb7",
        "IPY_MODEL_1ae310ad57eb4d8280aa6259371ba0a7"
       ],
       "layout": "IPY_MODEL_d3eb6d356e6c46ceb1a6a64b7615aeec"
      }
     },
     "f098b559d0b2482db715f4bacd62193d": {
      "model_module": "@jupyter-widgets/base",
      "model_module_version": "1.0.0",
      "model_name": "LayoutModel",
      "state": {}
     },
     "f0b204c4e9e842c58aeaa94b1b31a907": {
      "model_module": "@jupyter-widgets/base",
      "model_module_version": "1.0.0",
      "model_name": "LayoutModel",
      "state": {}
     },
     "f0b72dd0e54947dab163d71cfce6a64d": {
      "model_module": "bqplot",
      "model_module_version": "^0.3.6",
      "model_name": "LinearScaleModel",
      "state": {
       "stabilized": false
      }
     },
     "f0ecade595e545ef9f53e90d2ad9a90c": {
      "model_module": "@jupyter-widgets/controls",
      "model_module_version": "1.1.0",
      "model_name": "DescriptionStyleModel",
      "state": {
       "description_width": ""
      }
     },
     "f148140c95664c1595d0d482ed460b19": {
      "model_module": "@jupyter-widgets/controls",
      "model_module_version": "1.1.0",
      "model_name": "PlayModel",
      "state": {
       "description": "Press play",
       "layout": "IPY_MODEL_b0dd544f2c8f41979a26b7e32642a27b",
       "style": "IPY_MODEL_48cd48bebbe441dfbac74dc4f53559e5",
       "value": 100
      }
     },
     "f1b403b661a448fea04e890a88b6d5c7": {
      "model_module": "@jupyter-widgets/base",
      "model_module_version": "1.0.0",
      "model_name": "LayoutModel",
      "state": {}
     },
     "f1b5a55ede564643bce0bfe723e14221": {
      "model_module": "bqplot",
      "model_module_version": "^0.3.6",
      "model_name": "LinearScaleModel",
      "state": {
       "max": 10,
       "min": -10,
       "stabilized": false
      }
     },
     "f22ef9c9ca4f48f7b3f8930bc44712f6": {
      "model_module": "bqplot",
      "model_module_version": "^0.3.6",
      "model_name": "LinearScaleModel",
      "state": {
       "allow_padding": false,
       "max": 1,
       "min": 0,
       "stabilized": false
      }
     },
     "f2d1bd77907a46e9aa04c61bb3568af5": {
      "model_module": "@jupyter-widgets/controls",
      "model_module_version": "1.1.0",
      "model_name": "DescriptionStyleModel",
      "state": {
       "description_width": ""
      }
     },
     "f2e85040072b44c582d36957f8cade19": {
      "model_module": "@jupyter-widgets/controls",
      "model_module_version": "1.1.0",
      "model_name": "DescriptionStyleModel",
      "state": {
       "description_width": ""
      }
     },
     "f34a0da8c9ca46e1932882fef54c2e03": {
      "model_module": "@jupyter-widgets/controls",
      "model_module_version": "1.1.0",
      "model_name": "SliderStyleModel",
      "state": {
       "description_width": ""
      }
     },
     "f3a036e894634cfb8bb144874b9bb6f3": {
      "model_module": "@jupyter-widgets/controls",
      "model_module_version": "1.1.0",
      "model_name": "HBoxModel",
      "state": {
       "children": [
        "IPY_MODEL_eea35f2e4bb643e19950e0c63ac5bae2",
        "IPY_MODEL_eb7c4eaa686e4afbb883c7a0a0895db3"
       ],
       "layout": "IPY_MODEL_992d765e826f48519481306d63a201fd"
      }
     },
     "f3ad51a47ace413d97979095756c1dfc": {
      "model_module": "bqplot",
      "model_module_version": "^0.3.6",
      "model_name": "LinearScaleModel",
      "state": {
       "stabilized": false
      }
     },
     "f4ada8333f694271baa2ef0c9eac1a43": {
      "model_module": "bqplot",
      "model_module_version": "^0.3.6",
      "model_name": "LinearScaleModel",
      "state": {
       "allow_padding": false,
       "max": 1,
       "min": 0,
       "stabilized": false
      }
     },
     "f5b751b2a2a2421a9ba73ba76686799a": {
      "model_module": "bqplot",
      "model_module_version": "^0.3.6",
      "model_name": "LinearScaleModel",
      "state": {
       "allow_padding": false,
       "max": 1,
       "min": 0,
       "stabilized": false
      }
     },
     "f63c18f6c5014cbfbe7d3fb773b52f00": {
      "model_module": "@jupyter-widgets/base",
      "model_module_version": "1.0.0",
      "model_name": "LayoutModel",
      "state": {}
     },
     "f6400c2afe32459c85852fc0cd365668": {
      "model_module": "@jupyter-widgets/controls",
      "model_module_version": "1.1.0",
      "model_name": "IntSliderModel",
      "state": {
       "description": "i",
       "layout": "IPY_MODEL_0f7b5f7aca0743c5bee0587fdf6e0296",
       "max": 20,
       "style": "IPY_MODEL_b3759e29146f4430b7f561137fb88b5a",
       "value": 2
      }
     },
     "f7399d03cac44754abb5f1b2675e247d": {
      "model_module": "bqplot",
      "model_module_version": "^0.3.6",
      "model_name": "LinearScaleModel",
      "state": {
       "allow_padding": false,
       "max": 1,
       "min": 0,
       "stabilized": false
      }
     },
     "f782a2f822cb4c1a93c39fe8301be0c8": {
      "model_module": "@jupyter-widgets/base",
      "model_module_version": "1.0.0",
      "model_name": "LayoutModel",
      "state": {}
     },
     "f7a40e2f9e5e405e8878bca79402aeaf": {
      "model_module": "bqplot",
      "model_module_version": "^0.3.6",
      "model_name": "LinearScaleModel",
      "state": {
       "max": 1,
       "min": -1,
       "stabilized": false
      }
     },
     "f8398c355cfb4307a7ac194891743265": {
      "model_module": "@jupyter-widgets/base",
      "model_module_version": "1.0.0",
      "model_name": "LayoutModel",
      "state": {}
     },
     "f84331ea96f644599266c938c4ea417f": {
      "model_module": "@jupyter-widgets/controls",
      "model_module_version": "1.1.0",
      "model_name": "HBoxModel",
      "state": {
       "children": [
        "IPY_MODEL_fd5f28cdc7f746ccae787be8fb325421",
        "IPY_MODEL_58f9d09131cb464d99fcfdf27b984795"
       ],
       "layout": "IPY_MODEL_0b8d16d18e5c47e99e3dca3489052146"
      }
     },
     "f8d26159113d4d0ebb3fbd2e58f30631": {
      "model_module": "bqplot",
      "model_module_version": "^0.3.6",
      "model_name": "LinearScaleModel",
      "state": {
       "allow_padding": false,
       "max": 1,
       "min": 0,
       "stabilized": false
      }
     },
     "f8fced6435af41dca2a8fc1ed5371c12": {
      "model_module": "@jupyter-widgets/controls",
      "model_module_version": "1.1.0",
      "model_name": "DescriptionStyleModel",
      "state": {
       "description_width": ""
      }
     },
     "f9295279416745efabad7ec37647e3d8": {
      "model_module": "bqplot",
      "model_module_version": "^0.3.6",
      "model_name": "LinearScaleModel",
      "state": {
       "allow_padding": false,
       "max": 1,
       "min": 0,
       "stabilized": false
      }
     },
     "f99ddfd4c2794534a815d105145e9bf0": {
      "model_module": "@jupyter-widgets/controls",
      "model_module_version": "1.1.0",
      "model_name": "IntSliderModel",
      "state": {
       "description": "i",
       "layout": "IPY_MODEL_9dccbd6d7e1f4113aedf5cb05e11448e",
       "max": 20,
       "style": "IPY_MODEL_b2c2c472ad7a42e38427a80073ba6fe7",
       "value": 10
      }
     },
     "f9aea92c07d74436a8d448f33a055129": {
      "model_module": "@jupyter-widgets/base",
      "model_module_version": "1.0.0",
      "model_name": "LayoutModel",
      "state": {}
     },
     "f9dd260192f64272b2c03d93b1485433": {
      "model_module": "@jupyter-widgets/controls",
      "model_module_version": "1.1.0",
      "model_name": "SliderStyleModel",
      "state": {
       "description_width": ""
      }
     },
     "f9f29ef766f645b8bf1dc436999212cf": {
      "model_module": "@jupyter-widgets/base",
      "model_module_version": "1.0.0",
      "model_name": "LayoutModel",
      "state": {}
     },
     "fa68761432264a328d3e3e39b89f9e16": {
      "model_module": "@jupyter-widgets/base",
      "model_module_version": "1.0.0",
      "model_name": "LayoutModel",
      "state": {}
     },
     "fa905b49dbd54533866a86d57123cd2b": {
      "model_module": "@jupyter-widgets/base",
      "model_module_version": "1.0.0",
      "model_name": "LayoutModel",
      "state": {}
     },
     "fac53c7696b24f7eaf9a822912e5801b": {
      "model_module": "bqplot",
      "model_module_version": "^0.3.6",
      "model_name": "LinearScaleModel",
      "state": {
       "max": 1,
       "min": -1,
       "stabilized": false
      }
     },
     "fafda80fc7274eeea56992c2e58622a7": {
      "model_module": "@jupyter-widgets/controls",
      "model_module_version": "1.1.0",
      "model_name": "VBoxModel",
      "state": {
       "_dom_classes": [
        "widget-interact"
       ],
       "children": [
        "IPY_MODEL_1fbfe11627054fa6a89aaf9da3e1981d",
        "IPY_MODEL_ecf2b0a40f3b4c13b3c5c7baeabd4b5d"
       ],
       "layout": "IPY_MODEL_ef6b8cbe52bd4a23ba710bab3755dbac"
      }
     },
     "fb522d2c2bed4c08b69d8a1b25249993": {
      "model_module": "@jupyter-widgets/controls",
      "model_module_version": "1.1.0",
      "model_name": "IntSliderModel",
      "state": {
       "description": "i",
       "layout": "IPY_MODEL_df19512badec45f09f52d6c2dc8cd735",
       "max": 20,
       "style": "IPY_MODEL_2b2bca9dd9ea4db8a243c89860959876",
       "value": 10
      }
     },
     "fb750e9cb82c48a285b98e59a5724550": {
      "model_module": "@jupyter-widgets/output",
      "model_module_version": "1.0.0",
      "model_name": "OutputModel",
      "state": {
       "layout": "IPY_MODEL_37867280cca34e01b7fe4d4dd95821f0"
      }
     },
     "fbcaa7f04e7d4033b254467b921a16e3": {
      "model_module": "@jupyter-widgets/controls",
      "model_module_version": "1.1.0",
      "model_name": "HBoxModel",
      "state": {
       "children": [
        "IPY_MODEL_8b4aa167700a4d2ca89bb43d0f09155d",
        "IPY_MODEL_e3ca17595b884682bd89304a8897d8ba"
       ],
       "layout": "IPY_MODEL_7db0421f40564f9b84c22372afa1314e"
      }
     },
     "fbe6634c3bd145a591404fd832b9458f": {
      "model_module": "@jupyter-widgets/base",
      "model_module_version": "1.0.0",
      "model_name": "LayoutModel",
      "state": {
       "min_width": "125px"
      }
     },
     "fc649acb2f614964969a80e52ddd7965": {
      "model_module": "bqplot",
      "model_module_version": "^0.3.6",
      "model_name": "LinearScaleModel",
      "state": {
       "allow_padding": false,
       "max": 1,
       "min": 0,
       "stabilized": false
      }
     },
     "fc784ce06cc54ad8b467a5676eb4a4ae": {
      "model_module": "@jupyter-widgets/controls",
      "model_module_version": "1.1.0",
      "model_name": "VBoxModel",
      "state": {
       "_dom_classes": [
        "widget-interact"
       ],
       "children": [
        "IPY_MODEL_9e8c84c0397c4e05b19f51f08539e39b",
        "IPY_MODEL_06da4c31eab0405cbb94f9344303b4e3"
       ],
       "layout": "IPY_MODEL_18bbe5e8a93b4ec3ac3d67b4785c67c5"
      }
     },
     "fd1647c56775456caa643760e3e8f76e": {
      "model_module": "@jupyter-widgets/controls",
      "model_module_version": "1.1.0",
      "model_name": "IntSliderModel",
      "state": {
       "description": "i",
       "layout": "IPY_MODEL_2d159aad2a784f76bf6b4b09dc510a41",
       "max": 20,
       "style": "IPY_MODEL_6ef34d7b51ac41b2ac53ebafc33f17c5"
      }
     },
     "fd4653ed1260455cbd702c32578ce9de": {
      "model_module": "bqplot",
      "model_module_version": "^0.3.6",
      "model_name": "LinearScaleModel",
      "state": {
       "max": 1,
       "min": -1,
       "stabilized": false
      }
     },
     "fd5f28cdc7f746ccae787be8fb325421": {
      "model_module": "@jupyter-widgets/controls",
      "model_module_version": "1.1.0",
      "model_name": "PlayModel",
      "state": {
       "description": "Press play",
       "layout": "IPY_MODEL_9d2453146d9045b6ac0dd829de3600d2",
       "max": 20,
       "style": "IPY_MODEL_1c1e989ff4e04d69bbefc171456b62e7",
       "value": 20
      }
     },
     "fda06ffc688247a8acd01220124d6884": {
      "model_module": "bqplot",
      "model_module_version": "^0.3.6",
      "model_name": "LinearScaleModel",
      "state": {
       "allow_padding": false,
       "max": 1,
       "min": 0,
       "stabilized": false
      }
     },
     "fdc476f598a04ef792388bf6b6f7da67": {
      "model_module": "@jupyter-widgets/controls",
      "model_module_version": "1.1.0",
      "model_name": "HBoxModel",
      "state": {
       "children": [
        "IPY_MODEL_ee70c60e5a514868a66702d368a55817",
        "IPY_MODEL_c20423bb9d5949529dd85e8f7f0179a3"
       ],
       "layout": "IPY_MODEL_7ca2e9802a3647349c1f6cfc753a7921"
      }
     },
     "fe96505457a0492caa965a716d051afb": {
      "model_module": "bqplot",
      "model_module_version": "^0.3.6",
      "model_name": "LinearScaleModel",
      "state": {
       "max": 10,
       "min": -10,
       "stabilized": false
      }
     },
     "ff0a659fe0db47cdb8e9cbd7ce4deca7": {
      "model_module": "@jupyter-widgets/base",
      "model_module_version": "1.0.0",
      "model_name": "LayoutModel",
      "state": {
       "min_width": "125px"
      }
     },
     "ff199d66caaf46ef8e1e0922804ac3bd": {
      "model_module": "@jupyter-widgets/controls",
      "model_module_version": "1.1.0",
      "model_name": "IntSliderModel",
      "state": {
       "description": "i",
       "layout": "IPY_MODEL_5763198ef560455ab2375a42f32b2713",
       "max": 20,
       "style": "IPY_MODEL_9717283018824b38a5ec44694706b023",
       "value": 10
      }
     },
     "ff1dd03e38574e8297f9896d637716ae": {
      "model_module": "bqplot",
      "model_module_version": "^0.3.6",
      "model_name": "LinearScaleModel",
      "state": {
       "max": 10,
       "min": -10,
       "stabilized": false
      }
     },
     "ff1eda58ee0046419d1a4737ce998bd5": {
      "model_module": "@jupyter-widgets/base",
      "model_module_version": "1.0.0",
      "model_name": "LayoutModel",
      "state": {}
     },
     "ff4b417bcfd04d2a8c7c4d453ebe290a": {
      "model_module": "bqplot",
      "model_module_version": "^0.3.6",
      "model_name": "LinearScaleModel",
      "state": {
       "allow_padding": false,
       "max": 1,
       "min": 0,
       "stabilized": false
      }
     },
     "ff86e3cac50f472e962c2fd4dd6db78a": {
      "model_module": "@jupyter-widgets/controls",
      "model_module_version": "1.1.0",
      "model_name": "IntSliderModel",
      "state": {
       "description": "i",
       "layout": "IPY_MODEL_45dbb99c46a1445fb03ce0f1e7f4ade8",
       "max": 20,
       "style": "IPY_MODEL_f9dd260192f64272b2c03d93b1485433",
       "value": 10
      }
     }
    },
    "version_major": 2,
    "version_minor": 0
   }
  }
 },
 "nbformat": 4,
 "nbformat_minor": 2
}
